{
  "nbformat": 4,
  "nbformat_minor": 0,
  "metadata": {
    "colab": {
      "name": "train_sheypoor.ipynb",
      "provenance": [],
      "authorship_tag": "ABX9TyPYUc6yxnbawBLmt88KQuqm",
      "include_colab_link": true
    },
    "kernelspec": {
      "name": "python3",
      "display_name": "Python 3"
    },
    "language_info": {
      "name": "python"
    }
  },
  "cells": [
    {
      "cell_type": "markdown",
      "metadata": {
        "id": "view-in-github",
        "colab_type": "text"
      },
      "source": [
        "<a href=\"https://colab.research.google.com/github/sasansharifipour/Spark_Class/blob/main/train_sheypoor.ipynb\" target=\"_parent\"><img src=\"https://colab.research.google.com/assets/colab-badge.svg\" alt=\"Open In Colab\"/></a>"
      ]
    },
    {
      "cell_type": "code",
      "metadata": {
        "colab": {
          "base_uri": "https://localhost:8080/"
        },
        "id": "TrVocg4ah7or",
        "outputId": "ca9fe3d2-fda7-4641-cfe8-8d496b91b43a"
      },
      "source": [
        "file_download_link = \"https://drive.google.com/u/0/uc?id=1K2a4mliN8l4aO1S8TWyn29EN25Y4WLlQ&export=download\" \n",
        "!wget -O data.csv --no-check-certificate \"$file_download_link\""
      ],
      "execution_count": 39,
      "outputs": [
        {
          "output_type": "stream",
          "text": [
            "--2021-05-22 11:55:13--  https://drive.google.com/u/0/uc?id=1K2a4mliN8l4aO1S8TWyn29EN25Y4WLlQ&export=download\n",
            "Resolving drive.google.com (drive.google.com)... 142.250.141.113, 142.250.141.138, 142.250.141.102, ...\n",
            "Connecting to drive.google.com (drive.google.com)|142.250.141.113|:443... connected.\n",
            "HTTP request sent, awaiting response... 302 Moved Temporarily\n",
            "Location: https://doc-0g-70-docs.googleusercontent.com/docs/securesc/ha0ro937gcuc7l7deffksulhg5h7mbp1/1p3oi49v7jtc3m2vlq6f71u36a53kq1b/1621684500000/14577798666193718332/*/1K2a4mliN8l4aO1S8TWyn29EN25Y4WLlQ?e=download [following]\n",
            "Warning: wildcards not supported in HTTP.\n",
            "--2021-05-22 11:55:15--  https://doc-0g-70-docs.googleusercontent.com/docs/securesc/ha0ro937gcuc7l7deffksulhg5h7mbp1/1p3oi49v7jtc3m2vlq6f71u36a53kq1b/1621684500000/14577798666193718332/*/1K2a4mliN8l4aO1S8TWyn29EN25Y4WLlQ?e=download\n",
            "Resolving doc-0g-70-docs.googleusercontent.com (doc-0g-70-docs.googleusercontent.com)... 142.250.141.132, 2607:f8b0:4023:c0b::84\n",
            "Connecting to doc-0g-70-docs.googleusercontent.com (doc-0g-70-docs.googleusercontent.com)|142.250.141.132|:443... connected.\n",
            "HTTP request sent, awaiting response... 200 OK\n",
            "Length: unspecified [text/csv]\n",
            "Saving to: ‘data.csv’\n",
            "\n",
            "data.csv                [  <=>               ]  18.12M  54.2MB/s    in 0.3s    \n",
            "\n",
            "2021-05-22 11:55:15 (54.2 MB/s) - ‘data.csv’ saved [19002465]\n",
            "\n"
          ],
          "name": "stdout"
        }
      ]
    },
    {
      "cell_type": "code",
      "metadata": {
        "id": "hDfE8VBNjFlb"
      },
      "source": [
        "import pandas as pd\n",
        "\n",
        "data = pd.read_csv('data.csv')\n",
        "\n",
        "df = pd.DataFrame(data)"
      ],
      "execution_count": 40,
      "outputs": []
    },
    {
      "cell_type": "code",
      "metadata": {
        "id": "402lExEDCbR9",
        "colab": {
          "base_uri": "https://localhost:8080/",
          "height": 204
        },
        "outputId": "12d3b10d-236d-417b-b008-177ef4bf7fa4"
      },
      "source": [
        "df.head()"
      ],
      "execution_count": 41,
      "outputs": [
        {
          "output_type": "execute_result",
          "data": {
            "text/html": [
              "<div>\n",
              "<style scoped>\n",
              "    .dataframe tbody tr th:only-of-type {\n",
              "        vertical-align: middle;\n",
              "    }\n",
              "\n",
              "    .dataframe tbody tr th {\n",
              "        vertical-align: top;\n",
              "    }\n",
              "\n",
              "    .dataframe thead th {\n",
              "        text-align: right;\n",
              "    }\n",
              "</style>\n",
              "<table border=\"1\" class=\"dataframe\">\n",
              "  <thead>\n",
              "    <tr style=\"text-align: right;\">\n",
              "      <th></th>\n",
              "      <th>Unnamed: 0</th>\n",
              "      <th>userid</th>\n",
              "      <th>time</th>\n",
              "      <th>source</th>\n",
              "      <th>adstatus</th>\n",
              "      <th>item</th>\n",
              "      <th>count_views</th>\n",
              "    </tr>\n",
              "  </thead>\n",
              "  <tbody>\n",
              "    <tr>\n",
              "      <th>0</th>\n",
              "      <td>0</td>\n",
              "      <td>1274821301586/54e79450-bbee-4770-9e47-1d56e120...</td>\n",
              "      <td>2021-05-05 18:00:00.000</td>\n",
              "      <td>Chrome</td>\n",
              "      <td>۳ روز پیش</td>\n",
              "      <td>A</td>\n",
              "      <td>1</td>\n",
              "    </tr>\n",
              "    <tr>\n",
              "      <th>1</th>\n",
              "      <td>1</td>\n",
              "      <td>1274821301586/54e79450-bbee-4770-9e47-1d56e120...</td>\n",
              "      <td>2021-05-05 18:00:00.000</td>\n",
              "      <td>Chrome</td>\n",
              "      <td>۴ روز پیش</td>\n",
              "      <td>A</td>\n",
              "      <td>1</td>\n",
              "    </tr>\n",
              "    <tr>\n",
              "      <th>2</th>\n",
              "      <td>2</td>\n",
              "      <td>1325384907441/5e5766d8-46cb-480d-886a-7d557542...</td>\n",
              "      <td>2021-05-01 10:00:00.000</td>\n",
              "      <td>Android</td>\n",
              "      <td>۲ روز پیش</td>\n",
              "      <td>B</td>\n",
              "      <td>1</td>\n",
              "    </tr>\n",
              "    <tr>\n",
              "      <th>3</th>\n",
              "      <td>3</td>\n",
              "      <td>1325384907441/5e5766d8-46cb-480d-886a-7d557542...</td>\n",
              "      <td>2021-05-01 10:00:00.000</td>\n",
              "      <td>Android</td>\n",
              "      <td>۶ روز پیش</td>\n",
              "      <td>B</td>\n",
              "      <td>1</td>\n",
              "    </tr>\n",
              "    <tr>\n",
              "      <th>4</th>\n",
              "      <td>4</td>\n",
              "      <td>1337524499886/ad464731-6288-4e04-8a1a-aa9c004f...</td>\n",
              "      <td>2021-05-03 05:00:00.000</td>\n",
              "      <td>Android</td>\n",
              "      <td>ساعاتی پیش</td>\n",
              "      <td>A</td>\n",
              "      <td>1</td>\n",
              "    </tr>\n",
              "  </tbody>\n",
              "</table>\n",
              "</div>"
            ],
            "text/plain": [
              "   Unnamed: 0  ... count_views\n",
              "0           0  ...           1\n",
              "1           1  ...           1\n",
              "2           2  ...           1\n",
              "3           3  ...           1\n",
              "4           4  ...           1\n",
              "\n",
              "[5 rows x 7 columns]"
            ]
          },
          "metadata": {
            "tags": []
          },
          "execution_count": 41
        }
      ]
    },
    {
      "cell_type": "code",
      "metadata": {
        "id": "-RvEsjWRRmMN"
      },
      "source": [
        "import networkx as nx\n",
        "\n",
        "def create_graph(data):\n",
        "  graph = nx.DiGraph()\n",
        "\n",
        "  for index, row in data.iterrows():\n",
        "    source_node = row[\"userid\"]\n",
        "    destination_node = str(row[\"adstatus\"]) + \"_\" + str(row[\"item\"])\n",
        "    item_destination_node = str(row[\"item\"])\n",
        "    source_destination_node = str(row[\"source\"])\n",
        "\n",
        "    prior_weight = row[\"count_views\"]\n",
        "\n",
        "    graph.add_node(source_node, node_type='user')\n",
        "    #graph.add_node(destination_node, node_type='item')\n",
        "    graph.add_node(item_destination_node, node_type='onlyitem')\n",
        "    #graph.add_node(source_destination_node, node_type='source')\n",
        "\n",
        "    node_attributes = graph.get_edge_data(source_node, destination_node)\n",
        "\n",
        "    if (node_attributes is not None):\n",
        "      prior_weight = prior_weight + node_attributes[\"weight\"]\n",
        "\n",
        "    graph.add_weighted_edges_from([\n",
        "                                   #(source_node, destination_node, prior_weight),\n",
        "                                   (source_node, item_destination_node, prior_weight),\n",
        "                                   #(source_node, source_destination_node, prior_weight),\n",
        "                                   #(destination_node, item_destination_node, prior_weight)\n",
        "                                   ])\n",
        "\n",
        "  return graph\n",
        "\n",
        "\n",
        "graph = create_graph(df)"
      ],
      "execution_count": 124,
      "outputs": []
    },
    {
      "cell_type": "code",
      "metadata": {
        "id": "4_XKsUpcebOZ"
      },
      "source": [
        "page_ranks = nx.pagerank(graph, weight ='weight', max_iter =1000, alpha=0.85)"
      ],
      "execution_count": 125,
      "outputs": []
    },
    {
      "cell_type": "code",
      "metadata": {
        "colab": {
          "base_uri": "https://localhost:8080/"
        },
        "id": "0nD7d0Dbekm3",
        "outputId": "32047e82-dd1a-4a89-d682-42e9369104ca"
      },
      "source": [
        "user_nodes = list({n for n, d in graph.nodes(data=True) if d[\"node_type\"] == \"user\"})\n",
        "item_nodes = list({n for n, d in graph.nodes(data=True) if d[\"node_type\"] == \"item\"})\n",
        "page_ranks.get(user_nodes[0])"
      ],
      "execution_count": 126,
      "outputs": [
        {
          "output_type": "execute_result",
          "data": {
            "text/plain": [
              "1.020094671639044e-05"
            ]
          },
          "metadata": {
            "tags": []
          },
          "execution_count": 126
        }
      ]
    },
    {
      "cell_type": "code",
      "metadata": {
        "id": "CjDDfgTLBfPb",
        "outputId": "92d1ce15-3015-4241-92f5-b6719007f856",
        "colab": {
          "base_uri": "https://localhost:8080/"
        }
      },
      "source": [
        "min(page_ranks.values())"
      ],
      "execution_count": 133,
      "outputs": [
        {
          "output_type": "execute_result",
          "data": {
            "text/plain": [
              "1.020094671639044e-05"
            ]
          },
          "metadata": {
            "tags": []
          },
          "execution_count": 133
        }
      ]
    },
    {
      "cell_type": "code",
      "metadata": {
        "id": "qStfa5Lc1ToR"
      },
      "source": [
        "def extract_features(graph, page_ranks):\n",
        "  user_nodes = list({n for n, d in graph.nodes(data=True) if d[\"node_type\"] == \"user\"})\n",
        "  #item_nodes = list({n for n, d in graph.nodes(data=True) if d[\"node_type\"] == \"item\"})\n",
        "  onlyitem_nodes = list({n for n, d in graph.nodes(data=True) if d[\"node_type\"] == \"onlyitem\"})\n",
        "  #source_nodes = list({n for n, d in graph.nodes(data=True) if d[\"node_type\"] == \"source\"})\n",
        "\n",
        "  column_names = []\n",
        "  #column_names = item_nodes.copy()\n",
        "  column_names.extend(onlyitem_nodes.copy())\n",
        "  #column_names.extend(source_nodes.copy())\n",
        "  column_names.insert(0, 'user_rank')\n",
        "  column_names.insert(0, 'user_id')\n",
        "\n",
        "  data = []\n",
        "\n",
        "  for user in user_nodes :\n",
        "    user_rank = page_ranks.get(user)\n",
        "    row_data = [user, user_rank]\n",
        "\n",
        "    #for item in item_nodes :\n",
        "      #item_rank = page_ranks.get(item)\n",
        "\n",
        "      #node_weight = 0\n",
        "      #node_attributes = graph.get_edge_data(user, item)\n",
        "      \n",
        "      #if (node_attributes is not None):\n",
        "      #  node_weight = node_attributes[\"weight\"]\n",
        "        \n",
        "      #calculated_feature = node_weight * user_rank * item_rank\n",
        "      #row_data.append(calculated_feature)\n",
        "    \n",
        "    for item in onlyitem_nodes :\n",
        "      item_rank = page_ranks.get(item)\n",
        "\n",
        "      node_weight = 0\n",
        "      node_attributes = graph.get_edge_data(user, item)\n",
        "      \n",
        "      if (node_attributes is not None):\n",
        "        node_weight = node_attributes[\"weight\"]\n",
        "        \n",
        "      calculated_feature = node_weight * user_rank * item_rank\n",
        "      row_data.append(calculated_feature)\n",
        "\n",
        "    #for item in source_nodes :\n",
        "      #item_rank = page_ranks.get(item)\n",
        "\n",
        "      #node_weight = 0\n",
        "      #node_attributes = graph.get_edge_data(user, item)\n",
        "      \n",
        "      #if (node_attributes is not None):\n",
        "      #  node_weight = node_attributes[\"weight\"]\n",
        "        \n",
        "      #calculated_feature = node_weight * user_rank * item_rank\n",
        "      #row_data.append(calculated_feature)\n",
        "\n",
        "    data.append(row_data)\n",
        "  \n",
        "  df = pd.DataFrame(data, columns = column_names)\n",
        "  return df"
      ],
      "execution_count": 134,
      "outputs": []
    },
    {
      "cell_type": "code",
      "metadata": {
        "id": "bkF2BcDU2bLb"
      },
      "source": [
        "df_features = extract_features(graph, page_ranks)"
      ],
      "execution_count": 135,
      "outputs": []
    },
    {
      "cell_type": "code",
      "metadata": {
        "colab": {
          "base_uri": "https://localhost:8080/",
          "height": 359
        },
        "id": "hufbi9co46Xi",
        "outputId": "02dd357d-6d05-43c8-a4a5-d96eb77316be"
      },
      "source": [
        "df_features.head(10)"
      ],
      "execution_count": 136,
      "outputs": [
        {
          "output_type": "execute_result",
          "data": {
            "text/html": [
              "<div>\n",
              "<style scoped>\n",
              "    .dataframe tbody tr th:only-of-type {\n",
              "        vertical-align: middle;\n",
              "    }\n",
              "\n",
              "    .dataframe tbody tr th {\n",
              "        vertical-align: top;\n",
              "    }\n",
              "\n",
              "    .dataframe thead th {\n",
              "        text-align: right;\n",
              "    }\n",
              "</style>\n",
              "<table border=\"1\" class=\"dataframe\">\n",
              "  <thead>\n",
              "    <tr style=\"text-align: right;\">\n",
              "      <th></th>\n",
              "      <th>user_id</th>\n",
              "      <th>user_rank</th>\n",
              "      <th>C</th>\n",
              "      <th>B</th>\n",
              "      <th>A</th>\n",
              "    </tr>\n",
              "  </thead>\n",
              "  <tbody>\n",
              "    <tr>\n",
              "      <th>0</th>\n",
              "      <td>1620032121394/12855882-f4d7-4574-89e4-83f3a2e5...</td>\n",
              "      <td>0.00001</td>\n",
              "      <td>0.000000e+00</td>\n",
              "      <td>0.000000</td>\n",
              "      <td>0.000003</td>\n",
              "    </tr>\n",
              "    <tr>\n",
              "      <th>1</th>\n",
              "      <td>1620055581050/323a7135-e206-4a0d-9c54-27f88f2c...</td>\n",
              "      <td>0.00001</td>\n",
              "      <td>0.000000e+00</td>\n",
              "      <td>0.000000</td>\n",
              "      <td>0.000003</td>\n",
              "    </tr>\n",
              "    <tr>\n",
              "      <th>2</th>\n",
              "      <td>1618305496872/ef33b880-f26a-4f79-815d-ddd161d1...</td>\n",
              "      <td>0.00001</td>\n",
              "      <td>0.000000e+00</td>\n",
              "      <td>0.000002</td>\n",
              "      <td>0.000000</td>\n",
              "    </tr>\n",
              "    <tr>\n",
              "      <th>3</th>\n",
              "      <td>1619867213109/59da4193-ca06-41cb-9b82-b6166c0d...</td>\n",
              "      <td>0.00001</td>\n",
              "      <td>0.000000e+00</td>\n",
              "      <td>0.000000</td>\n",
              "      <td>0.000003</td>\n",
              "    </tr>\n",
              "    <tr>\n",
              "      <th>4</th>\n",
              "      <td>1615746867959/ccec5c55-2feb-4a22-b6c6-76dbdaab...</td>\n",
              "      <td>0.00001</td>\n",
              "      <td>0.000000e+00</td>\n",
              "      <td>0.000002</td>\n",
              "      <td>0.000000</td>\n",
              "    </tr>\n",
              "    <tr>\n",
              "      <th>5</th>\n",
              "      <td>1620357890941/511f077d-3eeb-41f1-ac6d-8a2feb35...</td>\n",
              "      <td>0.00001</td>\n",
              "      <td>0.000000e+00</td>\n",
              "      <td>0.000006</td>\n",
              "      <td>0.000000</td>\n",
              "    </tr>\n",
              "    <tr>\n",
              "      <th>6</th>\n",
              "      <td>1620386071700/dd966013-97f9-457f-9d06-37c7f30c...</td>\n",
              "      <td>0.00001</td>\n",
              "      <td>0.000000e+00</td>\n",
              "      <td>0.000000</td>\n",
              "      <td>0.000006</td>\n",
              "    </tr>\n",
              "    <tr>\n",
              "      <th>7</th>\n",
              "      <td>1616485089974/de999625-1fff-4f37-83aa-d14babdc...</td>\n",
              "      <td>0.00001</td>\n",
              "      <td>4.620682e-07</td>\n",
              "      <td>0.000000</td>\n",
              "      <td>0.000000</td>\n",
              "    </tr>\n",
              "    <tr>\n",
              "      <th>8</th>\n",
              "      <td>1618853494128/2dd66632-e071-4981-bf5a-c7f78a87...</td>\n",
              "      <td>0.00001</td>\n",
              "      <td>0.000000e+00</td>\n",
              "      <td>0.000000</td>\n",
              "      <td>0.000003</td>\n",
              "    </tr>\n",
              "    <tr>\n",
              "      <th>9</th>\n",
              "      <td>1617287051014/5d048e6d-f2c2-437b-b13d-06855d99...</td>\n",
              "      <td>0.00001</td>\n",
              "      <td>0.000000e+00</td>\n",
              "      <td>0.000000</td>\n",
              "      <td>0.000017</td>\n",
              "    </tr>\n",
              "  </tbody>\n",
              "</table>\n",
              "</div>"
            ],
            "text/plain": [
              "                                             user_id  ...         A\n",
              "0  1620032121394/12855882-f4d7-4574-89e4-83f3a2e5...  ...  0.000003\n",
              "1  1620055581050/323a7135-e206-4a0d-9c54-27f88f2c...  ...  0.000003\n",
              "2  1618305496872/ef33b880-f26a-4f79-815d-ddd161d1...  ...  0.000000\n",
              "3  1619867213109/59da4193-ca06-41cb-9b82-b6166c0d...  ...  0.000003\n",
              "4  1615746867959/ccec5c55-2feb-4a22-b6c6-76dbdaab...  ...  0.000000\n",
              "5  1620357890941/511f077d-3eeb-41f1-ac6d-8a2feb35...  ...  0.000000\n",
              "6  1620386071700/dd966013-97f9-457f-9d06-37c7f30c...  ...  0.000006\n",
              "7  1616485089974/de999625-1fff-4f37-83aa-d14babdc...  ...  0.000000\n",
              "8  1618853494128/2dd66632-e071-4981-bf5a-c7f78a87...  ...  0.000003\n",
              "9  1617287051014/5d048e6d-f2c2-437b-b13d-06855d99...  ...  0.000017\n",
              "\n",
              "[10 rows x 5 columns]"
            ]
          },
          "metadata": {
            "tags": []
          },
          "execution_count": 136
        }
      ]
    },
    {
      "cell_type": "code",
      "metadata": {
        "id": "mZVfStOMEDpL",
        "colab": {
          "base_uri": "https://localhost:8080/",
          "height": 204
        },
        "outputId": "02236818-6e70-4922-c180-42b75a368481"
      },
      "source": [
        "from sklearn import preprocessing\n",
        "\n",
        "df_without_user_id = df_features.iloc[:, 1::].to_numpy()\n",
        "\n",
        "min_max_scaler = preprocessing.MinMaxScaler()\n",
        "df_without_user_id_scaled = min_max_scaler.fit_transform(df_without_user_id)\n",
        "\n",
        "df_scaled = pd.DataFrame(df_without_user_id_scaled)\n",
        "df_scaled.head()"
      ],
      "execution_count": 137,
      "outputs": [
        {
          "output_type": "execute_result",
          "data": {
            "text/html": [
              "<div>\n",
              "<style scoped>\n",
              "    .dataframe tbody tr th:only-of-type {\n",
              "        vertical-align: middle;\n",
              "    }\n",
              "\n",
              "    .dataframe tbody tr th {\n",
              "        vertical-align: top;\n",
              "    }\n",
              "\n",
              "    .dataframe thead th {\n",
              "        text-align: right;\n",
              "    }\n",
              "</style>\n",
              "<table border=\"1\" class=\"dataframe\">\n",
              "  <thead>\n",
              "    <tr style=\"text-align: right;\">\n",
              "      <th></th>\n",
              "      <th>0</th>\n",
              "      <th>1</th>\n",
              "      <th>2</th>\n",
              "      <th>3</th>\n",
              "    </tr>\n",
              "  </thead>\n",
              "  <tbody>\n",
              "    <tr>\n",
              "      <th>0</th>\n",
              "      <td>0.0</td>\n",
              "      <td>0.0</td>\n",
              "      <td>0.00</td>\n",
              "      <td>0.027027</td>\n",
              "    </tr>\n",
              "    <tr>\n",
              "      <th>1</th>\n",
              "      <td>0.0</td>\n",
              "      <td>0.0</td>\n",
              "      <td>0.00</td>\n",
              "      <td>0.027027</td>\n",
              "    </tr>\n",
              "    <tr>\n",
              "      <th>2</th>\n",
              "      <td>0.0</td>\n",
              "      <td>0.0</td>\n",
              "      <td>0.05</td>\n",
              "      <td>0.000000</td>\n",
              "    </tr>\n",
              "    <tr>\n",
              "      <th>3</th>\n",
              "      <td>0.0</td>\n",
              "      <td>0.0</td>\n",
              "      <td>0.00</td>\n",
              "      <td>0.027027</td>\n",
              "    </tr>\n",
              "    <tr>\n",
              "      <th>4</th>\n",
              "      <td>0.0</td>\n",
              "      <td>0.0</td>\n",
              "      <td>0.05</td>\n",
              "      <td>0.000000</td>\n",
              "    </tr>\n",
              "  </tbody>\n",
              "</table>\n",
              "</div>"
            ],
            "text/plain": [
              "     0    1     2         3\n",
              "0  0.0  0.0  0.00  0.027027\n",
              "1  0.0  0.0  0.00  0.027027\n",
              "2  0.0  0.0  0.05  0.000000\n",
              "3  0.0  0.0  0.00  0.027027\n",
              "4  0.0  0.0  0.05  0.000000"
            ]
          },
          "metadata": {
            "tags": []
          },
          "execution_count": 137
        }
      ]
    },
    {
      "cell_type": "code",
      "metadata": {
        "id": "g8RRB9e5ztE2"
      },
      "source": [
        "from sklearn.decomposition import PCA\n",
        "pca = PCA(n_components=2)\n",
        "\n",
        "pca.fit(df_without_user_id_scaled)\n",
        "pca_data = pca.transform(df_without_user_id_scaled)"
      ],
      "execution_count": 138,
      "outputs": []
    },
    {
      "cell_type": "code",
      "metadata": {
        "id": "OAXdcrhV1A4G",
        "colab": {
          "base_uri": "https://localhost:8080/",
          "height": 266
        },
        "outputId": "9a8c70ed-ca12-4984-fa7b-cef9bb6fde78"
      },
      "source": [
        "import matplotlib.pyplot as plt\n",
        "\n",
        "plt.scatter(pca_data[:,0], pca_data[:,1])\n",
        "plt.show()"
      ],
      "execution_count": 139,
      "outputs": [
        {
          "output_type": "display_data",
          "data": {
            "image/png": "[encoded data removed]",
            "text/plain": [
              "<Figure size 432x288 with 1 Axes>"
            ]
          },
          "metadata": {
            "tags": [],
            "needs_background": "light"
          }
        }
      ]
    },
    {
      "cell_type": "code",
      "metadata": {
        "id": "qtkbMVGf_cDo"
      },
      "source": [
        "from sklearn.cluster import KMeans\n",
        "kmeans = KMeans(n_clusters=10, init='k-means++', random_state=0).fit(df_without_user_id)"
      ],
      "execution_count": 140,
      "outputs": []
    },
    {
      "cell_type": "code",
      "metadata": {
        "id": "cHOeNw5tAnHA",
        "colab": {
          "base_uri": "https://localhost:8080/"
        },
        "outputId": "9797e71b-1f73-466f-889a-b7a64cce6465"
      },
      "source": [
        "lst = list(kmeans.labels_)\n",
        "for i in range(30):\n",
        "  print(str(i) + \":\" + str(lst.count(i)))"
      ],
      "execution_count": 141,
      "outputs": [
        {
          "output_type": "stream",
          "text": [
            "0:22356\n",
            "1:2410\n",
            "2:14105\n",
            "3:193\n",
            "4:4937\n",
            "5:6\n",
            "6:711\n",
            "7:39\n",
            "8:2808\n",
            "9:4352\n",
            "10:0\n",
            "11:0\n",
            "12:0\n",
            "13:0\n",
            "14:0\n",
            "15:0\n",
            "16:0\n",
            "17:0\n",
            "18:0\n",
            "19:0\n",
            "20:0\n",
            "21:0\n",
            "22:0\n",
            "23:0\n",
            "24:0\n",
            "25:0\n",
            "26:0\n",
            "27:0\n",
            "28:0\n",
            "29:0\n"
          ],
          "name": "stdout"
        }
      ]
    },
    {
      "cell_type": "code",
      "metadata": {
        "id": "GQJYRnhzEG27",
        "colab": {
          "base_uri": "https://localhost:8080/"
        },
        "outputId": "38af96a9-280a-4d31-a6cc-a3039b55fbd6"
      },
      "source": [
        "df[\"adstatus\"].value_counts()"
      ],
      "execution_count": null,
      "outputs": [
        {
          "output_type": "execute_result",
          "data": {
            "text/plain": [
              "ساعاتی پیش    48208\n",
              "۱ روز پیش     18756\n",
              "۱ هفته پیش    15165\n",
              "دقایقی پیش    13422\n",
              "لحظاتی پیش    12156\n",
              "۲ روز پیش     11864\n",
              "۲ هفته پیش    10335\n",
              "۳ روز پیش      8621\n",
              "۳ هفته پیش     7908\n",
              "۴ روز پیش      6951\n",
              "۵ روز پیش      5864\n",
              "۶ روز پیش      4939\n",
              "۴ هفته پیش     2446\n",
              "۱ ماه پیش      1104\n",
              "۲ ماه پیش       688\n",
              "۷ ماه پیش       264\n",
              "۳ ماه پیش       232\n",
              "۴ ماه پیش       202\n",
              "۱ سال پیش       172\n",
              "۵ ماه پیش        84\n",
              "۶ ماه پیش        38\n",
              "۱۱ ماه پیش       25\n",
              "۱۰ ماه پیش       24\n",
              "۸ ماه پیش        24\n",
              "۹ ماه پیش        23\n",
              "Name: adstatus, dtype: int64"
            ]
          },
          "metadata": {
            "tags": []
          },
          "execution_count": 11
        }
      ]
    },
    {
      "cell_type": "code",
      "metadata": {
        "id": "D1n1XksROsUK",
        "colab": {
          "base_uri": "https://localhost:8080/",
          "height": 411
        },
        "outputId": "c96a84f5-af80-4d34-d860-43fd65589d46"
      },
      "source": [
        "pd.get_dummies(df, columns=[\"item\",\"adstatus\", \"source\"]).head()"
      ],
      "execution_count": null,
      "outputs": [
        {
          "output_type": "execute_result",
          "data": {
            "text/html": [
              "<div>\n",
              "<style scoped>\n",
              "    .dataframe tbody tr th:only-of-type {\n",
              "        vertical-align: middle;\n",
              "    }\n",
              "\n",
              "    .dataframe tbody tr th {\n",
              "        vertical-align: top;\n",
              "    }\n",
              "\n",
              "    .dataframe thead th {\n",
              "        text-align: right;\n",
              "    }\n",
              "</style>\n",
              "<table border=\"1\" class=\"dataframe\">\n",
              "  <thead>\n",
              "    <tr style=\"text-align: right;\">\n",
              "      <th></th>\n",
              "      <th>Unnamed: 0</th>\n",
              "      <th>userid</th>\n",
              "      <th>time</th>\n",
              "      <th>count_views</th>\n",
              "      <th>item_A</th>\n",
              "      <th>item_B</th>\n",
              "      <th>item_C</th>\n",
              "      <th>adstatus_دقایقی پیش</th>\n",
              "      <th>adstatus_ساعاتی پیش</th>\n",
              "      <th>adstatus_لحظاتی پیش</th>\n",
              "      <th>adstatus_۱ روز پیش</th>\n",
              "      <th>adstatus_۱ سال پیش</th>\n",
              "      <th>adstatus_۱ ماه پیش</th>\n",
              "      <th>adstatus_۱ هفته پیش</th>\n",
              "      <th>adstatus_۱۰ ماه پیش</th>\n",
              "      <th>adstatus_۱۱ ماه پیش</th>\n",
              "      <th>adstatus_۲ روز پیش</th>\n",
              "      <th>adstatus_۲ ماه پیش</th>\n",
              "      <th>adstatus_۲ هفته پیش</th>\n",
              "      <th>adstatus_۳ روز پیش</th>\n",
              "      <th>adstatus_۳ ماه پیش</th>\n",
              "      <th>adstatus_۳ هفته پیش</th>\n",
              "      <th>adstatus_۴ روز پیش</th>\n",
              "      <th>adstatus_۴ ماه پیش</th>\n",
              "      <th>adstatus_۴ هفته پیش</th>\n",
              "      <th>adstatus_۵ روز پیش</th>\n",
              "      <th>adstatus_۵ ماه پیش</th>\n",
              "      <th>adstatus_۶ روز پیش</th>\n",
              "      <th>adstatus_۶ ماه پیش</th>\n",
              "      <th>adstatus_۷ ماه پیش</th>\n",
              "      <th>adstatus_۸ ماه پیش</th>\n",
              "      <th>adstatus_۹ ماه پیش</th>\n",
              "      <th>source_Android</th>\n",
              "      <th>source_Chrome</th>\n",
              "    </tr>\n",
              "  </thead>\n",
              "  <tbody>\n",
              "    <tr>\n",
              "      <th>0</th>\n",
              "      <td>0</td>\n",
              "      <td>1274821301586/54e79450-bbee-4770-9e47-1d56e120...</td>\n",
              "      <td>2021-05-05 18:00:00.000</td>\n",
              "      <td>1</td>\n",
              "      <td>1</td>\n",
              "      <td>0</td>\n",
              "      <td>0</td>\n",
              "      <td>0</td>\n",
              "      <td>0</td>\n",
              "      <td>0</td>\n",
              "      <td>0</td>\n",
              "      <td>0</td>\n",
              "      <td>0</td>\n",
              "      <td>0</td>\n",
              "      <td>0</td>\n",
              "      <td>0</td>\n",
              "      <td>0</td>\n",
              "      <td>0</td>\n",
              "      <td>0</td>\n",
              "      <td>1</td>\n",
              "      <td>0</td>\n",
              "      <td>0</td>\n",
              "      <td>0</td>\n",
              "      <td>0</td>\n",
              "      <td>0</td>\n",
              "      <td>0</td>\n",
              "      <td>0</td>\n",
              "      <td>0</td>\n",
              "      <td>0</td>\n",
              "      <td>0</td>\n",
              "      <td>0</td>\n",
              "      <td>0</td>\n",
              "      <td>0</td>\n",
              "      <td>1</td>\n",
              "    </tr>\n",
              "    <tr>\n",
              "      <th>1</th>\n",
              "      <td>1</td>\n",
              "      <td>1274821301586/54e79450-bbee-4770-9e47-1d56e120...</td>\n",
              "      <td>2021-05-05 18:00:00.000</td>\n",
              "      <td>1</td>\n",
              "      <td>1</td>\n",
              "      <td>0</td>\n",
              "      <td>0</td>\n",
              "      <td>0</td>\n",
              "      <td>0</td>\n",
              "      <td>0</td>\n",
              "      <td>0</td>\n",
              "      <td>0</td>\n",
              "      <td>0</td>\n",
              "      <td>0</td>\n",
              "      <td>0</td>\n",
              "      <td>0</td>\n",
              "      <td>0</td>\n",
              "      <td>0</td>\n",
              "      <td>0</td>\n",
              "      <td>0</td>\n",
              "      <td>0</td>\n",
              "      <td>0</td>\n",
              "      <td>1</td>\n",
              "      <td>0</td>\n",
              "      <td>0</td>\n",
              "      <td>0</td>\n",
              "      <td>0</td>\n",
              "      <td>0</td>\n",
              "      <td>0</td>\n",
              "      <td>0</td>\n",
              "      <td>0</td>\n",
              "      <td>0</td>\n",
              "      <td>0</td>\n",
              "      <td>1</td>\n",
              "    </tr>\n",
              "    <tr>\n",
              "      <th>2</th>\n",
              "      <td>2</td>\n",
              "      <td>1325384907441/5e5766d8-46cb-480d-886a-7d557542...</td>\n",
              "      <td>2021-05-01 10:00:00.000</td>\n",
              "      <td>1</td>\n",
              "      <td>0</td>\n",
              "      <td>1</td>\n",
              "      <td>0</td>\n",
              "      <td>0</td>\n",
              "      <td>0</td>\n",
              "      <td>0</td>\n",
              "      <td>0</td>\n",
              "      <td>0</td>\n",
              "      <td>0</td>\n",
              "      <td>0</td>\n",
              "      <td>0</td>\n",
              "      <td>0</td>\n",
              "      <td>1</td>\n",
              "      <td>0</td>\n",
              "      <td>0</td>\n",
              "      <td>0</td>\n",
              "      <td>0</td>\n",
              "      <td>0</td>\n",
              "      <td>0</td>\n",
              "      <td>0</td>\n",
              "      <td>0</td>\n",
              "      <td>0</td>\n",
              "      <td>0</td>\n",
              "      <td>0</td>\n",
              "      <td>0</td>\n",
              "      <td>0</td>\n",
              "      <td>0</td>\n",
              "      <td>0</td>\n",
              "      <td>1</td>\n",
              "      <td>0</td>\n",
              "    </tr>\n",
              "    <tr>\n",
              "      <th>3</th>\n",
              "      <td>3</td>\n",
              "      <td>1325384907441/5e5766d8-46cb-480d-886a-7d557542...</td>\n",
              "      <td>2021-05-01 10:00:00.000</td>\n",
              "      <td>1</td>\n",
              "      <td>0</td>\n",
              "      <td>1</td>\n",
              "      <td>0</td>\n",
              "      <td>0</td>\n",
              "      <td>0</td>\n",
              "      <td>0</td>\n",
              "      <td>0</td>\n",
              "      <td>0</td>\n",
              "      <td>0</td>\n",
              "      <td>0</td>\n",
              "      <td>0</td>\n",
              "      <td>0</td>\n",
              "      <td>0</td>\n",
              "      <td>0</td>\n",
              "      <td>0</td>\n",
              "      <td>0</td>\n",
              "      <td>0</td>\n",
              "      <td>0</td>\n",
              "      <td>0</td>\n",
              "      <td>0</td>\n",
              "      <td>0</td>\n",
              "      <td>0</td>\n",
              "      <td>0</td>\n",
              "      <td>1</td>\n",
              "      <td>0</td>\n",
              "      <td>0</td>\n",
              "      <td>0</td>\n",
              "      <td>0</td>\n",
              "      <td>1</td>\n",
              "      <td>0</td>\n",
              "    </tr>\n",
              "    <tr>\n",
              "      <th>4</th>\n",
              "      <td>4</td>\n",
              "      <td>1337524499886/ad464731-6288-4e04-8a1a-aa9c004f...</td>\n",
              "      <td>2021-05-03 05:00:00.000</td>\n",
              "      <td>1</td>\n",
              "      <td>1</td>\n",
              "      <td>0</td>\n",
              "      <td>0</td>\n",
              "      <td>0</td>\n",
              "      <td>1</td>\n",
              "      <td>0</td>\n",
              "      <td>0</td>\n",
              "      <td>0</td>\n",
              "      <td>0</td>\n",
              "      <td>0</td>\n",
              "      <td>0</td>\n",
              "      <td>0</td>\n",
              "      <td>0</td>\n",
              "      <td>0</td>\n",
              "      <td>0</td>\n",
              "      <td>0</td>\n",
              "      <td>0</td>\n",
              "      <td>0</td>\n",
              "      <td>0</td>\n",
              "      <td>0</td>\n",
              "      <td>0</td>\n",
              "      <td>0</td>\n",
              "      <td>0</td>\n",
              "      <td>0</td>\n",
              "      <td>0</td>\n",
              "      <td>0</td>\n",
              "      <td>0</td>\n",
              "      <td>0</td>\n",
              "      <td>1</td>\n",
              "      <td>0</td>\n",
              "    </tr>\n",
              "  </tbody>\n",
              "</table>\n",
              "</div>"
            ],
            "text/plain": [
              "   Unnamed: 0  ... source_Chrome\n",
              "0           0  ...             1\n",
              "1           1  ...             1\n",
              "2           2  ...             0\n",
              "3           3  ...             0\n",
              "4           4  ...             0\n",
              "\n",
              "[5 rows x 34 columns]"
            ]
          },
          "metadata": {
            "tags": []
          },
          "execution_count": 13
        }
      ]
    },
    {
      "cell_type": "code",
      "metadata": {
        "id": "rcd3rIKGPL_K"
      },
      "source": [
        ""
      ],
      "execution_count": null,
      "outputs": []
    }
  ]
}