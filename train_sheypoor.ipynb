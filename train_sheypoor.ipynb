{
  "nbformat": 4,
  "nbformat_minor": 0,
  "metadata": {
    "colab": {
      "name": "train_sheypoor.ipynb",
      "provenance": [],
      "authorship_tag": "ABX9TyN3Lq4hRZ13jqJEi3melhca",
      "include_colab_link": true
    },
    "kernelspec": {
      "name": "python3",
      "display_name": "Python 3"
    },
    "language_info": {
      "name": "python"
    }
  },
  "cells": [
    {
      "cell_type": "markdown",
      "metadata": {
        "id": "view-in-github",
        "colab_type": "text"
      },
      "source": [
        "<a href=\"https://colab.research.google.com/github/sasansharifipour/Spark_Class/blob/main/train_sheypoor.ipynb\" target=\"_parent\"><img src=\"https://colab.research.google.com/assets/colab-badge.svg\" alt=\"Open In Colab\"/></a>"
      ]
    },
    {
      "cell_type": "code",
      "metadata": {
        "colab": {
          "base_uri": "https://localhost:8080/"
        },
        "id": "TrVocg4ah7or",
        "outputId": "da9e7d71-7d2f-4f9f-c881-daf289e1e27b"
      },
      "source": [
        "file_download_link = \"https://drive.google.com/u/0/uc?id=1K2a4mliN8l4aO1S8TWyn29EN25Y4WLlQ&export=download\" \n",
        "!wget -O data.csv --no-check-certificate \"$file_download_link\""
      ],
      "execution_count": 1,
      "outputs": [
        {
          "output_type": "stream",
          "text": [
            "--2021-05-18 12:56:43--  https://drive.google.com/u/0/uc?id=1K2a4mliN8l4aO1S8TWyn29EN25Y4WLlQ&export=download\n",
            "Resolving drive.google.com (drive.google.com)... 64.233.189.100, 64.233.189.102, 64.233.189.101, ...\n",
            "Connecting to drive.google.com (drive.google.com)|64.233.189.100|:443... connected.\n",
            "HTTP request sent, awaiting response... 302 Moved Temporarily\n",
            "Location: https://doc-0g-70-docs.googleusercontent.com/docs/securesc/ha0ro937gcuc7l7deffksulhg5h7mbp1/t0ibp24mqv69okgrnfi4mni50ne1aimi/1621342575000/14577798666193718332/*/1K2a4mliN8l4aO1S8TWyn29EN25Y4WLlQ?e=download [following]\n",
            "Warning: wildcards not supported in HTTP.\n",
            "--2021-05-18 12:56:45--  https://doc-0g-70-docs.googleusercontent.com/docs/securesc/ha0ro937gcuc7l7deffksulhg5h7mbp1/t0ibp24mqv69okgrnfi4mni50ne1aimi/1621342575000/14577798666193718332/*/1K2a4mliN8l4aO1S8TWyn29EN25Y4WLlQ?e=download\n",
            "Resolving doc-0g-70-docs.googleusercontent.com (doc-0g-70-docs.googleusercontent.com)... 74.125.204.132, 2404:6800:4008:c02::84\n",
            "Connecting to doc-0g-70-docs.googleusercontent.com (doc-0g-70-docs.googleusercontent.com)|74.125.204.132|:443... connected.\n",
            "HTTP request sent, awaiting response... 200 OK\n",
            "Length: unspecified [text/csv]\n",
            "Saving to: ‘data.csv’\n",
            "\n",
            "data.csv                [  <=>               ]  18.12M  49.2MB/s    in 0.4s    \n",
            "\n",
            "2021-05-18 12:56:45 (49.2 MB/s) - ‘data.csv’ saved [19002465]\n",
            "\n"
          ],
          "name": "stdout"
        }
      ]
    },
    {
      "cell_type": "code",
      "metadata": {
        "id": "hDfE8VBNjFlb"
      },
      "source": [
        ""
      ],
      "execution_count": null,
      "outputs": []
    }
  ]
}