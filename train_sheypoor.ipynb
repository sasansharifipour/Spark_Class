{
  "nbformat": 4,
  "nbformat_minor": 0,
  "metadata": {
    "colab": {
      "name": "train_sheypoor.ipynb",
      "provenance": [],
      "authorship_tag": "ABX9TyPzv/IgCVb0ZEi0x/1jRnls",
      "include_colab_link": true
    },
    "kernelspec": {
      "name": "python3",
      "display_name": "Python 3"
    },
    "language_info": {
      "name": "python"
    }
  },
  "cells": [
    {
      "cell_type": "markdown",
      "metadata": {
        "id": "view-in-github",
        "colab_type": "text"
      },
      "source": [
        "<a href=\"https://colab.research.google.com/github/sasansharifipour/Spark_Class/blob/main/train_sheypoor.ipynb\" target=\"_parent\"><img src=\"https://colab.research.google.com/assets/colab-badge.svg\" alt=\"Open In Colab\"/></a>"
      ]
    },
    {
      "cell_type": "code",
      "metadata": {
        "colab": {
          "base_uri": "https://localhost:8080/"
        },
        "id": "TrVocg4ah7or",
        "outputId": "2a90a9ae-23b2-4461-d5e6-1ba2b8226abb"
      },
      "source": [
        "file_download_link = \"https://drive.google.com/u/0/uc?id=1K2a4mliN8l4aO1S8TWyn29EN25Y4WLlQ&export=download\" \n",
        "!wget -O data.csv --no-check-certificate \"$file_download_link\""
      ],
      "execution_count": 1,
      "outputs": [
        {
          "output_type": "stream",
          "text": [
            "--2021-05-22 04:13:18--  https://drive.google.com/u/0/uc?id=1K2a4mliN8l4aO1S8TWyn29EN25Y4WLlQ&export=download\n",
            "Resolving drive.google.com (drive.google.com)... 64.233.189.102, 64.233.189.138, 64.233.189.100, ...\n",
            "Connecting to drive.google.com (drive.google.com)|64.233.189.102|:443... connected.\n",
            "HTTP request sent, awaiting response... 302 Moved Temporarily\n",
            "Location: https://doc-0g-70-docs.googleusercontent.com/docs/securesc/ha0ro937gcuc7l7deffksulhg5h7mbp1/mcl2u08j9rve6as0bae6nihscmo2uhf6/1621656750000/14577798666193718332/*/1K2a4mliN8l4aO1S8TWyn29EN25Y4WLlQ?e=download [following]\n",
            "Warning: wildcards not supported in HTTP.\n",
            "--2021-05-22 04:13:19--  https://doc-0g-70-docs.googleusercontent.com/docs/securesc/ha0ro937gcuc7l7deffksulhg5h7mbp1/mcl2u08j9rve6as0bae6nihscmo2uhf6/1621656750000/14577798666193718332/*/1K2a4mliN8l4aO1S8TWyn29EN25Y4WLlQ?e=download\n",
            "Resolving doc-0g-70-docs.googleusercontent.com (doc-0g-70-docs.googleusercontent.com)... 108.177.97.132, 2404:6800:4008:c00::84\n",
            "Connecting to doc-0g-70-docs.googleusercontent.com (doc-0g-70-docs.googleusercontent.com)|108.177.97.132|:443... connected.\n",
            "HTTP request sent, awaiting response... 200 OK\n",
            "Length: unspecified [text/csv]\n",
            "Saving to: ‘data.csv’\n",
            "\n",
            "data.csv                [  <=>               ]  18.12M  51.5MB/s    in 0.4s    \n",
            "\n",
            "2021-05-22 04:13:20 (51.5 MB/s) - ‘data.csv’ saved [19002465]\n",
            "\n"
          ],
          "name": "stdout"
        }
      ]
    },
    {
      "cell_type": "code",
      "metadata": {
        "id": "hDfE8VBNjFlb"
      },
      "source": [
        "import pandas as pd\n",
        "\n",
        "data = pd.read_csv('data.csv')\n",
        "\n",
        "df = pd.DataFrame(data)"
      ],
      "execution_count": 2,
      "outputs": []
    },
    {
      "cell_type": "code",
      "metadata": {
        "id": "402lExEDCbR9",
        "colab": {
          "base_uri": "https://localhost:8080/",
          "height": 204
        },
        "outputId": "849c2113-9280-4a47-b217-0c86b40d8e6a"
      },
      "source": [
        "df.head()"
      ],
      "execution_count": 22,
      "outputs": [
        {
          "output_type": "execute_result",
          "data": {
            "text/html": [
              "<div>\n",
              "<style scoped>\n",
              "    .dataframe tbody tr th:only-of-type {\n",
              "        vertical-align: middle;\n",
              "    }\n",
              "\n",
              "    .dataframe tbody tr th {\n",
              "        vertical-align: top;\n",
              "    }\n",
              "\n",
              "    .dataframe thead th {\n",
              "        text-align: right;\n",
              "    }\n",
              "</style>\n",
              "<table border=\"1\" class=\"dataframe\">\n",
              "  <thead>\n",
              "    <tr style=\"text-align: right;\">\n",
              "      <th></th>\n",
              "      <th>Unnamed: 0</th>\n",
              "      <th>userid</th>\n",
              "      <th>time</th>\n",
              "      <th>source</th>\n",
              "      <th>adstatus</th>\n",
              "      <th>item</th>\n",
              "      <th>count_views</th>\n",
              "    </tr>\n",
              "  </thead>\n",
              "  <tbody>\n",
              "    <tr>\n",
              "      <th>0</th>\n",
              "      <td>0</td>\n",
              "      <td>1274821301586/54e79450-bbee-4770-9e47-1d56e120...</td>\n",
              "      <td>2021-05-05 18:00:00.000</td>\n",
              "      <td>Chrome</td>\n",
              "      <td>۳ روز پیش</td>\n",
              "      <td>A</td>\n",
              "      <td>1</td>\n",
              "    </tr>\n",
              "    <tr>\n",
              "      <th>1</th>\n",
              "      <td>1</td>\n",
              "      <td>1274821301586/54e79450-bbee-4770-9e47-1d56e120...</td>\n",
              "      <td>2021-05-05 18:00:00.000</td>\n",
              "      <td>Chrome</td>\n",
              "      <td>۴ روز پیش</td>\n",
              "      <td>A</td>\n",
              "      <td>1</td>\n",
              "    </tr>\n",
              "    <tr>\n",
              "      <th>2</th>\n",
              "      <td>2</td>\n",
              "      <td>1325384907441/5e5766d8-46cb-480d-886a-7d557542...</td>\n",
              "      <td>2021-05-01 10:00:00.000</td>\n",
              "      <td>Android</td>\n",
              "      <td>۲ روز پیش</td>\n",
              "      <td>B</td>\n",
              "      <td>1</td>\n",
              "    </tr>\n",
              "    <tr>\n",
              "      <th>3</th>\n",
              "      <td>3</td>\n",
              "      <td>1325384907441/5e5766d8-46cb-480d-886a-7d557542...</td>\n",
              "      <td>2021-05-01 10:00:00.000</td>\n",
              "      <td>Android</td>\n",
              "      <td>۶ روز پیش</td>\n",
              "      <td>B</td>\n",
              "      <td>1</td>\n",
              "    </tr>\n",
              "    <tr>\n",
              "      <th>4</th>\n",
              "      <td>4</td>\n",
              "      <td>1337524499886/ad464731-6288-4e04-8a1a-aa9c004f...</td>\n",
              "      <td>2021-05-03 05:00:00.000</td>\n",
              "      <td>Android</td>\n",
              "      <td>ساعاتی پیش</td>\n",
              "      <td>A</td>\n",
              "      <td>1</td>\n",
              "    </tr>\n",
              "  </tbody>\n",
              "</table>\n",
              "</div>"
            ],
            "text/plain": [
              "   Unnamed: 0  ... count_views\n",
              "0           0  ...           1\n",
              "1           1  ...           1\n",
              "2           2  ...           1\n",
              "3           3  ...           1\n",
              "4           4  ...           1\n",
              "\n",
              "[5 rows x 7 columns]"
            ]
          },
          "metadata": {
            "tags": []
          },
          "execution_count": 22
        }
      ]
    },
    {
      "cell_type": "code",
      "metadata": {
        "id": "-RvEsjWRRmMN"
      },
      "source": [
        "import networkx as nx\n",
        "\n",
        "def create_graph(data):\n",
        "  graph = nx.Graph()\n",
        "\n",
        "  for index, row in data.iterrows():\n",
        "    source_node = row[\"userid\"]\n",
        "    destination_node = str(row[\"adstatus\"]) + \"_\" + str(row[\"item\"])\n",
        "    prior_weight = row[\"count_views\"]\n",
        "\n",
        "    graph.add_node(source_node, node_type='user')\n",
        "    graph.add_node(destination_node, node_type='item')\n",
        "\n",
        "    node_attributes = graph.get_edge_data(source_node, destination_node)\n",
        "\n",
        "    if (node_attributes is not None):\n",
        "      prior_weight = prior_weight + node_attributes[\"weight\"]\n",
        "\n",
        "    graph.add_weighted_edges_from([(destination_node, source_node,  prior_weight)])\n",
        "\n",
        "  return graph\n",
        "\n",
        "\n",
        "graph = create_graph(df.head(10000))"
      ],
      "execution_count": 46,
      "outputs": []
    },
    {
      "cell_type": "code",
      "metadata": {
        "id": "4_XKsUpcebOZ"
      },
      "source": [
        "page_ranks = nx.pagerank(graph, weight ='weight', max_iter =1000, alpha=0.9)"
      ],
      "execution_count": 47,
      "outputs": []
    },
    {
      "cell_type": "code",
      "metadata": {
        "colab": {
          "base_uri": "https://localhost:8080/"
        },
        "id": "0nD7d0Dbekm3",
        "outputId": "95517eec-77a5-46e0-a58e-8907f50196a3"
      },
      "source": [
        "user_nodes = list({n for n, d in graph.nodes(data=True) if d[\"node_type\"] == \"user\"})\n",
        "item_nodes = list({n for n, d in graph.nodes(data=True) if d[\"node_type\"] == \"item\"})\n",
        "page_ranks.get(user_nodes[0])"
      ],
      "execution_count": 60,
      "outputs": [
        {
          "output_type": "execute_result",
          "data": {
            "text/plain": [
              "8.075835679973605e-05"
            ]
          },
          "metadata": {
            "tags": []
          },
          "execution_count": 60
        }
      ]
    },
    {
      "cell_type": "code",
      "metadata": {
        "id": "qStfa5Lc1ToR"
      },
      "source": [
        "def extract_features(graph, page_ranks):\n",
        "  user_nodes = list({n for n, d in graph.nodes(data=True) if d[\"node_type\"] == \"user\"})\n",
        "  item_nodes = list({n for n, d in graph.nodes(data=True) if d[\"node_type\"] == \"item\"})\n",
        "\n",
        "  column_names = item_nodes.copy()\n",
        "  column_names.insert(0, 'user_rank')\n",
        "  column_names.insert(0, 'user_id')\n",
        "\n",
        "  data = []\n",
        "\n",
        "  for user in user_nodes :\n",
        "    user_rank = page_ranks.get(user)\n",
        "    row_data = [user, user_rank]\n",
        "\n",
        "    for item in item_nodes :\n",
        "      item_rank = page_ranks.get(item)\n",
        "\n",
        "      node_weight = 0\n",
        "      node_attributes = graph.get_edge_data(user, item)\n",
        "      \n",
        "      if (node_attributes is not None):\n",
        "        node_weight = node_attributes[\"weight\"]\n",
        "        \n",
        "      calculated_feature = node_weight * user_rank * item_rank\n",
        "      row_data.append(calculated_feature)\n",
        "    \n",
        "    data.append(row_data)\n",
        "  \n",
        "  df = pd.DataFrame(data, columns = column_names)\n",
        "  return df"
      ],
      "execution_count": 102,
      "outputs": []
    },
    {
      "cell_type": "code",
      "metadata": {
        "id": "bkF2BcDU2bLb"
      },
      "source": [
        "df_features = extract_features(graph, page_ranks)"
      ],
      "execution_count": 103,
      "outputs": []
    },
    {
      "cell_type": "code",
      "metadata": {
        "id": "hufbi9co46Xi",
        "outputId": "d8d7644a-fd19-4492-b83b-d9ab4f3af69b",
        "colab": {
          "base_uri": "https://localhost:8080/"
        }
      },
      "source": [
        "df_features.count()"
      ],
      "execution_count": 105,
      "outputs": [
        {
          "output_type": "execute_result",
          "data": {
            "text/plain": [
              "user_id         1630\n",
              "user_rank       1630\n",
              "۴ هفته پیش_A    1630\n",
              "۳ ماه پیش_B     1630\n",
              "دقایقی پیش_C    1630\n",
              "۶ روز پیش_A     1630\n",
              "ساعاتی پیش_B    1630\n",
              "۱ ماه پیش_A     1630\n",
              "ساعاتی پیش_C    1630\n",
              "۱ هفته پیش_C    1630\n",
              "۷ ماه پیش_C     1630\n",
              "۴ روز پیش_A     1630\n",
              "۵ روز پیش_B     1630\n",
              "۴ هفته پیش_B    1630\n",
              "۶ روز پیش_B     1630\n",
              "۵ روز پیش_C     1630\n",
              "۲ هفته پیش_A    1630\n",
              "ساعاتی پیش_A    1630\n",
              "۲ هفته پیش_C    1630\n",
              "۱ ماه پیش_B     1630\n",
              "۲ ماه پیش_C     1630\n",
              "۷ ماه پیش_B     1630\n",
              "دقایقی پیش_A    1630\n",
              "لحظاتی پیش_A    1630\n",
              "۱ روز پیش_A     1630\n",
              "۳ هفته پیش_A    1630\n",
              "دقایقی پیش_B    1630\n",
              "۴ ماه پیش_C     1630\n",
              "۵ ماه پیش_B     1630\n",
              "لحظاتی پیش_C    1630\n",
              "۱ ماه پیش_C     1630\n",
              "۱ روز پیش_C     1630\n",
              "۳ روز پیش_C     1630\n",
              "۱ هفته پیش_B    1630\n",
              "۳ روز پیش_A     1630\n",
              "۲ ماه پیش_A     1630\n",
              "۶ روز پیش_C     1630\n",
              "۴ ماه پیش_B     1630\n",
              "۳ هفته پیش_C    1630\n",
              "۲ روز پیش_C     1630\n",
              "۱ روز پیش_B     1630\n",
              "۴ ماه پیش_A     1630\n",
              "۵ ماه پیش_C     1630\n",
              "۲ هفته پیش_B    1630\n",
              "۳ روز پیش_B     1630\n",
              "۲ روز پیش_A     1630\n",
              "۴ روز پیش_B     1630\n",
              "۴ هفته پیش_C    1630\n",
              "۲ روز پیش_B     1630\n",
              "۳ هفته پیش_B    1630\n",
              "۶ ماه پیش_B     1630\n",
              "۱ هفته پیش_A    1630\n",
              "لحظاتی پیش_B    1630\n",
              "۲ ماه پیش_B     1630\n",
              "۱۱ ماه پیش_B    1630\n",
              "۱ سال پیش_B     1630\n",
              "۴ روز پیش_C     1630\n",
              "۵ روز پیش_A     1630\n",
              "dtype: int64"
            ]
          },
          "metadata": {
            "tags": []
          },
          "execution_count": 105
        }
      ]
    },
    {
      "cell_type": "code",
      "metadata": {
        "id": "mZVfStOMEDpL",
        "colab": {
          "base_uri": "https://localhost:8080/",
          "height": 49
        },
        "outputId": "9f911701-e4fb-480b-ce28-ed54dbf0d511"
      },
      "source": [
        "df[df.isnull().any(axis=1)]"
      ],
      "execution_count": null,
      "outputs": [
        {
          "output_type": "execute_result",
          "data": {
            "text/html": [
              "<div>\n",
              "<style scoped>\n",
              "    .dataframe tbody tr th:only-of-type {\n",
              "        vertical-align: middle;\n",
              "    }\n",
              "\n",
              "    .dataframe tbody tr th {\n",
              "        vertical-align: top;\n",
              "    }\n",
              "\n",
              "    .dataframe thead th {\n",
              "        text-align: right;\n",
              "    }\n",
              "</style>\n",
              "<table border=\"1\" class=\"dataframe\">\n",
              "  <thead>\n",
              "    <tr style=\"text-align: right;\">\n",
              "      <th></th>\n",
              "      <th>Unnamed: 0</th>\n",
              "      <th>userid</th>\n",
              "      <th>time</th>\n",
              "      <th>source</th>\n",
              "      <th>adstatus</th>\n",
              "      <th>item</th>\n",
              "      <th>count_views</th>\n",
              "    </tr>\n",
              "  </thead>\n",
              "  <tbody>\n",
              "  </tbody>\n",
              "</table>\n",
              "</div>"
            ],
            "text/plain": [
              "Empty DataFrame\n",
              "Columns: [Unnamed: 0, userid, time, source, adstatus, item, count_views]\n",
              "Index: []"
            ]
          },
          "metadata": {
            "tags": []
          },
          "execution_count": 8
        }
      ]
    },
    {
      "cell_type": "code",
      "metadata": {
        "id": "GQJYRnhzEG27",
        "colab": {
          "base_uri": "https://localhost:8080/"
        },
        "outputId": "38af96a9-280a-4d31-a6cc-a3039b55fbd6"
      },
      "source": [
        "df[\"adstatus\"].value_counts()"
      ],
      "execution_count": null,
      "outputs": [
        {
          "output_type": "execute_result",
          "data": {
            "text/plain": [
              "ساعاتی پیش    48208\n",
              "۱ روز پیش     18756\n",
              "۱ هفته پیش    15165\n",
              "دقایقی پیش    13422\n",
              "لحظاتی پیش    12156\n",
              "۲ روز پیش     11864\n",
              "۲ هفته پیش    10335\n",
              "۳ روز پیش      8621\n",
              "۳ هفته پیش     7908\n",
              "۴ روز پیش      6951\n",
              "۵ روز پیش      5864\n",
              "۶ روز پیش      4939\n",
              "۴ هفته پیش     2446\n",
              "۱ ماه پیش      1104\n",
              "۲ ماه پیش       688\n",
              "۷ ماه پیش       264\n",
              "۳ ماه پیش       232\n",
              "۴ ماه پیش       202\n",
              "۱ سال پیش       172\n",
              "۵ ماه پیش        84\n",
              "۶ ماه پیش        38\n",
              "۱۱ ماه پیش       25\n",
              "۱۰ ماه پیش       24\n",
              "۸ ماه پیش        24\n",
              "۹ ماه پیش        23\n",
              "Name: adstatus, dtype: int64"
            ]
          },
          "metadata": {
            "tags": []
          },
          "execution_count": 11
        }
      ]
    },
    {
      "cell_type": "code",
      "metadata": {
        "id": "D1n1XksROsUK",
        "colab": {
          "base_uri": "https://localhost:8080/",
          "height": 411
        },
        "outputId": "c96a84f5-af80-4d34-d860-43fd65589d46"
      },
      "source": [
        "pd.get_dummies(df, columns=[\"item\",\"adstatus\", \"source\"]).head()"
      ],
      "execution_count": null,
      "outputs": [
        {
          "output_type": "execute_result",
          "data": {
            "text/html": [
              "<div>\n",
              "<style scoped>\n",
              "    .dataframe tbody tr th:only-of-type {\n",
              "        vertical-align: middle;\n",
              "    }\n",
              "\n",
              "    .dataframe tbody tr th {\n",
              "        vertical-align: top;\n",
              "    }\n",
              "\n",
              "    .dataframe thead th {\n",
              "        text-align: right;\n",
              "    }\n",
              "</style>\n",
              "<table border=\"1\" class=\"dataframe\">\n",
              "  <thead>\n",
              "    <tr style=\"text-align: right;\">\n",
              "      <th></th>\n",
              "      <th>Unnamed: 0</th>\n",
              "      <th>userid</th>\n",
              "      <th>time</th>\n",
              "      <th>count_views</th>\n",
              "      <th>item_A</th>\n",
              "      <th>item_B</th>\n",
              "      <th>item_C</th>\n",
              "      <th>adstatus_دقایقی پیش</th>\n",
              "      <th>adstatus_ساعاتی پیش</th>\n",
              "      <th>adstatus_لحظاتی پیش</th>\n",
              "      <th>adstatus_۱ روز پیش</th>\n",
              "      <th>adstatus_۱ سال پیش</th>\n",
              "      <th>adstatus_۱ ماه پیش</th>\n",
              "      <th>adstatus_۱ هفته پیش</th>\n",
              "      <th>adstatus_۱۰ ماه پیش</th>\n",
              "      <th>adstatus_۱۱ ماه پیش</th>\n",
              "      <th>adstatus_۲ روز پیش</th>\n",
              "      <th>adstatus_۲ ماه پیش</th>\n",
              "      <th>adstatus_۲ هفته پیش</th>\n",
              "      <th>adstatus_۳ روز پیش</th>\n",
              "      <th>adstatus_۳ ماه پیش</th>\n",
              "      <th>adstatus_۳ هفته پیش</th>\n",
              "      <th>adstatus_۴ روز پیش</th>\n",
              "      <th>adstatus_۴ ماه پیش</th>\n",
              "      <th>adstatus_۴ هفته پیش</th>\n",
              "      <th>adstatus_۵ روز پیش</th>\n",
              "      <th>adstatus_۵ ماه پیش</th>\n",
              "      <th>adstatus_۶ روز پیش</th>\n",
              "      <th>adstatus_۶ ماه پیش</th>\n",
              "      <th>adstatus_۷ ماه پیش</th>\n",
              "      <th>adstatus_۸ ماه پیش</th>\n",
              "      <th>adstatus_۹ ماه پیش</th>\n",
              "      <th>source_Android</th>\n",
              "      <th>source_Chrome</th>\n",
              "    </tr>\n",
              "  </thead>\n",
              "  <tbody>\n",
              "    <tr>\n",
              "      <th>0</th>\n",
              "      <td>0</td>\n",
              "      <td>1274821301586/54e79450-bbee-4770-9e47-1d56e120...</td>\n",
              "      <td>2021-05-05 18:00:00.000</td>\n",
              "      <td>1</td>\n",
              "      <td>1</td>\n",
              "      <td>0</td>\n",
              "      <td>0</td>\n",
              "      <td>0</td>\n",
              "      <td>0</td>\n",
              "      <td>0</td>\n",
              "      <td>0</td>\n",
              "      <td>0</td>\n",
              "      <td>0</td>\n",
              "      <td>0</td>\n",
              "      <td>0</td>\n",
              "      <td>0</td>\n",
              "      <td>0</td>\n",
              "      <td>0</td>\n",
              "      <td>0</td>\n",
              "      <td>1</td>\n",
              "      <td>0</td>\n",
              "      <td>0</td>\n",
              "      <td>0</td>\n",
              "      <td>0</td>\n",
              "      <td>0</td>\n",
              "      <td>0</td>\n",
              "      <td>0</td>\n",
              "      <td>0</td>\n",
              "      <td>0</td>\n",
              "      <td>0</td>\n",
              "      <td>0</td>\n",
              "      <td>0</td>\n",
              "      <td>0</td>\n",
              "      <td>1</td>\n",
              "    </tr>\n",
              "    <tr>\n",
              "      <th>1</th>\n",
              "      <td>1</td>\n",
              "      <td>1274821301586/54e79450-bbee-4770-9e47-1d56e120...</td>\n",
              "      <td>2021-05-05 18:00:00.000</td>\n",
              "      <td>1</td>\n",
              "      <td>1</td>\n",
              "      <td>0</td>\n",
              "      <td>0</td>\n",
              "      <td>0</td>\n",
              "      <td>0</td>\n",
              "      <td>0</td>\n",
              "      <td>0</td>\n",
              "      <td>0</td>\n",
              "      <td>0</td>\n",
              "      <td>0</td>\n",
              "      <td>0</td>\n",
              "      <td>0</td>\n",
              "      <td>0</td>\n",
              "      <td>0</td>\n",
              "      <td>0</td>\n",
              "      <td>0</td>\n",
              "      <td>0</td>\n",
              "      <td>0</td>\n",
              "      <td>1</td>\n",
              "      <td>0</td>\n",
              "      <td>0</td>\n",
              "      <td>0</td>\n",
              "      <td>0</td>\n",
              "      <td>0</td>\n",
              "      <td>0</td>\n",
              "      <td>0</td>\n",
              "      <td>0</td>\n",
              "      <td>0</td>\n",
              "      <td>0</td>\n",
              "      <td>1</td>\n",
              "    </tr>\n",
              "    <tr>\n",
              "      <th>2</th>\n",
              "      <td>2</td>\n",
              "      <td>1325384907441/5e5766d8-46cb-480d-886a-7d557542...</td>\n",
              "      <td>2021-05-01 10:00:00.000</td>\n",
              "      <td>1</td>\n",
              "      <td>0</td>\n",
              "      <td>1</td>\n",
              "      <td>0</td>\n",
              "      <td>0</td>\n",
              "      <td>0</td>\n",
              "      <td>0</td>\n",
              "      <td>0</td>\n",
              "      <td>0</td>\n",
              "      <td>0</td>\n",
              "      <td>0</td>\n",
              "      <td>0</td>\n",
              "      <td>0</td>\n",
              "      <td>1</td>\n",
              "      <td>0</td>\n",
              "      <td>0</td>\n",
              "      <td>0</td>\n",
              "      <td>0</td>\n",
              "      <td>0</td>\n",
              "      <td>0</td>\n",
              "      <td>0</td>\n",
              "      <td>0</td>\n",
              "      <td>0</td>\n",
              "      <td>0</td>\n",
              "      <td>0</td>\n",
              "      <td>0</td>\n",
              "      <td>0</td>\n",
              "      <td>0</td>\n",
              "      <td>0</td>\n",
              "      <td>1</td>\n",
              "      <td>0</td>\n",
              "    </tr>\n",
              "    <tr>\n",
              "      <th>3</th>\n",
              "      <td>3</td>\n",
              "      <td>1325384907441/5e5766d8-46cb-480d-886a-7d557542...</td>\n",
              "      <td>2021-05-01 10:00:00.000</td>\n",
              "      <td>1</td>\n",
              "      <td>0</td>\n",
              "      <td>1</td>\n",
              "      <td>0</td>\n",
              "      <td>0</td>\n",
              "      <td>0</td>\n",
              "      <td>0</td>\n",
              "      <td>0</td>\n",
              "      <td>0</td>\n",
              "      <td>0</td>\n",
              "      <td>0</td>\n",
              "      <td>0</td>\n",
              "      <td>0</td>\n",
              "      <td>0</td>\n",
              "      <td>0</td>\n",
              "      <td>0</td>\n",
              "      <td>0</td>\n",
              "      <td>0</td>\n",
              "      <td>0</td>\n",
              "      <td>0</td>\n",
              "      <td>0</td>\n",
              "      <td>0</td>\n",
              "      <td>0</td>\n",
              "      <td>0</td>\n",
              "      <td>1</td>\n",
              "      <td>0</td>\n",
              "      <td>0</td>\n",
              "      <td>0</td>\n",
              "      <td>0</td>\n",
              "      <td>1</td>\n",
              "      <td>0</td>\n",
              "    </tr>\n",
              "    <tr>\n",
              "      <th>4</th>\n",
              "      <td>4</td>\n",
              "      <td>1337524499886/ad464731-6288-4e04-8a1a-aa9c004f...</td>\n",
              "      <td>2021-05-03 05:00:00.000</td>\n",
              "      <td>1</td>\n",
              "      <td>1</td>\n",
              "      <td>0</td>\n",
              "      <td>0</td>\n",
              "      <td>0</td>\n",
              "      <td>1</td>\n",
              "      <td>0</td>\n",
              "      <td>0</td>\n",
              "      <td>0</td>\n",
              "      <td>0</td>\n",
              "      <td>0</td>\n",
              "      <td>0</td>\n",
              "      <td>0</td>\n",
              "      <td>0</td>\n",
              "      <td>0</td>\n",
              "      <td>0</td>\n",
              "      <td>0</td>\n",
              "      <td>0</td>\n",
              "      <td>0</td>\n",
              "      <td>0</td>\n",
              "      <td>0</td>\n",
              "      <td>0</td>\n",
              "      <td>0</td>\n",
              "      <td>0</td>\n",
              "      <td>0</td>\n",
              "      <td>0</td>\n",
              "      <td>0</td>\n",
              "      <td>0</td>\n",
              "      <td>0</td>\n",
              "      <td>1</td>\n",
              "      <td>0</td>\n",
              "    </tr>\n",
              "  </tbody>\n",
              "</table>\n",
              "</div>"
            ],
            "text/plain": [
              "   Unnamed: 0  ... source_Chrome\n",
              "0           0  ...             1\n",
              "1           1  ...             1\n",
              "2           2  ...             0\n",
              "3           3  ...             0\n",
              "4           4  ...             0\n",
              "\n",
              "[5 rows x 34 columns]"
            ]
          },
          "metadata": {
            "tags": []
          },
          "execution_count": 13
        }
      ]
    },
    {
      "cell_type": "code",
      "metadata": {
        "id": "rcd3rIKGPL_K"
      },
      "source": [
        ""
      ],
      "execution_count": null,
      "outputs": []
    }
  ]
}