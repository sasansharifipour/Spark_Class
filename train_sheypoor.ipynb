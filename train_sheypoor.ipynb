{
  "nbformat": 4,
  "nbformat_minor": 0,
  "metadata": {
    "colab": {
      "name": "train_sheypoor.ipynb",
      "provenance": [],
      "authorship_tag": "ABX9TyO9WRbhT5Ax2u8lVQW4uHau",
      "include_colab_link": true
    },
    "kernelspec": {
      "name": "python3",
      "display_name": "Python 3"
    },
    "language_info": {
      "name": "python"
    }
  },
  "cells": [
    {
      "cell_type": "markdown",
      "metadata": {
        "id": "view-in-github",
        "colab_type": "text"
      },
      "source": [
        "<a href=\"https://colab.research.google.com/github/sasansharifipour/Spark_Class/blob/main/train_sheypoor.ipynb\" target=\"_parent\"><img src=\"https://colab.research.google.com/assets/colab-badge.svg\" alt=\"Open In Colab\"/></a>"
      ]
    },
    {
      "cell_type": "code",
      "metadata": {
        "colab": {
          "base_uri": "https://localhost:8080/"
        },
        "id": "TrVocg4ah7or",
        "outputId": "7b1282d8-83f5-48f1-bcf8-84855e95a48f"
      },
      "source": [
        "file_download_link = \"https://drive.google.com/u/0/uc?id=1K2a4mliN8l4aO1S8TWyn29EN25Y4WLlQ&export=download\" \n",
        "!wget -O data.csv --no-check-certificate \"$file_download_link\""
      ],
      "execution_count": 1,
      "outputs": [
        {
          "output_type": "stream",
          "text": [
            "--2021-05-19 05:13:10--  https://drive.google.com/u/0/uc?id=1K2a4mliN8l4aO1S8TWyn29EN25Y4WLlQ&export=download\n",
            "Resolving drive.google.com (drive.google.com)... 142.250.141.102, 142.250.141.113, 142.250.141.100, ...\n",
            "Connecting to drive.google.com (drive.google.com)|142.250.141.102|:443... connected.\n",
            "HTTP request sent, awaiting response... 302 Moved Temporarily\n",
            "Location: https://doc-0g-70-docs.googleusercontent.com/docs/securesc/ha0ro937gcuc7l7deffksulhg5h7mbp1/fdn927af9reg5v1e0e7usbb6qb6vnn39/1621401150000/14577798666193718332/*/1K2a4mliN8l4aO1S8TWyn29EN25Y4WLlQ?e=download [following]\n",
            "Warning: wildcards not supported in HTTP.\n",
            "--2021-05-19 05:13:12--  https://doc-0g-70-docs.googleusercontent.com/docs/securesc/ha0ro937gcuc7l7deffksulhg5h7mbp1/fdn927af9reg5v1e0e7usbb6qb6vnn39/1621401150000/14577798666193718332/*/1K2a4mliN8l4aO1S8TWyn29EN25Y4WLlQ?e=download\n",
            "Resolving doc-0g-70-docs.googleusercontent.com (doc-0g-70-docs.googleusercontent.com)... 142.250.141.132, 2607:f8b0:4023:c0b::84\n",
            "Connecting to doc-0g-70-docs.googleusercontent.com (doc-0g-70-docs.googleusercontent.com)|142.250.141.132|:443... connected.\n",
            "HTTP request sent, awaiting response... 200 OK\n",
            "Length: unspecified [text/csv]\n",
            "Saving to: ‘data.csv’\n",
            "\n",
            "data.csv                [    <=>             ]  18.12M  29.5MB/s    in 0.6s    \n",
            "\n",
            "2021-05-19 05:13:13 (29.5 MB/s) - ‘data.csv’ saved [19002465]\n",
            "\n"
          ],
          "name": "stdout"
        }
      ]
    },
    {
      "cell_type": "code",
      "metadata": {
        "id": "hDfE8VBNjFlb"
      },
      "source": [
        "import pandas as pd\n",
        "\n",
        "data = pd.read_csv('data.csv')\n",
        "\n",
        "df = pd.DataFrame(data)"
      ],
      "execution_count": 3,
      "outputs": []
    },
    {
      "cell_type": "code",
      "metadata": {
        "id": "402lExEDCbR9",
        "outputId": "4734cd7e-e072-45f1-b239-60092377c5f3",
        "colab": {
          "base_uri": "https://localhost:8080/",
          "height": 204
        }
      },
      "source": [
        "df.head()"
      ],
      "execution_count": 4,
      "outputs": [
        {
          "output_type": "execute_result",
          "data": {
            "text/html": [
              "<div>\n",
              "<style scoped>\n",
              "    .dataframe tbody tr th:only-of-type {\n",
              "        vertical-align: middle;\n",
              "    }\n",
              "\n",
              "    .dataframe tbody tr th {\n",
              "        vertical-align: top;\n",
              "    }\n",
              "\n",
              "    .dataframe thead th {\n",
              "        text-align: right;\n",
              "    }\n",
              "</style>\n",
              "<table border=\"1\" class=\"dataframe\">\n",
              "  <thead>\n",
              "    <tr style=\"text-align: right;\">\n",
              "      <th></th>\n",
              "      <th>Unnamed: 0</th>\n",
              "      <th>userid</th>\n",
              "      <th>time</th>\n",
              "      <th>source</th>\n",
              "      <th>adstatus</th>\n",
              "      <th>item</th>\n",
              "      <th>count_views</th>\n",
              "    </tr>\n",
              "  </thead>\n",
              "  <tbody>\n",
              "    <tr>\n",
              "      <th>0</th>\n",
              "      <td>0</td>\n",
              "      <td>1274821301586/54e79450-bbee-4770-9e47-1d56e120...</td>\n",
              "      <td>2021-05-05 18:00:00.000</td>\n",
              "      <td>Chrome</td>\n",
              "      <td>۳ روز پیش</td>\n",
              "      <td>A</td>\n",
              "      <td>1</td>\n",
              "    </tr>\n",
              "    <tr>\n",
              "      <th>1</th>\n",
              "      <td>1</td>\n",
              "      <td>1274821301586/54e79450-bbee-4770-9e47-1d56e120...</td>\n",
              "      <td>2021-05-05 18:00:00.000</td>\n",
              "      <td>Chrome</td>\n",
              "      <td>۴ روز پیش</td>\n",
              "      <td>A</td>\n",
              "      <td>1</td>\n",
              "    </tr>\n",
              "    <tr>\n",
              "      <th>2</th>\n",
              "      <td>2</td>\n",
              "      <td>1325384907441/5e5766d8-46cb-480d-886a-7d557542...</td>\n",
              "      <td>2021-05-01 10:00:00.000</td>\n",
              "      <td>Android</td>\n",
              "      <td>۲ روز پیش</td>\n",
              "      <td>B</td>\n",
              "      <td>1</td>\n",
              "    </tr>\n",
              "    <tr>\n",
              "      <th>3</th>\n",
              "      <td>3</td>\n",
              "      <td>1325384907441/5e5766d8-46cb-480d-886a-7d557542...</td>\n",
              "      <td>2021-05-01 10:00:00.000</td>\n",
              "      <td>Android</td>\n",
              "      <td>۶ روز پیش</td>\n",
              "      <td>B</td>\n",
              "      <td>1</td>\n",
              "    </tr>\n",
              "    <tr>\n",
              "      <th>4</th>\n",
              "      <td>4</td>\n",
              "      <td>1337524499886/ad464731-6288-4e04-8a1a-aa9c004f...</td>\n",
              "      <td>2021-05-03 05:00:00.000</td>\n",
              "      <td>Android</td>\n",
              "      <td>ساعاتی پیش</td>\n",
              "      <td>A</td>\n",
              "      <td>1</td>\n",
              "    </tr>\n",
              "  </tbody>\n",
              "</table>\n",
              "</div>"
            ],
            "text/plain": [
              "   Unnamed: 0  ... count_views\n",
              "0           0  ...           1\n",
              "1           1  ...           1\n",
              "2           2  ...           1\n",
              "3           3  ...           1\n",
              "4           4  ...           1\n",
              "\n",
              "[5 rows x 7 columns]"
            ]
          },
          "metadata": {
            "tags": []
          },
          "execution_count": 4
        }
      ]
    },
    {
      "cell_type": "code",
      "metadata": {
        "id": "mZVfStOMEDpL",
        "outputId": "9f911701-e4fb-480b-ce28-ed54dbf0d511",
        "colab": {
          "base_uri": "https://localhost:8080/",
          "height": 49
        }
      },
      "source": [
        "df[df.isnull().any(axis=1)]"
      ],
      "execution_count": 8,
      "outputs": [
        {
          "output_type": "execute_result",
          "data": {
            "text/html": [
              "<div>\n",
              "<style scoped>\n",
              "    .dataframe tbody tr th:only-of-type {\n",
              "        vertical-align: middle;\n",
              "    }\n",
              "\n",
              "    .dataframe tbody tr th {\n",
              "        vertical-align: top;\n",
              "    }\n",
              "\n",
              "    .dataframe thead th {\n",
              "        text-align: right;\n",
              "    }\n",
              "</style>\n",
              "<table border=\"1\" class=\"dataframe\">\n",
              "  <thead>\n",
              "    <tr style=\"text-align: right;\">\n",
              "      <th></th>\n",
              "      <th>Unnamed: 0</th>\n",
              "      <th>userid</th>\n",
              "      <th>time</th>\n",
              "      <th>source</th>\n",
              "      <th>adstatus</th>\n",
              "      <th>item</th>\n",
              "      <th>count_views</th>\n",
              "    </tr>\n",
              "  </thead>\n",
              "  <tbody>\n",
              "  </tbody>\n",
              "</table>\n",
              "</div>"
            ],
            "text/plain": [
              "Empty DataFrame\n",
              "Columns: [Unnamed: 0, userid, time, source, adstatus, item, count_views]\n",
              "Index: []"
            ]
          },
          "metadata": {
            "tags": []
          },
          "execution_count": 8
        }
      ]
    },
    {
      "cell_type": "code",
      "metadata": {
        "id": "GQJYRnhzEG27",
        "outputId": "38af96a9-280a-4d31-a6cc-a3039b55fbd6",
        "colab": {
          "base_uri": "https://localhost:8080/"
        }
      },
      "source": [
        "df[\"adstatus\"].value_counts()"
      ],
      "execution_count": 11,
      "outputs": [
        {
          "output_type": "execute_result",
          "data": {
            "text/plain": [
              "ساعاتی پیش    48208\n",
              "۱ روز پیش     18756\n",
              "۱ هفته پیش    15165\n",
              "دقایقی پیش    13422\n",
              "لحظاتی پیش    12156\n",
              "۲ روز پیش     11864\n",
              "۲ هفته پیش    10335\n",
              "۳ روز پیش      8621\n",
              "۳ هفته پیش     7908\n",
              "۴ روز پیش      6951\n",
              "۵ روز پیش      5864\n",
              "۶ روز پیش      4939\n",
              "۴ هفته پیش     2446\n",
              "۱ ماه پیش      1104\n",
              "۲ ماه پیش       688\n",
              "۷ ماه پیش       264\n",
              "۳ ماه پیش       232\n",
              "۴ ماه پیش       202\n",
              "۱ سال پیش       172\n",
              "۵ ماه پیش        84\n",
              "۶ ماه پیش        38\n",
              "۱۱ ماه پیش       25\n",
              "۱۰ ماه پیش       24\n",
              "۸ ماه پیش        24\n",
              "۹ ماه پیش        23\n",
              "Name: adstatus, dtype: int64"
            ]
          },
          "metadata": {
            "tags": []
          },
          "execution_count": 11
        }
      ]
    },
    {
      "cell_type": "code",
      "metadata": {
        "id": "D1n1XksROsUK",
        "outputId": "c96a84f5-af80-4d34-d860-43fd65589d46",
        "colab": {
          "base_uri": "https://localhost:8080/",
          "height": 411
        }
      },
      "source": [
        "pd.get_dummies(df, columns=[\"item\",\"adstatus\", \"source\"]).head()"
      ],
      "execution_count": 13,
      "outputs": [
        {
          "output_type": "execute_result",
          "data": {
            "text/html": [
              "<div>\n",
              "<style scoped>\n",
              "    .dataframe tbody tr th:only-of-type {\n",
              "        vertical-align: middle;\n",
              "    }\n",
              "\n",
              "    .dataframe tbody tr th {\n",
              "        vertical-align: top;\n",
              "    }\n",
              "\n",
              "    .dataframe thead th {\n",
              "        text-align: right;\n",
              "    }\n",
              "</style>\n",
              "<table border=\"1\" class=\"dataframe\">\n",
              "  <thead>\n",
              "    <tr style=\"text-align: right;\">\n",
              "      <th></th>\n",
              "      <th>Unnamed: 0</th>\n",
              "      <th>userid</th>\n",
              "      <th>time</th>\n",
              "      <th>count_views</th>\n",
              "      <th>item_A</th>\n",
              "      <th>item_B</th>\n",
              "      <th>item_C</th>\n",
              "      <th>adstatus_دقایقی پیش</th>\n",
              "      <th>adstatus_ساعاتی پیش</th>\n",
              "      <th>adstatus_لحظاتی پیش</th>\n",
              "      <th>adstatus_۱ روز پیش</th>\n",
              "      <th>adstatus_۱ سال پیش</th>\n",
              "      <th>adstatus_۱ ماه پیش</th>\n",
              "      <th>adstatus_۱ هفته پیش</th>\n",
              "      <th>adstatus_۱۰ ماه پیش</th>\n",
              "      <th>adstatus_۱۱ ماه پیش</th>\n",
              "      <th>adstatus_۲ روز پیش</th>\n",
              "      <th>adstatus_۲ ماه پیش</th>\n",
              "      <th>adstatus_۲ هفته پیش</th>\n",
              "      <th>adstatus_۳ روز پیش</th>\n",
              "      <th>adstatus_۳ ماه پیش</th>\n",
              "      <th>adstatus_۳ هفته پیش</th>\n",
              "      <th>adstatus_۴ روز پیش</th>\n",
              "      <th>adstatus_۴ ماه پیش</th>\n",
              "      <th>adstatus_۴ هفته پیش</th>\n",
              "      <th>adstatus_۵ روز پیش</th>\n",
              "      <th>adstatus_۵ ماه پیش</th>\n",
              "      <th>adstatus_۶ روز پیش</th>\n",
              "      <th>adstatus_۶ ماه پیش</th>\n",
              "      <th>adstatus_۷ ماه پیش</th>\n",
              "      <th>adstatus_۸ ماه پیش</th>\n",
              "      <th>adstatus_۹ ماه پیش</th>\n",
              "      <th>source_Android</th>\n",
              "      <th>source_Chrome</th>\n",
              "    </tr>\n",
              "  </thead>\n",
              "  <tbody>\n",
              "    <tr>\n",
              "      <th>0</th>\n",
              "      <td>0</td>\n",
              "      <td>1274821301586/54e79450-bbee-4770-9e47-1d56e120...</td>\n",
              "      <td>2021-05-05 18:00:00.000</td>\n",
              "      <td>1</td>\n",
              "      <td>1</td>\n",
              "      <td>0</td>\n",
              "      <td>0</td>\n",
              "      <td>0</td>\n",
              "      <td>0</td>\n",
              "      <td>0</td>\n",
              "      <td>0</td>\n",
              "      <td>0</td>\n",
              "      <td>0</td>\n",
              "      <td>0</td>\n",
              "      <td>0</td>\n",
              "      <td>0</td>\n",
              "      <td>0</td>\n",
              "      <td>0</td>\n",
              "      <td>0</td>\n",
              "      <td>1</td>\n",
              "      <td>0</td>\n",
              "      <td>0</td>\n",
              "      <td>0</td>\n",
              "      <td>0</td>\n",
              "      <td>0</td>\n",
              "      <td>0</td>\n",
              "      <td>0</td>\n",
              "      <td>0</td>\n",
              "      <td>0</td>\n",
              "      <td>0</td>\n",
              "      <td>0</td>\n",
              "      <td>0</td>\n",
              "      <td>0</td>\n",
              "      <td>1</td>\n",
              "    </tr>\n",
              "    <tr>\n",
              "      <th>1</th>\n",
              "      <td>1</td>\n",
              "      <td>1274821301586/54e79450-bbee-4770-9e47-1d56e120...</td>\n",
              "      <td>2021-05-05 18:00:00.000</td>\n",
              "      <td>1</td>\n",
              "      <td>1</td>\n",
              "      <td>0</td>\n",
              "      <td>0</td>\n",
              "      <td>0</td>\n",
              "      <td>0</td>\n",
              "      <td>0</td>\n",
              "      <td>0</td>\n",
              "      <td>0</td>\n",
              "      <td>0</td>\n",
              "      <td>0</td>\n",
              "      <td>0</td>\n",
              "      <td>0</td>\n",
              "      <td>0</td>\n",
              "      <td>0</td>\n",
              "      <td>0</td>\n",
              "      <td>0</td>\n",
              "      <td>0</td>\n",
              "      <td>0</td>\n",
              "      <td>1</td>\n",
              "      <td>0</td>\n",
              "      <td>0</td>\n",
              "      <td>0</td>\n",
              "      <td>0</td>\n",
              "      <td>0</td>\n",
              "      <td>0</td>\n",
              "      <td>0</td>\n",
              "      <td>0</td>\n",
              "      <td>0</td>\n",
              "      <td>0</td>\n",
              "      <td>1</td>\n",
              "    </tr>\n",
              "    <tr>\n",
              "      <th>2</th>\n",
              "      <td>2</td>\n",
              "      <td>1325384907441/5e5766d8-46cb-480d-886a-7d557542...</td>\n",
              "      <td>2021-05-01 10:00:00.000</td>\n",
              "      <td>1</td>\n",
              "      <td>0</td>\n",
              "      <td>1</td>\n",
              "      <td>0</td>\n",
              "      <td>0</td>\n",
              "      <td>0</td>\n",
              "      <td>0</td>\n",
              "      <td>0</td>\n",
              "      <td>0</td>\n",
              "      <td>0</td>\n",
              "      <td>0</td>\n",
              "      <td>0</td>\n",
              "      <td>0</td>\n",
              "      <td>1</td>\n",
              "      <td>0</td>\n",
              "      <td>0</td>\n",
              "      <td>0</td>\n",
              "      <td>0</td>\n",
              "      <td>0</td>\n",
              "      <td>0</td>\n",
              "      <td>0</td>\n",
              "      <td>0</td>\n",
              "      <td>0</td>\n",
              "      <td>0</td>\n",
              "      <td>0</td>\n",
              "      <td>0</td>\n",
              "      <td>0</td>\n",
              "      <td>0</td>\n",
              "      <td>0</td>\n",
              "      <td>1</td>\n",
              "      <td>0</td>\n",
              "    </tr>\n",
              "    <tr>\n",
              "      <th>3</th>\n",
              "      <td>3</td>\n",
              "      <td>1325384907441/5e5766d8-46cb-480d-886a-7d557542...</td>\n",
              "      <td>2021-05-01 10:00:00.000</td>\n",
              "      <td>1</td>\n",
              "      <td>0</td>\n",
              "      <td>1</td>\n",
              "      <td>0</td>\n",
              "      <td>0</td>\n",
              "      <td>0</td>\n",
              "      <td>0</td>\n",
              "      <td>0</td>\n",
              "      <td>0</td>\n",
              "      <td>0</td>\n",
              "      <td>0</td>\n",
              "      <td>0</td>\n",
              "      <td>0</td>\n",
              "      <td>0</td>\n",
              "      <td>0</td>\n",
              "      <td>0</td>\n",
              "      <td>0</td>\n",
              "      <td>0</td>\n",
              "      <td>0</td>\n",
              "      <td>0</td>\n",
              "      <td>0</td>\n",
              "      <td>0</td>\n",
              "      <td>0</td>\n",
              "      <td>0</td>\n",
              "      <td>1</td>\n",
              "      <td>0</td>\n",
              "      <td>0</td>\n",
              "      <td>0</td>\n",
              "      <td>0</td>\n",
              "      <td>1</td>\n",
              "      <td>0</td>\n",
              "    </tr>\n",
              "    <tr>\n",
              "      <th>4</th>\n",
              "      <td>4</td>\n",
              "      <td>1337524499886/ad464731-6288-4e04-8a1a-aa9c004f...</td>\n",
              "      <td>2021-05-03 05:00:00.000</td>\n",
              "      <td>1</td>\n",
              "      <td>1</td>\n",
              "      <td>0</td>\n",
              "      <td>0</td>\n",
              "      <td>0</td>\n",
              "      <td>1</td>\n",
              "      <td>0</td>\n",
              "      <td>0</td>\n",
              "      <td>0</td>\n",
              "      <td>0</td>\n",
              "      <td>0</td>\n",
              "      <td>0</td>\n",
              "      <td>0</td>\n",
              "      <td>0</td>\n",
              "      <td>0</td>\n",
              "      <td>0</td>\n",
              "      <td>0</td>\n",
              "      <td>0</td>\n",
              "      <td>0</td>\n",
              "      <td>0</td>\n",
              "      <td>0</td>\n",
              "      <td>0</td>\n",
              "      <td>0</td>\n",
              "      <td>0</td>\n",
              "      <td>0</td>\n",
              "      <td>0</td>\n",
              "      <td>0</td>\n",
              "      <td>0</td>\n",
              "      <td>0</td>\n",
              "      <td>1</td>\n",
              "      <td>0</td>\n",
              "    </tr>\n",
              "  </tbody>\n",
              "</table>\n",
              "</div>"
            ],
            "text/plain": [
              "   Unnamed: 0  ... source_Chrome\n",
              "0           0  ...             1\n",
              "1           1  ...             1\n",
              "2           2  ...             0\n",
              "3           3  ...             0\n",
              "4           4  ...             0\n",
              "\n",
              "[5 rows x 34 columns]"
            ]
          },
          "metadata": {
            "tags": []
          },
          "execution_count": 13
        }
      ]
    },
    {
      "cell_type": "code",
      "metadata": {
        "id": "rcd3rIKGPL_K"
      },
      "source": [
        ""
      ],
      "execution_count": null,
      "outputs": []
    }
  ]
}