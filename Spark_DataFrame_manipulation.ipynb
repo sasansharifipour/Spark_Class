{
  "nbformat": 4,
  "nbformat_minor": 0,
  "metadata": {
    "colab": {
      "name": "Spark_DataFrame_manipulation.ipynb",
      "provenance": [],
      "authorship_tag": "ABX9TyOIvtnqSAawuVhacBeX8FwF",
      "include_colab_link": true
    },
    "kernelspec": {
      "name": "python3",
      "display_name": "Python 3"
    }
  },
  "cells": [
    {
      "cell_type": "markdown",
      "metadata": {
        "id": "view-in-github",
        "colab_type": "text"
      },
      "source": [
        "<a href=\"https://colab.research.google.com/github/sasansharifipour/Spark_Class/blob/main/Spark_DataFrame_manipulation.ipynb\" target=\"_parent\"><img src=\"https://colab.research.google.com/assets/colab-badge.svg\" alt=\"Open In Colab\"/></a>"
      ]
    },
    {
      "cell_type": "code",
      "metadata": {
        "id": "cb8MfXW_26Bi"
      },
      "source": [
        "!apt-get install openjdk-8-jdk-headless -qq > /dev/null\r\n",
        "!wget -q https://downloads.apache.org/spark/spark-3.0.1/spark-3.0.1-bin-hadoop2.7.tgz\r\n",
        "!tar xf spark-3.0.1-bin-hadoop2.7.tgz\r\n",
        "!pip install -q findspark\r\n",
        "\r\n",
        "import os\r\n",
        "os.environ[\"JAVA_HOME\"] = \"/usr/lib/jvm/java-8-openjdk-amd64\"\r\n",
        "os.environ[\"SPARK_HOME\"] = \"/content/spark-3.0.1-bin-hadoop2.7\"\r\n",
        "\r\n",
        "import findspark\r\n",
        "findspark.init()"
      ],
      "execution_count": 1,
      "outputs": []
    },
    {
      "cell_type": "code",
      "metadata": {
        "id": "1iqk2DfW3D4x"
      },
      "source": [
        "import pyspark"
      ],
      "execution_count": 2,
      "outputs": []
    },
    {
      "cell_type": "code",
      "metadata": {
        "id": "3yLJSUQi3GIh"
      },
      "source": [
        "from pyspark.sql import SparkSession\r\n",
        "sc = pyspark.SparkContext(appName=\"Col_manipulation\")"
      ],
      "execution_count": 3,
      "outputs": []
    },
    {
      "cell_type": "code",
      "metadata": {
        "id": "gJhxPnKI3Mhw"
      },
      "source": [
        "spark = SparkSession.builder.getOrCreate()"
      ],
      "execution_count": 4,
      "outputs": []
    },
    {
      "cell_type": "code",
      "metadata": {
        "id": "hO6xbz5f3Qu5"
      },
      "source": [
        "import pyspark.sql.functions as F\r\n",
        "from pyspark.sql.types import StructType, StructField, StringType, IntegerType"
      ],
      "execution_count": 5,
      "outputs": []
    },
    {
      "cell_type": "code",
      "metadata": {
        "id": "5nQbF-Ry3UA4"
      },
      "source": [
        "data = [('patty','spring', 'baseball', 64),\r\n",
        "        ('patty','autumn', 'soccer', 78),\r\n",
        "        ('matty', 'autumn', 'hockey', 90),\r\n",
        "        ('matty', 'spring', 'soccer', 64),\r\n",
        "        ('cathy', 'spring', 'baseball', 100),\r\n",
        "        ('cathy', 'autumn', 'hockey', 78),\r\n",
        "        ('sandy', 'autumn', 'soccer', 50),\r\n",
        "        ('joey', 'summer', 'soccer', 73),\r\n",
        "        ('tammy', 'spring', 'soccer', 86),\r\n",
        "        ('marley', 'autumn', 'hockey', 100) ]"
      ],
      "execution_count": 24,
      "outputs": []
    },
    {
      "cell_type": "code",
      "metadata": {
        "id": "T3nHh2e43WSJ"
      },
      "source": [
        "# Create an rdd\r\n",
        "rdd = sc.parallelize(data)"
      ],
      "execution_count": 25,
      "outputs": []
    },
    {
      "cell_type": "code",
      "metadata": {
        "id": "K8jsvyvC3YxY"
      },
      "source": [
        "# create a dataframe from an rdd and name the columns\r\n",
        "df = spark.createDataFrame(rdd, ['player', 'season', 'sport', 'ranking'])"
      ],
      "execution_count": 26,
      "outputs": []
    },
    {
      "cell_type": "code",
      "metadata": {
        "colab": {
          "base_uri": "https://localhost:8080/"
        },
        "id": "vMDIUpm53fqA",
        "outputId": "edacf7b2-9819-481c-ccdb-cb03ec499ec1"
      },
      "source": [
        "df.show()"
      ],
      "execution_count": 27,
      "outputs": [
        {
          "output_type": "stream",
          "text": [
            "+------+------+--------+-------+\n",
            "|player|season|   sport|ranking|\n",
            "+------+------+--------+-------+\n",
            "| patty|spring|baseball|     64|\n",
            "| patty|autumn|  soccer|     78|\n",
            "| matty|autumn|  hockey|     90|\n",
            "| matty|spring|  soccer|     64|\n",
            "| cathy|spring|baseball|    100|\n",
            "| cathy|autumn|  hockey|     78|\n",
            "| sandy|autumn|  soccer|     50|\n",
            "|  joey|summer|  soccer|     73|\n",
            "| tammy|spring|  soccer|     86|\n",
            "|marley|autumn|  hockey|    100|\n",
            "+------+------+--------+-------+\n",
            "\n"
          ],
          "name": "stdout"
        }
      ]
    },
    {
      "cell_type": "code",
      "metadata": {
        "colab": {
          "base_uri": "https://localhost:8080/"
        },
        "id": "s5xLYI7A3j_Q",
        "outputId": "bc93000f-a275-4cf0-ae5e-eefad627382e"
      },
      "source": [
        "# Show average (mean) ranking\r\n",
        "df.agg({'ranking' : 'avg'}).show()"
      ],
      "execution_count": 28,
      "outputs": [
        {
          "output_type": "stream",
          "text": [
            "+------------+\n",
            "|avg(ranking)|\n",
            "+------------+\n",
            "|        78.3|\n",
            "+------------+\n",
            "\n"
          ],
          "name": "stdout"
        }
      ]
    },
    {
      "cell_type": "code",
      "metadata": {
        "colab": {
          "base_uri": "https://localhost:8080/"
        },
        "id": "0MkidUZS3tXX",
        "outputId": "276a36cd-63d9-4c42-be30-ea201f6bb5cd"
      },
      "source": [
        "# Show average (mean) ranking\r\n",
        "df.agg({'ranking' : 'sum'}).show()"
      ],
      "execution_count": 29,
      "outputs": [
        {
          "output_type": "stream",
          "text": [
            "+------------+\n",
            "|sum(ranking)|\n",
            "+------------+\n",
            "|         783|\n",
            "+------------+\n",
            "\n"
          ],
          "name": "stdout"
        }
      ]
    },
    {
      "cell_type": "code",
      "metadata": {
        "colab": {
          "base_uri": "https://localhost:8080/"
        },
        "id": "mY6o9ls336jY",
        "outputId": "c1a982e2-6de5-43cf-dc43-ec8178319cea"
      },
      "source": [
        "# Show average (mean) ranking\r\n",
        "df.agg({'ranking' : 'min'}).show()"
      ],
      "execution_count": 38,
      "outputs": [
        {
          "output_type": "stream",
          "text": [
            "+------------+\n",
            "|min(ranking)|\n",
            "+------------+\n",
            "|          50|\n",
            "+------------+\n",
            "\n"
          ],
          "name": "stdout"
        }
      ]
    },
    {
      "cell_type": "code",
      "metadata": {
        "colab": {
          "base_uri": "https://localhost:8080/"
        },
        "id": "i8dHefE638zg",
        "outputId": "fe6f21df-6a82-4f0b-b81e-7c476873c2fd"
      },
      "source": [
        "# Show average (mean) ranking\r\n",
        "df.agg({'ranking' : 'max'}).show()"
      ],
      "execution_count": 31,
      "outputs": [
        {
          "output_type": "stream",
          "text": [
            "+------------+\n",
            "|max(ranking)|\n",
            "+------------+\n",
            "|         100|\n",
            "+------------+\n",
            "\n"
          ],
          "name": "stdout"
        }
      ]
    },
    {
      "cell_type": "code",
      "metadata": {
        "colab": {
          "base_uri": "https://localhost:8080/"
        },
        "id": "Zzv16p9J3_L3",
        "outputId": "b1dd898f-562d-401c-8fbc-35da41ba9c58"
      },
      "source": [
        "# Show average (mean) ranking\r\n",
        "df.agg({'ranking' : 'stddev'}).show()"
      ],
      "execution_count": 32,
      "outputs": [
        {
          "output_type": "stream",
          "text": [
            "+------------------+\n",
            "|   stddev(ranking)|\n",
            "+------------------+\n",
            "|16.248418726482623|\n",
            "+------------------+\n",
            "\n"
          ],
          "name": "stdout"
        }
      ]
    },
    {
      "cell_type": "code",
      "metadata": {
        "colab": {
          "base_uri": "https://localhost:8080/"
        },
        "id": "rnA2lSg84BSv",
        "outputId": "fbd1e74a-2f59-482b-f9ac-9aedbbffc62b"
      },
      "source": [
        "# Show average (mean) ranking\r\n",
        "df.agg({'ranking' : 'variance'}).show()"
      ],
      "execution_count": 33,
      "outputs": [
        {
          "output_type": "stream",
          "text": [
            "+-----------------+\n",
            "|variance(ranking)|\n",
            "+-----------------+\n",
            "|264.0111111111111|\n",
            "+-----------------+\n",
            "\n"
          ],
          "name": "stdout"
        }
      ]
    },
    {
      "cell_type": "code",
      "metadata": {
        "colab": {
          "base_uri": "https://localhost:8080/"
        },
        "id": "iX1XoCWt4IKf",
        "outputId": "1f354c70-c0ab-4ab9-df9e-54c0030afaa8"
      },
      "source": [
        "# Show average (mean) ranking\r\n",
        "df.agg({'ranking' : 'count'}).show()"
      ],
      "execution_count": 39,
      "outputs": [
        {
          "output_type": "stream",
          "text": [
            "+--------------+\n",
            "|count(ranking)|\n",
            "+--------------+\n",
            "|            10|\n",
            "+--------------+\n",
            "\n"
          ],
          "name": "stdout"
        }
      ]
    },
    {
      "cell_type": "code",
      "metadata": {
        "colab": {
          "base_uri": "https://localhost:8080/"
        },
        "id": "E9WZKKCL4LDo",
        "outputId": "2ced1a21-bc40-4b06-bc60-1196cd0e279c"
      },
      "source": [
        "# Show the mean, min, max for ranking\r\n",
        "df.agg( F.mean(df.ranking).alias('mean'),\r\n",
        "       F.min(df.ranking).alias('min'),\r\n",
        "       F.max(df.ranking).alias('max')).show()"
      ],
      "execution_count": 40,
      "outputs": [
        {
          "output_type": "stream",
          "text": [
            "+----+---+---+\n",
            "|mean|min|max|\n",
            "+----+---+---+\n",
            "|78.3| 50|100|\n",
            "+----+---+---+\n",
            "\n"
          ],
          "name": "stdout"
        }
      ]
    },
    {
      "cell_type": "code",
      "metadata": {
        "colab": {
          "base_uri": "https://localhost:8080/"
        },
        "id": "r1zfic8V4U04",
        "outputId": "9cf16350-9563-46b0-d0bc-bb99604a4905"
      },
      "source": [
        "df.groupby('player').agg({'ranking':'mean','sport':'count'}).show()"
      ],
      "execution_count": 53,
      "outputs": [
        {
          "output_type": "stream",
          "text": [
            "+------+------------+------------+\n",
            "|player|avg(ranking)|count(sport)|\n",
            "+------+------------+------------+\n",
            "|marley|       100.0|           1|\n",
            "| sandy|        50.0|           1|\n",
            "|  joey|        73.0|           1|\n",
            "| tammy|        86.0|           1|\n",
            "| cathy|        89.0|           2|\n",
            "| matty|        77.0|           2|\n",
            "| patty|        71.0|           2|\n",
            "+------+------------+------------+\n",
            "\n"
          ],
          "name": "stdout"
        }
      ]
    },
    {
      "cell_type": "code",
      "metadata": {
        "id": "NkQAK0fc5Rfg"
      },
      "source": [
        "meta = [('patty', 'community', 25),\r\n",
        "        ('matty', 'college', 35),\r\n",
        "        ('cathy','community', 40),\r\n",
        "        ('sandy', 'college', 60),\r\n",
        "        ('joey', 'community', 55),\r\n",
        "        ('tammy', 'college', 23),\r\n",
        "        ('marley', 'community', 45)]"
      ],
      "execution_count": 44,
      "outputs": []
    },
    {
      "cell_type": "code",
      "metadata": {
        "id": "Q1TbMMi658WP"
      },
      "source": [
        "# create schema\r\n",
        "schema = StructType([\r\n",
        "                     StructField('player', StringType(), True),\r\n",
        "                     StructField('league', StringType(), True),\r\n",
        "                     StructField('age', IntegerType(), True)])"
      ],
      "execution_count": 48,
      "outputs": []
    },
    {
      "cell_type": "code",
      "metadata": {
        "id": "80HJrNzoCFtm"
      },
      "source": [
        "df_meta = spark.createDataFrame(meta, schema)"
      ],
      "execution_count": 49,
      "outputs": []
    },
    {
      "cell_type": "code",
      "metadata": {
        "colab": {
          "base_uri": "https://localhost:8080/"
        },
        "id": "_BjMpl-eCaOV",
        "outputId": "1d9b9d02-552c-4ba4-fb79-2a56629761d9"
      },
      "source": [
        "df_meta.printSchema()"
      ],
      "execution_count": 50,
      "outputs": [
        {
          "output_type": "stream",
          "text": [
            "root\n",
            " |-- player: string (nullable = true)\n",
            " |-- league: string (nullable = true)\n",
            " |-- age: integer (nullable = true)\n",
            "\n"
          ],
          "name": "stdout"
        }
      ]
    },
    {
      "cell_type": "code",
      "metadata": {
        "colab": {
          "base_uri": "https://localhost:8080/"
        },
        "id": "6UKTuCFECc4m",
        "outputId": "b0f5d96b-a59f-41fd-b48b-5e8758ec7a7c"
      },
      "source": [
        "df_meta.show()"
      ],
      "execution_count": 51,
      "outputs": [
        {
          "output_type": "stream",
          "text": [
            "+------+---------+---+\n",
            "|player|   league|age|\n",
            "+------+---------+---+\n",
            "| patty|community| 25|\n",
            "| matty|  college| 35|\n",
            "| cathy|community| 40|\n",
            "| sandy|  college| 60|\n",
            "|  joey|community| 55|\n",
            "| tammy|  college| 23|\n",
            "|marley|community| 45|\n",
            "+------+---------+---+\n",
            "\n"
          ],
          "name": "stdout"
        }
      ]
    },
    {
      "cell_type": "code",
      "metadata": {
        "colab": {
          "base_uri": "https://localhost:8080/"
        },
        "id": "Ja5eHfAPChCO",
        "outputId": "5d76d8ff-76dd-4d12-d664-30ec02ae8cea"
      },
      "source": [
        "#inner join\r\n",
        "\r\n",
        "df.join(df_meta, on='player', how='inner').show()"
      ],
      "execution_count": 54,
      "outputs": [
        {
          "output_type": "stream",
          "text": [
            "+------+------+--------+-------+---------+---+\n",
            "|player|season|   sport|ranking|   league|age|\n",
            "+------+------+--------+-------+---------+---+\n",
            "|marley|autumn|  hockey|    100|community| 45|\n",
            "| sandy|autumn|  soccer|     50|  college| 60|\n",
            "|  joey|summer|  soccer|     73|community| 55|\n",
            "| tammy|spring|  soccer|     86|  college| 23|\n",
            "| cathy|spring|baseball|    100|community| 40|\n",
            "| cathy|autumn|  hockey|     78|community| 40|\n",
            "| matty|autumn|  hockey|     90|  college| 35|\n",
            "| matty|spring|  soccer|     64|  college| 35|\n",
            "| patty|spring|baseball|     64|community| 25|\n",
            "| patty|autumn|  soccer|     78|community| 25|\n",
            "+------+------+--------+-------+---------+---+\n",
            "\n"
          ],
          "name": "stdout"
        }
      ]
    },
    {
      "cell_type": "code",
      "metadata": {
        "colab": {
          "base_uri": "https://localhost:8080/"
        },
        "id": "E7XDfo8ZCxGm",
        "outputId": "49e87139-9b8e-46f2-c002-b2c1c6a77094"
      },
      "source": [
        "#left outer join\r\n",
        "\r\n",
        "df_full = df.join(df_meta, on = 'player', how='leftouter')\r\n",
        "df_full.show()"
      ],
      "execution_count": 55,
      "outputs": [
        {
          "output_type": "stream",
          "text": [
            "+------+------+--------+-------+---------+---+\n",
            "|player|season|   sport|ranking|   league|age|\n",
            "+------+------+--------+-------+---------+---+\n",
            "|marley|autumn|  hockey|    100|community| 45|\n",
            "| sandy|autumn|  soccer|     50|  college| 60|\n",
            "|  joey|summer|  soccer|     73|community| 55|\n",
            "| tammy|spring|  soccer|     86|  college| 23|\n",
            "| cathy|spring|baseball|    100|community| 40|\n",
            "| cathy|autumn|  hockey|     78|community| 40|\n",
            "| matty|autumn|  hockey|     90|  college| 35|\n",
            "| matty|spring|  soccer|     64|  college| 35|\n",
            "| patty|spring|baseball|     64|community| 25|\n",
            "| patty|autumn|  soccer|     78|community| 25|\n",
            "+------+------+--------+-------+---------+---+\n",
            "\n"
          ],
          "name": "stdout"
        }
      ]
    },
    {
      "cell_type": "code",
      "metadata": {
        "colab": {
          "base_uri": "https://localhost:8080/"
        },
        "id": "HozMH00fD-BF",
        "outputId": "c9ccd477-723a-4cf0-bb02-090243cbf220"
      },
      "source": [
        "df_full.printSchema()"
      ],
      "execution_count": 57,
      "outputs": [
        {
          "output_type": "stream",
          "text": [
            "root\n",
            " |-- player: string (nullable = true)\n",
            " |-- season: string (nullable = true)\n",
            " |-- sport: string (nullable = true)\n",
            " |-- ranking: long (nullable = true)\n",
            " |-- league: string (nullable = true)\n",
            " |-- age: integer (nullable = true)\n",
            "\n"
          ],
          "name": "stdout"
        }
      ]
    },
    {
      "cell_type": "code",
      "metadata": {
        "colab": {
          "base_uri": "https://localhost:8080/"
        },
        "id": "NjXpnUauDUAV",
        "outputId": "e5a645c8-7a67-402f-abc6-f055c2ee21bf"
      },
      "source": [
        "df_full.groupby('league').mean().show()"
      ],
      "execution_count": 58,
      "outputs": [
        {
          "output_type": "stream",
          "text": [
            "+---------+-----------------+------------------+\n",
            "|   league|     avg(ranking)|          avg(age)|\n",
            "+---------+-----------------+------------------+\n",
            "|  college|             72.5|             38.25|\n",
            "|community|82.16666666666667|38.333333333333336|\n",
            "+---------+-----------------+------------------+\n",
            "\n"
          ],
          "name": "stdout"
        }
      ]
    },
    {
      "cell_type": "code",
      "metadata": {
        "colab": {
          "base_uri": "https://localhost:8080/"
        },
        "id": "cm2hT10TD3r9",
        "outputId": "d3fac44e-0753-4483-d2d4-a0682c4e3567"
      },
      "source": [
        "df_full.groupby('league').min().show()"
      ],
      "execution_count": 60,
      "outputs": [
        {
          "output_type": "stream",
          "text": [
            "+---------+------------+--------+\n",
            "|   league|min(ranking)|min(age)|\n",
            "+---------+------------+--------+\n",
            "|  college|          50|      23|\n",
            "|community|          64|      25|\n",
            "+---------+------------+--------+\n",
            "\n"
          ],
          "name": "stdout"
        }
      ]
    },
    {
      "cell_type": "code",
      "metadata": {
        "colab": {
          "base_uri": "https://localhost:8080/"
        },
        "id": "KIml5fZCESEt",
        "outputId": "d6a4284d-9932-4a2b-d79b-2f71ab860b04"
      },
      "source": [
        "df_full.groupby('league').pivot('sport').agg(F.mean('age')).show()"
      ],
      "execution_count": 61,
      "outputs": [
        {
          "output_type": "stream",
          "text": [
            "+---------+--------+------+------------------+\n",
            "|   league|baseball|hockey|            soccer|\n",
            "+---------+--------+------+------------------+\n",
            "|  college|    null|  35.0|39.333333333333336|\n",
            "|community|    32.5|  42.5|              40.0|\n",
            "+---------+--------+------+------------------+\n",
            "\n"
          ],
          "name": "stdout"
        }
      ]
    },
    {
      "cell_type": "code",
      "metadata": {
        "colab": {
          "base_uri": "https://localhost:8080/"
        },
        "id": "aNOU3qeiEoyt",
        "outputId": "71f4bd75-0e7e-47a9-8b41-0b823c78f068"
      },
      "source": [
        "df_full.groupby('league').pivot('season').agg(F.mean('age')).show()"
      ],
      "execution_count": 64,
      "outputs": [
        {
          "output_type": "stream",
          "text": [
            "+---------+------------------+------+------+\n",
            "|   league|            autumn|spring|summer|\n",
            "+---------+------------------+------+------+\n",
            "|  college|              47.5|  29.0|  null|\n",
            "|community|36.666666666666664|  32.5|  55.0|\n",
            "+---------+------------------+------+------+\n",
            "\n"
          ],
          "name": "stdout"
        }
      ]
    },
    {
      "cell_type": "code",
      "metadata": {
        "id": "4QRLCvMrEy_d"
      },
      "source": [
        ""
      ],
      "execution_count": null,
      "outputs": []
    }
  ]
}