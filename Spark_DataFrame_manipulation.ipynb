{
  "nbformat": 4,
  "nbformat_minor": 0,
  "metadata": {
    "colab": {
      "name": "Spark_DataFrame_manipulation.ipynb",
      "provenance": [],
      "authorship_tag": "ABX9TyMwXaqD0OjhAfR1PqNBUsYb",
      "include_colab_link": true
    },
    "kernelspec": {
      "name": "python3",
      "display_name": "Python 3"
    }
  },
  "cells": [
    {
      "cell_type": "markdown",
      "metadata": {
        "id": "view-in-github",
        "colab_type": "text"
      },
      "source": [
        "<a href=\"https://colab.research.google.com/github/sasansharifipour/Spark_Class/blob/main/Spark_DataFrame_manipulation.ipynb\" target=\"_parent\"><img src=\"https://colab.research.google.com/assets/colab-badge.svg\" alt=\"Open In Colab\"/></a>"
      ]
    },
    {
      "cell_type": "code",
      "metadata": {
        "id": "cb8MfXW_26Bi"
      },
      "source": [
        "!apt-get install openjdk-8-jdk-headless -qq > /dev/null\r\n",
        "!wget -q https://downloads.apache.org/spark/spark-3.0.1/spark-3.0.1-bin-hadoop2.7.tgz\r\n",
        "!tar xf spark-3.0.1-bin-hadoop2.7.tgz\r\n",
        "!pip install -q findspark\r\n",
        "\r\n",
        "import os\r\n",
        "os.environ[\"JAVA_HOME\"] = \"/usr/lib/jvm/java-8-openjdk-amd64\"\r\n",
        "os.environ[\"SPARK_HOME\"] = \"/content/spark-3.0.1-bin-hadoop2.7\"\r\n",
        "\r\n",
        "import findspark\r\n",
        "findspark.init()"
      ],
      "execution_count": 1,
      "outputs": []
    },
    {
      "cell_type": "code",
      "metadata": {
        "id": "1iqk2DfW3D4x"
      },
      "source": [
        "import pyspark"
      ],
      "execution_count": 2,
      "outputs": []
    },
    {
      "cell_type": "code",
      "metadata": {
        "id": "3yLJSUQi3GIh"
      },
      "source": [
        "from pyspark.sql import SparkSession\r\n",
        "sc = pyspark.SparkContext(appName=\"Col_manipulation\")"
      ],
      "execution_count": 3,
      "outputs": []
    },
    {
      "cell_type": "code",
      "metadata": {
        "id": "gJhxPnKI3Mhw"
      },
      "source": [
        "spark = SparkSession.builder.getOrCreate()"
      ],
      "execution_count": 4,
      "outputs": []
    },
    {
      "cell_type": "code",
      "metadata": {
        "id": "hO6xbz5f3Qu5"
      },
      "source": [
        "import pyspark.sql.functions as F\r\n",
        "from pyspark.sql.types import StructType, StructField, StringType, IntegerType"
      ],
      "execution_count": 5,
      "outputs": []
    },
    {
      "cell_type": "code",
      "metadata": {
        "id": "5nQbF-Ry3UA4"
      },
      "source": [
        "data = [('patty','spring', 'baseball', 64),\r\n",
        "        ('patty','autumn', 'soccer', 78),\r\n",
        "        ('matty', 'autumn', 'hockey', 90),\r\n",
        "        ('matty', 'spring', 'soccer', 64),\r\n",
        "        ('cathy', 'spring', 'baseball', 100),\r\n",
        "        ('cathy', 'autumn', 'hockey', 78),\r\n",
        "        ('sandy', 'autumn', 'soccer', 50),\r\n",
        "        ('joey', 'summer', 'soccer', 73),\r\n",
        "        ('tammy', 'spring', 'soccer', 86),\r\n",
        "        ('marley', 'autumn', 'hockey', 100) ]"
      ],
      "execution_count": 24,
      "outputs": []
    },
    {
      "cell_type": "code",
      "metadata": {
        "id": "T3nHh2e43WSJ"
      },
      "source": [
        "# Create an rdd\r\n",
        "rdd = sc.parallelize(data)"
      ],
      "execution_count": 25,
      "outputs": []
    },
    {
      "cell_type": "code",
      "metadata": {
        "id": "K8jsvyvC3YxY"
      },
      "source": [
        "# create a dataframe from an rdd and name the columns\r\n",
        "df = spark.createDataFrame(rdd, ['player', 'season', 'sport', 'ranking'])"
      ],
      "execution_count": 26,
      "outputs": []
    },
    {
      "cell_type": "code",
      "metadata": {
        "colab": {
          "base_uri": "https://localhost:8080/"
        },
        "id": "vMDIUpm53fqA",
        "outputId": "edacf7b2-9819-481c-ccdb-cb03ec499ec1"
      },
      "source": [
        "df.show()"
      ],
      "execution_count": 27,
      "outputs": [
        {
          "output_type": "stream",
          "text": [
            "+------+------+--------+-------+\n",
            "|player|season|   sport|ranking|\n",
            "+------+------+--------+-------+\n",
            "| patty|spring|baseball|     64|\n",
            "| patty|autumn|  soccer|     78|\n",
            "| matty|autumn|  hockey|     90|\n",
            "| matty|spring|  soccer|     64|\n",
            "| cathy|spring|baseball|    100|\n",
            "| cathy|autumn|  hockey|     78|\n",
            "| sandy|autumn|  soccer|     50|\n",
            "|  joey|summer|  soccer|     73|\n",
            "| tammy|spring|  soccer|     86|\n",
            "|marley|autumn|  hockey|    100|\n",
            "+------+------+--------+-------+\n",
            "\n"
          ],
          "name": "stdout"
        }
      ]
    },
    {
      "cell_type": "code",
      "metadata": {
        "colab": {
          "base_uri": "https://localhost:8080/"
        },
        "id": "s5xLYI7A3j_Q",
        "outputId": "bc93000f-a275-4cf0-ae5e-eefad627382e"
      },
      "source": [
        "# Show average (mean) ranking\r\n",
        "df.agg({'ranking' : 'avg'}).show()"
      ],
      "execution_count": 28,
      "outputs": [
        {
          "output_type": "stream",
          "text": [
            "+------------+\n",
            "|avg(ranking)|\n",
            "+------------+\n",
            "|        78.3|\n",
            "+------------+\n",
            "\n"
          ],
          "name": "stdout"
        }
      ]
    },
    {
      "cell_type": "code",
      "metadata": {
        "colab": {
          "base_uri": "https://localhost:8080/"
        },
        "id": "0MkidUZS3tXX",
        "outputId": "276a36cd-63d9-4c42-be30-ea201f6bb5cd"
      },
      "source": [
        "# Show average (mean) ranking\r\n",
        "df.agg({'ranking' : 'sum'}).show()"
      ],
      "execution_count": 29,
      "outputs": [
        {
          "output_type": "stream",
          "text": [
            "+------------+\n",
            "|sum(ranking)|\n",
            "+------------+\n",
            "|         783|\n",
            "+------------+\n",
            "\n"
          ],
          "name": "stdout"
        }
      ]
    },
    {
      "cell_type": "code",
      "metadata": {
        "colab": {
          "base_uri": "https://localhost:8080/"
        },
        "id": "mY6o9ls336jY",
        "outputId": "98d4bb50-8663-4897-89c5-dc59f1306cec"
      },
      "source": [
        "# Show average (mean) ranking\r\n",
        "df.agg({'ranking' : 'min'}).show()"
      ],
      "execution_count": 30,
      "outputs": [
        {
          "output_type": "stream",
          "text": [
            "+------------+\n",
            "|min(ranking)|\n",
            "+------------+\n",
            "|          50|\n",
            "+------------+\n",
            "\n"
          ],
          "name": "stdout"
        }
      ]
    },
    {
      "cell_type": "code",
      "metadata": {
        "colab": {
          "base_uri": "https://localhost:8080/"
        },
        "id": "i8dHefE638zg",
        "outputId": "fe6f21df-6a82-4f0b-b81e-7c476873c2fd"
      },
      "source": [
        "# Show average (mean) ranking\r\n",
        "df.agg({'ranking' : 'max'}).show()"
      ],
      "execution_count": 31,
      "outputs": [
        {
          "output_type": "stream",
          "text": [
            "+------------+\n",
            "|max(ranking)|\n",
            "+------------+\n",
            "|         100|\n",
            "+------------+\n",
            "\n"
          ],
          "name": "stdout"
        }
      ]
    },
    {
      "cell_type": "code",
      "metadata": {
        "colab": {
          "base_uri": "https://localhost:8080/"
        },
        "id": "Zzv16p9J3_L3",
        "outputId": "b1dd898f-562d-401c-8fbc-35da41ba9c58"
      },
      "source": [
        "# Show average (mean) ranking\r\n",
        "df.agg({'ranking' : 'stddev'}).show()"
      ],
      "execution_count": 32,
      "outputs": [
        {
          "output_type": "stream",
          "text": [
            "+------------------+\n",
            "|   stddev(ranking)|\n",
            "+------------------+\n",
            "|16.248418726482623|\n",
            "+------------------+\n",
            "\n"
          ],
          "name": "stdout"
        }
      ]
    },
    {
      "cell_type": "code",
      "metadata": {
        "colab": {
          "base_uri": "https://localhost:8080/"
        },
        "id": "rnA2lSg84BSv",
        "outputId": "fbd1e74a-2f59-482b-f9ac-9aedbbffc62b"
      },
      "source": [
        "# Show average (mean) ranking\r\n",
        "df.agg({'ranking' : 'variance'}).show()"
      ],
      "execution_count": 33,
      "outputs": [
        {
          "output_type": "stream",
          "text": [
            "+-----------------+\n",
            "|variance(ranking)|\n",
            "+-----------------+\n",
            "|264.0111111111111|\n",
            "+-----------------+\n",
            "\n"
          ],
          "name": "stdout"
        }
      ]
    },
    {
      "cell_type": "code",
      "metadata": {
        "colab": {
          "base_uri": "https://localhost:8080/"
        },
        "id": "iX1XoCWt4IKf",
        "outputId": "288eccd2-013f-414c-c0fa-08940f838ee1"
      },
      "source": [
        "# Show average (mean) ranking\r\n",
        "df.agg({'ranking' : 'count'}).show()"
      ],
      "execution_count": 34,
      "outputs": [
        {
          "output_type": "stream",
          "text": [
            "+--------------+\n",
            "|count(ranking)|\n",
            "+--------------+\n",
            "|            10|\n",
            "+--------------+\n",
            "\n"
          ],
          "name": "stdout"
        }
      ]
    },
    {
      "cell_type": "code",
      "metadata": {
        "colab": {
          "base_uri": "https://localhost:8080/"
        },
        "id": "E9WZKKCL4LDo",
        "outputId": "2a26adca-e9a9-446f-cf7b-9a9e47ea98ec"
      },
      "source": [
        "# Show the mean, min, max for ranking\r\n",
        "df.agg( F.mean(df.ranking).alias('mean'),\r\n",
        "       F.min(df.ranking).alias('min'),\r\n",
        "       F.max(df.ranking).alias('max')).show()"
      ],
      "execution_count": 35,
      "outputs": [
        {
          "output_type": "stream",
          "text": [
            "+----+---+---+\n",
            "|mean|min|max|\n",
            "+----+---+---+\n",
            "|78.3| 50|100|\n",
            "+----+---+---+\n",
            "\n"
          ],
          "name": "stdout"
        }
      ]
    },
    {
      "cell_type": "code",
      "metadata": {
        "colab": {
          "base_uri": "https://localhost:8080/"
        },
        "id": "r1zfic8V4U04",
        "outputId": "c85cbd2b-287f-4b4f-c64e-75783a3cb644"
      },
      "source": [
        "df.groupby('player').agg({'ranking':'mean','sport':'count'}).show()"
      ],
      "execution_count": 36,
      "outputs": [
        {
          "output_type": "stream",
          "text": [
            "+------+------------+------------+\n",
            "|player|avg(ranking)|count(sport)|\n",
            "+------+------------+------------+\n",
            "|marley|       100.0|           1|\n",
            "| sandy|        50.0|           1|\n",
            "|  joey|        73.0|           1|\n",
            "| tammy|        86.0|           1|\n",
            "| cathy|        89.0|           2|\n",
            "| matty|        77.0|           2|\n",
            "| patty|        71.0|           2|\n",
            "+------+------------+------------+\n",
            "\n"
          ],
          "name": "stdout"
        }
      ]
    },
    {
      "cell_type": "code",
      "metadata": {
        "colab": {
          "base_uri": "https://localhost:8080/"
        },
        "id": "NkQAK0fc5Rfg",
        "outputId": "fb775179-41c3-471a-a7b4-9ff0b7c1b160"
      },
      "source": [
        "df.groupby('player').agg({'ranking':'mean','ranking':'count'}).show()"
      ],
      "execution_count": 37,
      "outputs": [
        {
          "output_type": "stream",
          "text": [
            "+------+--------------+\n",
            "|player|count(ranking)|\n",
            "+------+--------------+\n",
            "|marley|             1|\n",
            "| sandy|             1|\n",
            "|  joey|             1|\n",
            "| tammy|             1|\n",
            "| cathy|             2|\n",
            "| matty|             2|\n",
            "| patty|             2|\n",
            "+------+--------------+\n",
            "\n"
          ],
          "name": "stdout"
        }
      ]
    },
    {
      "cell_type": "code",
      "metadata": {
        "id": "Q1TbMMi658WP"
      },
      "source": [
        ""
      ],
      "execution_count": null,
      "outputs": []
    }
  ]
}