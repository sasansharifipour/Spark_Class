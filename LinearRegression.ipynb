{
  "nbformat": 4,
  "nbformat_minor": 0,
  "metadata": {
    "colab": {
      "name": "LinearRegression.ipynb",
      "provenance": [],
      "authorship_tag": "ABX9TyOV+QbMvPGAqrYPNKo7augW",
      "include_colab_link": true
    },
    "kernelspec": {
      "name": "python3",
      "display_name": "Python 3"
    }
  },
  "cells": [
    {
      "cell_type": "markdown",
      "metadata": {
        "id": "view-in-github",
        "colab_type": "text"
      },
      "source": [
        "<a href=\"https://colab.research.google.com/github/sasansharifipour/Spark_Class/blob/main/LinearRegression.ipynb\" target=\"_parent\"><img src=\"https://colab.research.google.com/assets/colab-badge.svg\" alt=\"Open In Colab\"/></a>"
      ]
    },
    {
      "cell_type": "code",
      "metadata": {
        "id": "tOLux7yJ8S1-"
      },
      "source": [
        "!apt-get install openjdk-8-jdk-headless -qq > /dev/null\r\n",
        "!wget -q https://downloads.apache.org/spark/spark-3.0.1/spark-3.0.1-bin-hadoop2.7.tgz\r\n",
        "!tar xf spark-3.0.1-bin-hadoop2.7.tgz\r\n",
        "!pip install -q findspark\r\n",
        "\r\n",
        "import os\r\n",
        "os.environ[\"JAVA_HOME\"] = \"/usr/lib/jvm/java-8-openjdk-amd64\"\r\n",
        "os.environ[\"SPARK_HOME\"] = \"/content/spark-3.0.1-bin-hadoop2.7\"\r\n",
        "\r\n",
        "import findspark\r\n",
        "findspark.init()"
      ],
      "execution_count": 1,
      "outputs": []
    },
    {
      "cell_type": "code",
      "metadata": {
        "id": "eISlAS3U8uA4"
      },
      "source": [
        "from pyspark.sql import SparkSession\r\n",
        "\r\n",
        "spark = SparkSession.builder.getOrCreate()"
      ],
      "execution_count": 2,
      "outputs": []
    },
    {
      "cell_type": "markdown",
      "metadata": {
        "id": "NO2evJ-8AC2n"
      },
      "source": [
        "Linear Regression"
      ]
    },
    {
      "cell_type": "code",
      "metadata": {
        "id": "Kxt_nEQR-EEw"
      },
      "source": [
        "from pyspark.ml.regression import LinearRegression"
      ],
      "execution_count": 3,
      "outputs": []
    },
    {
      "cell_type": "code",
      "metadata": {
        "id": "mtJvFF2KAN3M"
      },
      "source": [
        "training = spark.read.format(\"libsvm\").load(\"spark-3.0.1-bin-hadoop2.7/data/mllib/sample_linear_regression_data.txt\")"
      ],
      "execution_count": 4,
      "outputs": []
    },
    {
      "cell_type": "code",
      "metadata": {
        "id": "Kf_1lF-KAfR_"
      },
      "source": [
        "lr = LinearRegression(maxIter=10, regParam=0.3, elasticNetParam=0.8)"
      ],
      "execution_count": 6,
      "outputs": []
    },
    {
      "cell_type": "code",
      "metadata": {
        "id": "55BeHCQ7AV6u"
      },
      "source": [
        "lrModel = lr.fit(training)"
      ],
      "execution_count": 7,
      "outputs": []
    },
    {
      "cell_type": "code",
      "metadata": {
        "colab": {
          "base_uri": "https://localhost:8080/"
        },
        "id": "0Z48PFxCAbSG",
        "outputId": "5d9692fe-0b94-4a52-9464-6ef550ea48dd"
      },
      "source": [
        "print(\"Coefficients : %s\" % str(lrModel.coefficients))\r\n",
        "print(\"Intercept : %s\" % str(lrModel.intercept))"
      ],
      "execution_count": 8,
      "outputs": [
        {
          "output_type": "stream",
          "text": [
            "Coefficients : [0.0,0.32292516677405936,-0.3438548034562218,1.9156017023458414,0.05288058680386263,0.765962720459771,0.0,-0.15105392669186682,-0.21587930360904642,0.22025369188813426]\n",
            "Intercept : 0.1598936844239736\n"
          ],
          "name": "stdout"
        }
      ]
    },
    {
      "cell_type": "code",
      "metadata": {
        "colab": {
          "base_uri": "https://localhost:8080/"
        },
        "id": "GUOfcOwnA76W",
        "outputId": "9b9ec7fb-00c0-4d12-c123-64b5c46d6388"
      },
      "source": [
        "trainingSummary = lrModel.summary\r\n",
        "print(\"numIterations : %d\" % trainingSummary.totalIterations)\r\n",
        "print(\"objectiveHistory : %s\" % str(trainingSummary.objectiveHistory))"
      ],
      "execution_count": 10,
      "outputs": [
        {
          "output_type": "stream",
          "text": [
            "numIterations : 7\n",
            "objectiveHistory : [0.49999999999999994, 0.4967620357443381, 0.4936361664340463, 0.4936351537897608, 0.4936351214177871, 0.49363512062528014, 0.4936351206216114]\n"
          ],
          "name": "stdout"
        }
      ]
    },
    {
      "cell_type": "code",
      "metadata": {
        "colab": {
          "base_uri": "https://localhost:8080/"
        },
        "id": "Fu4f4sJIBXWd",
        "outputId": "1f815dcc-13fd-4525-e00f-001ce3f23a9b"
      },
      "source": [
        "trainingSummary.residuals.show()\r\n",
        "print(\"RMSE: %f\" % trainingSummary.rootMeanSquaredError)\r\n",
        "print(\"r2: %f\" % trainingSummary.r2)"
      ],
      "execution_count": 11,
      "outputs": [
        {
          "output_type": "stream",
          "text": [
            "+--------------------+\n",
            "|           residuals|\n",
            "+--------------------+\n",
            "|  -9.889232683103197|\n",
            "|  0.5533794340053554|\n",
            "|  -5.204019455758823|\n",
            "| -20.566686715507508|\n",
            "|    -9.4497405180564|\n",
            "|  -6.909112502719486|\n",
            "|  -10.00431602969873|\n",
            "|   2.062397807050484|\n",
            "|  3.1117508432954772|\n",
            "| -15.893608229419382|\n",
            "|  -5.036284254673026|\n",
            "|   6.483215876994333|\n",
            "|  12.429497299109002|\n",
            "|  -20.32003219007654|\n",
            "| -2.0049838218725005|\n",
            "| -17.867901734183793|\n",
            "|   7.646455887420495|\n",
            "| -2.2653482182417406|\n",
            "|-0.10308920436195645|\n",
            "|  -1.380034070385301|\n",
            "+--------------------+\n",
            "only showing top 20 rows\n",
            "\n",
            "RMSE: 10.189077\n",
            "r2: 0.022861\n"
          ],
          "name": "stdout"
        }
      ]
    },
    {
      "cell_type": "markdown",
      "metadata": {
        "id": "K-JUEZ0uDMoY"
      },
      "source": [
        "Gradient-Boosted Tree Regression"
      ]
    },
    {
      "cell_type": "code",
      "metadata": {
        "id": "L7lDnApAB8C1"
      },
      "source": [
        "from pyspark.ml import Pipeline\r\n",
        "from pyspark.ml.regression import GBTRegressor\r\n",
        "from pyspark.ml.feature import VectorIndexer\r\n",
        "from pyspark.ml.evaluation import RegressionEvaluator"
      ],
      "execution_count": 19,
      "outputs": []
    },
    {
      "cell_type": "code",
      "metadata": {
        "id": "BB-z0VvvDq1u"
      },
      "source": [
        "data = spark.read.format(\"libsvm\").load(\"spark-3.0.1-bin-hadoop2.7/data/mllib/sample_libsvm_data.txt\")"
      ],
      "execution_count": 14,
      "outputs": []
    },
    {
      "cell_type": "code",
      "metadata": {
        "id": "zEzuRryKDuah"
      },
      "source": [
        "#Automatically identify categorical features, and index them.\r\n",
        "#Set maxCategories so features with > 4 distinct values are treated as continuous.\r\n",
        "featureIndexer = VectorIndexer(inputCol=\"features\", outputCol=\"indexedFeatures\", maxCategories=4).fit(data)"
      ],
      "execution_count": 15,
      "outputs": []
    },
    {
      "cell_type": "code",
      "metadata": {
        "id": "Fg-wI35WEabO"
      },
      "source": [
        "(trainingData, testData)= data.randomSplit([0.7, 0.3])"
      ],
      "execution_count": 31,
      "outputs": []
    },
    {
      "cell_type": "code",
      "metadata": {
        "id": "ozaZ_2fWEiwd"
      },
      "source": [
        "gbt = GBTRegressor(featuresCol=\"indexedFeatures\", maxIter=10)"
      ],
      "execution_count": 32,
      "outputs": []
    },
    {
      "cell_type": "code",
      "metadata": {
        "id": "LdMlVOhPEsGV"
      },
      "source": [
        "pipeline = Pipeline(stages=[featureIndexer, gbt])"
      ],
      "execution_count": 33,
      "outputs": []
    },
    {
      "cell_type": "code",
      "metadata": {
        "id": "4GeVGtdeE5hO"
      },
      "source": [
        "model = pipeline.fit(trainingData)"
      ],
      "execution_count": 34,
      "outputs": []
    },
    {
      "cell_type": "code",
      "metadata": {
        "id": "eY75m-PFFIWn"
      },
      "source": [
        "predictions = model.transform(testData)"
      ],
      "execution_count": 35,
      "outputs": []
    },
    {
      "cell_type": "code",
      "metadata": {
        "colab": {
          "base_uri": "https://localhost:8080/"
        },
        "id": "QWX14wJ_FMxe",
        "outputId": "550883eb-625c-4845-9a6f-3c56df56d08d"
      },
      "source": [
        "predictions.select(\"prediction\", \"label\", \"features\").show(5)"
      ],
      "execution_count": 36,
      "outputs": [
        {
          "output_type": "stream",
          "text": [
            "+----------+-----+--------------------+\n",
            "|prediction|label|            features|\n",
            "+----------+-----+--------------------+\n",
            "|       0.0|  0.0|(692,[95,96,97,12...|\n",
            "|       0.0|  0.0|(692,[98,99,100,1...|\n",
            "|       0.0|  0.0|(692,[121,122,123...|\n",
            "|       0.0|  0.0|(692,[122,123,124...|\n",
            "|       0.0|  0.0|(692,[124,125,126...|\n",
            "+----------+-----+--------------------+\n",
            "only showing top 5 rows\n",
            "\n"
          ],
          "name": "stdout"
        }
      ]
    },
    {
      "cell_type": "code",
      "metadata": {
        "id": "VRxgi6NaFW5W"
      },
      "source": [
        "evaluator = RegressionEvaluator(labelCol=\"label\", predictionCol=\"prediction\", metricName=\"rmse\")"
      ],
      "execution_count": 37,
      "outputs": []
    },
    {
      "cell_type": "code",
      "metadata": {
        "colab": {
          "base_uri": "https://localhost:8080/"
        },
        "id": "qkEiL99RFvyl",
        "outputId": "fbc050f0-7275-425d-befc-3d6e7d1de955"
      },
      "source": [
        "rmse = evaluator.evaluate(predictions)\r\n",
        "print(\"RMSE on test Data = %g\" % rmse)"
      ],
      "execution_count": 38,
      "outputs": [
        {
          "output_type": "stream",
          "text": [
            "RMSE on test Data = 0.246183\n"
          ],
          "name": "stdout"
        }
      ]
    },
    {
      "cell_type": "code",
      "metadata": {
        "colab": {
          "base_uri": "https://localhost:8080/"
        },
        "id": "F0Z2Kbz3F7u2",
        "outputId": "04fdf9a6-7b55-4aa4-d9db-1a9045c41137"
      },
      "source": [
        "gbtModel = model.stages[1]\r\n",
        "print(gbtModel)"
      ],
      "execution_count": 39,
      "outputs": [
        {
          "output_type": "stream",
          "text": [
            "GBTRegressionModel: uid=GBTRegressor_a8a946422ebd, numTrees=10, numFeatures=692\n"
          ],
          "name": "stdout"
        }
      ]
    },
    {
      "cell_type": "code",
      "metadata": {
        "id": "IwM-kTnrGIV1"
      },
      "source": [
        "spark.stop()"
      ],
      "execution_count": 40,
      "outputs": []
    },
    {
      "cell_type": "code",
      "metadata": {
        "id": "LFuemqvFGiu2"
      },
      "source": [
        ""
      ],
      "execution_count": null,
      "outputs": []
    }
  ]
}