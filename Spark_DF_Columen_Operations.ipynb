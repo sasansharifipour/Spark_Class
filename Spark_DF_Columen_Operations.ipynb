{
  "nbformat": 4,
  "nbformat_minor": 0,
  "metadata": {
    "colab": {
      "name": "Spark_DF_Columen_Operations.ipynb",
      "provenance": [],
      "collapsed_sections": [],
      "authorship_tag": "ABX9TyOjy25xnOonqHZ4c0EIjS28",
      "include_colab_link": true
    },
    "kernelspec": {
      "name": "python3",
      "display_name": "Python 3"
    }
  },
  "cells": [
    {
      "cell_type": "markdown",
      "metadata": {
        "id": "view-in-github",
        "colab_type": "text"
      },
      "source": [
        "<a href=\"https://colab.research.google.com/github/sasansharifipour/Spark_Class/blob/main/Spark_DF_Columen_Operations.ipynb\" target=\"_parent\"><img src=\"https://colab.research.google.com/assets/colab-badge.svg\" alt=\"Open In Colab\"/></a>"
      ]
    },
    {
      "cell_type": "code",
      "metadata": {
        "id": "lvhBmbhduVeS"
      },
      "source": [
        "!apt-get install openjdk-8-jdk-headless -qq > /dev/null\r\n",
        "!wget -q https://downloads.apache.org/spark/spark-3.0.1/spark-3.0.1-bin-hadoop2.7.tgz\r\n",
        "!tar xf spark-3.0.1-bin-hadoop2.7.tgz\r\n",
        "!pip install -q findspark\r\n",
        "\r\n",
        "import os\r\n",
        "os.environ[\"JAVA_HOME\"] = \"/usr/lib/jvm/java-8-openjdk-amd64\"\r\n",
        "os.environ[\"SPARK_HOME\"] = \"/content/spark-3.0.1-bin-hadoop2.7\"\r\n",
        "\r\n",
        "import findspark\r\n",
        "findspark.init()"
      ],
      "execution_count": 1,
      "outputs": []
    },
    {
      "cell_type": "code",
      "metadata": {
        "id": "DKdOoRfsuu-7"
      },
      "source": [
        "import pyspark"
      ],
      "execution_count": 2,
      "outputs": []
    },
    {
      "cell_type": "code",
      "metadata": {
        "id": "REu4PT0yuw1q"
      },
      "source": [
        "from pyspark.sql import SparkSession\r\n",
        "sc = pyspark.SparkContext(appName=\"Col_Operations\")"
      ],
      "execution_count": 3,
      "outputs": []
    },
    {
      "cell_type": "code",
      "metadata": {
        "id": "2PDDQvEJvOsi"
      },
      "source": [
        "spark = SparkSession.builder.getOrCreate()"
      ],
      "execution_count": 4,
      "outputs": []
    },
    {
      "cell_type": "code",
      "metadata": {
        "id": "ZGgt9eWgvU8J"
      },
      "source": [
        "import pyspark.sql.functions as F\r\n",
        "from pyspark.sql.types import StructType, StructField, StringType, IntegerType"
      ],
      "execution_count": 5,
      "outputs": []
    },
    {
      "cell_type": "code",
      "metadata": {
        "id": "VfVC_OivvqxC"
      },
      "source": [
        "data = [('patty','spring', 'baseball', 64),\r\n",
        "        ('matty', 'autumn', 'hockey', 90),\r\n",
        "        ('cathy', 'spring', 'baseball', 100),\r\n",
        "        ('sandy', 'autumn', 'soccer', 50),\r\n",
        "        ('joey', 'summer', 'soccer', 73),\r\n",
        "        ('tammy', 'spring', 'soccer', 86),\r\n",
        "        ('marley', 'autumn', 'hockey', 100)\r\n",
        "        ]"
      ],
      "execution_count": 6,
      "outputs": []
    },
    {
      "cell_type": "code",
      "metadata": {
        "id": "42GrXLDRwX-i"
      },
      "source": [
        "# Create an rdd\r\n",
        "rdd = sc.parallelize(data)"
      ],
      "execution_count": 7,
      "outputs": []
    },
    {
      "cell_type": "code",
      "metadata": {
        "colab": {
          "base_uri": "https://localhost:8080/"
        },
        "id": "CRoYxZLNwd-y",
        "outputId": "5d44a99c-1703-40c4-8702-fe7c58d30470"
      },
      "source": [
        "rdd"
      ],
      "execution_count": 8,
      "outputs": [
        {
          "output_type": "execute_result",
          "data": {
            "text/plain": [
              "ParallelCollectionRDD[0] at readRDDFromFile at PythonRDD.scala:262"
            ]
          },
          "metadata": {
            "tags": []
          },
          "execution_count": 8
        }
      ]
    },
    {
      "cell_type": "code",
      "metadata": {
        "colab": {
          "base_uri": "https://localhost:8080/"
        },
        "id": "cfgE7ttZwewJ",
        "outputId": "ef55d52c-6050-48bb-bf9e-b561fa0efbcb"
      },
      "source": [
        "rdd.take(4)"
      ],
      "execution_count": 9,
      "outputs": [
        {
          "output_type": "execute_result",
          "data": {
            "text/plain": [
              "[('patty', 'spring', 'baseball', 64),\n",
              " ('matty', 'autumn', 'hockey', 90),\n",
              " ('cathy', 'spring', 'baseball', 100),\n",
              " ('sandy', 'autumn', 'soccer', 50)]"
            ]
          },
          "metadata": {
            "tags": []
          },
          "execution_count": 9
        }
      ]
    },
    {
      "cell_type": "code",
      "metadata": {
        "id": "H8Rl3Iknwi4x"
      },
      "source": [
        "# create a dataframe from an rdd and name the columns\r\n",
        "df = spark.createDataFrame(rdd, ['player', 'season', 'sport', 'ranking'])"
      ],
      "execution_count": 10,
      "outputs": []
    },
    {
      "cell_type": "code",
      "metadata": {
        "colab": {
          "base_uri": "https://localhost:8080/"
        },
        "id": "pb6smMUtw5uy",
        "outputId": "7ba9494e-66b5-452f-ee65-ebe3540b6b7b"
      },
      "source": [
        "df.show()"
      ],
      "execution_count": 11,
      "outputs": [
        {
          "output_type": "stream",
          "text": [
            "+------+------+--------+-------+\n",
            "|player|season|   sport|ranking|\n",
            "+------+------+--------+-------+\n",
            "| patty|spring|baseball|     64|\n",
            "| matty|autumn|  hockey|     90|\n",
            "| cathy|spring|baseball|    100|\n",
            "| sandy|autumn|  soccer|     50|\n",
            "|  joey|summer|  soccer|     73|\n",
            "| tammy|spring|  soccer|     86|\n",
            "|marley|autumn|  hockey|    100|\n",
            "+------+------+--------+-------+\n",
            "\n"
          ],
          "name": "stdout"
        }
      ]
    },
    {
      "cell_type": "code",
      "metadata": {
        "colab": {
          "base_uri": "https://localhost:8080/"
        },
        "id": "UYikH2n2w8wb",
        "outputId": "bdef8e57-beeb-4833-f315-696c18dd9c9c"
      },
      "source": [
        "# show the first 4 elements\r\n",
        "df.show(4)"
      ],
      "execution_count": 13,
      "outputs": [
        {
          "output_type": "stream",
          "text": [
            "+------+------+--------+-------+\n",
            "|player|season|   sport|ranking|\n",
            "+------+------+--------+-------+\n",
            "| patty|spring|baseball|     64|\n",
            "| matty|autumn|  hockey|     90|\n",
            "| cathy|spring|baseball|    100|\n",
            "| sandy|autumn|  soccer|     50|\n",
            "+------+------+--------+-------+\n",
            "only showing top 4 rows\n",
            "\n"
          ],
          "name": "stdout"
        }
      ]
    },
    {
      "cell_type": "code",
      "metadata": {
        "colab": {
          "base_uri": "https://localhost:8080/"
        },
        "id": "tCfBSw6SxDmy",
        "outputId": "f626b1f4-4fcf-497a-a5bc-d5632ce35ea6"
      },
      "source": [
        "# take the header of the dataframe\r\n",
        "df.head()"
      ],
      "execution_count": 14,
      "outputs": [
        {
          "output_type": "execute_result",
          "data": {
            "text/plain": [
              "Row(player='patty', season='spring', sport='baseball', ranking=64)"
            ]
          },
          "metadata": {
            "tags": []
          },
          "execution_count": 14
        }
      ]
    },
    {
      "cell_type": "code",
      "metadata": {
        "colab": {
          "base_uri": "https://localhost:8080/"
        },
        "id": "4L10ndlyxR4C",
        "outputId": "9446cec6-ce2b-4ca4-91c7-cc1d3161b366"
      },
      "source": [
        "df.count()"
      ],
      "execution_count": 15,
      "outputs": [
        {
          "output_type": "execute_result",
          "data": {
            "text/plain": [
              "7"
            ]
          },
          "metadata": {
            "tags": []
          },
          "execution_count": 15
        }
      ]
    },
    {
      "cell_type": "code",
      "metadata": {
        "colab": {
          "base_uri": "https://localhost:8080/"
        },
        "id": "96QmO5HYxWUx",
        "outputId": "bf17b600-a017-49bd-8fa4-96275c2486f2"
      },
      "source": [
        "df.describe().show()"
      ],
      "execution_count": 16,
      "outputs": [
        {
          "output_type": "stream",
          "text": [
            "+-------+------+------+--------+------------------+\n",
            "|summary|player|season|   sport|           ranking|\n",
            "+-------+------+------+--------+------------------+\n",
            "|  count|     7|     7|       7|                 7|\n",
            "|   mean|  null|  null|    null| 80.42857142857143|\n",
            "| stddev|  null|  null|    null|18.884359867865463|\n",
            "|    min| cathy|autumn|baseball|                50|\n",
            "|    max| tammy|summer|  soccer|               100|\n",
            "+-------+------+------+--------+------------------+\n",
            "\n"
          ],
          "name": "stdout"
        }
      ]
    },
    {
      "cell_type": "code",
      "metadata": {
        "colab": {
          "base_uri": "https://localhost:8080/"
        },
        "id": "dzAeyFrbxaNq",
        "outputId": "dc9a239a-0566-4bc0-e324-782809f87cf8"
      },
      "source": [
        "df.printSchema()"
      ],
      "execution_count": 17,
      "outputs": [
        {
          "output_type": "stream",
          "text": [
            "root\n",
            " |-- player: string (nullable = true)\n",
            " |-- season: string (nullable = true)\n",
            " |-- sport: string (nullable = true)\n",
            " |-- ranking: long (nullable = true)\n",
            "\n"
          ],
          "name": "stdout"
        }
      ]
    },
    {
      "cell_type": "code",
      "metadata": {
        "colab": {
          "base_uri": "https://localhost:8080/"
        },
        "id": "4IbxUjaoxl1p",
        "outputId": "c00b4cd3-d886-45e9-91ff-d8099ae62d5e"
      },
      "source": [
        "df.select(['player', 'ranking'])"
      ],
      "execution_count": 19,
      "outputs": [
        {
          "output_type": "execute_result",
          "data": {
            "text/plain": [
              "DataFrame[player: string, ranking: bigint]"
            ]
          },
          "metadata": {
            "tags": []
          },
          "execution_count": 19
        }
      ]
    },
    {
      "cell_type": "code",
      "metadata": {
        "colab": {
          "base_uri": "https://localhost:8080/"
        },
        "id": "DV0m3AAdxuFx",
        "outputId": "78c64e06-f91c-43b5-a658-07dae82f7746"
      },
      "source": [
        "df.select(['player', 'ranking']).show()"
      ],
      "execution_count": 20,
      "outputs": [
        {
          "output_type": "stream",
          "text": [
            "+------+-------+\n",
            "|player|ranking|\n",
            "+------+-------+\n",
            "| patty|     64|\n",
            "| matty|     90|\n",
            "| cathy|    100|\n",
            "| sandy|     50|\n",
            "|  joey|     73|\n",
            "| tammy|     86|\n",
            "|marley|    100|\n",
            "+------+-------+\n",
            "\n"
          ],
          "name": "stdout"
        }
      ]
    },
    {
      "cell_type": "code",
      "metadata": {
        "colab": {
          "base_uri": "https://localhost:8080/"
        },
        "id": "ot5DgPtJxxZx",
        "outputId": "4e076f43-17ae-402f-dd07-61bff2e0d6e4"
      },
      "source": [
        "df.filter(df['ranking'] > 80)"
      ],
      "execution_count": 22,
      "outputs": [
        {
          "output_type": "execute_result",
          "data": {
            "text/plain": [
              "DataFrame[player: string, season: string, sport: string, ranking: bigint]"
            ]
          },
          "metadata": {
            "tags": []
          },
          "execution_count": 22
        }
      ]
    },
    {
      "cell_type": "code",
      "metadata": {
        "colab": {
          "base_uri": "https://localhost:8080/"
        },
        "id": "i2T4pDyJx4qJ",
        "outputId": "65eaecaa-d1fe-4053-9c0a-f019c71f49da"
      },
      "source": [
        "df.filter(df['ranking'] > 80).show()"
      ],
      "execution_count": 23,
      "outputs": [
        {
          "output_type": "stream",
          "text": [
            "+------+------+--------+-------+\n",
            "|player|season|   sport|ranking|\n",
            "+------+------+--------+-------+\n",
            "| matty|autumn|  hockey|     90|\n",
            "| cathy|spring|baseball|    100|\n",
            "| tammy|spring|  soccer|     86|\n",
            "|marley|autumn|  hockey|    100|\n",
            "+------+------+--------+-------+\n",
            "\n"
          ],
          "name": "stdout"
        }
      ]
    },
    {
      "cell_type": "code",
      "metadata": {
        "colab": {
          "base_uri": "https://localhost:8080/"
        },
        "id": "f4rd8v5ox7GR",
        "outputId": "34e4d4a2-59c5-4db6-ebf5-90c2eafc357c"
      },
      "source": [
        "df.filter(df['season'] == 'autumn').show()"
      ],
      "execution_count": 24,
      "outputs": [
        {
          "output_type": "stream",
          "text": [
            "+------+------+------+-------+\n",
            "|player|season| sport|ranking|\n",
            "+------+------+------+-------+\n",
            "| matty|autumn|hockey|     90|\n",
            "| sandy|autumn|soccer|     50|\n",
            "|marley|autumn|hockey|    100|\n",
            "+------+------+------+-------+\n",
            "\n"
          ],
          "name": "stdout"
        }
      ]
    },
    {
      "cell_type": "code",
      "metadata": {
        "id": "XOBwtwDbyFPB"
      },
      "source": [
        ""
      ],
      "execution_count": null,
      "outputs": []
    }
  ]
}