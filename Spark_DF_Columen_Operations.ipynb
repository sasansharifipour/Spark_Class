{
  "nbformat": 4,
  "nbformat_minor": 0,
  "metadata": {
    "colab": {
      "name": "Spark_DF_Columen_Operations.ipynb",
      "provenance": [],
      "collapsed_sections": [],
      "authorship_tag": "ABX9TyMnPD4q4nGl3U4J2HLFPNxU",
      "include_colab_link": true
    },
    "kernelspec": {
      "name": "python3",
      "display_name": "Python 3"
    }
  },
  "cells": [
    {
      "cell_type": "markdown",
      "metadata": {
        "id": "view-in-github",
        "colab_type": "text"
      },
      "source": [
        "<a href=\"https://colab.research.google.com/github/sasansharifipour/Spark_Class/blob/main/Spark_DF_Columen_Operations.ipynb\" target=\"_parent\"><img src=\"https://colab.research.google.com/assets/colab-badge.svg\" alt=\"Open In Colab\"/></a>"
      ]
    },
    {
      "cell_type": "code",
      "metadata": {
        "id": "lvhBmbhduVeS"
      },
      "source": [
        "!apt-get install openjdk-8-jdk-headless -qq > /dev/null\r\n",
        "!wget -q https://downloads.apache.org/spark/spark-3.0.1/spark-3.0.1-bin-hadoop2.7.tgz\r\n",
        "!tar xf spark-3.0.1-bin-hadoop2.7.tgz\r\n",
        "!pip install -q findspark\r\n",
        "\r\n",
        "import os\r\n",
        "os.environ[\"JAVA_HOME\"] = \"/usr/lib/jvm/java-8-openjdk-amd64\"\r\n",
        "os.environ[\"SPARK_HOME\"] = \"/content/spark-3.0.1-bin-hadoop2.7\"\r\n",
        "\r\n",
        "import findspark\r\n",
        "findspark.init()"
      ],
      "execution_count": 1,
      "outputs": []
    },
    {
      "cell_type": "code",
      "metadata": {
        "id": "DKdOoRfsuu-7"
      },
      "source": [
        "import pyspark"
      ],
      "execution_count": 2,
      "outputs": []
    },
    {
      "cell_type": "code",
      "metadata": {
        "id": "REu4PT0yuw1q"
      },
      "source": [
        "from pyspark.sql import SparkSession\r\n",
        "sc = pyspark.SparkContext(appName=\"Col_Operations\")"
      ],
      "execution_count": 3,
      "outputs": []
    },
    {
      "cell_type": "code",
      "metadata": {
        "id": "2PDDQvEJvOsi"
      },
      "source": [
        "spark = SparkSession.builder.getOrCreate()"
      ],
      "execution_count": 4,
      "outputs": []
    },
    {
      "cell_type": "code",
      "metadata": {
        "id": "ZGgt9eWgvU8J"
      },
      "source": [
        "import pyspark.sql.functions as F\r\n",
        "from pyspark.sql.types import StructType, StructField, StringType, IntegerType"
      ],
      "execution_count": 5,
      "outputs": []
    },
    {
      "cell_type": "code",
      "metadata": {
        "id": "VfVC_OivvqxC"
      },
      "source": [
        "data = [('patty','spring', 'baseball', 64),\r\n",
        "        ('matty', 'autumn', 'hockey', 90),\r\n",
        "        ('cathy', 'spring', 'baseball', 100),\r\n",
        "        ('sandy', 'autumn', 'soccer', 50),\r\n",
        "        ('joey', 'summer', 'soccer', 73),\r\n",
        "        ('tammy', 'spring', 'soccer', 86),\r\n",
        "        ('marley', 'autumn', 'hockey', 100)\r\n",
        "        ]"
      ],
      "execution_count": 6,
      "outputs": []
    },
    {
      "cell_type": "code",
      "metadata": {
        "id": "42GrXLDRwX-i"
      },
      "source": [
        "# Create an rdd\r\n",
        "rdd = sc.parallelize(data)"
      ],
      "execution_count": 7,
      "outputs": []
    },
    {
      "cell_type": "code",
      "metadata": {
        "colab": {
          "base_uri": "https://localhost:8080/"
        },
        "id": "CRoYxZLNwd-y",
        "outputId": "5d44a99c-1703-40c4-8702-fe7c58d30470"
      },
      "source": [
        "rdd"
      ],
      "execution_count": 8,
      "outputs": [
        {
          "output_type": "execute_result",
          "data": {
            "text/plain": [
              "ParallelCollectionRDD[0] at readRDDFromFile at PythonRDD.scala:262"
            ]
          },
          "metadata": {
            "tags": []
          },
          "execution_count": 8
        }
      ]
    },
    {
      "cell_type": "code",
      "metadata": {
        "colab": {
          "base_uri": "https://localhost:8080/"
        },
        "id": "cfgE7ttZwewJ",
        "outputId": "ef55d52c-6050-48bb-bf9e-b561fa0efbcb"
      },
      "source": [
        "rdd.take(4)"
      ],
      "execution_count": 9,
      "outputs": [
        {
          "output_type": "execute_result",
          "data": {
            "text/plain": [
              "[('patty', 'spring', 'baseball', 64),\n",
              " ('matty', 'autumn', 'hockey', 90),\n",
              " ('cathy', 'spring', 'baseball', 100),\n",
              " ('sandy', 'autumn', 'soccer', 50)]"
            ]
          },
          "metadata": {
            "tags": []
          },
          "execution_count": 9
        }
      ]
    },
    {
      "cell_type": "code",
      "metadata": {
        "id": "H8Rl3Iknwi4x"
      },
      "source": [
        "# create a dataframe from an rdd and name the columns\r\n",
        "df = spark.createDataFrame(rdd, ['player', 'season', 'sport', 'ranking'])"
      ],
      "execution_count": 10,
      "outputs": []
    },
    {
      "cell_type": "code",
      "metadata": {
        "colab": {
          "base_uri": "https://localhost:8080/"
        },
        "id": "pb6smMUtw5uy",
        "outputId": "7ba9494e-66b5-452f-ee65-ebe3540b6b7b"
      },
      "source": [
        "df.show()"
      ],
      "execution_count": 11,
      "outputs": [
        {
          "output_type": "stream",
          "text": [
            "+------+------+--------+-------+\n",
            "|player|season|   sport|ranking|\n",
            "+------+------+--------+-------+\n",
            "| patty|spring|baseball|     64|\n",
            "| matty|autumn|  hockey|     90|\n",
            "| cathy|spring|baseball|    100|\n",
            "| sandy|autumn|  soccer|     50|\n",
            "|  joey|summer|  soccer|     73|\n",
            "| tammy|spring|  soccer|     86|\n",
            "|marley|autumn|  hockey|    100|\n",
            "+------+------+--------+-------+\n",
            "\n"
          ],
          "name": "stdout"
        }
      ]
    },
    {
      "cell_type": "code",
      "metadata": {
        "colab": {
          "base_uri": "https://localhost:8080/"
        },
        "id": "UYikH2n2w8wb",
        "outputId": "bdef8e57-beeb-4833-f315-696c18dd9c9c"
      },
      "source": [
        "# show the first 4 elements\r\n",
        "df.show(4)"
      ],
      "execution_count": 13,
      "outputs": [
        {
          "output_type": "stream",
          "text": [
            "+------+------+--------+-------+\n",
            "|player|season|   sport|ranking|\n",
            "+------+------+--------+-------+\n",
            "| patty|spring|baseball|     64|\n",
            "| matty|autumn|  hockey|     90|\n",
            "| cathy|spring|baseball|    100|\n",
            "| sandy|autumn|  soccer|     50|\n",
            "+------+------+--------+-------+\n",
            "only showing top 4 rows\n",
            "\n"
          ],
          "name": "stdout"
        }
      ]
    },
    {
      "cell_type": "code",
      "metadata": {
        "colab": {
          "base_uri": "https://localhost:8080/"
        },
        "id": "tCfBSw6SxDmy",
        "outputId": "f626b1f4-4fcf-497a-a5bc-d5632ce35ea6"
      },
      "source": [
        "# take the header of the dataframe\r\n",
        "df.head()"
      ],
      "execution_count": 14,
      "outputs": [
        {
          "output_type": "execute_result",
          "data": {
            "text/plain": [
              "Row(player='patty', season='spring', sport='baseball', ranking=64)"
            ]
          },
          "metadata": {
            "tags": []
          },
          "execution_count": 14
        }
      ]
    },
    {
      "cell_type": "code",
      "metadata": {
        "colab": {
          "base_uri": "https://localhost:8080/"
        },
        "id": "4L10ndlyxR4C",
        "outputId": "9446cec6-ce2b-4ca4-91c7-cc1d3161b366"
      },
      "source": [
        "df.count()"
      ],
      "execution_count": 15,
      "outputs": [
        {
          "output_type": "execute_result",
          "data": {
            "text/plain": [
              "7"
            ]
          },
          "metadata": {
            "tags": []
          },
          "execution_count": 15
        }
      ]
    },
    {
      "cell_type": "code",
      "metadata": {
        "colab": {
          "base_uri": "https://localhost:8080/"
        },
        "id": "96QmO5HYxWUx",
        "outputId": "bf17b600-a017-49bd-8fa4-96275c2486f2"
      },
      "source": [
        "df.describe().show()"
      ],
      "execution_count": 16,
      "outputs": [
        {
          "output_type": "stream",
          "text": [
            "+-------+------+------+--------+------------------+\n",
            "|summary|player|season|   sport|           ranking|\n",
            "+-------+------+------+--------+------------------+\n",
            "|  count|     7|     7|       7|                 7|\n",
            "|   mean|  null|  null|    null| 80.42857142857143|\n",
            "| stddev|  null|  null|    null|18.884359867865463|\n",
            "|    min| cathy|autumn|baseball|                50|\n",
            "|    max| tammy|summer|  soccer|               100|\n",
            "+-------+------+------+--------+------------------+\n",
            "\n"
          ],
          "name": "stdout"
        }
      ]
    },
    {
      "cell_type": "code",
      "metadata": {
        "colab": {
          "base_uri": "https://localhost:8080/"
        },
        "id": "dzAeyFrbxaNq",
        "outputId": "dc9a239a-0566-4bc0-e324-782809f87cf8"
      },
      "source": [
        "df.printSchema()"
      ],
      "execution_count": 17,
      "outputs": [
        {
          "output_type": "stream",
          "text": [
            "root\n",
            " |-- player: string (nullable = true)\n",
            " |-- season: string (nullable = true)\n",
            " |-- sport: string (nullable = true)\n",
            " |-- ranking: long (nullable = true)\n",
            "\n"
          ],
          "name": "stdout"
        }
      ]
    },
    {
      "cell_type": "code",
      "metadata": {
        "colab": {
          "base_uri": "https://localhost:8080/"
        },
        "id": "4IbxUjaoxl1p",
        "outputId": "c00b4cd3-d886-45e9-91ff-d8099ae62d5e"
      },
      "source": [
        "df.select(['player', 'ranking'])"
      ],
      "execution_count": 19,
      "outputs": [
        {
          "output_type": "execute_result",
          "data": {
            "text/plain": [
              "DataFrame[player: string, ranking: bigint]"
            ]
          },
          "metadata": {
            "tags": []
          },
          "execution_count": 19
        }
      ]
    },
    {
      "cell_type": "code",
      "metadata": {
        "colab": {
          "base_uri": "https://localhost:8080/"
        },
        "id": "DV0m3AAdxuFx",
        "outputId": "78c64e06-f91c-43b5-a658-07dae82f7746"
      },
      "source": [
        "df.select(['player', 'ranking']).show()"
      ],
      "execution_count": 20,
      "outputs": [
        {
          "output_type": "stream",
          "text": [
            "+------+-------+\n",
            "|player|ranking|\n",
            "+------+-------+\n",
            "| patty|     64|\n",
            "| matty|     90|\n",
            "| cathy|    100|\n",
            "| sandy|     50|\n",
            "|  joey|     73|\n",
            "| tammy|     86|\n",
            "|marley|    100|\n",
            "+------+-------+\n",
            "\n"
          ],
          "name": "stdout"
        }
      ]
    },
    {
      "cell_type": "code",
      "metadata": {
        "colab": {
          "base_uri": "https://localhost:8080/"
        },
        "id": "ot5DgPtJxxZx",
        "outputId": "4e076f43-17ae-402f-dd07-61bff2e0d6e4"
      },
      "source": [
        "df.filter(df['ranking'] > 80)"
      ],
      "execution_count": 22,
      "outputs": [
        {
          "output_type": "execute_result",
          "data": {
            "text/plain": [
              "DataFrame[player: string, season: string, sport: string, ranking: bigint]"
            ]
          },
          "metadata": {
            "tags": []
          },
          "execution_count": 22
        }
      ]
    },
    {
      "cell_type": "code",
      "metadata": {
        "colab": {
          "base_uri": "https://localhost:8080/"
        },
        "id": "i2T4pDyJx4qJ",
        "outputId": "65eaecaa-d1fe-4053-9c0a-f019c71f49da"
      },
      "source": [
        "df.filter(df['ranking'] > 80).show()"
      ],
      "execution_count": 23,
      "outputs": [
        {
          "output_type": "stream",
          "text": [
            "+------+------+--------+-------+\n",
            "|player|season|   sport|ranking|\n",
            "+------+------+--------+-------+\n",
            "| matty|autumn|  hockey|     90|\n",
            "| cathy|spring|baseball|    100|\n",
            "| tammy|spring|  soccer|     86|\n",
            "|marley|autumn|  hockey|    100|\n",
            "+------+------+--------+-------+\n",
            "\n"
          ],
          "name": "stdout"
        }
      ]
    },
    {
      "cell_type": "code",
      "metadata": {
        "colab": {
          "base_uri": "https://localhost:8080/"
        },
        "id": "f4rd8v5ox7GR",
        "outputId": "34e4d4a2-59c5-4db6-ebf5-90c2eafc357c"
      },
      "source": [
        "df.filter(df['season'] == 'autumn').show()"
      ],
      "execution_count": 24,
      "outputs": [
        {
          "output_type": "stream",
          "text": [
            "+------+------+------+-------+\n",
            "|player|season| sport|ranking|\n",
            "+------+------+------+-------+\n",
            "| matty|autumn|hockey|     90|\n",
            "| sandy|autumn|soccer|     50|\n",
            "|marley|autumn|hockey|    100|\n",
            "+------+------+------+-------+\n",
            "\n"
          ],
          "name": "stdout"
        }
      ]
    },
    {
      "cell_type": "code",
      "metadata": {
        "colab": {
          "base_uri": "https://localhost:8080/"
        },
        "id": "XOBwtwDbyFPB",
        "outputId": "9e11cbbc-ec17-43a2-e227-7fa295e2cb0d"
      },
      "source": [
        "df.filter(df.season == 'autumn').show()"
      ],
      "execution_count": 25,
      "outputs": [
        {
          "output_type": "stream",
          "text": [
            "+------+------+------+-------+\n",
            "|player|season| sport|ranking|\n",
            "+------+------+------+-------+\n",
            "| matty|autumn|hockey|     90|\n",
            "| sandy|autumn|soccer|     50|\n",
            "|marley|autumn|hockey|    100|\n",
            "+------+------+------+-------+\n",
            "\n"
          ],
          "name": "stdout"
        }
      ]
    },
    {
      "cell_type": "code",
      "metadata": {
        "colab": {
          "base_uri": "https://localhost:8080/"
        },
        "id": "nijOwcBD0x6i",
        "outputId": "54f20b75-dec6-4f23-e929-36ff1385de7b"
      },
      "source": [
        "# Create new column\r\n",
        "df.select(df['player'], df['season'], df['sport'], df['ranking'], \r\n",
        "          (df['ranking'] - 15).alias('new_ranking')).show()"
      ],
      "execution_count": 27,
      "outputs": [
        {
          "output_type": "stream",
          "text": [
            "+------+------+--------+-------+-----------+\n",
            "|player|season|   sport|ranking|new_ranking|\n",
            "+------+------+--------+-------+-----------+\n",
            "| patty|spring|baseball|     64|         49|\n",
            "| matty|autumn|  hockey|     90|         75|\n",
            "| cathy|spring|baseball|    100|         85|\n",
            "| sandy|autumn|  soccer|     50|         35|\n",
            "|  joey|summer|  soccer|     73|         58|\n",
            "| tammy|spring|  soccer|     86|         71|\n",
            "|marley|autumn|  hockey|    100|         85|\n",
            "+------+------+--------+-------+-----------+\n",
            "\n"
          ],
          "name": "stdout"
        }
      ]
    },
    {
      "cell_type": "code",
      "metadata": {
        "colab": {
          "base_uri": "https://localhost:8080/"
        },
        "id": "K95XxG6p1QQh",
        "outputId": "9d3515bd-a403-41f6-f0cc-ee45372594c3"
      },
      "source": [
        "df.withColumn('lowered_ranking', df['ranking'] * 0.33).show()"
      ],
      "execution_count": 28,
      "outputs": [
        {
          "output_type": "stream",
          "text": [
            "+------+------+--------+-------+------------------+\n",
            "|player|season|   sport|ranking|   lowered_ranking|\n",
            "+------+------+--------+-------+------------------+\n",
            "| patty|spring|baseball|     64|             21.12|\n",
            "| matty|autumn|  hockey|     90|29.700000000000003|\n",
            "| cathy|spring|baseball|    100|              33.0|\n",
            "| sandy|autumn|  soccer|     50|              16.5|\n",
            "|  joey|summer|  soccer|     73|             24.09|\n",
            "| tammy|spring|  soccer|     86|28.380000000000003|\n",
            "|marley|autumn|  hockey|    100|              33.0|\n",
            "+------+------+--------+-------+------------------+\n",
            "\n"
          ],
          "name": "stdout"
        }
      ]
    },
    {
      "cell_type": "code",
      "metadata": {
        "colab": {
          "base_uri": "https://localhost:8080/"
        },
        "id": "O_BNgRLY1kgw",
        "outputId": "ef6b4fc2-77db-4c76-9439-ad6cf578a776"
      },
      "source": [
        "df.select(df['player'], df['ranking']).withColumn('lowered_ranking', df['ranking'] * 0.33).show()"
      ],
      "execution_count": 30,
      "outputs": [
        {
          "output_type": "stream",
          "text": [
            "+------+-------+------------------+\n",
            "|player|ranking|   lowered_ranking|\n",
            "+------+-------+------------------+\n",
            "| patty|     64|             21.12|\n",
            "| matty|     90|29.700000000000003|\n",
            "| cathy|    100|              33.0|\n",
            "| sandy|     50|              16.5|\n",
            "|  joey|     73|             24.09|\n",
            "| tammy|     86|28.380000000000003|\n",
            "|marley|    100|              33.0|\n",
            "+------+-------+------------------+\n",
            "\n"
          ],
          "name": "stdout"
        }
      ]
    },
    {
      "cell_type": "code",
      "metadata": {
        "colab": {
          "base_uri": "https://localhost:8080/",
          "height": 306
        },
        "id": "GlfahWKr1vFR",
        "outputId": "541d9038-1336-4eae-fbf7-44aa82aa5fe3"
      },
      "source": [
        "# Raise Error\r\n",
        "df.select(df['player'], df['season']).withColumn('lowered_ranking', df['ranking'] * 0.33).show()"
      ],
      "execution_count": 31,
      "outputs": [
        {
          "output_type": "error",
          "ename": "AnalysisException",
          "evalue": "ignored",
          "traceback": [
            "\u001b[0;31m---------------------------------------------------------------------------\u001b[0m",
            "\u001b[0;31mAnalysisException\u001b[0m                         Traceback (most recent call last)",
            "\u001b[0;32m<ipython-input-31-2fad8b606495>\u001b[0m in \u001b[0;36m<module>\u001b[0;34m()\u001b[0m\n\u001b[1;32m      1\u001b[0m \u001b[0;31m# Raise Error\u001b[0m\u001b[0;34m\u001b[0m\u001b[0;34m\u001b[0m\u001b[0;34m\u001b[0m\u001b[0m\n\u001b[0;32m----> 2\u001b[0;31m \u001b[0mdf\u001b[0m\u001b[0;34m.\u001b[0m\u001b[0mselect\u001b[0m\u001b[0;34m(\u001b[0m\u001b[0mdf\u001b[0m\u001b[0;34m[\u001b[0m\u001b[0;34m'player'\u001b[0m\u001b[0;34m]\u001b[0m\u001b[0;34m,\u001b[0m \u001b[0mdf\u001b[0m\u001b[0;34m[\u001b[0m\u001b[0;34m'season'\u001b[0m\u001b[0;34m]\u001b[0m\u001b[0;34m)\u001b[0m\u001b[0;34m.\u001b[0m\u001b[0mwithColumn\u001b[0m\u001b[0;34m(\u001b[0m\u001b[0;34m'lowered_ranking'\u001b[0m\u001b[0;34m,\u001b[0m \u001b[0mdf\u001b[0m\u001b[0;34m[\u001b[0m\u001b[0;34m'ranking'\u001b[0m\u001b[0;34m]\u001b[0m \u001b[0;34m*\u001b[0m \u001b[0;36m0.33\u001b[0m\u001b[0;34m)\u001b[0m\u001b[0;34m.\u001b[0m\u001b[0mshow\u001b[0m\u001b[0;34m(\u001b[0m\u001b[0;34m)\u001b[0m\u001b[0;34m\u001b[0m\u001b[0;34m\u001b[0m\u001b[0m\n\u001b[0m",
            "\u001b[0;32m/content/spark-3.0.1-bin-hadoop2.7/python/pyspark/sql/dataframe.py\u001b[0m in \u001b[0;36mwithColumn\u001b[0;34m(self, colName, col)\u001b[0m\n\u001b[1;32m   2094\u001b[0m         \"\"\"\n\u001b[1;32m   2095\u001b[0m         \u001b[0;32massert\u001b[0m \u001b[0misinstance\u001b[0m\u001b[0;34m(\u001b[0m\u001b[0mcol\u001b[0m\u001b[0;34m,\u001b[0m \u001b[0mColumn\u001b[0m\u001b[0;34m)\u001b[0m\u001b[0;34m,\u001b[0m \u001b[0;34m\"col should be Column\"\u001b[0m\u001b[0;34m\u001b[0m\u001b[0;34m\u001b[0m\u001b[0m\n\u001b[0;32m-> 2096\u001b[0;31m         \u001b[0;32mreturn\u001b[0m \u001b[0mDataFrame\u001b[0m\u001b[0;34m(\u001b[0m\u001b[0mself\u001b[0m\u001b[0;34m.\u001b[0m\u001b[0m_jdf\u001b[0m\u001b[0;34m.\u001b[0m\u001b[0mwithColumn\u001b[0m\u001b[0;34m(\u001b[0m\u001b[0mcolName\u001b[0m\u001b[0;34m,\u001b[0m \u001b[0mcol\u001b[0m\u001b[0;34m.\u001b[0m\u001b[0m_jc\u001b[0m\u001b[0;34m)\u001b[0m\u001b[0;34m,\u001b[0m \u001b[0mself\u001b[0m\u001b[0;34m.\u001b[0m\u001b[0msql_ctx\u001b[0m\u001b[0;34m)\u001b[0m\u001b[0;34m\u001b[0m\u001b[0;34m\u001b[0m\u001b[0m\n\u001b[0m\u001b[1;32m   2097\u001b[0m \u001b[0;34m\u001b[0m\u001b[0m\n\u001b[1;32m   2098\u001b[0m     \u001b[0;34m@\u001b[0m\u001b[0mignore_unicode_prefix\u001b[0m\u001b[0;34m\u001b[0m\u001b[0;34m\u001b[0m\u001b[0m\n",
            "\u001b[0;32m/content/spark-3.0.1-bin-hadoop2.7/python/lib/py4j-0.10.9-src.zip/py4j/java_gateway.py\u001b[0m in \u001b[0;36m__call__\u001b[0;34m(self, *args)\u001b[0m\n\u001b[1;32m   1303\u001b[0m         \u001b[0manswer\u001b[0m \u001b[0;34m=\u001b[0m \u001b[0mself\u001b[0m\u001b[0;34m.\u001b[0m\u001b[0mgateway_client\u001b[0m\u001b[0;34m.\u001b[0m\u001b[0msend_command\u001b[0m\u001b[0;34m(\u001b[0m\u001b[0mcommand\u001b[0m\u001b[0;34m)\u001b[0m\u001b[0;34m\u001b[0m\u001b[0;34m\u001b[0m\u001b[0m\n\u001b[1;32m   1304\u001b[0m         return_value = get_return_value(\n\u001b[0;32m-> 1305\u001b[0;31m             answer, self.gateway_client, self.target_id, self.name)\n\u001b[0m\u001b[1;32m   1306\u001b[0m \u001b[0;34m\u001b[0m\u001b[0m\n\u001b[1;32m   1307\u001b[0m         \u001b[0;32mfor\u001b[0m \u001b[0mtemp_arg\u001b[0m \u001b[0;32min\u001b[0m \u001b[0mtemp_args\u001b[0m\u001b[0;34m:\u001b[0m\u001b[0;34m\u001b[0m\u001b[0;34m\u001b[0m\u001b[0m\n",
            "\u001b[0;32m/content/spark-3.0.1-bin-hadoop2.7/python/pyspark/sql/utils.py\u001b[0m in \u001b[0;36mdeco\u001b[0;34m(*a, **kw)\u001b[0m\n\u001b[1;32m    132\u001b[0m                 \u001b[0;31m# Hide where the exception came from that shows a non-Pythonic\u001b[0m\u001b[0;34m\u001b[0m\u001b[0;34m\u001b[0m\u001b[0;34m\u001b[0m\u001b[0m\n\u001b[1;32m    133\u001b[0m                 \u001b[0;31m# JVM exception message.\u001b[0m\u001b[0;34m\u001b[0m\u001b[0;34m\u001b[0m\u001b[0;34m\u001b[0m\u001b[0m\n\u001b[0;32m--> 134\u001b[0;31m                 \u001b[0mraise_from\u001b[0m\u001b[0;34m(\u001b[0m\u001b[0mconverted\u001b[0m\u001b[0;34m)\u001b[0m\u001b[0;34m\u001b[0m\u001b[0;34m\u001b[0m\u001b[0m\n\u001b[0m\u001b[1;32m    135\u001b[0m             \u001b[0;32melse\u001b[0m\u001b[0;34m:\u001b[0m\u001b[0;34m\u001b[0m\u001b[0;34m\u001b[0m\u001b[0m\n\u001b[1;32m    136\u001b[0m                 \u001b[0;32mraise\u001b[0m\u001b[0;34m\u001b[0m\u001b[0;34m\u001b[0m\u001b[0m\n",
            "\u001b[0;32m/content/spark-3.0.1-bin-hadoop2.7/python/pyspark/sql/utils.py\u001b[0m in \u001b[0;36mraise_from\u001b[0;34m(e)\u001b[0m\n",
            "\u001b[0;31mAnalysisException\u001b[0m: Resolved attribute(s) ranking#3L missing from player#0,season#1 in operator !Project [player#0, season#1, (cast(ranking#3L as double) * 0.33) AS lowered_ranking#498].;;\n!Project [player#0, season#1, (cast(ranking#3L as double) * 0.33) AS lowered_ranking#498]\n+- Project [player#0, season#1]\n   +- LogicalRDD [player#0, season#1, sport#2, ranking#3L], false\n"
          ]
        }
      ]
    },
    {
      "cell_type": "code",
      "metadata": {
        "colab": {
          "base_uri": "https://localhost:8080/"
        },
        "id": "Ndb_zbLW15Vw",
        "outputId": "307adb23-aee2-4be1-8c2f-0037835b8a10"
      },
      "source": [
        "df.select(df['player'], df['season'], \r\n",
        "          (df['ranking'] * 0.33).alias('new_ranking')).show()"
      ],
      "execution_count": 33,
      "outputs": [
        {
          "output_type": "stream",
          "text": [
            "+------+------+------------------+\n",
            "|player|season|       new_ranking|\n",
            "+------+------+------------------+\n",
            "| patty|spring|             21.12|\n",
            "| matty|autumn|29.700000000000003|\n",
            "| cathy|spring|              33.0|\n",
            "| sandy|autumn|              16.5|\n",
            "|  joey|summer|             24.09|\n",
            "| tammy|spring|28.380000000000003|\n",
            "|marley|autumn|              33.0|\n",
            "+------+------+------------------+\n",
            "\n"
          ],
          "name": "stdout"
        }
      ]
    },
    {
      "cell_type": "code",
      "metadata": {
        "colab": {
          "base_uri": "https://localhost:8080/"
        },
        "id": "xkz-71SR19ag",
        "outputId": "3dc320b9-7625-46b9-b3a7-ad8e5eb87dc4"
      },
      "source": [
        "df.sort(df['ranking']).show()"
      ],
      "execution_count": 34,
      "outputs": [
        {
          "output_type": "stream",
          "text": [
            "+------+------+--------+-------+\n",
            "|player|season|   sport|ranking|\n",
            "+------+------+--------+-------+\n",
            "| sandy|autumn|  soccer|     50|\n",
            "| patty|spring|baseball|     64|\n",
            "|  joey|summer|  soccer|     73|\n",
            "| tammy|spring|  soccer|     86|\n",
            "| matty|autumn|  hockey|     90|\n",
            "| cathy|spring|baseball|    100|\n",
            "|marley|autumn|  hockey|    100|\n",
            "+------+------+--------+-------+\n",
            "\n"
          ],
          "name": "stdout"
        }
      ]
    },
    {
      "cell_type": "code",
      "metadata": {
        "colab": {
          "base_uri": "https://localhost:8080/"
        },
        "id": "qpGi5PNV2G9v",
        "outputId": "21d98f26-19b9-4280-f187-629f02e05733"
      },
      "source": [
        "df.sort(df['ranking'].desc()).show()"
      ],
      "execution_count": 36,
      "outputs": [
        {
          "output_type": "stream",
          "text": [
            "+------+------+--------+-------+\n",
            "|player|season|   sport|ranking|\n",
            "+------+------+--------+-------+\n",
            "|marley|autumn|  hockey|    100|\n",
            "| cathy|spring|baseball|    100|\n",
            "| matty|autumn|  hockey|     90|\n",
            "| tammy|spring|  soccer|     86|\n",
            "|  joey|summer|  soccer|     73|\n",
            "| patty|spring|baseball|     64|\n",
            "| sandy|autumn|  soccer|     50|\n",
            "+------+------+--------+-------+\n",
            "\n"
          ],
          "name": "stdout"
        }
      ]
    },
    {
      "cell_type": "code",
      "metadata": {
        "colab": {
          "base_uri": "https://localhost:8080/"
        },
        "id": "bGMnaSCh2LsX",
        "outputId": "7d92f12a-cf63-4e48-e2b7-71e4afeaa904"
      },
      "source": [
        "df.sort(df.ranking).show()"
      ],
      "execution_count": 38,
      "outputs": [
        {
          "output_type": "stream",
          "text": [
            "+------+------+--------+-------+\n",
            "|player|season|   sport|ranking|\n",
            "+------+------+--------+-------+\n",
            "| sandy|autumn|  soccer|     50|\n",
            "| patty|spring|baseball|     64|\n",
            "|  joey|summer|  soccer|     73|\n",
            "| tammy|spring|  soccer|     86|\n",
            "| matty|autumn|  hockey|     90|\n",
            "| cathy|spring|baseball|    100|\n",
            "|marley|autumn|  hockey|    100|\n",
            "+------+------+--------+-------+\n",
            "\n"
          ],
          "name": "stdout"
        }
      ]
    },
    {
      "cell_type": "code",
      "metadata": {
        "colab": {
          "base_uri": "https://localhost:8080/"
        },
        "id": "IoBy4E6g2U8Y",
        "outputId": "5990e069-dbf8-40d0-c091-378bdaeb0168"
      },
      "source": [
        "df.sort(df.ranking.desc()).show()"
      ],
      "execution_count": 39,
      "outputs": [
        {
          "output_type": "stream",
          "text": [
            "+------+------+--------+-------+\n",
            "|player|season|   sport|ranking|\n",
            "+------+------+--------+-------+\n",
            "| cathy|spring|baseball|    100|\n",
            "|marley|autumn|  hockey|    100|\n",
            "| matty|autumn|  hockey|     90|\n",
            "| tammy|spring|  soccer|     86|\n",
            "|  joey|summer|  soccer|     73|\n",
            "| patty|spring|baseball|     64|\n",
            "| sandy|autumn|  soccer|     50|\n",
            "+------+------+--------+-------+\n",
            "\n"
          ],
          "name": "stdout"
        }
      ]
    },
    {
      "cell_type": "code",
      "metadata": {
        "id": "qGF2gxEh2X2A"
      },
      "source": [
        ""
      ],
      "execution_count": null,
      "outputs": []
    }
  ]
}