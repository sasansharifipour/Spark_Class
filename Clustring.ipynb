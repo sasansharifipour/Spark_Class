{
  "nbformat": 4,
  "nbformat_minor": 0,
  "metadata": {
    "colab": {
      "name": "Clustring.ipynb",
      "provenance": [],
      "authorship_tag": "ABX9TyOLJPZbrkJoB7Urbitvck/O",
      "include_colab_link": true
    },
    "kernelspec": {
      "name": "python3",
      "display_name": "Python 3"
    }
  },
  "cells": [
    {
      "cell_type": "markdown",
      "metadata": {
        "id": "view-in-github",
        "colab_type": "text"
      },
      "source": [
        "<a href=\"https://colab.research.google.com/github/sasansharifipour/Spark_Class/blob/main/Clustring.ipynb\" target=\"_parent\"><img src=\"https://colab.research.google.com/assets/colab-badge.svg\" alt=\"Open In Colab\"/></a>"
      ]
    },
    {
      "cell_type": "code",
      "metadata": {
        "id": "wsFBP1lfGy-2"
      },
      "source": [
        "!apt-get install openjdk-8-jdk-headless -qq > /dev/null\r\n",
        "!wget -q https://downloads.apache.org/spark/spark-3.0.1/spark-3.0.1-bin-hadoop2.7.tgz\r\n",
        "!tar xf spark-3.0.1-bin-hadoop2.7.tgz\r\n",
        "!pip install -q findspark\r\n",
        "\r\n",
        "import os\r\n",
        "os.environ[\"JAVA_HOME\"] = \"/usr/lib/jvm/java-8-openjdk-amd64\"\r\n",
        "os.environ[\"SPARK_HOME\"] = \"/content/spark-3.0.1-bin-hadoop2.7\"\r\n",
        "\r\n",
        "import findspark\r\n",
        "findspark.init()"
      ],
      "execution_count": 1,
      "outputs": []
    },
    {
      "cell_type": "code",
      "metadata": {
        "id": "t6a2PqM7Gzxf"
      },
      "source": [
        "from pyspark.sql import SparkSession\r\n",
        "\r\n",
        "spark = SparkSession.builder.getOrCreate()"
      ],
      "execution_count": 2,
      "outputs": []
    },
    {
      "cell_type": "markdown",
      "metadata": {
        "id": "ynrGdqaFG8LQ"
      },
      "source": [
        "K-Means"
      ]
    },
    {
      "cell_type": "code",
      "metadata": {
        "id": "3V3EVNv4G10u"
      },
      "source": [
        "from pyspark.ml.clustering import KMeans\r\n",
        "from pyspark.ml.evaluation import ClusteringEvaluator"
      ],
      "execution_count": 3,
      "outputs": []
    },
    {
      "cell_type": "code",
      "metadata": {
        "id": "6G0VMwfKHLPY"
      },
      "source": [
        "dataset = spark.read.format(\"libsvm\").load(\"spark-3.0.1-bin-hadoop2.7/data/mllib/sample_kmeans_data.txt\")"
      ],
      "execution_count": 4,
      "outputs": []
    },
    {
      "cell_type": "code",
      "metadata": {
        "colab": {
          "base_uri": "https://localhost:8080/"
        },
        "id": "1EFO-US5HRy-",
        "outputId": "b2fc61da-d126-4725-c7ab-db476c1eb591"
      },
      "source": [
        "dataset.show()"
      ],
      "execution_count": 5,
      "outputs": [
        {
          "output_type": "stream",
          "text": [
            "+-----+--------------------+\n",
            "|label|            features|\n",
            "+-----+--------------------+\n",
            "|  0.0|           (3,[],[])|\n",
            "|  1.0|(3,[0,1,2],[0.1,0...|\n",
            "|  2.0|(3,[0,1,2],[0.2,0...|\n",
            "|  3.0|(3,[0,1,2],[9.0,9...|\n",
            "|  4.0|(3,[0,1,2],[9.1,9...|\n",
            "|  5.0|(3,[0,1,2],[9.2,9...|\n",
            "+-----+--------------------+\n",
            "\n"
          ],
          "name": "stdout"
        }
      ]
    },
    {
      "cell_type": "code",
      "metadata": {
        "id": "Z3-ebV6JHTsO"
      },
      "source": [
        "kmeans = KMeans().setK(2).setSeed(1)\r\n",
        "model = kmeans.fit(dataset)"
      ],
      "execution_count": 6,
      "outputs": []
    },
    {
      "cell_type": "code",
      "metadata": {
        "id": "33wJfiojHhk2"
      },
      "source": [
        "predictions = model.transform(dataset)"
      ],
      "execution_count": 7,
      "outputs": []
    },
    {
      "cell_type": "code",
      "metadata": {
        "colab": {
          "base_uri": "https://localhost:8080/"
        },
        "id": "5pcm-zW8HnrX",
        "outputId": "516739ff-1ef9-4dcd-fcac-2e76eaa14f4a"
      },
      "source": [
        "predictions.show()"
      ],
      "execution_count": 8,
      "outputs": [
        {
          "output_type": "stream",
          "text": [
            "+-----+--------------------+----------+\n",
            "|label|            features|prediction|\n",
            "+-----+--------------------+----------+\n",
            "|  0.0|           (3,[],[])|         1|\n",
            "|  1.0|(3,[0,1,2],[0.1,0...|         1|\n",
            "|  2.0|(3,[0,1,2],[0.2,0...|         1|\n",
            "|  3.0|(3,[0,1,2],[9.0,9...|         0|\n",
            "|  4.0|(3,[0,1,2],[9.1,9...|         0|\n",
            "|  5.0|(3,[0,1,2],[9.2,9...|         0|\n",
            "+-----+--------------------+----------+\n",
            "\n"
          ],
          "name": "stdout"
        }
      ]
    },
    {
      "cell_type": "code",
      "metadata": {
        "id": "Kr42QWwfHpbN"
      },
      "source": [
        "evaluator = ClusteringEvaluator()"
      ],
      "execution_count": 9,
      "outputs": []
    },
    {
      "cell_type": "code",
      "metadata": {
        "colab": {
          "base_uri": "https://localhost:8080/"
        },
        "id": "3zyxQ1AzHxwe",
        "outputId": "ff0995a7-dd7f-4df3-bfc7-e5d6c36fafb4"
      },
      "source": [
        "silhoutte = evaluator.evaluate(predictions)\r\n",
        "print(\"Silhouette with squared euclidean distance = \" + str(silhoutte))"
      ],
      "execution_count": 10,
      "outputs": [
        {
          "output_type": "stream",
          "text": [
            "Silhouette with squared euclidean distance = 0.9997530305375207\n"
          ],
          "name": "stdout"
        }
      ]
    },
    {
      "cell_type": "code",
      "metadata": {
        "colab": {
          "base_uri": "https://localhost:8080/"
        },
        "id": "CGXEhqoOIMLO",
        "outputId": "eee7ab9f-4e30-4e21-a0f6-dfbb6203785d"
      },
      "source": [
        "centers = model.clusterCenters()\r\n",
        "print(\"Cluster Centers : \")\r\n",
        "for center in centers:\r\n",
        "  print(center)"
      ],
      "execution_count": 11,
      "outputs": [
        {
          "output_type": "stream",
          "text": [
            "Cluster Centers : \n",
            "[9.1 9.1 9.1]\n",
            "[0.1 0.1 0.1]\n"
          ],
          "name": "stdout"
        }
      ]
    },
    {
      "cell_type": "markdown",
      "metadata": {
        "id": "O3hxAy26Ifyw"
      },
      "source": [
        "LDA"
      ]
    },
    {
      "cell_type": "code",
      "metadata": {
        "id": "I4zxgrDVIa-X"
      },
      "source": [
        "from pyspark.ml.clustering import LDA"
      ],
      "execution_count": 12,
      "outputs": []
    },
    {
      "cell_type": "code",
      "metadata": {
        "id": "rjdONZ4_IlcO"
      },
      "source": [
        "dataset = spark.read.format(\"libsvm\").load(\"spark-3.0.1-bin-hadoop2.7/data/mllib/sample_lda_libsvm_data.txt\")"
      ],
      "execution_count": 13,
      "outputs": []
    },
    {
      "cell_type": "code",
      "metadata": {
        "colab": {
          "base_uri": "https://localhost:8080/"
        },
        "id": "vgc8DCBoIsXG",
        "outputId": "11b3952d-ae53-42c7-e71f-1a4c85056766"
      },
      "source": [
        "dataset.show()"
      ],
      "execution_count": 14,
      "outputs": [
        {
          "output_type": "stream",
          "text": [
            "+-----+--------------------+\n",
            "|label|            features|\n",
            "+-----+--------------------+\n",
            "|  0.0|(11,[0,1,2,4,5,6,...|\n",
            "|  1.0|(11,[0,1,3,4,7,10...|\n",
            "|  2.0|(11,[0,1,2,5,6,8,...|\n",
            "|  3.0|(11,[0,1,3,6,8,9,...|\n",
            "|  4.0|(11,[0,1,2,3,4,6,...|\n",
            "|  5.0|(11,[0,1,3,4,5,6,...|\n",
            "|  6.0|(11,[0,1,3,6,8,9,...|\n",
            "|  7.0|(11,[0,1,2,3,4,5,...|\n",
            "|  8.0|(11,[0,1,3,4,5,6,...|\n",
            "|  9.0|(11,[0,1,2,4,6,8,...|\n",
            "| 10.0|(11,[0,1,2,3,5,6,...|\n",
            "| 11.0|(11,[0,1,4,5,6,7,...|\n",
            "+-----+--------------------+\n",
            "\n"
          ],
          "name": "stdout"
        }
      ]
    },
    {
      "cell_type": "code",
      "metadata": {
        "id": "HzdgHfzgIt9W"
      },
      "source": [
        "lda = LDA(k =10, maxIter=10)\r\n",
        "model = lda.fit(dataset)"
      ],
      "execution_count": 15,
      "outputs": []
    },
    {
      "cell_type": "code",
      "metadata": {
        "colab": {
          "base_uri": "https://localhost:8080/"
        },
        "id": "hk7CjdKEI3-f",
        "outputId": "59e3f2f0-9c87-4639-9f29-093f72debad6"
      },
      "source": [
        "ll = model.logLikelihood(dataset)\r\n",
        "lp = model.logPerplexity(dataset)\r\n",
        "print(\"The lower bound on the log likelihood of the entrie corpus: \" + str(ll))\r\n",
        "print(\"The lower bound on the log perplexity: \" + str(lp))"
      ],
      "execution_count": 16,
      "outputs": [
        {
          "output_type": "stream",
          "text": [
            "The lower bound on the log likelihood of the entrie corpus: -802.6921083168511\n",
            "The lower bound on the log perplexity: 3.0872773396801967\n"
          ],
          "name": "stdout"
        }
      ]
    },
    {
      "cell_type": "code",
      "metadata": {
        "colab": {
          "base_uri": "https://localhost:8080/"
        },
        "id": "FQRQAwH1JWlw",
        "outputId": "5e47d951-8c80-44e9-b6cf-7c7e8120884f"
      },
      "source": [
        "topics = model.describeTopics(3)\r\n",
        "print(\"The topics described by their top-weighted terms : \")\r\n",
        "topics.show(truncate=False)"
      ],
      "execution_count": 17,
      "outputs": [
        {
          "output_type": "stream",
          "text": [
            "The topics described by their top-weighted terms : \n",
            "+-----+-----------+---------------------------------------------------------------+\n",
            "|topic|termIndices|termWeights                                                    |\n",
            "+-----+-----------+---------------------------------------------------------------+\n",
            "|0    |[9, 6, 8]  |[0.11938133238688342, 0.09832742663233758, 0.09778055644246263]|\n",
            "|1    |[9, 10, 8] |[0.10359802577383691, 0.09984505651654535, 0.09721940069830898]|\n",
            "|2    |[2, 10, 8] |[0.1050083351567891, 0.10332239149433853, 0.09835974378079414] |\n",
            "|3    |[3, 10, 4] |[0.22913363157196692, 0.17271020815256324, 0.11328092238132463]|\n",
            "|4    |[6, 1, 9]  |[0.20707120033435528, 0.1716780929931112, 0.1436643060272085]  |\n",
            "|5    |[8, 1, 7]  |[0.10980866889565394, 0.09600076116358597, 0.09507867366188923]|\n",
            "|6    |[2, 10, 5] |[0.10322308690068116, 0.1014065807845403, 0.09881338995500483] |\n",
            "|7    |[7, 8, 0]  |[0.10039110321104068, 0.09750239967756968, 0.09718581186940799]|\n",
            "|8    |[0, 7, 4]  |[0.10165848840648511, 0.10154213538433259, 0.0985443693522121] |\n",
            "|9    |[7, 9, 2]  |[0.10463423273676468, 0.103908920594294, 0.10028814936182279]  |\n",
            "+-----+-----------+---------------------------------------------------------------+\n",
            "\n"
          ],
          "name": "stdout"
        }
      ]
    },
    {
      "cell_type": "code",
      "metadata": {
        "colab": {
          "base_uri": "https://localhost:8080/"
        },
        "id": "2SXFFrgiJp3m",
        "outputId": "a659c7a2-a4c8-419b-8ae5-4228672f85c5"
      },
      "source": [
        "transformed = model.transform(dataset)\r\n",
        "transformed.show(truncate= False)"
      ],
      "execution_count": 19,
      "outputs": [
        {
          "output_type": "stream",
          "text": [
            "+-----+---------------------------------------------------------------+---------------------------------------------------------------------------------------------------------------------------------------------------------------------------------------------------------------------+\n",
            "|label|features                                                       |topicDistribution                                                                                                                                                                                                    |\n",
            "+-----+---------------------------------------------------------------+---------------------------------------------------------------------------------------------------------------------------------------------------------------------------------------------------------------------+\n",
            "|0.0  |(11,[0,1,2,4,5,6,7,10],[1.0,2.0,6.0,2.0,3.0,1.0,1.0,3.0])      |[0.0047359403491389245,0.004736037180698078,0.004736098086692605,0.32195342189083265,0.640158122863837,0.004736046912364819,0.0047361755610711,0.004736028106508689,0.004736031641160741,0.004736097407695495]       |\n",
            "|1.0  |(11,[0,1,3,4,7,10],[1.0,3.0,1.0,3.0,2.0,1.0])                  |[0.007901023421397466,0.00790106784090683,0.007901038442482609,0.9281363084306832,0.008654755477649528,0.007901121207794447,0.007901089511676533,0.00790114280667536,0.007901252335542456,0.007901200525191727]      |\n",
            "|2.0  |(11,[0,1,2,5,6,8,9],[1.0,4.0,1.0,4.0,9.0,1.0,2.0])             |[0.004117135914921014,0.004117126011178553,0.004117133302340739,0.004771616115871211,0.9622912852685201,0.004117147611930947,0.004117172618031458,0.004117127091085097,0.004117126266568011,0.004117129799552703]    |\n",
            "|3.0  |(11,[0,1,3,6,8,9,10],[2.0,1.0,3.0,5.0,2.0,3.0,9.0])            |[0.0036416033471169704,0.003641605284938354,0.003641631121227152,0.7475848535350749,0.22328225719936096,0.003641602202438129,0.0036416186913052887,0.003641586896892436,0.00364162468484436,0.0036416170368013673]   |\n",
            "|4.0  |(11,[0,1,2,3,4,6,9,10],[3.0,1.0,1.0,9.0,3.0,2.0,1.0,3.0])      |[0.003945385984319135,0.00394538438538062,0.003945416386212379,0.9641149420613669,0.004321896879333401,0.003945361162747378,0.003945419089200967,0.003945380625544933,0.003945404343796766,0.003945409082097375]     |\n",
            "|5.0  |(11,[0,1,3,4,5,6,7,8,9],[4.0,2.0,3.0,4.0,5.0,1.0,1.0,1.0,4.0]) |[0.0036417294038418127,0.003641749502621352,0.0036416990569108905,0.5214462325066151,0.4494199074971615,0.0036417076765328142,0.003641765728225378,0.0036417349884393796,0.003641749947259199,0.0036417236923925677] |\n",
            "|6.0  |(11,[0,1,3,6,8,9,10],[2.0,1.0,3.0,5.0,2.0,2.0,9.0])            |[0.0037874464063269173,0.0037874483396434424,0.0037874790829583514,0.813216030365165,0.15648429585142312,0.0037874563853824996,0.00378746918709639,0.0037874362213123664,0.0037874760833650997,0.003787462077326906] |\n",
            "|7.0  |(11,[0,1,2,3,4,5,6,9,10],[1.0,1.0,1.0,9.0,2.0,1.0,2.0,1.0,3.0])|[0.0043045820360753965,0.004304594849183116,0.004304616613512055,0.9608478854749759,0.004715322644206085,0.00430457499771313,0.004304647928133342,0.004304580373349848,0.0043045836078276075,0.004304611475023661]   |\n",
            "|8.0  |(11,[0,1,3,4,5,6,7],[4.0,4.0,3.0,4.0,2.0,1.0,3.0])             |[0.00430475640973918,0.0043047882280121035,0.004304741891860082,0.9608458869099793,0.004715690017987342,0.0043048041737527186,0.004304831974051747,0.004304829670292456,0.00430485325392293,0.004304817470402021]    |\n",
            "|9.0  |(11,[0,1,2,4,6,8,9,10],[2.0,8.0,2.0,3.0,2.0,2.0,7.0,2.0])      |[0.003264527144269172,0.003264540013481681,0.003264552584754479,0.0037849353371703066,0.9700988101057457,0.003264508070169417,0.0032645436701609107,0.003264503579426899,0.0032645508416394224,0.0032645286531820107]|\n",
            "|10.0 |(11,[0,1,2,3,5,6,9,10],[1.0,1.0,1.0,9.0,2.0,2.0,3.0,3.0])      |[0.0041172760537585285,0.004117281682543303,0.004117282666168626,0.9625504132341721,0.0045114032280458025,0.004117246518779408,0.004117323018053352,0.0041172486060821025,0.004117234734860176,0.0041172902575365945]|\n",
            "|11.0 |(11,[0,1,4,5,6,7,9],[4.0,1.0,4.0,5.0,1.0,3.0,1.0])             |[0.00473605077438182,0.004736109439899561,0.0047359901235730865,0.507314108670281,0.4547970335797314,0.004736084880971507,0.004736153848134313,0.004736154821404999,0.0047361912028277536,0.004736122658794578]      |\n",
            "+-----+---------------------------------------------------------------+---------------------------------------------------------------------------------------------------------------------------------------------------------------------------------------------------------------------+\n",
            "\n"
          ],
          "name": "stdout"
        }
      ]
    },
    {
      "cell_type": "code",
      "metadata": {
        "id": "V-hwxpCfJ4ze"
      },
      "source": [
        "spark.stop()"
      ],
      "execution_count": 20,
      "outputs": []
    },
    {
      "cell_type": "code",
      "metadata": {
        "id": "5ZXjlvHbKCLN"
      },
      "source": [
        ""
      ],
      "execution_count": null,
      "outputs": []
    }
  ]
}