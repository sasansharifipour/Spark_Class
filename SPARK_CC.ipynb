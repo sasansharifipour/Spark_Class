{
  "nbformat": 4,
  "nbformat_minor": 0,
  "metadata": {
    "colab": {
      "name": "SPARK_CC.ipynb",
      "provenance": [],
      "authorship_tag": "ABX9TyOXH/X7jQ64vEhzl6l82Maw",
      "include_colab_link": true
    },
    "kernelspec": {
      "name": "python3",
      "display_name": "Python 3"
    }
  },
  "cells": [
    {
      "cell_type": "markdown",
      "metadata": {
        "id": "view-in-github",
        "colab_type": "text"
      },
      "source": [
        "<a href=\"https://colab.research.google.com/github/sasansharifipour/Spark_Class/blob/main/SPARK_CC.ipynb\" target=\"_parent\"><img src=\"https://colab.research.google.com/assets/colab-badge.svg\" alt=\"Open In Colab\"/></a>"
      ]
    },
    {
      "cell_type": "code",
      "metadata": {
        "id": "3Mb5ZPJBVRlW"
      },
      "source": [
        "!apt-get install openjdk-8-jdk-headless -qq > /dev/null\r\n",
        "!wget -q https://downloads.apache.org/spark/spark-3.0.2/spark-3.0.2-bin-hadoop2.7.tgz\r\n",
        "!tar xf spark-3.0.2-bin-hadoop2.7.tgz\r\n",
        "!pip install -q findspark\r\n",
        "\r\n",
        "import os\r\n",
        "os.environ[\"JAVA_HOME\"] = \"/usr/lib/jvm/java-8-openjdk-amd64\"\r\n",
        "os.environ[\"SPARK_HOME\"] = \"/content/spark-3.0.2-bin-hadoop2.7\"\r\n",
        "\r\n",
        "import findspark\r\n",
        "findspark.init()"
      ],
      "execution_count": 6,
      "outputs": []
    },
    {
      "cell_type": "code",
      "metadata": {
        "id": "WXJ3ghNIZJY5"
      },
      "source": [
        "from pyspark.sql import SparkSession\r\n",
        "\r\n",
        "spark = SparkSession.builder.getOrCreate()"
      ],
      "execution_count": 7,
      "outputs": []
    },
    {
      "cell_type": "code",
      "metadata": {
        "id": "iuAIiAYWWest"
      },
      "source": [
        "df = spark.sparkContext.textFile(\"paper_graph_adj_list.txt\")"
      ],
      "execution_count": 10,
      "outputs": []
    },
    {
      "cell_type": "code",
      "metadata": {
        "id": "b7ZQ72npXnP2"
      },
      "source": [
        "temp_var = df.map(lambda k: k.split(\" \"))"
      ],
      "execution_count": 56,
      "outputs": []
    },
    {
      "cell_type": "code",
      "metadata": {
        "id": "DLbA9UjTieZl"
      },
      "source": [
        "data = temp_var.map(lambda k : (k[0], k[1::]))"
      ],
      "execution_count": 57,
      "outputs": []
    },
    {
      "cell_type": "code",
      "metadata": {
        "id": "6w92fMZui5Ez"
      },
      "source": [
        "def calc_cc(key, value):\r\n",
        "\r\n",
        "  result = []\r\n",
        "  cnt = len(value)\r\n",
        "\r\n",
        "  for i in range(cnt):\r\n",
        "    for j in range(i + 1, cnt):\r\n",
        "      if (value[i] < value[j]):\r\n",
        "        result.append( ((value[i], value[j]), key))\r\n",
        "      else:\r\n",
        "        result.append( ((value[j], value[i]), key))\r\n",
        "\r\n",
        "  return result"
      ],
      "execution_count": 58,
      "outputs": []
    },
    {
      "cell_type": "code",
      "metadata": {
        "id": "Pk3noymCkcxX"
      },
      "source": [
        "cc_reduce = data.flatMap(lambda x: calc_cc(x[0], x[1]))"
      ],
      "execution_count": 59,
      "outputs": []
    },
    {
      "cell_type": "code",
      "metadata": {
        "colab": {
          "base_uri": "https://localhost:8080/"
        },
        "id": "8Jp4W4wFktih",
        "outputId": "e606b5c3-81a9-48c3-f77a-bf88ca0a69ff"
      },
      "source": [
        "cc_reduce.groupByKey().map(lambda x : (x[0], list(x[1]))).collect()"
      ],
      "execution_count": 60,
      "outputs": [
        {
          "output_type": "execute_result",
          "data": {
            "text/plain": [
              "[(('D', 'F'), ['A', 'C']),\n",
              " (('D', 'E'), ['B']),\n",
              " (('A', 'B'), ['C', 'D']),\n",
              " (('A', 'F'), ['C']),\n",
              " (('A', 'D'), ['C']),\n",
              " (('A', 'G'), ['C', 'F']),\n",
              " (('B', 'F'), ['C']),\n",
              " (('B', 'D'), ['C', 'E']),\n",
              " (('B', 'G'), ['C']),\n",
              " (('F', 'G'), ['C']),\n",
              " (('D', 'G'), ['C']),\n",
              " (('A', 'E'), ['D']),\n",
              " (('B', 'E'), ['D']),\n",
              " (('J', 'K'), ['E']),\n",
              " (('A', 'H'), ['F']),\n",
              " (('A', 'I'), ['F']),\n",
              " (('G', 'H'), ['F']),\n",
              " (('G', 'I'), ['F']),\n",
              " (('H', 'I'), ['F']),\n",
              " (('F', 'I'), ['H']),\n",
              " (('F', 'H'), ['I']),\n",
              " (('C', 'D'), ['A', 'B']),\n",
              " (('C', 'F'), ['A', 'G']),\n",
              " (('C', 'E'), ['B', 'D']),\n",
              " (('A', 'C'), ['D', 'F']),\n",
              " (('B', 'C'), ['D']),\n",
              " (('B', 'J'), ['E']),\n",
              " (('B', 'K'), ['E']),\n",
              " (('D', 'J'), ['E']),\n",
              " (('D', 'K'), ['E']),\n",
              " (('C', 'G'), ['F']),\n",
              " (('C', 'H'), ['F']),\n",
              " (('C', 'I'), ['F']),\n",
              " (('E', 'K'), ['J']),\n",
              " (('E', 'J'), ['K'])]"
            ]
          },
          "metadata": {
            "tags": []
          },
          "execution_count": 60
        }
      ]
    },
    {
      "cell_type": "code",
      "metadata": {
        "id": "wYa66ff2lnGg"
      },
      "source": [
        "def calc_car(key, value):\r\n",
        "\r\n",
        "  result = []\r\n",
        "\r\n",
        "  cnt = len(value)\r\n",
        "\r\n",
        "  for i in range(cnt):\r\n",
        "    for j in range(i + 1, cnt):\r\n",
        "      for k in range(j +1, cnt):\r\n",
        "        \r\n",
        "        if (key < value[k]):\r\n",
        "          first_data = (key, value[k])\r\n",
        "        else:\r\n",
        "          first_data = (value[k], key)\r\n",
        "\r\n",
        "        if (value[i] < value[j]):\r\n",
        "          second_data = (value[i], value[j])\r\n",
        "        else:\r\n",
        "          second_data = (value[j], value[i])\r\n",
        "    \r\n",
        "        result.append( (second_data , (first_data, 1)))\r\n",
        "\r\n",
        "        if (key < value[j]):\r\n",
        "          first_data = (key, value[j])\r\n",
        "        else:\r\n",
        "          first_data = (value[j], key)\r\n",
        "\r\n",
        "        if (value[i] < value[k]):\r\n",
        "          second_data = (value[i], value[k])\r\n",
        "        else:\r\n",
        "          second_data = (value[k], value[i])\r\n",
        "    \r\n",
        "        result.append( (second_data , (first_data, 1)))\r\n",
        "        \r\n",
        "        if (key < value[i]):\r\n",
        "          first_data = (key, value[i])\r\n",
        "        else:\r\n",
        "          first_data = (value[i], key)\r\n",
        "\r\n",
        "        if (value[k] < value[j]):\r\n",
        "          second_data = (value[k], value[j])\r\n",
        "        else:\r\n",
        "          second_data = (value[j], value[k])\r\n",
        "    \r\n",
        "        result.append( (second_data , (first_data, 1)))\r\n",
        "  return result"
      ],
      "execution_count": 249,
      "outputs": []
    },
    {
      "cell_type": "code",
      "metadata": {
        "id": "ON3MdDHv_QZE"
      },
      "source": [
        "car_reduce = data.flatMap(lambda x: calc_car(x[0], x[1]))"
      ],
      "execution_count": 250,
      "outputs": []
    },
    {
      "cell_type": "code",
      "metadata": {
        "id": "EW3eAyfL_ZAE"
      },
      "source": [
        "grouped = car_reduce.groupByKey().map(lambda x : (x[0], list(x[1])))"
      ],
      "execution_count": 251,
      "outputs": []
    },
    {
      "cell_type": "code",
      "metadata": {
        "colab": {
          "base_uri": "https://localhost:8080/"
        },
        "id": "1pQgnz93_juO",
        "outputId": "b4b0d027-3015-4a1c-80a7-39aa6ef40a7a"
      },
      "source": [
        "grouped.collect()"
      ],
      "execution_count": 252,
      "outputs": [
        {
          "output_type": "execute_result",
          "data": {
            "text/plain": [
              "[(('D', 'F'),\n",
              "  [(('A', 'C'), 1), (('A', 'C'), 1), (('B', 'C'), 1), (('C', 'G'), 1)]),\n",
              " (('D', 'E'), [(('B', 'C'), 1)]),\n",
              " (('A', 'B'),\n",
              "  [(('C', 'F'), 1),\n",
              "   (('C', 'D'), 1),\n",
              "   (('C', 'G'), 1),\n",
              "   (('C', 'D'), 1),\n",
              "   (('D', 'E'), 1)]),\n",
              " (('A', 'F'), [(('B', 'C'), 1), (('C', 'D'), 1), (('C', 'G'), 1)]),\n",
              " (('B', 'F'), [(('A', 'C'), 1), (('C', 'D'), 1), (('C', 'G'), 1)]),\n",
              " (('A', 'D'), [(('B', 'C'), 1), (('C', 'F'), 1), (('C', 'G'), 1)]),\n",
              " (('B', 'D'),\n",
              "  [(('A', 'C'), 1),\n",
              "   (('C', 'F'), 1),\n",
              "   (('C', 'G'), 1),\n",
              "   (('E', 'J'), 1),\n",
              "   (('E', 'K'), 1)]),\n",
              " (('A', 'G'),\n",
              "  [(('B', 'C'), 1),\n",
              "   (('C', 'F'), 1),\n",
              "   (('C', 'D'), 1),\n",
              "   (('C', 'F'), 1),\n",
              "   (('F', 'H'), 1),\n",
              "   (('F', 'I'), 1)]),\n",
              " (('B', 'G'), [(('A', 'C'), 1), (('C', 'F'), 1), (('C', 'D'), 1)]),\n",
              " (('F', 'G'), [(('A', 'C'), 1), (('B', 'C'), 1), (('C', 'D'), 1)]),\n",
              " (('D', 'G'), [(('A', 'C'), 1), (('B', 'C'), 1), (('C', 'F'), 1)]),\n",
              " (('A', 'E'), [(('B', 'D'), 1), (('C', 'D'), 1)]),\n",
              " (('B', 'E'), [(('A', 'D'), 1), (('C', 'D'), 1)]),\n",
              " (('J', 'K'), [(('B', 'E'), 1), (('D', 'E'), 1)]),\n",
              " (('A', 'H'), [(('C', 'F'), 1), (('F', 'G'), 1), (('F', 'I'), 1)]),\n",
              " (('A', 'I'), [(('C', 'F'), 1), (('F', 'G'), 1), (('F', 'H'), 1)]),\n",
              " (('G', 'H'), [(('A', 'F'), 1), (('C', 'F'), 1), (('F', 'I'), 1)]),\n",
              " (('G', 'I'), [(('A', 'F'), 1), (('C', 'F'), 1), (('F', 'H'), 1)]),\n",
              " (('H', 'I'), [(('A', 'F'), 1), (('C', 'F'), 1), (('F', 'G'), 1)]),\n",
              " (('C', 'D'), [(('A', 'F'), 1), (('B', 'E'), 1)]),\n",
              " (('C', 'F'), [(('A', 'D'), 1)]),\n",
              " (('C', 'E'), [(('B', 'D'), 1), (('A', 'D'), 1), (('B', 'D'), 1)]),\n",
              " (('A', 'C'),\n",
              "  [(('B', 'D'), 1),\n",
              "   (('D', 'E'), 1),\n",
              "   (('F', 'G'), 1),\n",
              "   (('F', 'H'), 1),\n",
              "   (('F', 'I'), 1)]),\n",
              " (('B', 'C'), [(('A', 'D'), 1), (('D', 'E'), 1)]),\n",
              " (('B', 'J'), [(('D', 'E'), 1), (('E', 'K'), 1)]),\n",
              " (('D', 'J'), [(('B', 'E'), 1), (('E', 'K'), 1)]),\n",
              " (('B', 'K'), [(('D', 'E'), 1), (('E', 'J'), 1)]),\n",
              " (('D', 'K'), [(('B', 'E'), 1), (('E', 'J'), 1)]),\n",
              " (('C', 'G'), [(('A', 'F'), 1), (('F', 'H'), 1), (('F', 'I'), 1)]),\n",
              " (('C', 'H'), [(('A', 'F'), 1), (('F', 'G'), 1), (('F', 'I'), 1)]),\n",
              " (('C', 'I'), [(('A', 'F'), 1), (('F', 'G'), 1), (('F', 'H'), 1)])]"
            ]
          },
          "metadata": {
            "tags": []
          },
          "execution_count": 252
        }
      ]
    },
    {
      "cell_type": "code",
      "metadata": {
        "id": "8Da257r3J9uO"
      },
      "source": [
        "def Convert(lst):\r\n",
        "  result = {}\r\n",
        "\r\n",
        "  for item in lst:\r\n",
        "    if (item[0] in result):\r\n",
        "      result[item[0]] = result[item[0]] + 1\r\n",
        "    else:\r\n",
        "      result[item[0]] = 1\r\n",
        "\r\n",
        "  return result"
      ],
      "execution_count": 253,
      "outputs": []
    },
    {
      "cell_type": "code",
      "metadata": {
        "id": "1JlxPUo8ZILd"
      },
      "source": [
        "def remove_only_one_time_appers(dic):\r\n",
        "  return {x:y for x,y in dic.items() if y> 1}"
      ],
      "execution_count": 254,
      "outputs": []
    },
    {
      "cell_type": "code",
      "metadata": {
        "id": "OUIuUqaZAjlp"
      },
      "source": [
        "def car_grouped_mix(key, value):\r\n",
        "  aggrigated = remove_only_one_time_appers(Convert(value))\r\n",
        "  return (key, aggrigated)"
      ],
      "execution_count": 255,
      "outputs": []
    },
    {
      "cell_type": "code",
      "metadata": {
        "id": "nELgcGZ7BMJo"
      },
      "source": [
        "car_grouped_reduce = grouped.flatMap(lambda x: car_grouped_mix(x[0], x[1]))"
      ],
      "execution_count": 256,
      "outputs": []
    },
    {
      "cell_type": "code",
      "metadata": {
        "colab": {
          "base_uri": "https://localhost:8080/"
        },
        "id": "Gkf8Ez9jIwJs",
        "outputId": "6d3e7513-b9d1-4731-a5b0-675a3938e76a"
      },
      "source": [
        "car_grouped_reduce.collect()"
      ],
      "execution_count": 257,
      "outputs": [
        {
          "output_type": "execute_result",
          "data": {
            "text/plain": [
              "[('D', 'F'),\n",
              " {('A', 'C'): 2},\n",
              " ('D', 'E'),\n",
              " {},\n",
              " ('A', 'B'),\n",
              " {('C', 'D'): 2},\n",
              " ('A', 'F'),\n",
              " {},\n",
              " ('B', 'F'),\n",
              " {},\n",
              " ('A', 'D'),\n",
              " {},\n",
              " ('B', 'D'),\n",
              " {},\n",
              " ('A', 'G'),\n",
              " {('C', 'F'): 2},\n",
              " ('B', 'G'),\n",
              " {},\n",
              " ('F', 'G'),\n",
              " {},\n",
              " ('D', 'G'),\n",
              " {},\n",
              " ('A', 'E'),\n",
              " {},\n",
              " ('B', 'E'),\n",
              " {},\n",
              " ('J', 'K'),\n",
              " {},\n",
              " ('A', 'H'),\n",
              " {},\n",
              " ('A', 'I'),\n",
              " {},\n",
              " ('G', 'H'),\n",
              " {},\n",
              " ('G', 'I'),\n",
              " {},\n",
              " ('H', 'I'),\n",
              " {},\n",
              " ('C', 'D'),\n",
              " {},\n",
              " ('C', 'F'),\n",
              " {},\n",
              " ('C', 'E'),\n",
              " {('B', 'D'): 2},\n",
              " ('A', 'C'),\n",
              " {},\n",
              " ('B', 'C'),\n",
              " {},\n",
              " ('B', 'J'),\n",
              " {},\n",
              " ('D', 'J'),\n",
              " {},\n",
              " ('B', 'K'),\n",
              " {},\n",
              " ('D', 'K'),\n",
              " {},\n",
              " ('C', 'G'),\n",
              " {},\n",
              " ('C', 'H'),\n",
              " {},\n",
              " ('C', 'I'),\n",
              " {}]"
            ]
          },
          "metadata": {
            "tags": []
          },
          "execution_count": 257
        }
      ]
    },
    {
      "cell_type": "code",
      "metadata": {
        "colab": {
          "base_uri": "https://localhost:8080/"
        },
        "id": "dmEvGfAABhjS",
        "outputId": "a723ff07-3a30-45b0-cb5a-4ae0c2f84124"
      },
      "source": [
        "one = grouped.take(10)\r\n",
        "print(one)"
      ],
      "execution_count": 169,
      "outputs": [
        {
          "output_type": "stream",
          "text": [
            "[(('A', 'B'), [(('C', 'F'), 1), (('C', 'D'), 1), (('C', 'G'), 1), (('C', 'D'), 1), (('D', 'E'), 1)]), (('A', 'F'), [(('C', 'D'), 1), (('C', 'G'), 1)]), (('A', 'D'), [(('C', 'G'), 1)]), (('B', 'F'), [(('C', 'D'), 1), (('C', 'G'), 1)]), (('B', 'D'), [(('C', 'G'), 1), (('E', 'J'), 1), (('E', 'K'), 1)]), (('D', 'F'), [(('C', 'G'), 1)]), (('A', 'G'), [(('F', 'H'), 1), (('F', 'I'), 1)]), (('A', 'H'), [(('F', 'I'), 1)]), (('G', 'H'), [(('F', 'I'), 1)]), (('C', 'D'), [(('A', 'F'), 1), (('B', 'E'), 1)])]\n"
          ],
          "name": "stdout"
        }
      ]
    },
    {
      "cell_type": "code",
      "metadata": {
        "id": "FuNIZ8QfBk6H"
      },
      "source": [
        "one_df = one[0][1]"
      ],
      "execution_count": 170,
      "outputs": []
    },
    {
      "cell_type": "code",
      "metadata": {
        "colab": {
          "base_uri": "https://localhost:8080/"
        },
        "id": "4VqSmgR6CBQU",
        "outputId": "be51a0ed-8cd2-4606-b1a1-6ca496256d97"
      },
      "source": [
        "print(list(one[0][1]))"
      ],
      "execution_count": 171,
      "outputs": [
        {
          "output_type": "stream",
          "text": [
            "[(('C', 'F'), 1), (('C', 'D'), 1), (('C', 'G'), 1), (('C', 'D'), 1), (('D', 'E'), 1)]\n"
          ],
          "name": "stdout"
        }
      ]
    },
    {
      "cell_type": "code",
      "metadata": {
        "id": "SHYWRH4gDA9i"
      },
      "source": [
        ""
      ],
      "execution_count": null,
      "outputs": []
    }
  ]
}