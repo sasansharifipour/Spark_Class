{
  "nbformat": 4,
  "nbformat_minor": 0,
  "metadata": {
    "colab": {
      "name": "SPARK_CC.ipynb",
      "provenance": [],
      "include_colab_link": true
    },
    "kernelspec": {
      "name": "python3",
      "display_name": "Python 3"
    }
  },
  "cells": [
    {
      "cell_type": "markdown",
      "metadata": {
        "id": "view-in-github",
        "colab_type": "text"
      },
      "source": [
        "<a href=\"https://colab.research.google.com/github/sasansharifipour/Spark_Class/blob/main/SPARK_CC.ipynb\" target=\"_parent\"><img src=\"https://colab.research.google.com/assets/colab-badge.svg\" alt=\"Open In Colab\"/></a>"
      ]
    },
    {
      "cell_type": "code",
      "metadata": {
        "id": "3Mb5ZPJBVRlW"
      },
      "source": [
        "!apt-get install openjdk-8-jdk-headless -qq > /dev/null\n",
        "!wget -q https://downloads.apache.org/spark/spark-3.0.2/spark-3.0.2-bin-hadoop2.7.tgz\n",
        "!tar xf spark-3.0.2-bin-hadoop2.7.tgz\n",
        "!pip install -q findspark\n",
        "\n",
        "import os\n",
        "os.environ[\"JAVA_HOME\"] = \"/usr/lib/jvm/java-8-openjdk-amd64\"\n",
        "os.environ[\"SPARK_HOME\"] = \"/content/spark-3.0.2-bin-hadoop2.7\"\n",
        "\n",
        "import findspark\n",
        "findspark.init()"
      ],
      "execution_count": 119,
      "outputs": []
    },
    {
      "cell_type": "code",
      "metadata": {
        "colab": {
          "base_uri": "https://localhost:8080/"
        },
        "id": "P2cYoDeOu0J7",
        "outputId": "c6e61288-be62-4d23-e922-c31085e398b3"
      },
      "source": [
        "file_download_link = \"https://drive.google.com/u/0/uc?id=1BgY3iHSZ0ImXc6atr61YQRcloxDwNrvi&export=download\" \n",
        "!wget -O paper_graph_adj_list.txt --no-check-certificate \"$file_download_link\"\n",
        "\n",
        "file_download_link = \"https://drive.google.com/u/0/uc?id=1qmwKYipNwJZyheNfVxW8GwzhbY6J2nPU&export=download\" \n",
        "!wget -O paper_graph_node_list.txt --no-check-certificate \"$file_download_link\""
      ],
      "execution_count": 120,
      "outputs": [
        {
          "output_type": "stream",
          "text": [
            "--2021-04-25 11:07:51--  https://drive.google.com/u/0/uc?id=1BgY3iHSZ0ImXc6atr61YQRcloxDwNrvi&export=download\n",
            "Resolving drive.google.com (drive.google.com)... 173.194.193.113, 173.194.193.102, 173.194.193.139, ...\n",
            "Connecting to drive.google.com (drive.google.com)|173.194.193.113|:443... connected.\n",
            "HTTP request sent, awaiting response... 302 Moved Temporarily\n",
            "Location: https://doc-0s-70-docs.googleusercontent.com/docs/securesc/ha0ro937gcuc7l7deffksulhg5h7mbp1/qj71p43ejqtfpev0mlio6d3vc7301ehu/1619348850000/14577798666193718332/*/1BgY3iHSZ0ImXc6atr61YQRcloxDwNrvi?e=download [following]\n",
            "Warning: wildcards not supported in HTTP.\n",
            "--2021-04-25 11:07:51--  https://doc-0s-70-docs.googleusercontent.com/docs/securesc/ha0ro937gcuc7l7deffksulhg5h7mbp1/qj71p43ejqtfpev0mlio6d3vc7301ehu/1619348850000/14577798666193718332/*/1BgY3iHSZ0ImXc6atr61YQRcloxDwNrvi?e=download\n",
            "Resolving doc-0s-70-docs.googleusercontent.com (doc-0s-70-docs.googleusercontent.com)... 172.217.219.132, 2607:f8b0:4001:c13::84\n",
            "Connecting to doc-0s-70-docs.googleusercontent.com (doc-0s-70-docs.googleusercontent.com)|172.217.219.132|:443... connected.\n",
            "HTTP request sent, awaiting response... 200 OK\n",
            "Length: 101 [text/plain]\n",
            "Saving to: ‘paper_graph_adj_list.txt’\n",
            "\n",
            "paper_graph_adj_lis 100%[===================>]     101  --.-KB/s    in 0s      \n",
            "\n",
            "2021-04-25 11:07:51 (923 KB/s) - ‘paper_graph_adj_list.txt’ saved [101/101]\n",
            "\n",
            "--2021-04-25 11:07:51--  https://drive.google.com/u/0/uc?id=1qmwKYipNwJZyheNfVxW8GwzhbY6J2nPU&export=download\n",
            "Resolving drive.google.com (drive.google.com)... 173.194.193.138, 173.194.193.102, 173.194.193.139, ...\n",
            "Connecting to drive.google.com (drive.google.com)|173.194.193.138|:443... connected.\n",
            "HTTP request sent, awaiting response... 302 Moved Temporarily\n",
            "Location: https://doc-10-70-docs.googleusercontent.com/docs/securesc/ha0ro937gcuc7l7deffksulhg5h7mbp1/pv8bo6ocspud8uctrcekc2r533f4dhet/1619348850000/14577798666193718332/*/1qmwKYipNwJZyheNfVxW8GwzhbY6J2nPU?e=download [following]\n",
            "Warning: wildcards not supported in HTTP.\n",
            "--2021-04-25 11:07:52--  https://doc-10-70-docs.googleusercontent.com/docs/securesc/ha0ro937gcuc7l7deffksulhg5h7mbp1/pv8bo6ocspud8uctrcekc2r533f4dhet/1619348850000/14577798666193718332/*/1qmwKYipNwJZyheNfVxW8GwzhbY6J2nPU?e=download\n",
            "Resolving doc-10-70-docs.googleusercontent.com (doc-10-70-docs.googleusercontent.com)... 172.217.219.132, 2607:f8b0:4001:c13::84\n",
            "Connecting to doc-10-70-docs.googleusercontent.com (doc-10-70-docs.googleusercontent.com)|172.217.219.132|:443... connected.\n",
            "HTTP request sent, awaiting response... 200 OK\n",
            "Length: 23 [text/plain]\n",
            "Saving to: ‘paper_graph_node_list.txt’\n",
            "\n",
            "paper_graph_node_li 100%[===================>]      23  --.-KB/s    in 0s      \n",
            "\n",
            "2021-04-25 11:07:52 (1.01 MB/s) - ‘paper_graph_node_list.txt’ saved [23/23]\n",
            "\n"
          ],
          "name": "stdout"
        }
      ]
    },
    {
      "cell_type": "code",
      "metadata": {
        "id": "WXJ3ghNIZJY5"
      },
      "source": [
        "from pyspark.sql import SparkSession\n",
        "\n",
        "spark = SparkSession.builder.getOrCreate()"
      ],
      "execution_count": 121,
      "outputs": []
    },
    {
      "cell_type": "code",
      "metadata": {
        "id": "iuAIiAYWWest"
      },
      "source": [
        "df = spark.sparkContext.textFile(\"paper_graph_adj_list.txt\")\n",
        "nodes = spark.sparkContext.textFile(\"paper_graph_node_list.txt\")"
      ],
      "execution_count": 122,
      "outputs": []
    },
    {
      "cell_type": "code",
      "metadata": {
        "id": "b7ZQ72npXnP2"
      },
      "source": [
        "temp_var = df.map(lambda k: k.split(\" \"))\n",
        "temp_nodes = nodes.map(lambda k: k.split(\" \"))"
      ],
      "execution_count": 123,
      "outputs": []
    },
    {
      "cell_type": "code",
      "metadata": {
        "colab": {
          "base_uri": "https://localhost:8080/"
        },
        "id": "vJ2CzodEHYQn",
        "outputId": "7978616a-4643-447c-c85c-7fb14c749fd4"
      },
      "source": [
        "temp_nodes.collect()"
      ],
      "execution_count": 124,
      "outputs": [
        {
          "output_type": "execute_result",
          "data": {
            "text/plain": [
              "[['A', 'B', 'C', 'D', 'E', 'F', 'G', 'H', 'I', 'J', 'K']]"
            ]
          },
          "metadata": {
            "tags": []
          },
          "execution_count": 124
        }
      ]
    },
    {
      "cell_type": "code",
      "metadata": {
        "id": "3IbTpAZzvmKD"
      },
      "source": [
        "def create_all_links(all_data):\n",
        "\n",
        "  result = []\n",
        "  cnt = len(all_data)\n",
        "\n",
        "  for i in range(cnt):\n",
        "    for j in range(i + 1, cnt):\n",
        "      if (all_data[i] < all_data[j]):\n",
        "        result.append( ((all_data[i], all_data[j]), 0))\n",
        "      else:\n",
        "        result.append( ((all_data[j], all_data[i]), 0))\n",
        "\n",
        "  return result"
      ],
      "execution_count": 140,
      "outputs": []
    },
    {
      "cell_type": "code",
      "metadata": {
        "id": "psRxm_wQv1YK"
      },
      "source": [
        "all_links = temp_nodes.flatMap(lambda k : create_all_links(k))"
      ],
      "execution_count": 171,
      "outputs": []
    },
    {
      "cell_type": "code",
      "metadata": {
        "id": "Pe1IUs_1wARK",
        "outputId": "2331965b-7dee-47af-89df-0d1dbde9c58e",
        "colab": {
          "base_uri": "https://localhost:8080/"
        }
      },
      "source": [
        "all_links.collect()"
      ],
      "execution_count": 172,
      "outputs": [
        {
          "output_type": "execute_result",
          "data": {
            "text/plain": [
              "[(('A', 'B'), 0),\n",
              " (('A', 'C'), 0),\n",
              " (('A', 'D'), 0),\n",
              " (('A', 'E'), 0),\n",
              " (('A', 'F'), 0),\n",
              " (('A', 'G'), 0),\n",
              " (('A', 'H'), 0),\n",
              " (('A', 'I'), 0),\n",
              " (('A', 'J'), 0),\n",
              " (('A', 'K'), 0),\n",
              " (('B', 'C'), 0),\n",
              " (('B', 'D'), 0),\n",
              " (('B', 'E'), 0),\n",
              " (('B', 'F'), 0),\n",
              " (('B', 'G'), 0),\n",
              " (('B', 'H'), 0),\n",
              " (('B', 'I'), 0),\n",
              " (('B', 'J'), 0),\n",
              " (('B', 'K'), 0),\n",
              " (('C', 'D'), 0),\n",
              " (('C', 'E'), 0),\n",
              " (('C', 'F'), 0),\n",
              " (('C', 'G'), 0),\n",
              " (('C', 'H'), 0),\n",
              " (('C', 'I'), 0),\n",
              " (('C', 'J'), 0),\n",
              " (('C', 'K'), 0),\n",
              " (('D', 'E'), 0),\n",
              " (('D', 'F'), 0),\n",
              " (('D', 'G'), 0),\n",
              " (('D', 'H'), 0),\n",
              " (('D', 'I'), 0),\n",
              " (('D', 'J'), 0),\n",
              " (('D', 'K'), 0),\n",
              " (('E', 'F'), 0),\n",
              " (('E', 'G'), 0),\n",
              " (('E', 'H'), 0),\n",
              " (('E', 'I'), 0),\n",
              " (('E', 'J'), 0),\n",
              " (('E', 'K'), 0),\n",
              " (('F', 'G'), 0),\n",
              " (('F', 'H'), 0),\n",
              " (('F', 'I'), 0),\n",
              " (('F', 'J'), 0),\n",
              " (('F', 'K'), 0),\n",
              " (('G', 'H'), 0),\n",
              " (('G', 'I'), 0),\n",
              " (('G', 'J'), 0),\n",
              " (('G', 'K'), 0),\n",
              " (('H', 'I'), 0),\n",
              " (('H', 'J'), 0),\n",
              " (('H', 'K'), 0),\n",
              " (('I', 'J'), 0),\n",
              " (('I', 'K'), 0),\n",
              " (('J', 'K'), 0)]"
            ]
          },
          "metadata": {
            "tags": []
          },
          "execution_count": 172
        }
      ]
    },
    {
      "cell_type": "code",
      "metadata": {
        "id": "DLbA9UjTieZl"
      },
      "source": [
        "data = temp_var.map(lambda k : (k[0], k[1::]))"
      ],
      "execution_count": 125,
      "outputs": []
    },
    {
      "cell_type": "code",
      "metadata": {
        "colab": {
          "base_uri": "https://localhost:8080/"
        },
        "id": "UsdsY8p6c3JD",
        "outputId": "c0fa5023-0524-4afd-9155-9dc431e71eee"
      },
      "source": [
        "data.collect()"
      ],
      "execution_count": 126,
      "outputs": [
        {
          "output_type": "execute_result",
          "data": {
            "text/plain": [
              "[('A', ['C', 'D', 'F']),\n",
              " ('B', ['C', 'D', 'E']),\n",
              " ('C', ['A', 'B', 'F', 'D', 'G']),\n",
              " ('D', ['A', 'B', 'C', 'E']),\n",
              " ('E', ['B', 'D', 'J', 'K']),\n",
              " ('F', ['A', 'C', 'G', 'H', 'I']),\n",
              " ('G', ['C', 'F']),\n",
              " ('H', ['F', 'I']),\n",
              " ('I', ['F', 'H']),\n",
              " ('J', ['E', 'K']),\n",
              " ('K', ['E', 'J'])]"
            ]
          },
          "metadata": {
            "tags": []
          },
          "execution_count": 126
        }
      ]
    },
    {
      "cell_type": "code",
      "metadata": {
        "id": "6w92fMZui5Ez"
      },
      "source": [
        "def calc_cc(key, value):\n",
        "\n",
        "  result = []\n",
        "  cnt = len(value)\n",
        "\n",
        "  for i in range(cnt):\n",
        "    for j in range(i + 1, cnt):\n",
        "      if (value[i] < value[j]):\n",
        "        result.append( ((value[i], value[j]), key))\n",
        "      else:\n",
        "        result.append( ((value[j], value[i]), key))\n",
        "\n",
        "  return result"
      ],
      "execution_count": 127,
      "outputs": []
    },
    {
      "cell_type": "code",
      "metadata": {
        "id": "Pk3noymCkcxX"
      },
      "source": [
        "cc_reduce = data.flatMap(lambda x: calc_cc(x[0], x[1]))"
      ],
      "execution_count": 128,
      "outputs": []
    },
    {
      "cell_type": "code",
      "metadata": {
        "id": "8Jp4W4wFktih"
      },
      "source": [
        "data_cn = cc_reduce.groupByKey().map(lambda x : (x[0], len(list(x[1]))))"
      ],
      "execution_count": 129,
      "outputs": []
    },
    {
      "cell_type": "code",
      "metadata": {
        "id": "wYa66ff2lnGg"
      },
      "source": [
        "def calc_car(key, value):\n",
        "\n",
        "  result = []\n",
        "\n",
        "  cnt = len(value)\n",
        "\n",
        "  for i in range(cnt):\n",
        "    for j in range(i + 1, cnt):\n",
        "      for k in range(j +1, cnt):\n",
        "        \n",
        "        if (key < value[k]):\n",
        "          first_data = (key, value[k])\n",
        "        else:\n",
        "          first_data = (value[k], key)\n",
        "\n",
        "        if (value[i] < value[j]):\n",
        "          second_data = (value[i], value[j])\n",
        "        else:\n",
        "          second_data = (value[j], value[i])\n",
        "    \n",
        "        result.append( (second_data , (first_data, 1)))\n",
        "\n",
        "        if (key < value[j]):\n",
        "          first_data = (key, value[j])\n",
        "        else:\n",
        "          first_data = (value[j], key)\n",
        "\n",
        "        if (value[i] < value[k]):\n",
        "          second_data = (value[i], value[k])\n",
        "        else:\n",
        "          second_data = (value[k], value[i])\n",
        "    \n",
        "        result.append( (second_data , (first_data, 1)))\n",
        "        \n",
        "        if (key < value[i]):\n",
        "          first_data = (key, value[i])\n",
        "        else:\n",
        "          first_data = (value[i], key)\n",
        "\n",
        "        if (value[k] < value[j]):\n",
        "          second_data = (value[k], value[j])\n",
        "        else:\n",
        "          second_data = (value[j], value[k])\n",
        "    \n",
        "        result.append( (second_data , (first_data, 1)))\n",
        "  return result"
      ],
      "execution_count": 130,
      "outputs": []
    },
    {
      "cell_type": "code",
      "metadata": {
        "id": "ON3MdDHv_QZE"
      },
      "source": [
        "car_reduce = data.flatMap(lambda x: calc_car(x[0], x[1]))"
      ],
      "execution_count": 131,
      "outputs": []
    },
    {
      "cell_type": "code",
      "metadata": {
        "id": "EW3eAyfL_ZAE"
      },
      "source": [
        "grouped = car_reduce.groupByKey().map(lambda x : (x[0], list(x[1])))"
      ],
      "execution_count": 132,
      "outputs": []
    },
    {
      "cell_type": "code",
      "metadata": {
        "id": "8Da257r3J9uO"
      },
      "source": [
        "def Convert(lst):\n",
        "  result = {}\n",
        "\n",
        "  for item in lst:\n",
        "    if (item[0] in result):\n",
        "      result[item[0]] = result[item[0]] + 1\n",
        "    else:\n",
        "      result[item[0]] = 1\n",
        "\n",
        "  return result"
      ],
      "execution_count": 133,
      "outputs": []
    },
    {
      "cell_type": "code",
      "metadata": {
        "id": "1JlxPUo8ZILd"
      },
      "source": [
        "def remove_only_one_time_appers(dic):\n",
        "  return sum(y / 2 for x,y in dic.items() if y> 1)"
      ],
      "execution_count": 134,
      "outputs": []
    },
    {
      "cell_type": "code",
      "metadata": {
        "id": "OUIuUqaZAjlp"
      },
      "source": [
        "def car_grouped_mix(key, value):\n",
        "  aggrigated = remove_only_one_time_appers(Convert(value))\n",
        "  return (key, aggrigated)"
      ],
      "execution_count": 135,
      "outputs": []
    },
    {
      "cell_type": "code",
      "metadata": {
        "id": "nELgcGZ7BMJo"
      },
      "source": [
        "car_grouped_reduce = grouped.map(lambda x: (car_grouped_mix(x[0], x[1])))"
      ],
      "execution_count": 136,
      "outputs": []
    },
    {
      "cell_type": "code",
      "metadata": {
        "id": "Gkf8Ez9jIwJs"
      },
      "source": [
        "joined_data = car_grouped_reduce.union(all_links)"
      ],
      "execution_count": 174,
      "outputs": []
    },
    {
      "cell_type": "code",
      "metadata": {
        "id": "lSkRqb6smNtb"
      },
      "source": [
        "join_by_all_links = joined_data.reduceByKey(lambda x, y: x + y)"
      ],
      "execution_count": 176,
      "outputs": []
    },
    {
      "cell_type": "code",
      "metadata": {
        "id": "JQreNz6QuCRa"
      },
      "source": [
        "car_for_all_links = join_by_all_links.union(data_cn).reduceByKey(lambda x, y: x * y)"
      ],
      "execution_count": 177,
      "outputs": []
    },
    {
      "cell_type": "code",
      "metadata": {
        "id": "KRxU5YoUzLia",
        "outputId": "620f6b26-6f7c-4479-b17f-c3d4608510e8",
        "colab": {
          "base_uri": "https://localhost:8080/"
        }
      },
      "source": [
        "car_for_all_links.collect()"
      ],
      "execution_count": 178,
      "outputs": [
        {
          "output_type": "execute_result",
          "data": {
            "text/plain": [
              "[(('A', 'B'), 2.0),\n",
              " (('A', 'F'), 0),\n",
              " (('D', 'G'), 0),\n",
              " (('G', 'I'), 0),\n",
              " (('D', 'F'), 2.0),\n",
              " (('B', 'D'), 0),\n",
              " (('F', 'G'), 0),\n",
              " (('B', 'E'), 0),\n",
              " (('G', 'H'), 0),\n",
              " (('E', 'F'), 0),\n",
              " (('E', 'H'), 0),\n",
              " (('C', 'D'), 0),\n",
              " (('D', 'J'), 0),\n",
              " (('D', 'K'), 0),\n",
              " (('C', 'G'), 0),\n",
              " (('C', 'I'), 0),\n",
              " (('G', 'K'), 0),\n",
              " (('C', 'H'), 0),\n",
              " (('H', 'J'), 0),\n",
              " (('H', 'K'), 0),\n",
              " (('D', 'E'), 0),\n",
              " (('B', 'H'), 0),\n",
              " (('A', 'D'), 0),\n",
              " (('B', 'G'), 0),\n",
              " (('H', 'I'), 0),\n",
              " (('D', 'H'), 0),\n",
              " (('F', 'I'), 0),\n",
              " (('A', 'C'), 0),\n",
              " (('B', 'C'), 0),\n",
              " (('E', 'J'), 0),\n",
              " (('I', 'J'), 0),\n",
              " (('B', 'J'), 0),\n",
              " (('B', 'K'), 0),\n",
              " (('A', 'K'), 0),\n",
              " (('F', 'K'), 0),\n",
              " (('B', 'F'), 0),\n",
              " (('A', 'H'), 0),\n",
              " (('C', 'J'), 0),\n",
              " (('C', 'K'), 0),\n",
              " (('D', 'I'), 0),\n",
              " (('E', 'G'), 0),\n",
              " (('E', 'I'), 0),\n",
              " (('F', 'H'), 0),\n",
              " (('A', 'G'), 2.0),\n",
              " (('A', 'E'), 0),\n",
              " (('J', 'K'), 0),\n",
              " (('A', 'I'), 0),\n",
              " (('B', 'I'), 0),\n",
              " (('C', 'E'), 2.0),\n",
              " (('E', 'K'), 0),\n",
              " (('G', 'J'), 0),\n",
              " (('I', 'K'), 0),\n",
              " (('C', 'F'), 0),\n",
              " (('A', 'J'), 0),\n",
              " (('F', 'J'), 0)]"
            ]
          },
          "metadata": {
            "tags": []
          },
          "execution_count": 178
        }
      ]
    },
    {
      "cell_type": "code",
      "metadata": {
        "id": "mW5_BYNzzN5k"
      },
      "source": [
        ""
      ],
      "execution_count": null,
      "outputs": []
    }
  ]
}