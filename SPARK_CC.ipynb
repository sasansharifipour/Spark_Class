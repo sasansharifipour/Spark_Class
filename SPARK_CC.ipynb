{
  "nbformat": 4,
  "nbformat_minor": 0,
  "metadata": {
    "colab": {
      "name": "SPARK_CC.ipynb",
      "provenance": [],
      "include_colab_link": true
    },
    "kernelspec": {
      "name": "python3",
      "display_name": "Python 3"
    }
  },
  "cells": [
    {
      "cell_type": "markdown",
      "metadata": {
        "id": "view-in-github",
        "colab_type": "text"
      },
      "source": [
        "<a href=\"https://colab.research.google.com/github/sasansharifipour/Spark_Class/blob/main/SPARK_CC.ipynb\" target=\"_parent\"><img src=\"https://colab.research.google.com/assets/colab-badge.svg\" alt=\"Open In Colab\"/></a>"
      ]
    },
    {
      "cell_type": "code",
      "metadata": {
        "id": "3Mb5ZPJBVRlW"
      },
      "source": [
        "!apt-get install openjdk-8-jdk-headless -qq > /dev/null\n",
        "!wget -q https://downloads.apache.org/spark/spark-3.0.2/spark-3.0.2-bin-hadoop2.7.tgz\n",
        "!tar xf spark-3.0.2-bin-hadoop2.7.tgz\n",
        "!pip install -q findspark\n",
        "\n",
        "import os\n",
        "os.environ[\"JAVA_HOME\"] = \"/usr/lib/jvm/java-8-openjdk-amd64\"\n",
        "os.environ[\"SPARK_HOME\"] = \"/content/spark-3.0.2-bin-hadoop2.7\"\n",
        "\n",
        "import findspark\n",
        "findspark.init()"
      ],
      "execution_count": 1,
      "outputs": []
    },
    {
      "cell_type": "code",
      "metadata": {
        "colab": {
          "base_uri": "https://localhost:8080/"
        },
        "id": "P2cYoDeOu0J7",
        "outputId": "748f609c-ea67-4a08-9676-d2486efddc82"
      },
      "source": [
        "file_download_link = \"https://drive.google.com/u/0/uc?id=1BgY3iHSZ0ImXc6atr61YQRcloxDwNrvi&export=download\" \n",
        "!wget -O paper_graph_adj_list.txt --no-check-certificate \"$file_download_link\""
      ],
      "execution_count": 9,
      "outputs": [
        {
          "output_type": "stream",
          "text": [
            "--2021-04-25 06:34:41--  https://drive.google.com/u/0/uc?id=1BgY3iHSZ0ImXc6atr61YQRcloxDwNrvi&export=download\n",
            "Resolving drive.google.com (drive.google.com)... 173.194.193.101, 173.194.193.113, 173.194.193.100, ...\n",
            "Connecting to drive.google.com (drive.google.com)|173.194.193.101|:443... connected.\n",
            "HTTP request sent, awaiting response... 302 Moved Temporarily\n",
            "Location: https://doc-0s-70-docs.googleusercontent.com/docs/securesc/ha0ro937gcuc7l7deffksulhg5h7mbp1/m0fpjlovpl5al44qngnl309c4pe4359l/1619332425000/14577798666193718332/*/1BgY3iHSZ0ImXc6atr61YQRcloxDwNrvi?e=download [following]\n",
            "Warning: wildcards not supported in HTTP.\n",
            "--2021-04-25 06:34:41--  https://doc-0s-70-docs.googleusercontent.com/docs/securesc/ha0ro937gcuc7l7deffksulhg5h7mbp1/m0fpjlovpl5al44qngnl309c4pe4359l/1619332425000/14577798666193718332/*/1BgY3iHSZ0ImXc6atr61YQRcloxDwNrvi?e=download\n",
            "Resolving doc-0s-70-docs.googleusercontent.com (doc-0s-70-docs.googleusercontent.com)... 172.217.219.132, 2607:f8b0:4001:c13::84\n",
            "Connecting to doc-0s-70-docs.googleusercontent.com (doc-0s-70-docs.googleusercontent.com)|172.217.219.132|:443... connected.\n",
            "HTTP request sent, awaiting response... 200 OK\n",
            "Length: 101 [text/plain]\n",
            "Saving to: ‘paper_graph_adj_list.txt’\n",
            "\n",
            "paper_graph_adj_lis 100%[===================>]     101  --.-KB/s    in 0s      \n",
            "\n",
            "2021-04-25 06:34:41 (1.33 MB/s) - ‘paper_graph_adj_list.txt’ saved [101/101]\n",
            "\n"
          ],
          "name": "stdout"
        }
      ]
    },
    {
      "cell_type": "code",
      "metadata": {
        "id": "WXJ3ghNIZJY5"
      },
      "source": [
        "from pyspark.sql import SparkSession\n",
        "\n",
        "spark = SparkSession.builder.getOrCreate()"
      ],
      "execution_count": 11,
      "outputs": []
    },
    {
      "cell_type": "code",
      "metadata": {
        "id": "iuAIiAYWWest"
      },
      "source": [
        "df = spark.sparkContext.textFile(\"paper_graph_adj_list.txt\")"
      ],
      "execution_count": 12,
      "outputs": []
    },
    {
      "cell_type": "code",
      "metadata": {
        "id": "b7ZQ72npXnP2"
      },
      "source": [
        "temp_var = df.map(lambda k: k.split(\" \"))"
      ],
      "execution_count": 13,
      "outputs": []
    },
    {
      "cell_type": "code",
      "metadata": {
        "id": "DLbA9UjTieZl"
      },
      "source": [
        "data = temp_var.map(lambda k : (k[0], k[1::]))"
      ],
      "execution_count": 14,
      "outputs": []
    },
    {
      "cell_type": "code",
      "metadata": {
        "id": "6w92fMZui5Ez"
      },
      "source": [
        "def calc_cc(key, value):\n",
        "\n",
        "  result = []\n",
        "  cnt = len(value)\n",
        "\n",
        "  for i in range(cnt):\n",
        "    for j in range(i + 1, cnt):\n",
        "      if (value[i] < value[j]):\n",
        "        result.append( ((value[i], value[j]), key))\n",
        "      else:\n",
        "        result.append( ((value[j], value[i]), key))\n",
        "\n",
        "  return result"
      ],
      "execution_count": 15,
      "outputs": []
    },
    {
      "cell_type": "code",
      "metadata": {
        "id": "Pk3noymCkcxX"
      },
      "source": [
        "cc_reduce = data.flatMap(lambda x: calc_cc(x[0], x[1]))"
      ],
      "execution_count": 16,
      "outputs": []
    },
    {
      "cell_type": "code",
      "metadata": {
        "colab": {
          "base_uri": "https://localhost:8080/"
        },
        "id": "8Jp4W4wFktih",
        "outputId": "975fe2b7-6812-4b77-d9be-a7eefd6c8557"
      },
      "source": [
        "cc_reduce.groupByKey().map(lambda x : (x[0], list(x[1]))).collect()"
      ],
      "execution_count": 17,
      "outputs": [
        {
          "output_type": "execute_result",
          "data": {
            "text/plain": [
              "[(('D', 'F'), ['A', 'C']),\n",
              " (('D', 'E'), ['B']),\n",
              " (('A', 'B'), ['C', 'D']),\n",
              " (('A', 'F'), ['C']),\n",
              " (('A', 'D'), ['C']),\n",
              " (('A', 'G'), ['C', 'F']),\n",
              " (('B', 'F'), ['C']),\n",
              " (('B', 'D'), ['C', 'E']),\n",
              " (('B', 'G'), ['C']),\n",
              " (('F', 'G'), ['C']),\n",
              " (('D', 'G'), ['C']),\n",
              " (('A', 'E'), ['D']),\n",
              " (('B', 'E'), ['D']),\n",
              " (('J', 'K'), ['E']),\n",
              " (('A', 'H'), ['F']),\n",
              " (('A', 'I'), ['F']),\n",
              " (('G', 'H'), ['F']),\n",
              " (('G', 'I'), ['F']),\n",
              " (('H', 'I'), ['F']),\n",
              " (('F', 'I'), ['H']),\n",
              " (('F', 'H'), ['I']),\n",
              " (('C', 'D'), ['A', 'B']),\n",
              " (('C', 'F'), ['A', 'G']),\n",
              " (('C', 'E'), ['B', 'D']),\n",
              " (('A', 'C'), ['D', 'F']),\n",
              " (('B', 'C'), ['D']),\n",
              " (('B', 'J'), ['E']),\n",
              " (('B', 'K'), ['E']),\n",
              " (('D', 'J'), ['E']),\n",
              " (('D', 'K'), ['E']),\n",
              " (('C', 'G'), ['F']),\n",
              " (('C', 'H'), ['F']),\n",
              " (('C', 'I'), ['F']),\n",
              " (('E', 'K'), ['J']),\n",
              " (('E', 'J'), ['K'])]"
            ]
          },
          "metadata": {
            "tags": []
          },
          "execution_count": 17
        }
      ]
    },
    {
      "cell_type": "code",
      "metadata": {
        "id": "wYa66ff2lnGg"
      },
      "source": [
        "def calc_car(key, value):\n",
        "\n",
        "  result = []\n",
        "\n",
        "  cnt = len(value)\n",
        "\n",
        "  for i in range(cnt):\n",
        "    for j in range(i + 1, cnt):\n",
        "      for k in range(j +1, cnt):\n",
        "        \n",
        "        if (key < value[k]):\n",
        "          first_data = (key, value[k])\n",
        "        else:\n",
        "          first_data = (value[k], key)\n",
        "\n",
        "        if (value[i] < value[j]):\n",
        "          second_data = (value[i], value[j])\n",
        "        else:\n",
        "          second_data = (value[j], value[i])\n",
        "    \n",
        "        result.append( (second_data , (first_data, 1)))\n",
        "\n",
        "        if (key < value[j]):\n",
        "          first_data = (key, value[j])\n",
        "        else:\n",
        "          first_data = (value[j], key)\n",
        "\n",
        "        if (value[i] < value[k]):\n",
        "          second_data = (value[i], value[k])\n",
        "        else:\n",
        "          second_data = (value[k], value[i])\n",
        "    \n",
        "        result.append( (second_data , (first_data, 1)))\n",
        "        \n",
        "        if (key < value[i]):\n",
        "          first_data = (key, value[i])\n",
        "        else:\n",
        "          first_data = (value[i], key)\n",
        "\n",
        "        if (value[k] < value[j]):\n",
        "          second_data = (value[k], value[j])\n",
        "        else:\n",
        "          second_data = (value[j], value[k])\n",
        "    \n",
        "        result.append( (second_data , (first_data, 1)))\n",
        "  return result"
      ],
      "execution_count": 18,
      "outputs": []
    },
    {
      "cell_type": "code",
      "metadata": {
        "id": "ON3MdDHv_QZE"
      },
      "source": [
        "car_reduce = data.flatMap(lambda x: calc_car(x[0], x[1]))"
      ],
      "execution_count": 19,
      "outputs": []
    },
    {
      "cell_type": "code",
      "metadata": {
        "id": "EW3eAyfL_ZAE"
      },
      "source": [
        "grouped = car_reduce.groupByKey().map(lambda x : (x[0], list(x[1])))"
      ],
      "execution_count": 20,
      "outputs": []
    },
    {
      "cell_type": "code",
      "metadata": {
        "colab": {
          "base_uri": "https://localhost:8080/"
        },
        "id": "1pQgnz93_juO",
        "outputId": "5461bfb3-0f20-4eda-eb80-c9fe6fe650d8"
      },
      "source": [
        "grouped.collect()"
      ],
      "execution_count": 21,
      "outputs": [
        {
          "output_type": "execute_result",
          "data": {
            "text/plain": [
              "[(('D', 'F'),\n",
              "  [(('A', 'C'), 1), (('A', 'C'), 1), (('B', 'C'), 1), (('C', 'G'), 1)]),\n",
              " (('D', 'E'), [(('B', 'C'), 1)]),\n",
              " (('A', 'B'),\n",
              "  [(('C', 'F'), 1),\n",
              "   (('C', 'D'), 1),\n",
              "   (('C', 'G'), 1),\n",
              "   (('C', 'D'), 1),\n",
              "   (('D', 'E'), 1)]),\n",
              " (('A', 'F'), [(('B', 'C'), 1), (('C', 'D'), 1), (('C', 'G'), 1)]),\n",
              " (('B', 'F'), [(('A', 'C'), 1), (('C', 'D'), 1), (('C', 'G'), 1)]),\n",
              " (('A', 'D'), [(('B', 'C'), 1), (('C', 'F'), 1), (('C', 'G'), 1)]),\n",
              " (('B', 'D'),\n",
              "  [(('A', 'C'), 1),\n",
              "   (('C', 'F'), 1),\n",
              "   (('C', 'G'), 1),\n",
              "   (('E', 'J'), 1),\n",
              "   (('E', 'K'), 1)]),\n",
              " (('A', 'G'),\n",
              "  [(('B', 'C'), 1),\n",
              "   (('C', 'F'), 1),\n",
              "   (('C', 'D'), 1),\n",
              "   (('C', 'F'), 1),\n",
              "   (('F', 'H'), 1),\n",
              "   (('F', 'I'), 1)]),\n",
              " (('B', 'G'), [(('A', 'C'), 1), (('C', 'F'), 1), (('C', 'D'), 1)]),\n",
              " (('F', 'G'), [(('A', 'C'), 1), (('B', 'C'), 1), (('C', 'D'), 1)]),\n",
              " (('D', 'G'), [(('A', 'C'), 1), (('B', 'C'), 1), (('C', 'F'), 1)]),\n",
              " (('A', 'E'), [(('B', 'D'), 1), (('C', 'D'), 1)]),\n",
              " (('B', 'E'), [(('A', 'D'), 1), (('C', 'D'), 1)]),\n",
              " (('J', 'K'), [(('B', 'E'), 1), (('D', 'E'), 1)]),\n",
              " (('A', 'H'), [(('C', 'F'), 1), (('F', 'G'), 1), (('F', 'I'), 1)]),\n",
              " (('A', 'I'), [(('C', 'F'), 1), (('F', 'G'), 1), (('F', 'H'), 1)]),\n",
              " (('G', 'H'), [(('A', 'F'), 1), (('C', 'F'), 1), (('F', 'I'), 1)]),\n",
              " (('G', 'I'), [(('A', 'F'), 1), (('C', 'F'), 1), (('F', 'H'), 1)]),\n",
              " (('H', 'I'), [(('A', 'F'), 1), (('C', 'F'), 1), (('F', 'G'), 1)]),\n",
              " (('C', 'D'), [(('A', 'F'), 1), (('B', 'E'), 1)]),\n",
              " (('C', 'F'), [(('A', 'D'), 1)]),\n",
              " (('C', 'E'), [(('B', 'D'), 1), (('A', 'D'), 1), (('B', 'D'), 1)]),\n",
              " (('A', 'C'),\n",
              "  [(('B', 'D'), 1),\n",
              "   (('D', 'E'), 1),\n",
              "   (('F', 'G'), 1),\n",
              "   (('F', 'H'), 1),\n",
              "   (('F', 'I'), 1)]),\n",
              " (('B', 'C'), [(('A', 'D'), 1), (('D', 'E'), 1)]),\n",
              " (('B', 'J'), [(('D', 'E'), 1), (('E', 'K'), 1)]),\n",
              " (('D', 'J'), [(('B', 'E'), 1), (('E', 'K'), 1)]),\n",
              " (('B', 'K'), [(('D', 'E'), 1), (('E', 'J'), 1)]),\n",
              " (('D', 'K'), [(('B', 'E'), 1), (('E', 'J'), 1)]),\n",
              " (('C', 'G'), [(('A', 'F'), 1), (('F', 'H'), 1), (('F', 'I'), 1)]),\n",
              " (('C', 'H'), [(('A', 'F'), 1), (('F', 'G'), 1), (('F', 'I'), 1)]),\n",
              " (('C', 'I'), [(('A', 'F'), 1), (('F', 'G'), 1), (('F', 'H'), 1)])]"
            ]
          },
          "metadata": {
            "tags": []
          },
          "execution_count": 21
        }
      ]
    },
    {
      "cell_type": "code",
      "metadata": {
        "id": "8Da257r3J9uO"
      },
      "source": [
        "def Convert(lst):\n",
        "  result = {}\n",
        "\n",
        "  for item in lst:\n",
        "    if (item[0] in result):\n",
        "      result[item[0]] = result[item[0]] + 1\n",
        "    else:\n",
        "      result[item[0]] = 1\n",
        "\n",
        "  return result"
      ],
      "execution_count": 22,
      "outputs": []
    },
    {
      "cell_type": "code",
      "metadata": {
        "id": "1JlxPUo8ZILd"
      },
      "source": [
        "def remove_only_one_time_appers(dic):\n",
        "  return {x:y for x,y in dic.items() if y> 1}"
      ],
      "execution_count": 23,
      "outputs": []
    },
    {
      "cell_type": "code",
      "metadata": {
        "id": "OUIuUqaZAjlp"
      },
      "source": [
        "def car_grouped_mix(key, value):\n",
        "  aggrigated = remove_only_one_time_appers(Convert(value))\n",
        "  return (key, aggrigated)"
      ],
      "execution_count": 24,
      "outputs": []
    },
    {
      "cell_type": "code",
      "metadata": {
        "id": "nELgcGZ7BMJo"
      },
      "source": [
        "car_grouped_reduce = grouped.flatMap(lambda x: car_grouped_mix(x[0], x[1]))"
      ],
      "execution_count": 25,
      "outputs": []
    },
    {
      "cell_type": "code",
      "metadata": {
        "colab": {
          "base_uri": "https://localhost:8080/"
        },
        "id": "Gkf8Ez9jIwJs",
        "outputId": "dad5a0e8-9814-4c6b-c538-a2810fa696c0"
      },
      "source": [
        "car_grouped_reduce.collect()"
      ],
      "execution_count": 26,
      "outputs": [
        {
          "output_type": "execute_result",
          "data": {
            "text/plain": [
              "[('D', 'F'),\n",
              " {('A', 'C'): 2},\n",
              " ('D', 'E'),\n",
              " {},\n",
              " ('A', 'B'),\n",
              " {('C', 'D'): 2},\n",
              " ('A', 'F'),\n",
              " {},\n",
              " ('B', 'F'),\n",
              " {},\n",
              " ('A', 'D'),\n",
              " {},\n",
              " ('B', 'D'),\n",
              " {},\n",
              " ('A', 'G'),\n",
              " {('C', 'F'): 2},\n",
              " ('B', 'G'),\n",
              " {},\n",
              " ('F', 'G'),\n",
              " {},\n",
              " ('D', 'G'),\n",
              " {},\n",
              " ('A', 'E'),\n",
              " {},\n",
              " ('B', 'E'),\n",
              " {},\n",
              " ('J', 'K'),\n",
              " {},\n",
              " ('A', 'H'),\n",
              " {},\n",
              " ('A', 'I'),\n",
              " {},\n",
              " ('G', 'H'),\n",
              " {},\n",
              " ('G', 'I'),\n",
              " {},\n",
              " ('H', 'I'),\n",
              " {},\n",
              " ('C', 'D'),\n",
              " {},\n",
              " ('C', 'F'),\n",
              " {},\n",
              " ('C', 'E'),\n",
              " {('B', 'D'): 2},\n",
              " ('A', 'C'),\n",
              " {},\n",
              " ('B', 'C'),\n",
              " {},\n",
              " ('B', 'J'),\n",
              " {},\n",
              " ('D', 'J'),\n",
              " {},\n",
              " ('B', 'K'),\n",
              " {},\n",
              " ('D', 'K'),\n",
              " {},\n",
              " ('C', 'G'),\n",
              " {},\n",
              " ('C', 'H'),\n",
              " {},\n",
              " ('C', 'I'),\n",
              " {}]"
            ]
          },
          "metadata": {
            "tags": []
          },
          "execution_count": 26
        }
      ]
    },
    {
      "cell_type": "code",
      "metadata": {
        "colab": {
          "base_uri": "https://localhost:8080/"
        },
        "id": "dmEvGfAABhjS",
        "outputId": "0b55f0b3-35fe-4821-af28-a67573454236"
      },
      "source": [
        "one = grouped.take(10)\n",
        "print(one)"
      ],
      "execution_count": 27,
      "outputs": [
        {
          "output_type": "stream",
          "text": [
            "[(('D', 'F'), [(('A', 'C'), 1), (('A', 'C'), 1), (('B', 'C'), 1), (('C', 'G'), 1)]), (('D', 'E'), [(('B', 'C'), 1)]), (('A', 'B'), [(('C', 'F'), 1), (('C', 'D'), 1), (('C', 'G'), 1), (('C', 'D'), 1), (('D', 'E'), 1)]), (('A', 'F'), [(('B', 'C'), 1), (('C', 'D'), 1), (('C', 'G'), 1)]), (('B', 'F'), [(('A', 'C'), 1), (('C', 'D'), 1), (('C', 'G'), 1)]), (('A', 'D'), [(('B', 'C'), 1), (('C', 'F'), 1), (('C', 'G'), 1)]), (('B', 'D'), [(('A', 'C'), 1), (('C', 'F'), 1), (('C', 'G'), 1), (('E', 'J'), 1), (('E', 'K'), 1)]), (('A', 'G'), [(('B', 'C'), 1), (('C', 'F'), 1), (('C', 'D'), 1), (('C', 'F'), 1), (('F', 'H'), 1), (('F', 'I'), 1)]), (('B', 'G'), [(('A', 'C'), 1), (('C', 'F'), 1), (('C', 'D'), 1)]), (('F', 'G'), [(('A', 'C'), 1), (('B', 'C'), 1), (('C', 'D'), 1)])]\n"
          ],
          "name": "stdout"
        }
      ]
    },
    {
      "cell_type": "code",
      "metadata": {
        "id": "FuNIZ8QfBk6H"
      },
      "source": [
        "one_df = one[0][1]"
      ],
      "execution_count": 28,
      "outputs": []
    },
    {
      "cell_type": "code",
      "metadata": {
        "colab": {
          "base_uri": "https://localhost:8080/"
        },
        "id": "4VqSmgR6CBQU",
        "outputId": "55353172-84ae-4bb3-836d-295b98817434"
      },
      "source": [
        "print(list(one[0][1]))"
      ],
      "execution_count": 29,
      "outputs": [
        {
          "output_type": "stream",
          "text": [
            "[(('A', 'C'), 1), (('A', 'C'), 1), (('B', 'C'), 1), (('C', 'G'), 1)]\n"
          ],
          "name": "stdout"
        }
      ]
    },
    {
      "cell_type": "code",
      "metadata": {
        "id": "SHYWRH4gDA9i"
      },
      "source": [
        ""
      ],
      "execution_count": null,
      "outputs": []
    }
  ]
}