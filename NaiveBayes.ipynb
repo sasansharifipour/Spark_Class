{
  "nbformat": 4,
  "nbformat_minor": 0,
  "metadata": {
    "colab": {
      "name": "NaiveBayes.ipynb",
      "provenance": [],
      "authorship_tag": "ABX9TyNsCx3TwYBpy/XybZluyTqH",
      "include_colab_link": true
    },
    "kernelspec": {
      "name": "python3",
      "display_name": "Python 3"
    }
  },
  "cells": [
    {
      "cell_type": "markdown",
      "metadata": {
        "id": "view-in-github",
        "colab_type": "text"
      },
      "source": [
        "<a href=\"https://colab.research.google.com/github/sasansharifipour/Spark_Class/blob/main/NaiveBayes.ipynb\" target=\"_parent\"><img src=\"https://colab.research.google.com/assets/colab-badge.svg\" alt=\"Open In Colab\"/></a>"
      ]
    },
    {
      "cell_type": "code",
      "metadata": {
        "id": "z1AVqX_WLcrt"
      },
      "source": [
        "!apt-get install openjdk-8-jdk-headless -qq > /dev/null\r\n",
        "!wget -q https://downloads.apache.org/spark/spark-3.0.1/spark-3.0.1-bin-hadoop2.7.tgz\r\n",
        "!tar xf spark-3.0.1-bin-hadoop2.7.tgz\r\n",
        "!pip install -q findspark\r\n",
        "\r\n",
        "import os\r\n",
        "os.environ[\"JAVA_HOME\"] = \"/usr/lib/jvm/java-8-openjdk-amd64\"\r\n",
        "os.environ[\"SPARK_HOME\"] = \"/content/spark-3.0.1-bin-hadoop2.7\"\r\n",
        "\r\n",
        "import findspark\r\n",
        "findspark.init()"
      ],
      "execution_count": 1,
      "outputs": []
    },
    {
      "cell_type": "code",
      "metadata": {
        "id": "5TZ1YSHkTN-2"
      },
      "source": [
        "from pyspark.sql import SparkSession\r\n",
        "\r\n",
        "spark = SparkSession.builder.getOrCreate()"
      ],
      "execution_count": 2,
      "outputs": []
    },
    {
      "cell_type": "code",
      "metadata": {
        "id": "-92GV2kHWBND"
      },
      "source": [
        "from pyspark.ml.classification import LogisticRegression"
      ],
      "execution_count": 3,
      "outputs": []
    },
    {
      "cell_type": "code",
      "metadata": {
        "id": "6F-yJB4UWOZW"
      },
      "source": [
        "training = spark.read.format(\"libsvm\").load(\"spark-3.0.1-bin-hadoop2.7/data/mllib/sample_libsvm_data.txt\")"
      ],
      "execution_count": 8,
      "outputs": []
    },
    {
      "cell_type": "code",
      "metadata": {
        "id": "OY_6lFOFW0va"
      },
      "source": [
        "lr = LogisticRegression(maxIter=10, regParam=0.3, elasticNetParam=0.8)"
      ],
      "execution_count": 9,
      "outputs": []
    },
    {
      "cell_type": "code",
      "metadata": {
        "id": "AZiDCilKXmUx"
      },
      "source": [
        "lrModel = lr.fit(training)"
      ],
      "execution_count": 10,
      "outputs": []
    },
    {
      "cell_type": "code",
      "metadata": {
        "colab": {
          "base_uri": "https://localhost:8080/"
        },
        "id": "11yuVqWaX0Dk",
        "outputId": "55145943-8bb9-4192-ca85-48b6cce08ac8"
      },
      "source": [
        "print(\"Coefficients : \" + str(lrModel.coefficients))\r\n",
        "print(\"Intercept : \" + str(lrModel.intercept))"
      ],
      "execution_count": 12,
      "outputs": [
        {
          "output_type": "stream",
          "text": [
            "Coefficients : (692,[244,263,272,300,301,328,350,351,378,379,405,406,407,428,433,434,455,456,461,462,483,484,489,490,496,511,512,517,539,540,568],[-7.353983524188197e-05,-9.102738505589466e-05,-0.00019467430546904298,-0.00020300642473486668,-3.1476183314863995e-05,-6.842977602660743e-05,1.5883626898239883e-05,1.4023497091372047e-05,0.00035432047524968605,0.00011443272898171087,0.00010016712383666666,0.0006014109303795481,0.0002840248179122762,-0.00011541084736508837,0.000385996886312906,0.000635019557424107,-0.00011506412384575676,-0.00015271865864986808,0.0002804933808994214,0.0006070117471191634,-0.0002008459663247437,-0.0001421075579290126,0.0002739010341160883,0.00027730456244968115,-9.838027027269332e-05,-0.0003808522443517704,-0.00025315198008555033,0.00027747714770754307,-0.0002443619763919199,-0.0015394744687597765,-0.00023073328411331293])\n",
            "Intercept : 0.22456315961250325\n"
          ],
          "name": "stdout"
        }
      ]
    },
    {
      "cell_type": "code",
      "metadata": {
        "id": "TDmYF71lYLS0"
      },
      "source": [
        "mlr = LogisticRegression(maxIter=10, regParam=0.3, elasticNetParam=0.8, family=\"multinomial\")"
      ],
      "execution_count": 13,
      "outputs": []
    },
    {
      "cell_type": "code",
      "metadata": {
        "id": "OBNV6IsxZAKN"
      },
      "source": [
        "mlrModel = mlr.fit(training)"
      ],
      "execution_count": 14,
      "outputs": []
    },
    {
      "cell_type": "code",
      "metadata": {
        "colab": {
          "base_uri": "https://localhost:8080/"
        },
        "id": "sCYOZNEAZFhx",
        "outputId": "2c576c79-872b-495d-befc-b08aa055be39"
      },
      "source": [
        "print(\"Multinomial Coefficients : \" + str(mlrModel.coefficientMatrix))\r\n",
        "print(\"MultinomialIntercept : \" + str(mlrModel.interceptVector))"
      ],
      "execution_count": 16,
      "outputs": [
        {
          "output_type": "stream",
          "text": [
            "Multinomial Coefficients : 2 X 692 CSRMatrix\n",
            "(0,244) 0.0\n",
            "(0,263) 0.0001\n",
            "(0,272) 0.0001\n",
            "(0,300) 0.0001\n",
            "(0,350) -0.0\n",
            "(0,351) -0.0\n",
            "(0,378) -0.0\n",
            "(0,379) -0.0\n",
            "(0,405) -0.0\n",
            "(0,406) -0.0006\n",
            "(0,407) -0.0001\n",
            "(0,428) 0.0001\n",
            "(0,433) -0.0\n",
            "(0,434) -0.0007\n",
            "(0,455) 0.0001\n",
            "(0,456) 0.0001\n",
            "..\n",
            "..\n",
            "MultinomialIntercept : [-0.12065879445860686,0.12065879445860686]\n"
          ],
          "name": "stdout"
        }
      ]
    },
    {
      "cell_type": "markdown",
      "metadata": {
        "id": "cOWkRuk-ZgfX"
      },
      "source": [
        "Naive Bayes"
      ]
    },
    {
      "cell_type": "code",
      "metadata": {
        "id": "MfR9sqkcZPT3"
      },
      "source": [
        "from pyspark.ml.classification import NaiveBayes\r\n",
        "from pyspark.ml.evaluation import MulticlassClassificationEvaluator"
      ],
      "execution_count": 17,
      "outputs": []
    },
    {
      "cell_type": "code",
      "metadata": {
        "id": "zwGWLEUfah7m"
      },
      "source": [
        "data = spark.read.format(\"libsvm\").load(\"spark-3.0.1-bin-hadoop2.7/data/mllib/sample_libsvm_data.txt\")"
      ],
      "execution_count": 18,
      "outputs": []
    },
    {
      "cell_type": "code",
      "metadata": {
        "id": "gw8xdbfrangX"
      },
      "source": [
        "splits = data.randomSplit([0.6, 0.4], 1234)\r\n",
        "train = splits[0]\r\n",
        "test = splits[1]"
      ],
      "execution_count": 19,
      "outputs": []
    },
    {
      "cell_type": "code",
      "metadata": {
        "colab": {
          "base_uri": "https://localhost:8080/"
        },
        "id": "hY_z_G0Va3pR",
        "outputId": "0c66fcbe-e372-43e3-ec57-834a08a97b0e"
      },
      "source": [
        "train.show()"
      ],
      "execution_count": 20,
      "outputs": [
        {
          "output_type": "stream",
          "text": [
            "+-----+--------------------+\n",
            "|label|            features|\n",
            "+-----+--------------------+\n",
            "|  0.0|(692,[100,101,102...|\n",
            "|  0.0|(692,[121,122,123...|\n",
            "|  0.0|(692,[122,123,148...|\n",
            "|  0.0|(692,[123,124,125...|\n",
            "|  0.0|(692,[123,124,125...|\n",
            "|  0.0|(692,[123,124,125...|\n",
            "|  0.0|(692,[124,125,126...|\n",
            "|  0.0|(692,[124,125,126...|\n",
            "|  0.0|(692,[124,125,126...|\n",
            "|  0.0|(692,[124,125,126...|\n",
            "|  0.0|(692,[126,127,128...|\n",
            "|  0.0|(692,[126,127,128...|\n",
            "|  0.0|(692,[126,127,128...|\n",
            "|  0.0|(692,[126,127,128...|\n",
            "|  0.0|(692,[126,127,128...|\n",
            "|  0.0|(692,[126,127,128...|\n",
            "|  0.0|(692,[126,127,128...|\n",
            "|  0.0|(692,[129,130,131...|\n",
            "|  0.0|(692,[151,152,153...|\n",
            "|  0.0|(692,[153,154,155...|\n",
            "+-----+--------------------+\n",
            "only showing top 20 rows\n",
            "\n"
          ],
          "name": "stdout"
        }
      ]
    },
    {
      "cell_type": "code",
      "metadata": {
        "colab": {
          "base_uri": "https://localhost:8080/"
        },
        "id": "3o8W0qmia6aQ",
        "outputId": "d57113d2-5072-4bdd-f581-705882a7195e"
      },
      "source": [
        "test.show()"
      ],
      "execution_count": 21,
      "outputs": [
        {
          "output_type": "stream",
          "text": [
            "+-----+--------------------+\n",
            "|label|            features|\n",
            "+-----+--------------------+\n",
            "|  0.0|(692,[95,96,97,12...|\n",
            "|  0.0|(692,[98,99,100,1...|\n",
            "|  0.0|(692,[122,123,124...|\n",
            "|  0.0|(692,[124,125,126...|\n",
            "|  0.0|(692,[124,125,126...|\n",
            "|  0.0|(692,[125,126,127...|\n",
            "|  0.0|(692,[126,127,128...|\n",
            "|  0.0|(692,[127,128,129...|\n",
            "|  0.0|(692,[127,128,129...|\n",
            "|  0.0|(692,[127,128,129...|\n",
            "|  0.0|(692,[128,129,130...|\n",
            "|  0.0|(692,[150,151,152...|\n",
            "|  0.0|(692,[152,153,154...|\n",
            "|  0.0|(692,[152,153,154...|\n",
            "|  0.0|(692,[152,153,154...|\n",
            "|  0.0|(692,[153,154,155...|\n",
            "|  0.0|(692,[153,154,155...|\n",
            "|  0.0|(692,[154,155,156...|\n",
            "|  0.0|(692,[181,182,183...|\n",
            "|  1.0|(692,[100,101,102...|\n",
            "+-----+--------------------+\n",
            "only showing top 20 rows\n",
            "\n"
          ],
          "name": "stdout"
        }
      ]
    },
    {
      "cell_type": "code",
      "metadata": {
        "id": "xUS-gWRVa7py"
      },
      "source": [
        "nb = NaiveBayes(smoothing=1.0, modelType=\"multinomial\")"
      ],
      "execution_count": 22,
      "outputs": []
    },
    {
      "cell_type": "code",
      "metadata": {
        "id": "pc5LRVAncTU1"
      },
      "source": [
        "model = nb.fit(training)"
      ],
      "execution_count": 23,
      "outputs": []
    },
    {
      "cell_type": "code",
      "metadata": {
        "colab": {
          "base_uri": "https://localhost:8080/"
        },
        "id": "ew9Qh00bcXMD",
        "outputId": "7895b062-c13c-402d-f237-89bdd4bae6d4"
      },
      "source": [
        "predictions = model.transform(test)\r\n",
        "predictions.show()"
      ],
      "execution_count": 24,
      "outputs": [
        {
          "output_type": "stream",
          "text": [
            "+-----+--------------------+--------------------+-----------+----------+\n",
            "|label|            features|       rawPrediction|probability|prediction|\n",
            "+-----+--------------------+--------------------+-----------+----------+\n",
            "|  0.0|(692,[95,96,97,12...|[-170882.07872604...|  [1.0,0.0]|       0.0|\n",
            "|  0.0|(692,[98,99,100,1...|[-174137.32798149...|  [1.0,0.0]|       0.0|\n",
            "|  0.0|(692,[122,123,124...|[-189356.05000199...|  [1.0,0.0]|       0.0|\n",
            "|  0.0|(692,[124,125,126...|[-268952.75343475...|  [1.0,0.0]|       0.0|\n",
            "|  0.0|(692,[124,125,126...|[-182687.22825681...|  [1.0,0.0]|       0.0|\n",
            "|  0.0|(692,[125,126,127...|[-256997.16388524...|  [1.0,0.0]|       0.0|\n",
            "|  0.0|(692,[126,127,128...|[-209239.48362082...|  [1.0,0.0]|       0.0|\n",
            "|  0.0|(692,[127,128,129...|[-169859.06591059...|  [1.0,0.0]|       0.0|\n",
            "|  0.0|(692,[127,128,129...|[-211583.90465150...|  [1.0,0.0]|       0.0|\n",
            "|  0.0|(692,[127,128,129...|[-182558.98726303...|  [1.0,0.0]|       0.0|\n",
            "|  0.0|(692,[128,129,130...|[-245007.81758450...|  [1.0,0.0]|       0.0|\n",
            "|  0.0|(692,[150,151,152...|[-156245.31267665...|  [1.0,0.0]|       0.0|\n",
            "|  0.0|(692,[152,153,154...|[-208322.22154461...|  [1.0,0.0]|       0.0|\n",
            "|  0.0|(692,[152,153,154...|[-240963.97274110...|  [1.0,0.0]|       0.0|\n",
            "|  0.0|(692,[152,153,154...|[-93161.666183120...|  [1.0,0.0]|       0.0|\n",
            "|  0.0|(692,[153,154,155...|[-259670.44552261...|  [1.0,0.0]|       0.0|\n",
            "|  0.0|(692,[153,154,155...|[-144393.06155656...|  [1.0,0.0]|       0.0|\n",
            "|  0.0|(692,[154,155,156...|[-273248.45477279...|  [1.0,0.0]|       0.0|\n",
            "|  0.0|(692,[181,182,183...|[-154421.80637380...|  [1.0,0.0]|       0.0|\n",
            "|  1.0|(692,[100,101,102...|[-145952.87135504...|  [0.0,1.0]|       1.0|\n",
            "+-----+--------------------+--------------------+-----------+----------+\n",
            "only showing top 20 rows\n",
            "\n"
          ],
          "name": "stdout"
        }
      ]
    },
    {
      "cell_type": "code",
      "metadata": {
        "id": "FmHGnOc9cg59"
      },
      "source": [
        "evaluator = MulticlassClassificationEvaluator(labelCol=\"label\", predictionCol=\"prediction\",\r\n",
        "                                              metricName=\"accuracy\")"
      ],
      "execution_count": 25,
      "outputs": []
    },
    {
      "cell_type": "code",
      "metadata": {
        "colab": {
          "base_uri": "https://localhost:8080/"
        },
        "id": "T11zAPOnc8Qa",
        "outputId": "abef951f-fd0a-4cda-b3ab-7ca8d2d18c83"
      },
      "source": [
        "accuracy = evaluator.evaluate(predictions)\r\n",
        "print(\"Test set accuracy = \" + str(accuracy))"
      ],
      "execution_count": 26,
      "outputs": [
        {
          "output_type": "stream",
          "text": [
            "Test set accuracy = 1.0\n"
          ],
          "name": "stdout"
        }
      ]
    },
    {
      "cell_type": "code",
      "metadata": {
        "id": "GPBg6TYJdcfS"
      },
      "source": [
        "spark.stop()"
      ],
      "execution_count": 27,
      "outputs": []
    },
    {
      "cell_type": "code",
      "metadata": {
        "id": "QCBBjDkTdmRa"
      },
      "source": [
        ""
      ],
      "execution_count": null,
      "outputs": []
    }
  ]
}