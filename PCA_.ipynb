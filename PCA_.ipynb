{
  "nbformat": 4,
  "nbformat_minor": 0,
  "metadata": {
    "colab": {
      "name": "PCA_.ipynb",
      "provenance": [],
      "authorship_tag": "ABX9TyMd9PM/nYJHaCRsbUg6MOLx",
      "include_colab_link": true
    },
    "kernelspec": {
      "name": "python3",
      "display_name": "Python 3"
    }
  },
  "cells": [
    {
      "cell_type": "markdown",
      "metadata": {
        "id": "view-in-github",
        "colab_type": "text"
      },
      "source": [
        "<a href=\"https://colab.research.google.com/github/sasansharifipour/Spark_Class/blob/main/PCA_.ipynb\" target=\"_parent\"><img src=\"https://colab.research.google.com/assets/colab-badge.svg\" alt=\"Open In Colab\"/></a>"
      ]
    },
    {
      "cell_type": "code",
      "metadata": {
        "id": "OytxqL45Yy5Q"
      },
      "source": [
        "!apt-get install openjdk-8-jdk-headless -qq > /dev/null\r\n",
        "!wget -q https://downloads.apache.org/spark/spark-3.0.1/spark-3.0.1-bin-hadoop2.7.tgz\r\n",
        "!tar xf spark-3.0.1-bin-hadoop2.7.tgz\r\n",
        "!pip install -q findspark\r\n",
        "\r\n",
        "import os\r\n",
        "os.environ[\"JAVA_HOME\"] = \"/usr/lib/jvm/java-8-openjdk-amd64\"\r\n",
        "os.environ[\"SPARK_HOME\"] = \"/content/spark-3.0.1-bin-hadoop2.7\"\r\n",
        "\r\n",
        "import findspark\r\n",
        "findspark.init()"
      ],
      "execution_count": 1,
      "outputs": []
    },
    {
      "cell_type": "code",
      "metadata": {
        "id": "WXJ3ghNIZJY5"
      },
      "source": [
        "from pyspark.sql import SparkSession\r\n",
        "\r\n",
        "spark = SparkSession.builder.getOrCreate()"
      ],
      "execution_count": 2,
      "outputs": []
    },
    {
      "cell_type": "markdown",
      "metadata": {
        "id": "Zbx7Aip9Zigy"
      },
      "source": [
        "PCA"
      ]
    },
    {
      "cell_type": "code",
      "metadata": {
        "id": "pptgklUAZS7X"
      },
      "source": [
        "from pyspark.ml.feature import PCA\r\n",
        "from pyspark.ml.linalg import Vectors"
      ],
      "execution_count": 3,
      "outputs": []
    },
    {
      "cell_type": "code",
      "metadata": {
        "id": "tC7ZmHAFZ7cR"
      },
      "source": [
        "data = [(Vectors.sparse(5, [(1, 1.0), (3, 7.0)]),),\r\n",
        "        (Vectors.dense([2.0, 0.0, 3.0, 4.0, 5.0]),),\r\n",
        "        (Vectors.dense([4.0, 0.0, 0.0, 6.0,7.0]),)]"
      ],
      "execution_count": 4,
      "outputs": []
    },
    {
      "cell_type": "code",
      "metadata": {
        "id": "vcGqL9NYa1QJ"
      },
      "source": [
        "df = spark.createDataFrame(data, [\"features\"])"
      ],
      "execution_count": 6,
      "outputs": []
    },
    {
      "cell_type": "code",
      "metadata": {
        "colab": {
          "base_uri": "https://localhost:8080/"
        },
        "id": "I92vzCWzbB7v",
        "outputId": "b1b0d040-443e-43ba-c9a6-49431153b141"
      },
      "source": [
        "df.show()"
      ],
      "execution_count": 8,
      "outputs": [
        {
          "output_type": "stream",
          "text": [
            "+--------------------+\n",
            "|            features|\n",
            "+--------------------+\n",
            "| (5,[1,3],[1.0,7.0])|\n",
            "|[2.0,0.0,3.0,4.0,...|\n",
            "|[4.0,0.0,0.0,6.0,...|\n",
            "+--------------------+\n",
            "\n"
          ],
          "name": "stdout"
        }
      ]
    },
    {
      "cell_type": "code",
      "metadata": {
        "id": "LW9-dyXHbKji"
      },
      "source": [
        "pca = PCA( k = 3, inputCol=\"features\", outputCol=\"pcaFeatures\" )\r\n",
        "\r\n",
        "model = pca.fit(df)"
      ],
      "execution_count": 9,
      "outputs": []
    },
    {
      "cell_type": "code",
      "metadata": {
        "colab": {
          "base_uri": "https://localhost:8080/"
        },
        "id": "586BQJodb_GG",
        "outputId": "f2177499-5d1f-4cb2-c100-41c909009566"
      },
      "source": [
        "result = model.transform(df).select(\"pcaFeatures\")\r\n",
        "result.show(truncate=False)"
      ],
      "execution_count": 10,
      "outputs": [
        {
          "output_type": "stream",
          "text": [
            "+-----------------------------------------------------------+\n",
            "|pcaFeatures                                                |\n",
            "+-----------------------------------------------------------+\n",
            "|[1.6485728230883807,-4.013282700516296,-5.524543751369388] |\n",
            "|[-4.645104331781534,-1.1167972663619026,-5.524543751369387]|\n",
            "|[-6.428880535676489,-5.337951427775355,-5.524543751369389] |\n",
            "+-----------------------------------------------------------+\n",
            "\n"
          ],
          "name": "stdout"
        }
      ]
    },
    {
      "cell_type": "markdown",
      "metadata": {
        "id": "6OWljmi9c1rT"
      },
      "source": [
        "One Hot Encoding"
      ]
    },
    {
      "cell_type": "code",
      "metadata": {
        "id": "ML7N7QYPcrfD"
      },
      "source": [
        "from pyspark.ml.feature import OneHotEncoder"
      ],
      "execution_count": 12,
      "outputs": []
    },
    {
      "cell_type": "code",
      "metadata": {
        "id": "1NVE11ccdU_r"
      },
      "source": [
        "df = spark.createDataFrame([\r\n",
        "                            (0.0, 1.0),\r\n",
        "                            (1.0, 0.0),\r\n",
        "                            (2.0, 1.0),\r\n",
        "                            (0.0, 2.0),\r\n",
        "                            (0.0, 1.0),\r\n",
        "                            (2.0, 0.0)\r\n",
        "],[\"categoryIndex1\", \"categoryIndex2\"])"
      ],
      "execution_count": 13,
      "outputs": []
    },
    {
      "cell_type": "code",
      "metadata": {
        "colab": {
          "base_uri": "https://localhost:8080/"
        },
        "id": "gU_6OOmSer2c",
        "outputId": "5e160898-2076-42b9-d945-d7610f17c102"
      },
      "source": [
        "df.show()"
      ],
      "execution_count": 14,
      "outputs": [
        {
          "output_type": "stream",
          "text": [
            "+--------------+--------------+\n",
            "|categoryIndex1|categoryIndex2|\n",
            "+--------------+--------------+\n",
            "|           0.0|           1.0|\n",
            "|           1.0|           0.0|\n",
            "|           2.0|           1.0|\n",
            "|           0.0|           2.0|\n",
            "|           0.0|           1.0|\n",
            "|           2.0|           0.0|\n",
            "+--------------+--------------+\n",
            "\n"
          ],
          "name": "stdout"
        }
      ]
    },
    {
      "cell_type": "code",
      "metadata": {
        "id": "Yr98XhkeevTr"
      },
      "source": [
        "encoder = OneHotEncoder(inputCols=[\"categoryIndex1\", \"categoryIndex2\"],\r\n",
        "                        outputCols = [\"categoryVec1\", \"categoryVec2\"])"
      ],
      "execution_count": 15,
      "outputs": []
    },
    {
      "cell_type": "code",
      "metadata": {
        "id": "b1MQIFZ_fTXp"
      },
      "source": [
        "model_encoder = encoder.fit(df)"
      ],
      "execution_count": 16,
      "outputs": []
    },
    {
      "cell_type": "code",
      "metadata": {
        "id": "r62sV_jmfbRU"
      },
      "source": [
        "encoded = model_encoder.transform(df)"
      ],
      "execution_count": 17,
      "outputs": []
    },
    {
      "cell_type": "code",
      "metadata": {
        "colab": {
          "base_uri": "https://localhost:8080/"
        },
        "id": "WZJ-MavJfg0g",
        "outputId": "61000bed-3f55-4e4a-fe89-fb9a9e0f597c"
      },
      "source": [
        "encoded.show()"
      ],
      "execution_count": 18,
      "outputs": [
        {
          "output_type": "stream",
          "text": [
            "+--------------+--------------+-------------+-------------+\n",
            "|categoryIndex1|categoryIndex2| categoryVec1| categoryVec2|\n",
            "+--------------+--------------+-------------+-------------+\n",
            "|           0.0|           1.0|(2,[0],[1.0])|(2,[1],[1.0])|\n",
            "|           1.0|           0.0|(2,[1],[1.0])|(2,[0],[1.0])|\n",
            "|           2.0|           1.0|    (2,[],[])|(2,[1],[1.0])|\n",
            "|           0.0|           2.0|(2,[0],[1.0])|    (2,[],[])|\n",
            "|           0.0|           1.0|(2,[0],[1.0])|(2,[1],[1.0])|\n",
            "|           2.0|           0.0|    (2,[],[])|(2,[0],[1.0])|\n",
            "+--------------+--------------+-------------+-------------+\n",
            "\n"
          ],
          "name": "stdout"
        }
      ]
    },
    {
      "cell_type": "markdown",
      "metadata": {
        "id": "Mapk1Zc8f6dd"
      },
      "source": [
        "MinMaxScalar"
      ]
    },
    {
      "cell_type": "code",
      "metadata": {
        "id": "xlVSVuPSfldZ"
      },
      "source": [
        "from pyspark.ml.feature import MinMaxScaler\r\n",
        "from pyspark.ml.linalg import Vectors"
      ],
      "execution_count": 19,
      "outputs": []
    },
    {
      "cell_type": "code",
      "metadata": {
        "id": "v8TxbXNugV28"
      },
      "source": [
        "our_dataframe = spark.createDataFrame([\r\n",
        "                                   (0, Vectors.dense([2.0, 0.1, 1.0]),),\r\n",
        "                                   (1, Vectors.dense([1.0, 1.1, 1.0]),),\r\n",
        "                                   (2, Vectors.dense([3.0, 10.1, 3.0]),)\r\n",
        "],[\"id\", \"features\"])"
      ],
      "execution_count": 58,
      "outputs": []
    },
    {
      "cell_type": "code",
      "metadata": {
        "colab": {
          "base_uri": "https://localhost:8080/"
        },
        "id": "GUVesiWag408",
        "outputId": "8fbf8688-f961-4128-d033-4c16c07ba2ad"
      },
      "source": [
        "our_dataframe.show()"
      ],
      "execution_count": 59,
      "outputs": [
        {
          "output_type": "stream",
          "text": [
            "+---+--------------+\n",
            "| id|      features|\n",
            "+---+--------------+\n",
            "|  0| [2.0,0.1,1.0]|\n",
            "|  1| [1.0,1.1,1.0]|\n",
            "|  2|[3.0,10.1,3.0]|\n",
            "+---+--------------+\n",
            "\n"
          ],
          "name": "stdout"
        }
      ]
    },
    {
      "cell_type": "code",
      "metadata": {
        "id": "TIQlKcBmg7KR"
      },
      "source": [
        "scaler = MinMaxScaler(inputCol=\"features\", outputCol=\"scaledFeatures\")"
      ],
      "execution_count": 60,
      "outputs": []
    },
    {
      "cell_type": "code",
      "metadata": {
        "colab": {
          "base_uri": "https://localhost:8080/"
        },
        "id": "EVoXvEWMhPyq",
        "outputId": "54dd34a8-79dd-43ce-dff7-52d054d261f4"
      },
      "source": [
        "scaler"
      ],
      "execution_count": 61,
      "outputs": [
        {
          "output_type": "execute_result",
          "data": {
            "text/plain": [
              "MinMaxScaler_3880cecd9474"
            ]
          },
          "metadata": {
            "tags": []
          },
          "execution_count": 61
        }
      ]
    },
    {
      "cell_type": "code",
      "metadata": {
        "id": "TIcTWh1OhSr5"
      },
      "source": [
        "scaler_model = scaler.fit(our_dataframe)"
      ],
      "execution_count": 62,
      "outputs": []
    },
    {
      "cell_type": "code",
      "metadata": {
        "id": "kt3MAHDRlauM"
      },
      "source": [
        "scaler_data = scaler_model.transform(our_dataframe)"
      ],
      "execution_count": 63,
      "outputs": []
    },
    {
      "cell_type": "code",
      "metadata": {
        "colab": {
          "base_uri": "https://localhost:8080/"
        },
        "id": "5kEdGHf4ln6Y",
        "outputId": "64ddc661-eaeb-4d1e-d4a6-7ac17bdf43a3"
      },
      "source": [
        "scaler_data.select(\"features\", \"scaledFeatures\").show()"
      ],
      "execution_count": 64,
      "outputs": [
        {
          "output_type": "stream",
          "text": [
            "+--------------+--------------+\n",
            "|      features|scaledFeatures|\n",
            "+--------------+--------------+\n",
            "| [2.0,0.1,1.0]| [0.5,0.0,0.0]|\n",
            "| [1.0,1.1,1.0]| [0.0,0.1,0.0]|\n",
            "|[3.0,10.1,3.0]| [1.0,1.0,1.0]|\n",
            "+--------------+--------------+\n",
            "\n"
          ],
          "name": "stdout"
        }
      ]
    },
    {
      "cell_type": "code",
      "metadata": {
        "id": "BEdIyY4EsJPH"
      },
      "source": [
        "spark.stop()"
      ],
      "execution_count": 65,
      "outputs": []
    },
    {
      "cell_type": "code",
      "metadata": {
        "id": "F3Vc6CT0tlQC"
      },
      "source": [
        ""
      ],
      "execution_count": null,
      "outputs": []
    }
  ]
}