{
  "nbformat": 4,
  "nbformat_minor": 0,
  "metadata": {
    "colab": {
      "name": "Feature_Extractor_Spark.ipynb",
      "provenance": [],
      "collapsed_sections": [],
      "authorship_tag": "ABX9TyOXVKvOrp576Asvd0YfdYZQ",
      "include_colab_link": true
    },
    "kernelspec": {
      "name": "python3",
      "display_name": "Python 3"
    }
  },
  "cells": [
    {
      "cell_type": "markdown",
      "metadata": {
        "id": "view-in-github",
        "colab_type": "text"
      },
      "source": [
        "<a href=\"https://colab.research.google.com/github/sasansharifipour/Spark_Class/blob/main/Feature_Extractor_Spark.ipynb\" target=\"_parent\"><img src=\"https://colab.research.google.com/assets/colab-badge.svg\" alt=\"Open In Colab\"/></a>"
      ]
    },
    {
      "cell_type": "code",
      "metadata": {
        "id": "hNz6rwKDyy1b"
      },
      "source": [
        "!apt-get install openjdk-8-jdk-headless -qq > /dev/null\r\n",
        "!wget -q https://downloads.apache.org/spark/spark-3.0.1/spark-3.0.1-bin-hadoop2.7.tgz\r\n",
        "!tar xf spark-3.0.1-bin-hadoop2.7.tgz\r\n",
        "!pip install -q findspark\r\n",
        "\r\n",
        "import os\r\n",
        "os.environ[\"JAVA_HOME\"] = \"/usr/lib/jvm/java-8-openjdk-amd64\"\r\n",
        "os.environ[\"SPARK_HOME\"] = \"/content/spark-3.0.1-bin-hadoop2.7\"\r\n",
        "\r\n",
        "import findspark\r\n",
        "findspark.init()"
      ],
      "execution_count": 1,
      "outputs": []
    },
    {
      "cell_type": "code",
      "metadata": {
        "id": "neAMnxery-dR"
      },
      "source": [
        "from pyspark.sql import SparkSession\r\n",
        "\r\n",
        "spark = SparkSession.builder.getOrCreate()"
      ],
      "execution_count": 2,
      "outputs": []
    },
    {
      "cell_type": "markdown",
      "metadata": {
        "id": "VssEjPvYy_4g"
      },
      "source": [
        "Term Frequency-Inverse Document Frequency (TF-IDF)"
      ]
    },
    {
      "cell_type": "code",
      "metadata": {
        "id": "Jz67iBASy_PI"
      },
      "source": [
        "from pyspark.ml.feature import HashingTF, IDF, Tokenizer"
      ],
      "execution_count": 3,
      "outputs": []
    },
    {
      "cell_type": "code",
      "metadata": {
        "id": "xJ0-KAC1zSMg"
      },
      "source": [
        "sentenceData = spark.createDataFrame([\r\n",
        "                                      (0.0, \"Hi I heard about Spark\"),\r\n",
        "                                      (0.0, \"I wish Java could use case classes\"),\r\n",
        "                                      (1.0, \"Logistic regression models are neat\")\r\n",
        "\r\n",
        "], [\"label\", \"sentence\"])"
      ],
      "execution_count": 4,
      "outputs": []
    },
    {
      "cell_type": "code",
      "metadata": {
        "colab": {
          "base_uri": "https://localhost:8080/"
        },
        "id": "o0n0GlT8zt1g",
        "outputId": "b26a6ead-a93b-4f51-b7ab-6f9c62533e84"
      },
      "source": [
        "sentenceData.show()"
      ],
      "execution_count": 5,
      "outputs": [
        {
          "output_type": "stream",
          "text": [
            "+-----+--------------------+\n",
            "|label|            sentence|\n",
            "+-----+--------------------+\n",
            "|  0.0|Hi I heard about ...|\n",
            "|  0.0|I wish Java could...|\n",
            "|  1.0|Logistic regressi...|\n",
            "+-----+--------------------+\n",
            "\n"
          ],
          "name": "stdout"
        }
      ]
    },
    {
      "cell_type": "code",
      "metadata": {
        "id": "36yhNFcXzwrY"
      },
      "source": [
        "tokenizer = Tokenizer(inputCol=\"sentence\", outputCol=\"words\")\r\n",
        "wordsData = tokenizer.transform(sentenceData)"
      ],
      "execution_count": 6,
      "outputs": []
    },
    {
      "cell_type": "code",
      "metadata": {
        "colab": {
          "base_uri": "https://localhost:8080/"
        },
        "id": "nqP2At-Pz-wJ",
        "outputId": "177f56f2-098e-4ab0-89ef-54cefb900248"
      },
      "source": [
        "wordsData.show()"
      ],
      "execution_count": 7,
      "outputs": [
        {
          "output_type": "stream",
          "text": [
            "+-----+--------------------+--------------------+\n",
            "|label|            sentence|               words|\n",
            "+-----+--------------------+--------------------+\n",
            "|  0.0|Hi I heard about ...|[hi, i, heard, ab...|\n",
            "|  0.0|I wish Java could...|[i, wish, java, c...|\n",
            "|  1.0|Logistic regressi...|[logistic, regres...|\n",
            "+-----+--------------------+--------------------+\n",
            "\n"
          ],
          "name": "stdout"
        }
      ]
    },
    {
      "cell_type": "code",
      "metadata": {
        "id": "z8y9peSA0Bwp"
      },
      "source": [
        "hashingTF = HashingTF(inputCol=\"words\", outputCol=\"rawFeatures\", numFeatures=20)\r\n",
        "featurizedData = hashingTF.transform(wordsData)"
      ],
      "execution_count": 9,
      "outputs": []
    },
    {
      "cell_type": "code",
      "metadata": {
        "colab": {
          "base_uri": "https://localhost:8080/"
        },
        "id": "Zb8gDYhZ0Xth",
        "outputId": "ca68b37e-d3a8-45db-fddf-e97be54e7441"
      },
      "source": [
        "featurizedData.show()"
      ],
      "execution_count": 10,
      "outputs": [
        {
          "output_type": "stream",
          "text": [
            "+-----+--------------------+--------------------+--------------------+\n",
            "|label|            sentence|               words|         rawFeatures|\n",
            "+-----+--------------------+--------------------+--------------------+\n",
            "|  0.0|Hi I heard about ...|[hi, i, heard, ab...|(20,[6,8,13,16],[...|\n",
            "|  0.0|I wish Java could...|[i, wish, java, c...|(20,[0,2,7,13,15,...|\n",
            "|  1.0|Logistic regressi...|[logistic, regres...|(20,[3,4,6,11,19]...|\n",
            "+-----+--------------------+--------------------+--------------------+\n",
            "\n"
          ],
          "name": "stdout"
        }
      ]
    },
    {
      "cell_type": "code",
      "metadata": {
        "id": "MPwuLg5y0bIh"
      },
      "source": [
        "idf = IDF(inputCol=\"rawFeatures\", outputCol=\"features\")"
      ],
      "execution_count": 11,
      "outputs": []
    },
    {
      "cell_type": "code",
      "metadata": {
        "colab": {
          "base_uri": "https://localhost:8080/"
        },
        "id": "8ObPZJDn0t5J",
        "outputId": "03cb74e4-6b51-4e83-c677-c4017566a895"
      },
      "source": [
        "idf"
      ],
      "execution_count": 12,
      "outputs": [
        {
          "output_type": "execute_result",
          "data": {
            "text/plain": [
              "IDF_3d838e0136f3"
            ]
          },
          "metadata": {
            "tags": []
          },
          "execution_count": 12
        }
      ]
    },
    {
      "cell_type": "code",
      "metadata": {
        "id": "SUPRr6R60u4x"
      },
      "source": [
        "idfModel = idf.fit(featurizedData)"
      ],
      "execution_count": 13,
      "outputs": []
    },
    {
      "cell_type": "code",
      "metadata": {
        "colab": {
          "base_uri": "https://localhost:8080/"
        },
        "id": "XQyMsGhF0y8K",
        "outputId": "a849f555-16c3-4e32-a985-7462232ce639"
      },
      "source": [
        "idfModel"
      ],
      "execution_count": 14,
      "outputs": [
        {
          "output_type": "execute_result",
          "data": {
            "text/plain": [
              "IDFModel: uid=IDF_3d838e0136f3, numDocs=3, numFeatures=20"
            ]
          },
          "metadata": {
            "tags": []
          },
          "execution_count": 14
        }
      ]
    },
    {
      "cell_type": "code",
      "metadata": {
        "id": "XT0T1Bxt00e6"
      },
      "source": [
        "rescaledData = idfModel.transform(featurizedData)"
      ],
      "execution_count": 15,
      "outputs": []
    },
    {
      "cell_type": "code",
      "metadata": {
        "colab": {
          "base_uri": "https://localhost:8080/"
        },
        "id": "bmS2JstS1Fvx",
        "outputId": "96200f04-1632-4c17-b2da-17aa20994fb0"
      },
      "source": [
        "rescaledData"
      ],
      "execution_count": 16,
      "outputs": [
        {
          "output_type": "execute_result",
          "data": {
            "text/plain": [
              "DataFrame[label: double, sentence: string, words: array<string>, rawFeatures: vector, features: vector]"
            ]
          },
          "metadata": {
            "tags": []
          },
          "execution_count": 16
        }
      ]
    },
    {
      "cell_type": "code",
      "metadata": {
        "colab": {
          "base_uri": "https://localhost:8080/"
        },
        "id": "4RwS1IL-1HNh",
        "outputId": "2b58292a-4acf-4a3e-83da-781b4b810ad4"
      },
      "source": [
        "rescaledData.select(\"label\", \"features\").show()"
      ],
      "execution_count": 17,
      "outputs": [
        {
          "output_type": "stream",
          "text": [
            "+-----+--------------------+\n",
            "|label|            features|\n",
            "+-----+--------------------+\n",
            "|  0.0|(20,[6,8,13,16],[...|\n",
            "|  0.0|(20,[0,2,7,13,15,...|\n",
            "|  1.0|(20,[3,4,6,11,19]...|\n",
            "+-----+--------------------+\n",
            "\n"
          ],
          "name": "stdout"
        }
      ]
    },
    {
      "cell_type": "markdown",
      "metadata": {
        "id": "tsDFZKEw1XSr"
      },
      "source": [
        "Word2Vec"
      ]
    },
    {
      "cell_type": "code",
      "metadata": {
        "id": "NtBCFbna1WVE"
      },
      "source": [
        "from pyspark.ml.feature import Word2Vec"
      ],
      "execution_count": 18,
      "outputs": []
    },
    {
      "cell_type": "code",
      "metadata": {
        "id": "ARMMNgIu1MjB"
      },
      "source": [
        "documentDF = spark.createDataFrame([\r\n",
        "                                    (\"Hi I heard about Spark\".split(\" \"), ),\r\n",
        "                                    (\"I wish Java could use case classes\".split(\" \"), ),\r\n",
        "                                    (\"Logistic regression models are neat\".split(\" \"), )\r\n",
        "],[\"text\"])"
      ],
      "execution_count": 19,
      "outputs": []
    },
    {
      "cell_type": "code",
      "metadata": {
        "colab": {
          "base_uri": "https://localhost:8080/"
        },
        "id": "jf83q8xb16iz",
        "outputId": "c26a5a45-7e6f-4b51-b2d1-7c44fba034c0"
      },
      "source": [
        "documentDF.show()"
      ],
      "execution_count": 20,
      "outputs": [
        {
          "output_type": "stream",
          "text": [
            "+--------------------+\n",
            "|                text|\n",
            "+--------------------+\n",
            "|[Hi, I, heard, ab...|\n",
            "|[I, wish, Java, c...|\n",
            "|[Logistic, regres...|\n",
            "+--------------------+\n",
            "\n"
          ],
          "name": "stdout"
        }
      ]
    },
    {
      "cell_type": "code",
      "metadata": {
        "id": "QrkF5f4n189a"
      },
      "source": [
        "word2vec = Word2Vec(vectorSize=3, minCount=0, inputCol=\"text\", outputCol=\"result\")"
      ],
      "execution_count": 22,
      "outputs": []
    },
    {
      "cell_type": "code",
      "metadata": {
        "colab": {
          "base_uri": "https://localhost:8080/"
        },
        "id": "vGcFQ6yZ2P6S",
        "outputId": "48fb813e-8401-4a04-e5b1-7c8184ca2cee"
      },
      "source": [
        "word2vec"
      ],
      "execution_count": 23,
      "outputs": [
        {
          "output_type": "execute_result",
          "data": {
            "text/plain": [
              "Word2Vec_f1206f221332"
            ]
          },
          "metadata": {
            "tags": []
          },
          "execution_count": 23
        }
      ]
    },
    {
      "cell_type": "code",
      "metadata": {
        "id": "E1QlLKlc2Rg0"
      },
      "source": [
        "model = word2vec.fit(documentDF)"
      ],
      "execution_count": 24,
      "outputs": []
    },
    {
      "cell_type": "code",
      "metadata": {
        "colab": {
          "base_uri": "https://localhost:8080/"
        },
        "id": "2clQcWxy2Wij",
        "outputId": "08c5b821-a30f-4089-85fa-5772a7054003"
      },
      "source": [
        "result = model.transform(documentDF)\r\n",
        "\r\n",
        "for row in result.collect():\r\n",
        "  text, vector = row\r\n",
        "  print(\"Text: [%s] => \\nVector : %s \\n\" % (\", \".join(text), str(vector)))"
      ],
      "execution_count": 27,
      "outputs": [
        {
          "output_type": "stream",
          "text": [
            "Text: [Hi, I, heard, about, Spark] => \n",
            "Vector : [0.016157862544059754,-0.048465465754270555,-0.06793839037418366] \n",
            "\n",
            "Text: [I, wish, Java, could, use, case, classes] => \n",
            "Vector : [0.033490611639406,-0.0041030315416199815,-0.046117741215441904] \n",
            "\n",
            "Text: [Logistic, regression, models, are, neat] => \n",
            "Vector : [-0.05778748095035553,0.025992725044488907,0.011553806625306607] \n",
            "\n"
          ],
          "name": "stdout"
        }
      ]
    },
    {
      "cell_type": "markdown",
      "metadata": {
        "id": "-NoPr-7l3EOX"
      },
      "source": [
        "CountVectorizer"
      ]
    },
    {
      "cell_type": "code",
      "metadata": {
        "id": "Yl1tb4vy2xqy"
      },
      "source": [
        "from pyspark.ml.feature import CountVectorizer"
      ],
      "execution_count": 28,
      "outputs": []
    },
    {
      "cell_type": "code",
      "metadata": {
        "id": "Ph4HCWxV3N9T"
      },
      "source": [
        "df = spark.createDataFrame([\r\n",
        "                            (0, \"a b c\".split(\" \")),\r\n",
        "                            (1, \"a b b c a\".split(\" \")),\r\n",
        "],[\"id\", \"words\"])"
      ],
      "execution_count": 29,
      "outputs": []
    },
    {
      "cell_type": "code",
      "metadata": {
        "colab": {
          "base_uri": "https://localhost:8080/"
        },
        "id": "au_iAdfb3gU7",
        "outputId": "44fdc8d9-bd6d-4dea-9dd8-3bcab08d2072"
      },
      "source": [
        "df.show()"
      ],
      "execution_count": 30,
      "outputs": [
        {
          "output_type": "stream",
          "text": [
            "+---+---------------+\n",
            "| id|          words|\n",
            "+---+---------------+\n",
            "|  0|      [a, b, c]|\n",
            "|  1|[a, b, b, c, a]|\n",
            "+---+---------------+\n",
            "\n"
          ],
          "name": "stdout"
        }
      ]
    },
    {
      "cell_type": "code",
      "metadata": {
        "id": "YSnITmK23hxi"
      },
      "source": [
        "cv = CountVectorizer(inputCol=\"words\", outputCol=\"features\", vocabSize=3, minDF=2.0)"
      ],
      "execution_count": 31,
      "outputs": []
    },
    {
      "cell_type": "code",
      "metadata": {
        "colab": {
          "base_uri": "https://localhost:8080/"
        },
        "id": "PISQC_Dz3svc",
        "outputId": "dc51fc37-a1b2-430f-97b7-c08e9f3cf466"
      },
      "source": [
        "cv"
      ],
      "execution_count": 32,
      "outputs": [
        {
          "output_type": "execute_result",
          "data": {
            "text/plain": [
              "CountVectorizer_37aefd688e7d"
            ]
          },
          "metadata": {
            "tags": []
          },
          "execution_count": 32
        }
      ]
    },
    {
      "cell_type": "code",
      "metadata": {
        "id": "8NyXrwt23tmD"
      },
      "source": [
        "model_cv = cv.fit(df)"
      ],
      "execution_count": 33,
      "outputs": []
    },
    {
      "cell_type": "code",
      "metadata": {
        "colab": {
          "base_uri": "https://localhost:8080/"
        },
        "id": "jIzdJalC3yPj",
        "outputId": "75f766d1-731a-467e-a0f1-2823deee967e"
      },
      "source": [
        "model_cv"
      ],
      "execution_count": 35,
      "outputs": [
        {
          "output_type": "execute_result",
          "data": {
            "text/plain": [
              "CountVectorizerModel: uid=CountVectorizer_37aefd688e7d, vocabularySize=3"
            ]
          },
          "metadata": {
            "tags": []
          },
          "execution_count": 35
        }
      ]
    },
    {
      "cell_type": "code",
      "metadata": {
        "colab": {
          "base_uri": "https://localhost:8080/"
        },
        "id": "456opE6c3y7j",
        "outputId": "870fc7bf-9150-4fe6-8fb2-9c91415dbe0a"
      },
      "source": [
        "result = model_cv.transform(df)\r\n",
        "result.show(truncate=False)"
      ],
      "execution_count": 39,
      "outputs": [
        {
          "output_type": "stream",
          "text": [
            "+---+---------------+-------------------------+\n",
            "|id |words          |features                 |\n",
            "+---+---------------+-------------------------+\n",
            "|0  |[a, b, c]      |(3,[0,1,2],[1.0,1.0,1.0])|\n",
            "|1  |[a, b, b, c, a]|(3,[0,1,2],[2.0,2.0,1.0])|\n",
            "+---+---------------+-------------------------+\n",
            "\n"
          ],
          "name": "stdout"
        }
      ]
    },
    {
      "cell_type": "code",
      "metadata": {
        "id": "r1x9gq9p3-Vi"
      },
      "source": [
        "spark.stop()"
      ],
      "execution_count": 40,
      "outputs": []
    },
    {
      "cell_type": "code",
      "metadata": {
        "id": "gxxywC-H4LGr"
      },
      "source": [
        ""
      ],
      "execution_count": null,
      "outputs": []
    }
  ]
}