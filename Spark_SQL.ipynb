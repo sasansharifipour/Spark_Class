{
  "nbformat": 4,
  "nbformat_minor": 0,
  "metadata": {
    "colab": {
      "name": "Spark_SQL.ipynb",
      "provenance": [],
      "include_colab_link": true
    },
    "kernelspec": {
      "name": "python3",
      "display_name": "Python 3"
    }
  },
  "cells": [
    {
      "cell_type": "markdown",
      "metadata": {
        "id": "view-in-github",
        "colab_type": "text"
      },
      "source": [
        "<a href=\"https://colab.research.google.com/github/sasansharifipour/Spark_Class/blob/main/Spark_SQL.ipynb\" target=\"_parent\"><img src=\"https://colab.research.google.com/assets/colab-badge.svg\" alt=\"Open In Colab\"/></a>"
      ]
    },
    {
      "cell_type": "code",
      "metadata": {
        "id": "G0i1Wj48rLJy"
      },
      "source": [
        "!apt-get install openjdk-8-jdk-headless -qq > /dev/null\r\n",
        "!wget -q https://downloads.apache.org/spark/spark-3.0.1/spark-3.0.1-bin-hadoop2.7.tgz\r\n",
        "!tar xf spark-3.0.1-bin-hadoop2.7.tgz\r\n",
        "!pip install -q findspark\r\n",
        "\r\n",
        "import os\r\n",
        "os.environ[\"JAVA_HOME\"] = \"/usr/lib/jvm/java-8-openjdk-amd64\"\r\n",
        "os.environ[\"SPARK_HOME\"] = \"/content/spark-3.0.1-bin-hadoop2.7\"\r\n",
        "\r\n",
        "import findspark\r\n",
        "findspark.init()"
      ],
      "execution_count": 6,
      "outputs": []
    },
    {
      "cell_type": "code",
      "metadata": {
        "id": "gmybkDiRRy5r"
      },
      "source": [
        "from pyspark.sql import SparkSession\r\n",
        "\r\n",
        "spark = SparkSession.builder.appName(\"pySpark Sql basic example\")\\\r\n",
        "        .getOrCreate()"
      ],
      "execution_count": 7,
      "outputs": []
    },
    {
      "cell_type": "code",
      "metadata": {
        "colab": {
          "base_uri": "https://localhost:8080/"
        },
        "id": "7AFufCkySDXV",
        "outputId": "b73d086c-8bb4-433d-900c-9255ea6056f9"
      },
      "source": [
        "df = spark.read.json('/content/spark-3.0.1-bin-hadoop2.7/examples/src/main/resources/people.json')\r\n",
        "df"
      ],
      "execution_count": 9,
      "outputs": [
        {
          "output_type": "execute_result",
          "data": {
            "text/plain": [
              "DataFrame[age: bigint, name: string]"
            ]
          },
          "metadata": {
            "tags": []
          },
          "execution_count": 9
        }
      ]
    },
    {
      "cell_type": "code",
      "metadata": {
        "id": "UP46bbe2S2HS",
        "colab": {
          "base_uri": "https://localhost:8080/"
        },
        "outputId": "ac6ef505-cccd-403e-832a-150e2807ae64"
      },
      "source": [
        "df.show()"
      ],
      "execution_count": 10,
      "outputs": [
        {
          "output_type": "stream",
          "text": [
            "+----+-------+\n",
            "| age|   name|\n",
            "+----+-------+\n",
            "|null|Michael|\n",
            "|  30|   Andy|\n",
            "|  19| Justin|\n",
            "+----+-------+\n",
            "\n"
          ],
          "name": "stdout"
        }
      ]
    },
    {
      "cell_type": "code",
      "metadata": {
        "id": "1rY24JsIS7St",
        "colab": {
          "base_uri": "https://localhost:8080/"
        },
        "outputId": "02a353b5-05de-462e-bf9a-fa1290eb564c"
      },
      "source": [
        "df.printSchema()"
      ],
      "execution_count": 5,
      "outputs": [
        {
          "output_type": "stream",
          "text": [
            "root\n",
            " |-- age: long (nullable = true)\n",
            " |-- name: string (nullable = true)\n",
            "\n"
          ],
          "name": "stdout"
        }
      ]
    },
    {
      "cell_type": "code",
      "metadata": {
        "id": "QQrbJVu-TACy",
        "colab": {
          "base_uri": "https://localhost:8080/"
        },
        "outputId": "1cf0494f-172c-47fe-863b-eab0c314d357"
      },
      "source": [
        "df.select('name')"
      ],
      "execution_count": null,
      "outputs": [
        {
          "output_type": "execute_result",
          "data": {
            "text/plain": [
              "DataFrame[name: string]"
            ]
          },
          "metadata": {
            "tags": []
          },
          "execution_count": 10
        }
      ]
    },
    {
      "cell_type": "code",
      "metadata": {
        "id": "qWse54f1TQLR",
        "colab": {
          "base_uri": "https://localhost:8080/"
        },
        "outputId": "c6b7c020-0590-4bcc-e4f6-8eae9bc1cf5b"
      },
      "source": [
        "df.select('name').show()"
      ],
      "execution_count": null,
      "outputs": [
        {
          "output_type": "stream",
          "text": [
            "+-------+\n",
            "|   name|\n",
            "+-------+\n",
            "|Michael|\n",
            "|   Andy|\n",
            "| Justin|\n",
            "+-------+\n",
            "\n"
          ],
          "name": "stdout"
        }
      ]
    },
    {
      "cell_type": "code",
      "metadata": {
        "id": "LSQuxq8kTUkZ",
        "colab": {
          "base_uri": "https://localhost:8080/"
        },
        "outputId": "36ce4b3f-673f-4ee7-999e-37ac377ad912"
      },
      "source": [
        "df.select('name', 'age').show()"
      ],
      "execution_count": null,
      "outputs": [
        {
          "output_type": "stream",
          "text": [
            "+-------+----+\n",
            "|   name| age|\n",
            "+-------+----+\n",
            "|Michael|null|\n",
            "|   Andy|  30|\n",
            "| Justin|  19|\n",
            "+-------+----+\n",
            "\n"
          ],
          "name": "stdout"
        }
      ]
    },
    {
      "cell_type": "code",
      "metadata": {
        "id": "h-rwA0aeTay9",
        "colab": {
          "base_uri": "https://localhost:8080/"
        },
        "outputId": "104bc1b9-267b-4922-fe51-51c9e5bca9f8"
      },
      "source": [
        "df.select('age', 'name').show()"
      ],
      "execution_count": null,
      "outputs": [
        {
          "output_type": "stream",
          "text": [
            "+----+-------+\n",
            "| age|   name|\n",
            "+----+-------+\n",
            "|null|Michael|\n",
            "|  30|   Andy|\n",
            "|  19| Justin|\n",
            "+----+-------+\n",
            "\n"
          ],
          "name": "stdout"
        }
      ]
    },
    {
      "cell_type": "code",
      "metadata": {
        "id": "iI20SiZGT0vg",
        "colab": {
          "base_uri": "https://localhost:8080/"
        },
        "outputId": "c8effd87-bf08-474c-ba35-e63fa18af777"
      },
      "source": [
        "df.select('*').show()"
      ],
      "execution_count": null,
      "outputs": [
        {
          "output_type": "stream",
          "text": [
            "+----+-------+\n",
            "| age|   name|\n",
            "+----+-------+\n",
            "|null|Michael|\n",
            "|  30|   Andy|\n",
            "|  19| Justin|\n",
            "+----+-------+\n",
            "\n"
          ],
          "name": "stdout"
        }
      ]
    },
    {
      "cell_type": "code",
      "metadata": {
        "id": "okUjFKtPTycQ",
        "colab": {
          "base_uri": "https://localhost:8080/"
        },
        "outputId": "e92fc5db-1d26-4eab-b4bb-c8b2984e96e6"
      },
      "source": [
        "df.select(df['name']).show()"
      ],
      "execution_count": null,
      "outputs": [
        {
          "output_type": "stream",
          "text": [
            "+-------+\n",
            "|   name|\n",
            "+-------+\n",
            "|Michael|\n",
            "|   Andy|\n",
            "| Justin|\n",
            "+-------+\n",
            "\n"
          ],
          "name": "stdout"
        }
      ]
    },
    {
      "cell_type": "code",
      "metadata": {
        "id": "n0LVcI_IUNzQ",
        "colab": {
          "base_uri": "https://localhost:8080/"
        },
        "outputId": "bf79a4ed-a824-4ec0-e93c-6da07c033006"
      },
      "source": [
        "df.select(df['name'], df['age'] + 1).show()"
      ],
      "execution_count": null,
      "outputs": [
        {
          "output_type": "stream",
          "text": [
            "+-------+---------+\n",
            "|   name|(age + 1)|\n",
            "+-------+---------+\n",
            "|Michael|     null|\n",
            "|   Andy|       31|\n",
            "| Justin|       20|\n",
            "+-------+---------+\n",
            "\n"
          ],
          "name": "stdout"
        }
      ]
    },
    {
      "cell_type": "code",
      "metadata": {
        "id": "VuGmPzXlUWcS",
        "colab": {
          "base_uri": "https://localhost:8080/"
        },
        "outputId": "0efa0151-1a01-4e37-90cb-74da34ba3dd8"
      },
      "source": [
        "df_filtered = df.filter(df['age'] > 19)\r\n",
        "df_filtered"
      ],
      "execution_count": null,
      "outputs": [
        {
          "output_type": "execute_result",
          "data": {
            "text/plain": [
              "DataFrame[age: bigint, name: string]"
            ]
          },
          "metadata": {
            "tags": []
          },
          "execution_count": 19
        }
      ]
    },
    {
      "cell_type": "code",
      "metadata": {
        "id": "VUuNBQlxUk4j",
        "colab": {
          "base_uri": "https://localhost:8080/"
        },
        "outputId": "f08ddd30-905c-4227-bee8-0efd9ef77b4c"
      },
      "source": [
        "df_filtered.show()"
      ],
      "execution_count": null,
      "outputs": [
        {
          "output_type": "stream",
          "text": [
            "+---+----+\n",
            "|age|name|\n",
            "+---+----+\n",
            "| 30|Andy|\n",
            "+---+----+\n",
            "\n"
          ],
          "name": "stdout"
        }
      ]
    },
    {
      "cell_type": "code",
      "metadata": {
        "id": "bCLBSRUTUvz5",
        "colab": {
          "base_uri": "https://localhost:8080/"
        },
        "outputId": "e43af68a-15e8-48cb-fd09-6fe8dba6b52a"
      },
      "source": [
        "df.show()"
      ],
      "execution_count": null,
      "outputs": [
        {
          "output_type": "stream",
          "text": [
            "+----+-------+\n",
            "| age|   name|\n",
            "+----+-------+\n",
            "|null|Michael|\n",
            "|  30|   Andy|\n",
            "|  19| Justin|\n",
            "+----+-------+\n",
            "\n"
          ],
          "name": "stdout"
        }
      ]
    },
    {
      "cell_type": "code",
      "metadata": {
        "id": "gy5llBOXUz8t",
        "colab": {
          "base_uri": "https://localhost:8080/"
        },
        "outputId": "4c78d36f-d73c-423c-9cfe-0dd2cbac6a9b"
      },
      "source": [
        "number_df = spark.range(500).toDF('number')\r\n",
        "number_df.show()"
      ],
      "execution_count": null,
      "outputs": [
        {
          "output_type": "stream",
          "text": [
            "+------+\n",
            "|number|\n",
            "+------+\n",
            "|     0|\n",
            "|     1|\n",
            "|     2|\n",
            "|     3|\n",
            "|     4|\n",
            "|     5|\n",
            "|     6|\n",
            "|     7|\n",
            "|     8|\n",
            "|     9|\n",
            "|    10|\n",
            "|    11|\n",
            "|    12|\n",
            "|    13|\n",
            "|    14|\n",
            "|    15|\n",
            "|    16|\n",
            "|    17|\n",
            "|    18|\n",
            "|    19|\n",
            "+------+\n",
            "only showing top 20 rows\n",
            "\n"
          ],
          "name": "stdout"
        }
      ]
    },
    {
      "cell_type": "code",
      "metadata": {
        "id": "UlyDNYE2VWHy",
        "colab": {
          "base_uri": "https://localhost:8080/"
        },
        "outputId": "db26f52a-386c-464f-f316-8fd12fe68ac7"
      },
      "source": [
        "number_df.select(number_df['number'] + 10).show()"
      ],
      "execution_count": null,
      "outputs": [
        {
          "output_type": "stream",
          "text": [
            "+-------------+\n",
            "|(number + 10)|\n",
            "+-------------+\n",
            "|           10|\n",
            "|           11|\n",
            "|           12|\n",
            "|           13|\n",
            "|           14|\n",
            "|           15|\n",
            "|           16|\n",
            "|           17|\n",
            "|           18|\n",
            "|           19|\n",
            "|           20|\n",
            "|           21|\n",
            "|           22|\n",
            "|           23|\n",
            "|           24|\n",
            "|           25|\n",
            "|           26|\n",
            "|           27|\n",
            "|           28|\n",
            "|           29|\n",
            "+-------------+\n",
            "only showing top 20 rows\n",
            "\n"
          ],
          "name": "stdout"
        }
      ]
    },
    {
      "cell_type": "code",
      "metadata": {
        "id": "ZeVl0AfGV4Yy",
        "colab": {
          "base_uri": "https://localhost:8080/"
        },
        "outputId": "8cf2a06b-9090-4a2f-ec3c-98737926a851"
      },
      "source": [
        "number_df.filter(number_df['number'] % 2 == 0).show()"
      ],
      "execution_count": null,
      "outputs": [
        {
          "output_type": "stream",
          "text": [
            "+------+\n",
            "|number|\n",
            "+------+\n",
            "|     0|\n",
            "|     2|\n",
            "|     4|\n",
            "|     6|\n",
            "|     8|\n",
            "|    10|\n",
            "|    12|\n",
            "|    14|\n",
            "|    16|\n",
            "|    18|\n",
            "|    20|\n",
            "|    22|\n",
            "|    24|\n",
            "|    26|\n",
            "|    28|\n",
            "|    30|\n",
            "|    32|\n",
            "|    34|\n",
            "|    36|\n",
            "|    38|\n",
            "+------+\n",
            "only showing top 20 rows\n",
            "\n"
          ],
          "name": "stdout"
        }
      ]
    },
    {
      "cell_type": "code",
      "metadata": {
        "id": "fGSdNNlWWLwI",
        "colab": {
          "base_uri": "https://localhost:8080/"
        },
        "outputId": "a2c0e31b-387b-4417-c030-6041295a9b00"
      },
      "source": [
        "number_df.rdd.count()"
      ],
      "execution_count": null,
      "outputs": [
        {
          "output_type": "execute_result",
          "data": {
            "text/plain": [
              "500"
            ]
          },
          "metadata": {
            "tags": []
          },
          "execution_count": 32
        }
      ]
    },
    {
      "cell_type": "code",
      "metadata": {
        "id": "lUDwA6hTWlIe",
        "colab": {
          "base_uri": "https://localhost:8080/"
        },
        "outputId": "87415363-ade2-4cc6-ad23-f0dcac9a4728"
      },
      "source": [
        "number_df.rdd.take(10)"
      ],
      "execution_count": null,
      "outputs": [
        {
          "output_type": "execute_result",
          "data": {
            "text/plain": [
              "[Row(number=0),\n",
              " Row(number=1),\n",
              " Row(number=2),\n",
              " Row(number=3),\n",
              " Row(number=4),\n",
              " Row(number=5),\n",
              " Row(number=6),\n",
              " Row(number=7),\n",
              " Row(number=8),\n",
              " Row(number=9)]"
            ]
          },
          "metadata": {
            "tags": []
          },
          "execution_count": 52
        }
      ]
    },
    {
      "cell_type": "code",
      "metadata": {
        "id": "BjpLNmRwYssU",
        "colab": {
          "base_uri": "https://localhost:8080/"
        },
        "outputId": "ed185279-8316-43f6-f91c-bdb82804dd89"
      },
      "source": [
        "# create a row object\r\n",
        "spark.range(10).collect()"
      ],
      "execution_count": null,
      "outputs": [
        {
          "output_type": "execute_result",
          "data": {
            "text/plain": [
              "[Row(id=0),\n",
              " Row(id=1),\n",
              " Row(id=2),\n",
              " Row(id=3),\n",
              " Row(id=4),\n",
              " Row(id=5),\n",
              " Row(id=6),\n",
              " Row(id=7),\n",
              " Row(id=8),\n",
              " Row(id=9)]"
            ]
          },
          "metadata": {
            "tags": []
          },
          "execution_count": 54
        }
      ]
    },
    {
      "cell_type": "code",
      "metadata": {
        "id": "8ZJJWdJMlZQ9",
        "colab": {
          "base_uri": "https://localhost:8080/"
        },
        "outputId": "6ed3992c-2135-4b63-c172-064e009f2f33"
      },
      "source": [
        "# create a row\r\n",
        "from pyspark.sql import Row\r\n",
        "myRow = Row(\"Hello\", None, 1, False)\r\n",
        "type(myRow)"
      ],
      "execution_count": null,
      "outputs": [
        {
          "output_type": "execute_result",
          "data": {
            "text/plain": [
              "pyspark.sql.types.Row"
            ]
          },
          "metadata": {
            "tags": []
          },
          "execution_count": 55
        }
      ]
    },
    {
      "cell_type": "code",
      "metadata": {
        "id": "Hhj7roK8mEaH",
        "colab": {
          "base_uri": "https://localhost:8080/",
          "height": 35
        },
        "outputId": "973b9de6-dad9-414f-ebc8-df824a3af84a"
      },
      "source": [
        "# return first element\r\n",
        "myRow[0]"
      ],
      "execution_count": null,
      "outputs": [
        {
          "output_type": "execute_result",
          "data": {
            "application/vnd.google.colaboratory.intrinsic+json": {
              "type": "string"
            },
            "text/plain": [
              "'Hello'"
            ]
          },
          "metadata": {
            "tags": []
          },
          "execution_count": 56
        }
      ]
    },
    {
      "cell_type": "code",
      "metadata": {
        "id": "BGN1HI62mPzX",
        "colab": {
          "base_uri": "https://localhost:8080/"
        },
        "outputId": "80a7e144-c8d1-4a0e-b55d-59972210bacc"
      },
      "source": [
        "myRow[2]"
      ],
      "execution_count": null,
      "outputs": [
        {
          "output_type": "execute_result",
          "data": {
            "text/plain": [
              "1"
            ]
          },
          "metadata": {
            "tags": []
          },
          "execution_count": 57
        }
      ]
    },
    {
      "cell_type": "code",
      "metadata": {
        "id": "kIzbg0iwmRvP",
        "colab": {
          "base_uri": "https://localhost:8080/"
        },
        "outputId": "3c21247d-6d2b-4212-e1dc-35f352de04bd"
      },
      "source": [
        "myRow"
      ],
      "execution_count": null,
      "outputs": [
        {
          "output_type": "execute_result",
          "data": {
            "text/plain": [
              "<Row('Hello', None, 1, False)>"
            ]
          },
          "metadata": {
            "tags": []
          },
          "execution_count": 58
        }
      ]
    },
    {
      "cell_type": "code",
      "metadata": {
        "id": "U9T00em6mUYZ"
      },
      "source": [
        "from pyspark.sql import Row\r\n",
        "from pyspark.sql.types import StructField, StructType, StringType, LongType\r\n",
        "\r\n",
        "myManualSchema = StructType([\r\n",
        "\tStructField(\"name\", StringType(), True),\r\n",
        "\tStructField(\"family\", StringType(), True),\r\n",
        "\tStructField(\"age\", LongType(), False)\r\n",
        "])"
      ],
      "execution_count": 12,
      "outputs": []
    },
    {
      "cell_type": "code",
      "metadata": {
        "id": "YIwwDqKvnGT5",
        "colab": {
          "base_uri": "https://localhost:8080/"
        },
        "outputId": "26d71562-f678-4f02-c8cf-cba67b3a29c1"
      },
      "source": [
        "myManualSchema"
      ],
      "execution_count": 13,
      "outputs": [
        {
          "output_type": "execute_result",
          "data": {
            "text/plain": [
              "StructType(List(StructField(name,StringType,true),StructField(family,StringType,true),StructField(age,LongType,false)))"
            ]
          },
          "metadata": {
            "tags": []
          },
          "execution_count": 13
        }
      ]
    },
    {
      "cell_type": "code",
      "metadata": {
        "id": "6eXOuanfqnDN"
      },
      "source": [
        "myRow = Row(\"Hello\", None, 1)"
      ],
      "execution_count": 14,
      "outputs": []
    },
    {
      "cell_type": "code",
      "metadata": {
        "id": "I_KlYYDwqs1Q",
        "outputId": "646ff6e9-f600-45de-d238-02aaf0a3c47d",
        "colab": {
          "base_uri": "https://localhost:8080/"
        }
      },
      "source": [
        "myRow"
      ],
      "execution_count": 15,
      "outputs": [
        {
          "output_type": "execute_result",
          "data": {
            "text/plain": [
              "<Row('Hello', None, 1)>"
            ]
          },
          "metadata": {
            "tags": []
          },
          "execution_count": 15
        }
      ]
    },
    {
      "cell_type": "code",
      "metadata": {
        "id": "dBW-zZt3qwQS"
      },
      "source": [
        "myDf = spark.createDataFrame([myRow], myManualSchema)"
      ],
      "execution_count": 16,
      "outputs": []
    },
    {
      "cell_type": "code",
      "metadata": {
        "id": "JfgUcJ-Oq3lL",
        "outputId": "7478630b-e742-4127-cb27-e9ab87ffcc64",
        "colab": {
          "base_uri": "https://localhost:8080/"
        }
      },
      "source": [
        "myDf"
      ],
      "execution_count": 17,
      "outputs": [
        {
          "output_type": "execute_result",
          "data": {
            "text/plain": [
              "DataFrame[name: string, family: string, age: bigint]"
            ]
          },
          "metadata": {
            "tags": []
          },
          "execution_count": 17
        }
      ]
    },
    {
      "cell_type": "code",
      "metadata": {
        "id": "J1J38M2uq5r6",
        "outputId": "1f3ded3d-d176-48ff-e17a-554ff6fe64ec",
        "colab": {
          "base_uri": "https://localhost:8080/"
        }
      },
      "source": [
        "myDf.show()"
      ],
      "execution_count": 18,
      "outputs": [
        {
          "output_type": "stream",
          "text": [
            "+-----+------+---+\n",
            "| name|family|age|\n",
            "+-----+------+---+\n",
            "|Hello|  null|  1|\n",
            "+-----+------+---+\n",
            "\n"
          ],
          "name": "stdout"
        }
      ]
    },
    {
      "cell_type": "code",
      "metadata": {
        "id": "QozN5XIZq8pL"
      },
      "source": [
        "# Example of using Row function to create a dataframe\r\n",
        "from pyspark.sql import Row\r\n",
        "cats = Row(\"Name\", \"Nickname\", \"Location\", \"Treat\")"
      ],
      "execution_count": 19,
      "outputs": []
    },
    {
      "cell_type": "code",
      "metadata": {
        "id": "n0rWtTIcrQcr",
        "outputId": "07fcb2fe-efc0-4ac9-91d6-a9a97253b219",
        "colab": {
          "base_uri": "https://localhost:8080/"
        }
      },
      "source": [
        "cats"
      ],
      "execution_count": 20,
      "outputs": [
        {
          "output_type": "execute_result",
          "data": {
            "text/plain": [
              "<Row('Name', 'Nickname', 'Location', 'Treat')>"
            ]
          },
          "metadata": {
            "tags": []
          },
          "execution_count": 20
        }
      ]
    },
    {
      "cell_type": "code",
      "metadata": {
        "id": "jvLdIJvrrRT7"
      },
      "source": [
        "cat1 = Row('Dakota', 'Sweetie', 'house', 'salmon')\r\n",
        "cat2 = Row('George', 'Grumpy', 'apt', 'liver')\r\n",
        "cat3 = Row('Karrot', 'Biggiek', 'condo', 'chicken')\r\n",
        "cat4 = Row('Tigress', 'Claw', 'street', 'trout')\r\n",
        "cat5 = Row('Kitty', 'Meow', 'house', 'salmon')"
      ],
      "execution_count": 21,
      "outputs": []
    },
    {
      "cell_type": "code",
      "metadata": {
        "id": "GOAZ2TVVr_vL",
        "outputId": "d7c6aac0-2d66-45c2-9df9-12d2a22b5ecd",
        "colab": {
          "base_uri": "https://localhost:8080/"
        }
      },
      "source": [
        "print(cat3)"
      ],
      "execution_count": 22,
      "outputs": [
        {
          "output_type": "stream",
          "text": [
            "<Row('Karrot', 'Biggiek', 'condo', 'chicken')>\n"
          ],
          "name": "stdout"
        }
      ]
    },
    {
      "cell_type": "code",
      "metadata": {
        "id": "K9ZJvbYtsWnW"
      },
      "source": [
        "# Create Row elements\r\n",
        "\r\n",
        "shelter1 = Row(id='1', name='CatColony')\r\n",
        "shelter2 = Row(id='2', name='Mauhaus')\r\n",
        "shelter3 = Row(id='3', name='BigCatHouse')\r\n",
        "shelter4 = Row(id='4', name='WindowCats')"
      ],
      "execution_count": 23,
      "outputs": []
    },
    {
      "cell_type": "code",
      "metadata": {
        "id": "mgf4x2oNsCHD",
        "outputId": "7a560a74-65a8-451e-8384-35f7eb52ce24",
        "colab": {
          "base_uri": "https://localhost:8080/"
        }
      },
      "source": [
        "shelter2"
      ],
      "execution_count": 24,
      "outputs": [
        {
          "output_type": "execute_result",
          "data": {
            "text/plain": [
              "Row(id='2', name='Mauhaus')"
            ]
          },
          "metadata": {
            "tags": []
          },
          "execution_count": 24
        }
      ]
    },
    {
      "cell_type": "code",
      "metadata": {
        "id": "cJINlcQRs2RL"
      },
      "source": [
        "# Create Row elements\r\n",
        "\r\n",
        "shelterWithCats1 = Row(shelter = shelter1, cats=[cat1, cat2])\r\n",
        "shelterWithCats2 = Row(shelter = shelter2, cats=[cat3, cat4])\r\n",
        "shelterWithCats3 = Row(shelter = shelter3, cats=[cat5, cat4, cat1])\r\n",
        "shelterWithCats4 = Row(shelter = shelter4, cats=[cat2, cat3])"
      ],
      "execution_count": 27,
      "outputs": []
    },
    {
      "cell_type": "code",
      "metadata": {
        "id": "uFZkxGgos5LC"
      },
      "source": [
        "shelterWithCats = [shelterWithCats1, shelterWithCats2, shelterWithCats3, shelterWithCats4]"
      ],
      "execution_count": 28,
      "outputs": []
    },
    {
      "cell_type": "code",
      "metadata": {
        "id": "aXy16UqQthrz"
      },
      "source": [
        "dframe = spark.createDataFrame(shelterWithCats)"
      ],
      "execution_count": 29,
      "outputs": []
    },
    {
      "cell_type": "code",
      "metadata": {
        "id": "hQ8BlrpEtn4S",
        "outputId": "b73f4b71-f3b3-43d5-95d9-b276e3e2b088",
        "colab": {
          "base_uri": "https://localhost:8080/"
        }
      },
      "source": [
        "dframe.show()"
      ],
      "execution_count": 30,
      "outputs": [
        {
          "output_type": "stream",
          "text": [
            "+----------------+--------------------+\n",
            "|         shelter|                cats|\n",
            "+----------------+--------------------+\n",
            "|  [1, CatColony]|[[Dakota, Sweetie...|\n",
            "|    [2, Mauhaus]|[[Karrot, Biggiek...|\n",
            "|[3, BigCatHouse]|[[Kitty, Meow, ho...|\n",
            "| [4, WindowCats]|[[George, Grumpy,...|\n",
            "+----------------+--------------------+\n",
            "\n"
          ],
          "name": "stdout"
        }
      ]
    },
    {
      "cell_type": "code",
      "metadata": {
        "id": "MOWi6XHTtqbi"
      },
      "source": [
        "spark.stop()"
      ],
      "execution_count": 34,
      "outputs": []
    },
    {
      "cell_type": "code",
      "metadata": {
        "id": "w0-Brv1Wt036"
      },
      "source": [
        ""
      ],
      "execution_count": null,
      "outputs": []
    }
  ]
}