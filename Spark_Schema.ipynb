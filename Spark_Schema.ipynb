{
  "nbformat": 4,
  "nbformat_minor": 0,
  "metadata": {
    "colab": {
      "name": "Spark_Schema.ipynb",
      "provenance": [],
      "authorship_tag": "ABX9TyPtlSjd7rUg3jkhXbQQmnyV",
      "include_colab_link": true
    },
    "kernelspec": {
      "name": "python3",
      "display_name": "Python 3"
    }
  },
  "cells": [
    {
      "cell_type": "markdown",
      "metadata": {
        "id": "view-in-github",
        "colab_type": "text"
      },
      "source": [
        "<a href=\"https://colab.research.google.com/github/sasansharifipour/Spark_Class/blob/main/Spark_Schema.ipynb\" target=\"_parent\"><img src=\"https://colab.research.google.com/assets/colab-badge.svg\" alt=\"Open In Colab\"/></a>"
      ]
    },
    {
      "cell_type": "code",
      "metadata": {
        "id": "0Ex00-Yb1l65"
      },
      "source": [
        "!apt-get install openjdk-8-jdk-headless -qq > /dev/null\r\n",
        "!wget -q https://downloads.apache.org/spark/spark-3.0.1/spark-3.0.1-bin-hadoop2.7.tgz\r\n",
        "!tar xf spark-3.0.1-bin-hadoop2.7.tgz\r\n",
        "!pip install -q findspark\r\n",
        "\r\n",
        "import os\r\n",
        "os.environ[\"JAVA_HOME\"] = \"/usr/lib/jvm/java-8-openjdk-amd64\"\r\n",
        "os.environ[\"SPARK_HOME\"] = \"/content/spark-3.0.1-bin-hadoop2.7\"\r\n",
        "\r\n",
        "import findspark\r\n",
        "findspark.init()"
      ],
      "execution_count": 1,
      "outputs": []
    },
    {
      "cell_type": "code",
      "metadata": {
        "id": "9bKZJCGY2DQT"
      },
      "source": [
        "import pyspark\r\n",
        "from pyspark.sql import SparkSession\r\n",
        "\r\n",
        "spark = SparkSession.builder.appName(\"pySpark Sql basic example\")\\\r\n",
        "        .getOrCreate()\r\n",
        "\r\n",
        "from pyspark.sql import Row\r\n",
        "sc = spark.sparkContext"
      ],
      "execution_count": 2,
      "outputs": []
    },
    {
      "cell_type": "code",
      "metadata": {
        "id": "LrQYgy4G2ZPq"
      },
      "source": [
        "lines = sc.textFile('/content/spark-3.0.1-bin-hadoop2.7/examples/src/main/resources/people.txt')"
      ],
      "execution_count": 3,
      "outputs": []
    },
    {
      "cell_type": "code",
      "metadata": {
        "id": "CZkUAf_V2fKa"
      },
      "source": [
        "parts = lines.map(lambda line : line.split(\",\"))\r\n",
        "\r\n",
        "people = parts.map(lambda p : Row(name=p[0], age=int(p[1])))"
      ],
      "execution_count": 4,
      "outputs": []
    },
    {
      "cell_type": "code",
      "metadata": {
        "id": "je-bkiuW2zBi"
      },
      "source": [
        "schemaPeople = spark.createDataFrame(people)\r\n",
        "schemaPeople.createTempView(\"people\")"
      ],
      "execution_count": 5,
      "outputs": []
    },
    {
      "cell_type": "code",
      "metadata": {
        "id": "MYeDC0EK2_EC"
      },
      "source": [
        "teenagers = spark.sql(\"SELECT name FROM people WHERE age >= 13 and age <= 19\")"
      ],
      "execution_count": 6,
      "outputs": []
    },
    {
      "cell_type": "code",
      "metadata": {
        "colab": {
          "base_uri": "https://localhost:8080/"
        },
        "id": "C8Hjve3B3PTh",
        "outputId": "39582038-1e08-4dbc-8d88-cea5a4665862"
      },
      "source": [
        "teenagers"
      ],
      "execution_count": 7,
      "outputs": [
        {
          "output_type": "execute_result",
          "data": {
            "text/plain": [
              "DataFrame[name: string]"
            ]
          },
          "metadata": {
            "tags": []
          },
          "execution_count": 7
        }
      ]
    },
    {
      "cell_type": "code",
      "metadata": {
        "colab": {
          "base_uri": "https://localhost:8080/"
        },
        "id": "heV5VBn93RTB",
        "outputId": "63c7c237-39cb-4e97-b779-5a3830e4c18c"
      },
      "source": [
        "teenagers.show()"
      ],
      "execution_count": 8,
      "outputs": [
        {
          "output_type": "stream",
          "text": [
            "+------+\n",
            "|  name|\n",
            "+------+\n",
            "|Justin|\n",
            "+------+\n",
            "\n"
          ],
          "name": "stdout"
        }
      ]
    },
    {
      "cell_type": "code",
      "metadata": {
        "id": "q7MNzSYd3ZnJ"
      },
      "source": [
        "teenNames = teenagers.rdd.map(lambda p: 'Name:' + p.name)"
      ],
      "execution_count": 9,
      "outputs": []
    },
    {
      "cell_type": "code",
      "metadata": {
        "colab": {
          "base_uri": "https://localhost:8080/"
        },
        "id": "VYhdbxdN3sSK",
        "outputId": "ca70ae9e-528f-4a78-e29a-42ec6e4af1bd"
      },
      "source": [
        "teenNames.collect()"
      ],
      "execution_count": 10,
      "outputs": [
        {
          "output_type": "execute_result",
          "data": {
            "text/plain": [
              "['Name:Justin']"
            ]
          },
          "metadata": {
            "tags": []
          },
          "execution_count": 10
        }
      ]
    },
    {
      "cell_type": "code",
      "metadata": {
        "id": "SoZdmYle3vIi"
      },
      "source": [
        "from pyspark.sql.types import *"
      ],
      "execution_count": 11,
      "outputs": []
    },
    {
      "cell_type": "code",
      "metadata": {
        "id": "LWylW6Xf59Xh"
      },
      "source": [
        "lines2 = sc.textFile('/content/spark-3.0.1-bin-hadoop2.7/examples/src/main/resources/people.txt')"
      ],
      "execution_count": 12,
      "outputs": []
    },
    {
      "cell_type": "code",
      "metadata": {
        "id": "_a1itUXD6Lp5"
      },
      "source": [
        "parts2 = lines2.map(lambda line : line.split(\",\"))"
      ],
      "execution_count": 13,
      "outputs": []
    },
    {
      "cell_type": "code",
      "metadata": {
        "id": "L0VKseYs6Nf5"
      },
      "source": [
        "people2 = parts2.map(lambda p : (p[0], p[1].strip()))"
      ],
      "execution_count": 14,
      "outputs": []
    },
    {
      "cell_type": "code",
      "metadata": {
        "id": "3Ul2lKLP6Xj5"
      },
      "source": [
        "schemaString = \"name age\""
      ],
      "execution_count": 16,
      "outputs": []
    },
    {
      "cell_type": "code",
      "metadata": {
        "id": "CE8DKDzb6baw"
      },
      "source": [
        "fields2 = [StructField(field_name, StringType(), True) for field_name in schemaString.split()]\r\n",
        "schema2 = StructType(fields2)"
      ],
      "execution_count": 18,
      "outputs": []
    },
    {
      "cell_type": "code",
      "metadata": {
        "colab": {
          "base_uri": "https://localhost:8080/"
        },
        "id": "sNFt2LJ463ko",
        "outputId": "8409a263-643f-408a-fa1e-bc7367d38526"
      },
      "source": [
        "schema2"
      ],
      "execution_count": 19,
      "outputs": [
        {
          "output_type": "execute_result",
          "data": {
            "text/plain": [
              "StructType(List(StructField(name,StringType,true),StructField(age,StringType,true)))"
            ]
          },
          "metadata": {
            "tags": []
          },
          "execution_count": 19
        }
      ]
    },
    {
      "cell_type": "code",
      "metadata": {
        "id": "9XTkboqy6_XZ"
      },
      "source": [
        "schemaPeople2 = spark.createDataFrame(people2, schema2)\r\n",
        "\r\n",
        "schemaPeople2.createTempView(\"persons\")"
      ],
      "execution_count": 20,
      "outputs": []
    },
    {
      "cell_type": "code",
      "metadata": {
        "id": "NdDzLtgL7Om4"
      },
      "source": [
        "results = spark.sql(\"SELECT name FROM persons\")"
      ],
      "execution_count": 21,
      "outputs": []
    },
    {
      "cell_type": "code",
      "metadata": {
        "colab": {
          "base_uri": "https://localhost:8080/"
        },
        "id": "sOUiigeK7XTI",
        "outputId": "48a22903-d1c7-438f-a7e3-7f0ff95f313e"
      },
      "source": [
        "results.show()"
      ],
      "execution_count": 22,
      "outputs": [
        {
          "output_type": "stream",
          "text": [
            "+-------+\n",
            "|   name|\n",
            "+-------+\n",
            "|Michael|\n",
            "|   Andy|\n",
            "| Justin|\n",
            "+-------+\n",
            "\n"
          ],
          "name": "stdout"
        }
      ]
    },
    {
      "cell_type": "code",
      "metadata": {
        "id": "SxhQuDUF7ZWB"
      },
      "source": [
        "spark.stop()\r\n",
        "sc.stop()"
      ],
      "execution_count": 23,
      "outputs": []
    },
    {
      "cell_type": "code",
      "metadata": {
        "id": "IjulhSdt7dMw"
      },
      "source": [
        ""
      ],
      "execution_count": null,
      "outputs": []
    }
  ]
}