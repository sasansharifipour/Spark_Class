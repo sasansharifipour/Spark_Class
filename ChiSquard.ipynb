{
  "nbformat": 4,
  "nbformat_minor": 0,
  "metadata": {
    "colab": {
      "name": "ChiSquard.ipynb",
      "provenance": [],
      "authorship_tag": "ABX9TyO3vMsoudUe/nTM0MkXl4jW",
      "include_colab_link": true
    },
    "kernelspec": {
      "name": "python3",
      "display_name": "Python 3"
    }
  },
  "cells": [
    {
      "cell_type": "markdown",
      "metadata": {
        "id": "view-in-github",
        "colab_type": "text"
      },
      "source": [
        "<a href=\"https://colab.research.google.com/github/sasansharifipour/Spark_Class/blob/main/ChiSquard.ipynb\" target=\"_parent\"><img src=\"https://colab.research.google.com/assets/colab-badge.svg\" alt=\"Open In Colab\"/></a>"
      ]
    },
    {
      "cell_type": "code",
      "metadata": {
        "id": "TMi9wRMLEnBX"
      },
      "source": [
        "!apt-get install openjdk-8-jdk-headless -qq > /dev/null\r\n",
        "!wget -q https://downloads.apache.org/spark/spark-3.0.1/spark-3.0.1-bin-hadoop2.7.tgz\r\n",
        "!tar xf spark-3.0.1-bin-hadoop2.7.tgz\r\n",
        "!pip install -q findspark\r\n",
        "\r\n",
        "import os\r\n",
        "os.environ[\"JAVA_HOME\"] = \"/usr/lib/jvm/java-8-openjdk-amd64\"\r\n",
        "os.environ[\"SPARK_HOME\"] = \"/content/spark-3.0.1-bin-hadoop2.7\"\r\n",
        "\r\n",
        "import findspark\r\n",
        "findspark.init()"
      ],
      "execution_count": 1,
      "outputs": []
    },
    {
      "cell_type": "code",
      "metadata": {
        "id": "GReTq3C9Epfr"
      },
      "source": [
        "from pyspark.sql import SparkSession\r\n",
        "\r\n",
        "spark = SparkSession.builder.getOrCreate()"
      ],
      "execution_count": 2,
      "outputs": []
    },
    {
      "cell_type": "markdown",
      "metadata": {
        "id": "io5CEZfYGm_9"
      },
      "source": [
        "Vector Slice"
      ]
    },
    {
      "cell_type": "code",
      "metadata": {
        "id": "tfdS4ij_EsnH"
      },
      "source": [
        "from pyspark.ml.feature import VectorSlicer\r\n",
        "from pyspark.ml.linalg import Vectors\r\n",
        "from pyspark.sql.types import Row"
      ],
      "execution_count": 3,
      "outputs": []
    },
    {
      "cell_type": "code",
      "metadata": {
        "id": "k2R8EOQnG9AA"
      },
      "source": [
        "df = spark.createDataFrame([\r\n",
        "\tRow(userFeatures=Vectors.sparse(3, {0: -2.0, 1: 2.3})),\r\n",
        "\tRow(userFeatures=Vectors.dense([-2.0, 2.3, 0.0]))])"
      ],
      "execution_count": 4,
      "outputs": []
    },
    {
      "cell_type": "code",
      "metadata": {
        "colab": {
          "base_uri": "https://localhost:8080/"
        },
        "id": "zml_KHOPHmsd",
        "outputId": "31abe997-8cad-403f-a2b5-0160be11e208"
      },
      "source": [
        "df.show()"
      ],
      "execution_count": 5,
      "outputs": [
        {
          "output_type": "stream",
          "text": [
            "+--------------------+\n",
            "|        userFeatures|\n",
            "+--------------------+\n",
            "|(3,[0,1],[-2.0,2.3])|\n",
            "|      [-2.0,2.3,0.0]|\n",
            "+--------------------+\n",
            "\n"
          ],
          "name": "stdout"
        }
      ]
    },
    {
      "cell_type": "code",
      "metadata": {
        "id": "gmSAGRt6Hvt0"
      },
      "source": [
        "slicer = VectorSlicer(inputCol=\"userFeatures\", outputCol=\"features\", indices=[1])"
      ],
      "execution_count": 6,
      "outputs": []
    },
    {
      "cell_type": "code",
      "metadata": {
        "id": "pDkpKDwIIPfp"
      },
      "source": [
        "output = slicer.transform(df)"
      ],
      "execution_count": 7,
      "outputs": []
    },
    {
      "cell_type": "code",
      "metadata": {
        "colab": {
          "base_uri": "https://localhost:8080/"
        },
        "id": "sOpS3-FdIURl",
        "outputId": "6f27e33a-5af9-431a-a769-086cce27f3c3"
      },
      "source": [
        "output.select(\"userFeatures\", \"features\").show()"
      ],
      "execution_count": 8,
      "outputs": [
        {
          "output_type": "stream",
          "text": [
            "+--------------------+-------------+\n",
            "|        userFeatures|     features|\n",
            "+--------------------+-------------+\n",
            "|(3,[0,1],[-2.0,2.3])|(1,[0],[2.3])|\n",
            "|      [-2.0,2.3,0.0]|        [2.3]|\n",
            "+--------------------+-------------+\n",
            "\n"
          ],
          "name": "stdout"
        }
      ]
    },
    {
      "cell_type": "markdown",
      "metadata": {
        "id": "Tt3vQDx5Iwuy"
      },
      "source": [
        "Chi Squared Selector"
      ]
    },
    {
      "cell_type": "code",
      "metadata": {
        "id": "yc5JVTlyIhO7"
      },
      "source": [
        "from pyspark.ml.feature import ChiSqSelector\r\n",
        "from pyspark.ml.linalg import Vectors"
      ],
      "execution_count": 9,
      "outputs": []
    },
    {
      "cell_type": "code",
      "metadata": {
        "id": "er1weYoFJCug"
      },
      "source": [
        "df = spark.createDataFrame([\r\n",
        "(7, Vectors.dense([0.0, 0.0, 18.0, 1.0]), 1.0,),\r\n",
        "(8, Vectors.dense([0.0, 1.0, 12.0, 0.0]), 0.0,),\r\n",
        "(9, Vectors.dense([1.0, 0.0, 15.0, 0.1]), 0.0,)],\r\n",
        "[\"id\", \"features\", \"clicked\"])"
      ],
      "execution_count": 10,
      "outputs": []
    },
    {
      "cell_type": "code",
      "metadata": {
        "colab": {
          "base_uri": "https://localhost:8080/"
        },
        "id": "yS7FMn7yJuHK",
        "outputId": "d308d2a6-f222-4dd1-d5ad-dc22e54d3581"
      },
      "source": [
        "df.show()"
      ],
      "execution_count": 11,
      "outputs": [
        {
          "output_type": "stream",
          "text": [
            "+---+------------------+-------+\n",
            "| id|          features|clicked|\n",
            "+---+------------------+-------+\n",
            "|  7|[0.0,0.0,18.0,1.0]|    1.0|\n",
            "|  8|[0.0,1.0,12.0,0.0]|    0.0|\n",
            "|  9|[1.0,0.0,15.0,0.1]|    0.0|\n",
            "+---+------------------+-------+\n",
            "\n"
          ],
          "name": "stdout"
        }
      ]
    },
    {
      "cell_type": "code",
      "metadata": {
        "id": "SquRZHheJ2I3"
      },
      "source": [
        "selector = ChiSqSelector(numTopFeatures=1, featuresCol=\"features\", outputCol=\"selectedFeatures\", labelCol=\"clicked\")"
      ],
      "execution_count": 12,
      "outputs": []
    },
    {
      "cell_type": "code",
      "metadata": {
        "id": "YetBegJOKbrv"
      },
      "source": [
        "result = selector.fit(df).transform(df)"
      ],
      "execution_count": 14,
      "outputs": []
    },
    {
      "cell_type": "code",
      "metadata": {
        "colab": {
          "base_uri": "https://localhost:8080/"
        },
        "id": "8zohxkCGKkG_",
        "outputId": "e3332848-19cc-42c4-ae69-be9865c4c5ae"
      },
      "source": [
        "result.show()"
      ],
      "execution_count": 15,
      "outputs": [
        {
          "output_type": "stream",
          "text": [
            "+---+------------------+-------+----------------+\n",
            "| id|          features|clicked|selectedFeatures|\n",
            "+---+------------------+-------+----------------+\n",
            "|  7|[0.0,0.0,18.0,1.0]|    1.0|          [18.0]|\n",
            "|  8|[0.0,1.0,12.0,0.0]|    0.0|          [12.0]|\n",
            "|  9|[1.0,0.0,15.0,0.1]|    0.0|          [15.0]|\n",
            "+---+------------------+-------+----------------+\n",
            "\n"
          ],
          "name": "stdout"
        }
      ]
    },
    {
      "cell_type": "code",
      "metadata": {
        "id": "CcnfshDwKtVS"
      },
      "source": [
        "spark.stop()"
      ],
      "execution_count": 16,
      "outputs": []
    },
    {
      "cell_type": "code",
      "metadata": {
        "id": "Ca8RbB9KK9vo"
      },
      "source": [
        ""
      ],
      "execution_count": null,
      "outputs": []
    }
  ]
}