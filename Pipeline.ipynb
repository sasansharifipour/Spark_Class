{
  "nbformat": 4,
  "nbformat_minor": 0,
  "metadata": {
    "colab": {
      "name": "Pipeline.ipynb",
      "provenance": [],
      "collapsed_sections": [],
      "authorship_tag": "ABX9TyN4S0z4OrHVK+qMsxc2I7CR",
      "include_colab_link": true
    },
    "kernelspec": {
      "name": "python3",
      "display_name": "Python 3"
    }
  },
  "cells": [
    {
      "cell_type": "markdown",
      "metadata": {
        "id": "view-in-github",
        "colab_type": "text"
      },
      "source": [
        "<a href=\"https://colab.research.google.com/github/sasansharifipour/Spark_Class/blob/main/Pipeline.ipynb\" target=\"_parent\"><img src=\"https://colab.research.google.com/assets/colab-badge.svg\" alt=\"Open In Colab\"/></a>"
      ]
    },
    {
      "cell_type": "code",
      "metadata": {
        "id": "19X8Z7YtCWkz"
      },
      "source": [
        "!apt-get install openjdk-8-jdk-headless -qq > /dev/null\r\n",
        "!wget -q https://downloads.apache.org/spark/spark-3.0.1/spark-3.0.1-bin-hadoop2.7.tgz\r\n",
        "!tar xf spark-3.0.1-bin-hadoop2.7.tgz\r\n",
        "!pip install -q findspark\r\n",
        "\r\n",
        "import os\r\n",
        "os.environ[\"JAVA_HOME\"] = \"/usr/lib/jvm/java-8-openjdk-amd64\"\r\n",
        "os.environ[\"SPARK_HOME\"] = \"/content/spark-3.0.1-bin-hadoop2.7\"\r\n",
        "\r\n",
        "import findspark\r\n",
        "findspark.init()"
      ],
      "execution_count": 1,
      "outputs": []
    },
    {
      "cell_type": "code",
      "metadata": {
        "id": "OuTQ26GGKr6j"
      },
      "source": [
        "from pyspark.sql import SparkSession\r\n",
        "\r\n",
        "spark = SparkSession.builder.getOrCreate()"
      ],
      "execution_count": 2,
      "outputs": []
    },
    {
      "cell_type": "code",
      "metadata": {
        "id": "1Ikd4HkOKstz"
      },
      "source": [
        "from pyspark.ml.linalg import Vectors\r\n",
        "from pyspark.ml.classification import LogisticRegression"
      ],
      "execution_count": 3,
      "outputs": []
    },
    {
      "cell_type": "code",
      "metadata": {
        "id": "HIqtKL_4K4bS"
      },
      "source": [
        "training = spark.createDataFrame([\r\n",
        "                                  (1.0, Vectors.dense([0.0, 1.1, 0.1])),\r\n",
        "                                  (0.0, Vectors.dense([2.0, 1.0, -1.0])),\r\n",
        "                                  (0.0, Vectors.dense([2.0, 1.3, 1.0])),\r\n",
        "                                  (1.0, Vectors.dense([0.0, 1.2, -0.5]))], [\"label\", \"features\"])"
      ],
      "execution_count": 4,
      "outputs": []
    },
    {
      "cell_type": "code",
      "metadata": {
        "id": "eZLEJhVULg9l"
      },
      "source": [
        "#Create a LogisticRegression instance, This instance is an Estimator.\r\n",
        "lr = LogisticRegression(maxIter=10, regParam=0.01)"
      ],
      "execution_count": 5,
      "outputs": []
    },
    {
      "cell_type": "code",
      "metadata": {
        "colab": {
          "base_uri": "https://localhost:8080/"
        },
        "id": "yBe5Jc6FLyVI",
        "outputId": "e5394de3-bfe6-4731-8aab-1718f1e07e8f"
      },
      "source": [
        "print(\"LogisticRegression parameters:\\n\" + lr.explainParams() + \"\\n\")"
      ],
      "execution_count": 6,
      "outputs": [
        {
          "output_type": "stream",
          "text": [
            "LogisticRegression parameters:\n",
            "aggregationDepth: suggested depth for treeAggregate (>= 2). (default: 2)\n",
            "elasticNetParam: the ElasticNet mixing parameter, in range [0, 1]. For alpha = 0, the penalty is an L2 penalty. For alpha = 1, it is an L1 penalty. (default: 0.0)\n",
            "family: The name of family which is a description of the label distribution to be used in the model. Supported options: auto, binomial, multinomial (default: auto)\n",
            "featuresCol: features column name. (default: features)\n",
            "fitIntercept: whether to fit an intercept term. (default: True)\n",
            "labelCol: label column name. (default: label)\n",
            "lowerBoundsOnCoefficients: The lower bounds on coefficients if fitting under bound constrained optimization. The bound matrix must be compatible with the shape (1, number of features) for binomial regression, or (number of classes, number of features) for multinomial regression. (undefined)\n",
            "lowerBoundsOnIntercepts: The lower bounds on intercepts if fitting under bound constrained optimization. The bounds vector size must beequal with 1 for binomial regression, or the number oflasses for multinomial regression. (undefined)\n",
            "maxIter: max number of iterations (>= 0). (default: 100, current: 10)\n",
            "predictionCol: prediction column name. (default: prediction)\n",
            "probabilityCol: Column name for predicted class conditional probabilities. Note: Not all models output well-calibrated probability estimates! These probabilities should be treated as confidences, not precise probabilities. (default: probability)\n",
            "rawPredictionCol: raw prediction (a.k.a. confidence) column name. (default: rawPrediction)\n",
            "regParam: regularization parameter (>= 0). (default: 0.0, current: 0.01)\n",
            "standardization: whether to standardize the training features before fitting the model. (default: True)\n",
            "threshold: Threshold in binary classification prediction, in range [0, 1]. If threshold and thresholds are both set, they must match.e.g. if threshold is p, then thresholds must be equal to [1-p, p]. (default: 0.5)\n",
            "thresholds: Thresholds in multi-class classification to adjust the probability of predicting each class. Array must have length equal to the number of classes, with values > 0, excepting that at most one value may be 0. The class with largest value p/t is predicted, where p is the original probability of that class and t is the class's threshold. (undefined)\n",
            "tol: the convergence tolerance for iterative algorithms (>= 0). (default: 1e-06)\n",
            "upperBoundsOnCoefficients: The upper bounds on coefficients if fitting under bound constrained optimization. The bound matrix must be compatible with the shape (1, number of features) for binomial regression, or (number of classes, number of features) for multinomial regression. (undefined)\n",
            "upperBoundsOnIntercepts: The upper bounds on intercepts if fitting under bound constrained optimization. The bound vector size must be equal with 1 for binomial regression, or the number of classes for multinomial regression. (undefined)\n",
            "weightCol: weight column name. If this is not set or empty, we treat all instance weights as 1.0. (undefined)\n",
            "\n"
          ],
          "name": "stdout"
        }
      ]
    },
    {
      "cell_type": "code",
      "metadata": {
        "id": "87iQI7fCL8hY"
      },
      "source": [
        "model = lr.fit(training)"
      ],
      "execution_count": 7,
      "outputs": []
    },
    {
      "cell_type": "code",
      "metadata": {
        "colab": {
          "base_uri": "https://localhost:8080/"
        },
        "id": "TSCMsLppMH-Z",
        "outputId": "16fef7c8-f052-4aed-80ac-92cd9fdd113c"
      },
      "source": [
        "model"
      ],
      "execution_count": 8,
      "outputs": [
        {
          "output_type": "execute_result",
          "data": {
            "text/plain": [
              "LogisticRegressionModel: uid=LogisticRegression_f08299e33604, numClasses=2, numFeatures=3"
            ]
          },
          "metadata": {
            "tags": []
          },
          "execution_count": 8
        }
      ]
    },
    {
      "cell_type": "code",
      "metadata": {
        "colab": {
          "base_uri": "https://localhost:8080/"
        },
        "id": "nj8FqMyLMJmI",
        "outputId": "ac7bf551-15f1-4aac-fee2-580392e65380"
      },
      "source": [
        "print(\"Model 1 was fit using parameters : \")\r\n",
        "print(model.extractParamMap())"
      ],
      "execution_count": 9,
      "outputs": [
        {
          "output_type": "stream",
          "text": [
            "Model 1 was fit using parameters : \n",
            "{Param(parent='LogisticRegression_f08299e33604', name='aggregationDepth', doc='suggested depth for treeAggregate (>= 2).'): 2, Param(parent='LogisticRegression_f08299e33604', name='elasticNetParam', doc='the ElasticNet mixing parameter, in range [0, 1]. For alpha = 0, the penalty is an L2 penalty. For alpha = 1, it is an L1 penalty.'): 0.0, Param(parent='LogisticRegression_f08299e33604', name='family', doc='The name of family which is a description of the label distribution to be used in the model. Supported options: auto, binomial, multinomial'): 'auto', Param(parent='LogisticRegression_f08299e33604', name='featuresCol', doc='features column name.'): 'features', Param(parent='LogisticRegression_f08299e33604', name='fitIntercept', doc='whether to fit an intercept term.'): True, Param(parent='LogisticRegression_f08299e33604', name='labelCol', doc='label column name.'): 'label', Param(parent='LogisticRegression_f08299e33604', name='maxIter', doc='max number of iterations (>= 0).'): 10, Param(parent='LogisticRegression_f08299e33604', name='predictionCol', doc='prediction column name.'): 'prediction', Param(parent='LogisticRegression_f08299e33604', name='probabilityCol', doc='Column name for predicted class conditional probabilities. Note: Not all models output well-calibrated probability estimates! These probabilities should be treated as confidences, not precise probabilities.'): 'probability', Param(parent='LogisticRegression_f08299e33604', name='rawPredictionCol', doc='raw prediction (a.k.a. confidence) column name.'): 'rawPrediction', Param(parent='LogisticRegression_f08299e33604', name='regParam', doc='regularization parameter (>= 0).'): 0.01, Param(parent='LogisticRegression_f08299e33604', name='standardization', doc='whether to standardize the training features before fitting the model.'): True, Param(parent='LogisticRegression_f08299e33604', name='threshold', doc='Threshold in binary classification prediction, in range [0, 1]. If threshold and thresholds are both set, they must match.e.g. if threshold is p, then thresholds must be equal to [1-p, p].'): 0.5, Param(parent='LogisticRegression_f08299e33604', name='tol', doc='the convergence tolerance for iterative algorithms (>= 0).'): 1e-06}\n"
          ],
          "name": "stdout"
        }
      ]
    },
    {
      "cell_type": "code",
      "metadata": {
        "id": "pQv4WRZPMYgo"
      },
      "source": [
        "paramMap = {lr.maxIter: 20}\r\n",
        "paramMap[lr.maxIter] = 30 #Specify 1 param, overwriting the original maxIter\r\n",
        "paramMap.update({lr.regParam:0.1, lr.threshold: 0.55}) # Specify multiple Param"
      ],
      "execution_count": 11,
      "outputs": []
    },
    {
      "cell_type": "code",
      "metadata": {
        "id": "Gc2HAiFCM9T4"
      },
      "source": [
        "paramMap2 = {lr.probabilityCol: \"myProbability\"} # change output column name\r\n",
        "paramMapCombined = paramMap.copy()\r\n",
        "paramMapCombined.update(paramMap2)"
      ],
      "execution_count": 12,
      "outputs": []
    },
    {
      "cell_type": "code",
      "metadata": {
        "colab": {
          "base_uri": "https://localhost:8080/"
        },
        "id": "pYsAKKBpNhH5",
        "outputId": "1b740b15-1942-47c9-e2d4-e690dfc77dc2"
      },
      "source": [
        "model2 = lr.fit(training, paramMapCombined)\r\n",
        "print(\"Model 2 was fit using parameters : \")\r\n",
        "print(model2.extractParamMap())"
      ],
      "execution_count": 13,
      "outputs": [
        {
          "output_type": "stream",
          "text": [
            "Model 2 was fit using parameters : \n",
            "{Param(parent='LogisticRegression_f08299e33604', name='aggregationDepth', doc='suggested depth for treeAggregate (>= 2).'): 2, Param(parent='LogisticRegression_f08299e33604', name='elasticNetParam', doc='the ElasticNet mixing parameter, in range [0, 1]. For alpha = 0, the penalty is an L2 penalty. For alpha = 1, it is an L1 penalty.'): 0.0, Param(parent='LogisticRegression_f08299e33604', name='family', doc='The name of family which is a description of the label distribution to be used in the model. Supported options: auto, binomial, multinomial'): 'auto', Param(parent='LogisticRegression_f08299e33604', name='featuresCol', doc='features column name.'): 'features', Param(parent='LogisticRegression_f08299e33604', name='fitIntercept', doc='whether to fit an intercept term.'): True, Param(parent='LogisticRegression_f08299e33604', name='labelCol', doc='label column name.'): 'label', Param(parent='LogisticRegression_f08299e33604', name='maxIter', doc='max number of iterations (>= 0).'): 30, Param(parent='LogisticRegression_f08299e33604', name='predictionCol', doc='prediction column name.'): 'prediction', Param(parent='LogisticRegression_f08299e33604', name='probabilityCol', doc='Column name for predicted class conditional probabilities. Note: Not all models output well-calibrated probability estimates! These probabilities should be treated as confidences, not precise probabilities.'): 'myProbability', Param(parent='LogisticRegression_f08299e33604', name='rawPredictionCol', doc='raw prediction (a.k.a. confidence) column name.'): 'rawPrediction', Param(parent='LogisticRegression_f08299e33604', name='regParam', doc='regularization parameter (>= 0).'): 0.1, Param(parent='LogisticRegression_f08299e33604', name='standardization', doc='whether to standardize the training features before fitting the model.'): True, Param(parent='LogisticRegression_f08299e33604', name='threshold', doc='Threshold in binary classification prediction, in range [0, 1]. If threshold and thresholds are both set, they must match.e.g. if threshold is p, then thresholds must be equal to [1-p, p].'): 0.55, Param(parent='LogisticRegression_f08299e33604', name='tol', doc='the convergence tolerance for iterative algorithms (>= 0).'): 1e-06}\n"
          ],
          "name": "stdout"
        }
      ]
    },
    {
      "cell_type": "code",
      "metadata": {
        "id": "Cd7pviwdNsqh"
      },
      "source": [
        "test = spark.createDataFrame([\r\n",
        "                                  (1.0, Vectors.dense([-1.0, 1.5, 1.3])),\r\n",
        "                                  (0.0, Vectors.dense([3.0, 2.0, -0.1])),\r\n",
        "                                  (1.0, Vectors.dense([0.0, 2.2, -1.5]))], [\"label\", \"features\"])"
      ],
      "execution_count": 14,
      "outputs": []
    },
    {
      "cell_type": "code",
      "metadata": {
        "id": "b_qQPIiJN9UI"
      },
      "source": [
        "prediction = model2.transform(test)\r\n",
        "result = prediction.select(\"features\", \"label\", \"myProbability\", \"prediction\").collect()"
      ],
      "execution_count": 15,
      "outputs": []
    },
    {
      "cell_type": "code",
      "metadata": {
        "colab": {
          "base_uri": "https://localhost:8080/"
        },
        "id": "Xuj-GJl2OSlR",
        "outputId": "b74db3b6-23cb-40c2-f92e-8c2617b5497e"
      },
      "source": [
        "for row in result :\r\n",
        "  print(\"features = %s, label = %s -> prob=%s, prediction=%s\" \r\n",
        "        % (row.features, row.label, row.myProbability, row.prediction))"
      ],
      "execution_count": 16,
      "outputs": [
        {
          "output_type": "stream",
          "text": [
            "features = [-1.0,1.5,1.3], label = 1.0 -> prob=[0.05707304171033977,0.9429269582896603], prediction=1.0\n",
            "features = [3.0,2.0,-0.1], label = 0.0 -> prob=[0.9238522311704088,0.07614776882959128], prediction=0.0\n",
            "features = [0.0,2.2,-1.5], label = 1.0 -> prob=[0.10972776114779119,0.8902722388522087], prediction=1.0\n"
          ],
          "name": "stdout"
        }
      ]
    },
    {
      "cell_type": "code",
      "metadata": {
        "id": "_GJfvTa1Osjg"
      },
      "source": [
        "from pyspark.ml import Pipeline\r\n",
        "from pyspark.ml.classification import LogisticRegression\r\n",
        "from pyspark.ml.feature import HashingTF, Tokenizer"
      ],
      "execution_count": 17,
      "outputs": []
    },
    {
      "cell_type": "code",
      "metadata": {
        "id": "NII9P6TXPElP"
      },
      "source": [
        "training = spark.createDataFrame([(0, \"a b c d e spark\", 1.0),\r\n",
        "                                  (1, \"b d\", 0.0),\r\n",
        "                                  (2, \"spark f g h\", 1.0),\r\n",
        "                                  (3, \"hadoop mapreduce\", 0.0)], [\"id\", \"text\", \"label\"])"
      ],
      "execution_count": 18,
      "outputs": []
    },
    {
      "cell_type": "code",
      "metadata": {
        "id": "7wCuEUUxPhYQ"
      },
      "source": [
        "tokenizer = Tokenizer(inputCol=\"text\", outputCol=\"words\")\r\n",
        "hashingTF = HashingTF(inputCol=tokenizer.getOutputCol(), outputCol=\"features\")\r\n",
        "lr = LogisticRegression(maxIter=10, regParam=0.001)\r\n",
        "pipline = Pipeline(stages=[tokenizer, hashingTF, lr])"
      ],
      "execution_count": 19,
      "outputs": []
    },
    {
      "cell_type": "code",
      "metadata": {
        "id": "X5DkLVNGQDwx"
      },
      "source": [
        "model = pipline.fit(training)"
      ],
      "execution_count": 21,
      "outputs": []
    },
    {
      "cell_type": "code",
      "metadata": {
        "id": "XHUu66e-QHaw"
      },
      "source": [
        "test = spark.createDataFrame([(4, \"spark i j k\"),\r\n",
        "                                  (5, \"l m n\"),\r\n",
        "                                  (6, \"spark hadoop spark\"),\r\n",
        "                                  (7, \"apache hadoop\")], [\"id\", \"text\"])"
      ],
      "execution_count": 22,
      "outputs": []
    },
    {
      "cell_type": "code",
      "metadata": {
        "colab": {
          "base_uri": "https://localhost:8080/"
        },
        "id": "4PflifAYQguf",
        "outputId": "55e837e0-c04e-4aa7-951d-b00948c197a5"
      },
      "source": [
        "prediction = model.transform(test)\r\n",
        "selected = prediction.select(\"id\", \"text\", \"probability\", \"prediction\" )\r\n",
        "\r\n",
        "for row in selected.collect():\r\n",
        "  rid, text, prob, prediction = row\r\n",
        "  print(\" (%d, %s) --> prob=%s, prediction=%f\" % (rid, text, str(prob), prediction))"
      ],
      "execution_count": 23,
      "outputs": [
        {
          "output_type": "stream",
          "text": [
            " (4, spark i j k) --> prob=[0.15964077387874118,0.8403592261212589], prediction=1.000000\n",
            " (5, l m n) --> prob=[0.8378325685476612,0.16216743145233875], prediction=0.000000\n",
            " (6, spark hadoop spark) --> prob=[0.06926633132976273,0.9307336686702373], prediction=1.000000\n",
            " (7, apache hadoop) --> prob=[0.9821575333444208,0.01784246665557917], prediction=0.000000\n"
          ],
          "name": "stdout"
        }
      ]
    },
    {
      "cell_type": "code",
      "metadata": {
        "id": "n4rBfqIjRMCn"
      },
      "source": [
        "spark.stop()"
      ],
      "execution_count": 24,
      "outputs": []
    },
    {
      "cell_type": "code",
      "metadata": {
        "id": "uxS1Fx6sRQM_"
      },
      "source": [
        ""
      ],
      "execution_count": null,
      "outputs": []
    }
  ]
}