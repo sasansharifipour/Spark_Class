{
  "nbformat": 4,
  "nbformat_minor": 0,
  "metadata": {
    "colab": {
      "name": "Spark_SQL_Operations.ipynb",
      "provenance": [],
      "authorship_tag": "ABX9TyPiCW8vbjPcWPZ9r9ytEwET",
      "include_colab_link": true
    },
    "kernelspec": {
      "name": "python3",
      "display_name": "Python 3"
    }
  },
  "cells": [
    {
      "cell_type": "markdown",
      "metadata": {
        "id": "view-in-github",
        "colab_type": "text"
      },
      "source": [
        "<a href=\"https://colab.research.google.com/github/sasansharifipour/Spark_Class/blob/main/Spark_SQL_Operations.ipynb\" target=\"_parent\"><img src=\"https://colab.research.google.com/assets/colab-badge.svg\" alt=\"Open In Colab\"/></a>"
      ]
    },
    {
      "cell_type": "code",
      "metadata": {
        "id": "7JwAIg9d7wVx"
      },
      "source": [
        "!apt-get install openjdk-8-jdk-headless -qq > /dev/null\r\n",
        "!wget -q https://downloads.apache.org/spark/spark-3.0.1/spark-3.0.1-bin-hadoop2.7.tgz\r\n",
        "!tar xf spark-3.0.1-bin-hadoop2.7.tgz\r\n",
        "!pip install -q findspark\r\n",
        "\r\n",
        "import os\r\n",
        "os.environ[\"JAVA_HOME\"] = \"/usr/lib/jvm/java-8-openjdk-amd64\"\r\n",
        "os.environ[\"SPARK_HOME\"] = \"/content/spark-3.0.1-bin-hadoop2.7\"\r\n",
        "\r\n",
        "import findspark\r\n",
        "findspark.init()"
      ],
      "execution_count": 1,
      "outputs": []
    },
    {
      "cell_type": "code",
      "metadata": {
        "id": "mQOozP_S71kp"
      },
      "source": [
        "import pyspark \r\n",
        "from pyspark.sql import SparkSession\r\n",
        "sc = pyspark.SparkContext(appName=\"SQL_Operations\")\r\n",
        "\r\n",
        "spark = SparkSession.builder.getOrCreate()"
      ],
      "execution_count": 2,
      "outputs": []
    },
    {
      "cell_type": "code",
      "metadata": {
        "id": "LMuyHOdO8SH6"
      },
      "source": [
        "import pyspark.sql.functions as F\r\n",
        "from pyspark.sql.types import StructType, StructField, StringType, IntegerType"
      ],
      "execution_count": 3,
      "outputs": []
    },
    {
      "cell_type": "code",
      "metadata": {
        "id": "McUKFLrO8jta"
      },
      "source": [
        "data = [('patty','spring', 'baseball', 64),\r\n",
        "        ('patty','autumn', 'soccer', 78),\r\n",
        "        ('matty', 'autumn', 'hockey', 90),\r\n",
        "        ('matty', 'spring', 'soccer', 64),\r\n",
        "        ('cathy', 'spring', 'baseball', 100),\r\n",
        "        ('cathy', 'autumn', 'hockey', 78),\r\n",
        "        ('sandy', 'autumn', 'soccer', 50),\r\n",
        "        ('joey', 'summer', 'soccer', 73),\r\n",
        "        ('tammy', 'spring', 'soccer', 86),\r\n",
        "        ('marley', 'autumn', 'hockey', 100) ]"
      ],
      "execution_count": 4,
      "outputs": []
    },
    {
      "cell_type": "code",
      "metadata": {
        "id": "k54jPL-88npB"
      },
      "source": [
        "# Create an rdd\r\n",
        "rdd = sc.parallelize(data)"
      ],
      "execution_count": 5,
      "outputs": []
    },
    {
      "cell_type": "code",
      "metadata": {
        "id": "RFNy97uJ8oVo"
      },
      "source": [
        "# create a dataframe from an rdd and name the columns\r\n",
        "df = spark.createDataFrame(rdd, ['player', 'season', 'sport', 'ranking'])"
      ],
      "execution_count": 6,
      "outputs": []
    },
    {
      "cell_type": "code",
      "metadata": {
        "colab": {
          "base_uri": "https://localhost:8080/"
        },
        "id": "Z9wEMqg68xrJ",
        "outputId": "e6c0e50e-98f1-4301-9fa6-80ae697b4a1b"
      },
      "source": [
        "df.show()"
      ],
      "execution_count": 7,
      "outputs": [
        {
          "output_type": "stream",
          "text": [
            "+------+------+--------+-------+\n",
            "|player|season|   sport|ranking|\n",
            "+------+------+--------+-------+\n",
            "| patty|spring|baseball|     64|\n",
            "| patty|autumn|  soccer|     78|\n",
            "| matty|autumn|  hockey|     90|\n",
            "| matty|spring|  soccer|     64|\n",
            "| cathy|spring|baseball|    100|\n",
            "| cathy|autumn|  hockey|     78|\n",
            "| sandy|autumn|  soccer|     50|\n",
            "|  joey|summer|  soccer|     73|\n",
            "| tammy|spring|  soccer|     86|\n",
            "|marley|autumn|  hockey|    100|\n",
            "+------+------+--------+-------+\n",
            "\n"
          ],
          "name": "stdout"
        }
      ]
    },
    {
      "cell_type": "code",
      "metadata": {
        "id": "9ehvJp-r83ZC"
      },
      "source": [
        "meta = [('patty', 'community', 25),\r\n",
        "        ('matty', 'college', 35),\r\n",
        "        ('cathy','community', 40),\r\n",
        "        ('sandy', 'college', 60),\r\n",
        "        ('joey', 'community', 55),\r\n",
        "        ('tammy', 'college', 23),\r\n",
        "        ('marley', 'community', 45)]"
      ],
      "execution_count": 8,
      "outputs": []
    },
    {
      "cell_type": "code",
      "metadata": {
        "id": "wXIoHdXh84op"
      },
      "source": [
        "# create schema\r\n",
        "schema = StructType([\r\n",
        "                     StructField('player', StringType(), True),\r\n",
        "                     StructField('league', StringType(), True),\r\n",
        "                     StructField('age', IntegerType(), True)])"
      ],
      "execution_count": 9,
      "outputs": []
    },
    {
      "cell_type": "code",
      "metadata": {
        "id": "flWbkwwp87jg"
      },
      "source": [
        "df_meta = spark.createDataFrame(meta, schema)"
      ],
      "execution_count": 10,
      "outputs": []
    },
    {
      "cell_type": "code",
      "metadata": {
        "colab": {
          "base_uri": "https://localhost:8080/"
        },
        "id": "v-rOMgh69FFo",
        "outputId": "003d8022-fa60-4665-94f5-40b0de4a6cb4"
      },
      "source": [
        "df_full = df.join(df_meta, on='player', how='rightouter')\r\n",
        "df_full.show()"
      ],
      "execution_count": 11,
      "outputs": [
        {
          "output_type": "stream",
          "text": [
            "+------+------+--------+-------+---------+---+\n",
            "|player|season|   sport|ranking|   league|age|\n",
            "+------+------+--------+-------+---------+---+\n",
            "|marley|autumn|  hockey|    100|community| 45|\n",
            "| sandy|autumn|  soccer|     50|  college| 60|\n",
            "|  joey|summer|  soccer|     73|community| 55|\n",
            "| tammy|spring|  soccer|     86|  college| 23|\n",
            "| cathy|spring|baseball|    100|community| 40|\n",
            "| cathy|autumn|  hockey|     78|community| 40|\n",
            "| matty|autumn|  hockey|     90|  college| 35|\n",
            "| matty|spring|  soccer|     64|  college| 35|\n",
            "| patty|spring|baseball|     64|community| 25|\n",
            "| patty|autumn|  soccer|     78|community| 25|\n",
            "+------+------+--------+-------+---------+---+\n",
            "\n"
          ],
          "name": "stdout"
        }
      ]
    },
    {
      "cell_type": "code",
      "metadata": {
        "id": "hAOP41ka9VZI"
      },
      "source": [
        "df_full.createOrReplaceTempView('table')"
      ],
      "execution_count": 12,
      "outputs": []
    },
    {
      "cell_type": "code",
      "metadata": {
        "colab": {
          "base_uri": "https://localhost:8080/"
        },
        "id": "FyjgIBan9cCw",
        "outputId": "0df1044a-7381-4ba1-8821-be519a91beff"
      },
      "source": [
        "spark.sql('select player, age from table').show()"
      ],
      "execution_count": 13,
      "outputs": [
        {
          "output_type": "stream",
          "text": [
            "+------+---+\n",
            "|player|age|\n",
            "+------+---+\n",
            "|marley| 45|\n",
            "| sandy| 60|\n",
            "|  joey| 55|\n",
            "| tammy| 23|\n",
            "| cathy| 40|\n",
            "| cathy| 40|\n",
            "| matty| 35|\n",
            "| matty| 35|\n",
            "| patty| 25|\n",
            "| patty| 25|\n",
            "+------+---+\n",
            "\n"
          ],
          "name": "stdout"
        }
      ]
    },
    {
      "cell_type": "code",
      "metadata": {
        "colab": {
          "base_uri": "https://localhost:8080/"
        },
        "id": "ugtCEtmo9jNQ",
        "outputId": "746d8ef1-183f-458b-d562-47ce14639a7e"
      },
      "source": [
        "spark.sql('select player, age from table where age > 25').show()"
      ],
      "execution_count": 14,
      "outputs": [
        {
          "output_type": "stream",
          "text": [
            "+------+---+\n",
            "|player|age|\n",
            "+------+---+\n",
            "|marley| 45|\n",
            "| sandy| 60|\n",
            "|  joey| 55|\n",
            "| cathy| 40|\n",
            "| cathy| 40|\n",
            "| matty| 35|\n",
            "| matty| 35|\n",
            "+------+---+\n",
            "\n"
          ],
          "name": "stdout"
        }
      ]
    },
    {
      "cell_type": "code",
      "metadata": {
        "colab": {
          "base_uri": "https://localhost:8080/"
        },
        "id": "ChRhLJM99w0x",
        "outputId": "1ccfeda3-0c7a-4a7b-fdc1-7cb955c6de6c"
      },
      "source": [
        "spark.sql('select player, age from table where age > 25').distinct().show()"
      ],
      "execution_count": 15,
      "outputs": [
        {
          "output_type": "stream",
          "text": [
            "+------+---+\n",
            "|player|age|\n",
            "+------+---+\n",
            "|marley| 45|\n",
            "| sandy| 60|\n",
            "|  joey| 55|\n",
            "| cathy| 40|\n",
            "| matty| 35|\n",
            "+------+---+\n",
            "\n"
          ],
          "name": "stdout"
        }
      ]
    },
    {
      "cell_type": "code",
      "metadata": {
        "colab": {
          "base_uri": "https://localhost:8080/"
        },
        "id": "iTmj8l0N902Q",
        "outputId": "f1b9749f-0b41-40d0-b847-8ccd83258df5"
      },
      "source": [
        "spark.sql('select player, age + 5 as adj_age from table').show()"
      ],
      "execution_count": 19,
      "outputs": [
        {
          "output_type": "stream",
          "text": [
            "+------+-------+\n",
            "|player|adj_age|\n",
            "+------+-------+\n",
            "|marley|     50|\n",
            "| sandy|     65|\n",
            "|  joey|     60|\n",
            "| tammy|     28|\n",
            "| cathy|     45|\n",
            "| cathy|     45|\n",
            "| matty|     40|\n",
            "| matty|     40|\n",
            "| patty|     30|\n",
            "| patty|     30|\n",
            "+------+-------+\n",
            "\n"
          ],
          "name": "stdout"
        }
      ]
    },
    {
      "cell_type": "code",
      "metadata": {
        "colab": {
          "base_uri": "https://localhost:8080/"
        },
        "id": "K9tOiHIR96O4",
        "outputId": "cd688185-2da0-4740-a87c-0835d2609c30"
      },
      "source": [
        "spark.sql('select player, age from table order by age desc').show()"
      ],
      "execution_count": 20,
      "outputs": [
        {
          "output_type": "stream",
          "text": [
            "+------+---+\n",
            "|player|age|\n",
            "+------+---+\n",
            "| sandy| 60|\n",
            "|  joey| 55|\n",
            "|marley| 45|\n",
            "| cathy| 40|\n",
            "| cathy| 40|\n",
            "| matty| 35|\n",
            "| matty| 35|\n",
            "| patty| 25|\n",
            "| patty| 25|\n",
            "| tammy| 23|\n",
            "+------+---+\n",
            "\n"
          ],
          "name": "stdout"
        }
      ]
    },
    {
      "cell_type": "code",
      "metadata": {
        "colab": {
          "base_uri": "https://localhost:8080/"
        },
        "id": "yUsVxbMa-WSw",
        "outputId": "9df1f05d-df5f-4dd2-d709-08289e994a4c"
      },
      "source": [
        "spark.sql('select mean(age) from table').show()"
      ],
      "execution_count": 21,
      "outputs": [
        {
          "output_type": "stream",
          "text": [
            "+---------+\n",
            "|mean(age)|\n",
            "+---------+\n",
            "|     38.3|\n",
            "+---------+\n",
            "\n"
          ],
          "name": "stdout"
        }
      ]
    },
    {
      "cell_type": "code",
      "metadata": {
        "id": "16AqWE7E-iig"
      },
      "source": [
        "query = 'select league, mean(ranking), max(age) from table group by league'"
      ],
      "execution_count": 22,
      "outputs": []
    },
    {
      "cell_type": "code",
      "metadata": {
        "colab": {
          "base_uri": "https://localhost:8080/"
        },
        "id": "z4b6dWVu-wCQ",
        "outputId": "87483944-17c6-4da1-8b67-42f1165121ff"
      },
      "source": [
        "spark.sql(query).show()"
      ],
      "execution_count": 23,
      "outputs": [
        {
          "output_type": "stream",
          "text": [
            "+---------+-----------------+--------+\n",
            "|   league|    mean(ranking)|max(age)|\n",
            "+---------+-----------------+--------+\n",
            "|  college|             72.5|      60|\n",
            "|community|82.16666666666667|      55|\n",
            "+---------+-----------------+--------+\n",
            "\n"
          ],
          "name": "stdout"
        }
      ]
    },
    {
      "cell_type": "code",
      "metadata": {
        "id": "vciQXESU-0ZQ"
      },
      "source": [
        "ranking_players = (\r\n",
        "    F.\r\n",
        "    when(F.col('ranking') > 90, 'Top Ten').\r\n",
        "    when(F.col('ranking') > 80, 'Top Twenty').\r\n",
        "    otherwise('average player')\r\n",
        ")"
      ],
      "execution_count": 25,
      "outputs": []
    },
    {
      "cell_type": "code",
      "metadata": {
        "colab": {
          "base_uri": "https://localhost:8080/"
        },
        "id": "AVMcHbpq_j-I",
        "outputId": "c51dfaeb-4980-4fd5-c7a5-68191ec74e98"
      },
      "source": [
        "df.withColumn('player_standing', ranking_players).show()"
      ],
      "execution_count": 26,
      "outputs": [
        {
          "output_type": "stream",
          "text": [
            "+------+------+--------+-------+---------------+\n",
            "|player|season|   sport|ranking|player_standing|\n",
            "+------+------+--------+-------+---------------+\n",
            "| patty|spring|baseball|     64| average player|\n",
            "| patty|autumn|  soccer|     78| average player|\n",
            "| matty|autumn|  hockey|     90|     Top Twenty|\n",
            "| matty|spring|  soccer|     64| average player|\n",
            "| cathy|spring|baseball|    100|        Top Ten|\n",
            "| cathy|autumn|  hockey|     78| average player|\n",
            "| sandy|autumn|  soccer|     50| average player|\n",
            "|  joey|summer|  soccer|     73| average player|\n",
            "| tammy|spring|  soccer|     86|     Top Twenty|\n",
            "|marley|autumn|  hockey|    100|        Top Ten|\n",
            "+------+------+--------+-------+---------------+\n",
            "\n"
          ],
          "name": "stdout"
        }
      ]
    },
    {
      "cell_type": "code",
      "metadata": {
        "id": "ffK6Gcj0AD2X"
      },
      "source": [
        "# save data \r\n",
        "df_full.write.mode('overwrite').option('header','true').csv('listplayers.csv')"
      ],
      "execution_count": 27,
      "outputs": []
    },
    {
      "cell_type": "code",
      "metadata": {
        "id": "7SAyglp7AY7f"
      },
      "source": [
        "df1 = spark.read.option('header','true').csv('listplayers.csv')"
      ],
      "execution_count": 28,
      "outputs": []
    },
    {
      "cell_type": "code",
      "metadata": {
        "colab": {
          "base_uri": "https://localhost:8080/"
        },
        "id": "v9SIR38KAzDf",
        "outputId": "c00de60b-34c2-423e-acf6-140784a9eb6e"
      },
      "source": [
        "df1.show()"
      ],
      "execution_count": 29,
      "outputs": [
        {
          "output_type": "stream",
          "text": [
            "+------+------+--------+-------+---------+---+\n",
            "|player|season|   sport|ranking|   league|age|\n",
            "+------+------+--------+-------+---------+---+\n",
            "| cathy|spring|baseball|    100|community| 40|\n",
            "| cathy|autumn|  hockey|     78|community| 40|\n",
            "| patty|spring|baseball|     64|community| 25|\n",
            "| patty|autumn|  soccer|     78|community| 25|\n",
            "| matty|autumn|  hockey|     90|  college| 35|\n",
            "| matty|spring|  soccer|     64|  college| 35|\n",
            "|marley|autumn|  hockey|    100|community| 45|\n",
            "|  joey|summer|  soccer|     73|community| 55|\n",
            "| tammy|spring|  soccer|     86|  college| 23|\n",
            "| sandy|autumn|  soccer|     50|  college| 60|\n",
            "+------+------+--------+-------+---------+---+\n",
            "\n"
          ],
          "name": "stdout"
        }
      ]
    },
    {
      "cell_type": "code",
      "metadata": {
        "id": "jpURet3bA0fn"
      },
      "source": [
        "df_full.write.mode('overwrite').json('listplayers.json')"
      ],
      "execution_count": 30,
      "outputs": []
    },
    {
      "cell_type": "code",
      "metadata": {
        "id": "nmr7mTukBAig"
      },
      "source": [
        "df2 = spark.read.json('listplayers.json')"
      ],
      "execution_count": 31,
      "outputs": []
    },
    {
      "cell_type": "code",
      "metadata": {
        "colab": {
          "base_uri": "https://localhost:8080/"
        },
        "id": "STorhSAEBLAQ",
        "outputId": "edb302bf-454c-456c-f937-695a4358d400"
      },
      "source": [
        "df2.show()"
      ],
      "execution_count": 32,
      "outputs": [
        {
          "output_type": "stream",
          "text": [
            "+---+---------+------+-------+------+--------+\n",
            "|age|   league|player|ranking|season|   sport|\n",
            "+---+---------+------+-------+------+--------+\n",
            "| 40|community| cathy|    100|spring|baseball|\n",
            "| 40|community| cathy|     78|autumn|  hockey|\n",
            "| 25|community| patty|     64|spring|baseball|\n",
            "| 25|community| patty|     78|autumn|  soccer|\n",
            "| 35|  college| matty|     90|autumn|  hockey|\n",
            "| 35|  college| matty|     64|spring|  soccer|\n",
            "| 45|community|marley|    100|autumn|  hockey|\n",
            "| 55|community|  joey|     73|summer|  soccer|\n",
            "| 60|  college| sandy|     50|autumn|  soccer|\n",
            "| 23|  college| tammy|     86|spring|  soccer|\n",
            "+---+---------+------+-------+------+--------+\n",
            "\n"
          ],
          "name": "stdout"
        }
      ]
    },
    {
      "cell_type": "code",
      "metadata": {
        "id": "O4G-904TBQzY"
      },
      "source": [
        "df_full.write.mode('overwrite').parquet('listplayers.parquet')"
      ],
      "execution_count": 33,
      "outputs": []
    },
    {
      "cell_type": "code",
      "metadata": {
        "id": "Xr4xQaNKBZyX"
      },
      "source": [
        "df3 = spark.read.parquet('listplayers.parquet')"
      ],
      "execution_count": 34,
      "outputs": []
    },
    {
      "cell_type": "code",
      "metadata": {
        "colab": {
          "base_uri": "https://localhost:8080/"
        },
        "id": "9m9zc4k6BgTv",
        "outputId": "4d632d56-d8d7-463b-fc07-ca3f4b4b97e7"
      },
      "source": [
        "df3.show()"
      ],
      "execution_count": 35,
      "outputs": [
        {
          "output_type": "stream",
          "text": [
            "+------+------+--------+-------+---------+---+\n",
            "|player|season|   sport|ranking|   league|age|\n",
            "+------+------+--------+-------+---------+---+\n",
            "| cathy|spring|baseball|    100|community| 40|\n",
            "| cathy|autumn|  hockey|     78|community| 40|\n",
            "| patty|spring|baseball|     64|community| 25|\n",
            "| patty|autumn|  soccer|     78|community| 25|\n",
            "| matty|autumn|  hockey|     90|  college| 35|\n",
            "| matty|spring|  soccer|     64|  college| 35|\n",
            "|marley|autumn|  hockey|    100|community| 45|\n",
            "|  joey|summer|  soccer|     73|community| 55|\n",
            "| sandy|autumn|  soccer|     50|  college| 60|\n",
            "| tammy|spring|  soccer|     86|  college| 23|\n",
            "+------+------+--------+-------+---------+---+\n",
            "\n"
          ],
          "name": "stdout"
        }
      ]
    },
    {
      "cell_type": "code",
      "metadata": {
        "id": "o_hQVqi-BijY"
      },
      "source": [
        "spark.stop()\r\n",
        "sc.stop()"
      ],
      "execution_count": 36,
      "outputs": []
    },
    {
      "cell_type": "code",
      "metadata": {
        "id": "Le3CUPQQBmqg"
      },
      "source": [
        ""
      ],
      "execution_count": null,
      "outputs": []
    }
  ]
}